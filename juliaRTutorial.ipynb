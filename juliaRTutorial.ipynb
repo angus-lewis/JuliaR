{
 "cells": [
  {
   "cell_type": "markdown",
   "metadata": {},
   "source": [
    "# JuliaR\n",
    "\n",
    "### On DataFrames and R (dplyr)-like functionality in Julia\n",
    "\n",
    "<img src=\"meme.jpg\" alt=\"Drawing\" style=\"width: 500px;\"/>\n"
   ]
  },
  {
   "cell_type": "markdown",
   "metadata": {},
   "source": [
    "---"
   ]
  },
  {
   "cell_type": "markdown",
   "metadata": {},
   "source": [
    "## Package management \n",
    "\n",
    "### To download\n",
    "\n",
    "```Pkg.add``` $\\equiv$ ```install.packages```"
   ]
  },
  {
   "cell_type": "code",
   "execution_count": 1,
   "metadata": {},
   "outputs": [
    {
     "name": "stderr",
     "output_type": "stream",
     "text": [
      "\u001b[32m\u001b[1m   Updating\u001b[22m\u001b[39m registry at `~/.julia/registries/General`\n"
     ]
    },
    {
     "name": "stdout",
     "output_type": "stream",
     "text": [
      "\u001b[?25l    "
     ]
    },
    {
     "name": "stderr",
     "output_type": "stream",
     "text": [
      "\u001b[32m\u001b[1m   Updating\u001b[22m\u001b[39m git-repo `https://github.com/JuliaRegistries/General.git`\n"
     ]
    },
    {
     "name": "stdout",
     "output_type": "stream",
     "text": [
      "\u001b[2K\u001b[?25h[1mFetching:\u001b[22m\u001b[39m [========================================>]  100.0 %"
     ]
    },
    {
     "name": "stderr",
     "output_type": "stream",
     "text": [
      "\u001b[32m\u001b[1m  Resolving\u001b[22m\u001b[39m package versions...\n",
      "\u001b[32m\u001b[1mNo Changes\u001b[22m\u001b[39m to `~/.julia/environments/v1.5/Project.toml`\n",
      "\u001b[32m\u001b[1mNo Changes\u001b[22m\u001b[39m to `~/.julia/environments/v1.5/Manifest.toml`\n"
     ]
    }
   ],
   "source": [
    "import Pkg # load Pkg package into namespace\n",
    "Pkg.add(\"DataFrames\") # download package from github"
   ]
  },
  {
   "cell_type": "markdown",
   "metadata": {},
   "source": [
    "### To load "
   ]
  },
  {
   "cell_type": "markdown",
   "metadata": {},
   "source": [
    "Either"
   ]
  },
  {
   "cell_type": "code",
   "execution_count": 2,
   "metadata": {},
   "outputs": [],
   "source": [
    "import DataFrames "
   ]
  },
  {
   "cell_type": "markdown",
   "metadata": {},
   "source": [
    "Adds functions/variables/structs from ```DataFrames``` to namesapces with ```DataFrames.``` prefix.\n",
    "\n",
    "i.e. ```DataFrames.nrow()``` calls the ```nrow()``` function from ```DataFrames```;\n",
    "\n",
    "sans prefix, ```nrow()``` throws an error."
   ]
  },
  {
   "cell_type": "code",
   "execution_count": null,
   "metadata": {},
   "outputs": [],
   "source": [
    "nrow"
   ]
  },
  {
   "cell_type": "markdown",
   "metadata": {},
   "source": [
    "or"
   ]
  },
  {
   "cell_type": "code",
   "execution_count": null,
   "metadata": {},
   "outputs": [],
   "source": [
    "using DataFrames"
   ]
  },
  {
   "cell_type": "markdown",
   "metadata": {},
   "source": [
    "Adds exported functions/variables/structs from ```DataFrames``` to namespace.\n",
    "\n",
    "i.e. ```nrow()``` calls the ```nrow()``` function from ```DataFrames```."
   ]
  },
  {
   "cell_type": "code",
   "execution_count": null,
   "metadata": {},
   "outputs": [],
   "source": [
    "nrow"
   ]
  },
  {
   "cell_type": "markdown",
   "metadata": {},
   "source": [
    "---"
   ]
  },
  {
   "cell_type": "markdown",
   "metadata": {},
   "source": [
    "## Getting help\n",
    "\n",
    "1) type ```?``` then the thing you want help with in the REPL"
   ]
  },
  {
   "cell_type": "code",
   "execution_count": null,
   "metadata": {},
   "outputs": [],
   "source": [
    "? + "
   ]
  },
  {
   "cell_type": "markdown",
   "metadata": {},
   "source": [
    "2) Google it. "
   ]
  },
  {
   "cell_type": "markdown",
   "metadata": {},
   "source": [
    "3) Post in the slack"
   ]
  },
  {
   "cell_type": "markdown",
   "metadata": {},
   "source": [
    "---"
   ]
  },
  {
   "cell_type": "markdown",
   "metadata": {},
   "source": [
    "## Syntax "
   ]
  },
  {
   "cell_type": "markdown",
   "metadata": {},
   "source": [
    "- No ```assign``` or ```get``` operators, only ```=```"
   ]
  },
  {
   "cell_type": "markdown",
   "metadata": {},
   "source": [
    "- In R the ```.``` has two uses\n",
    "\n",
    "    1) we can use ```.``` within a variable name\n",
    "\n",
    "    i.e. ```a.long.variable.name <- 1```\n",
    "\n",
    "    2) can be used to define functions for a class\n",
    "\n",
    "    i.e. if ```myclass``` is a class in R,\n",
    "\n",
    "    ```\n",
    "    > x <- c(2,3)\n",
    "    > class(x) <- \"myclass\"\n",
    "    > aFun.myclass <- function(x,...) 2*x + 1 \n",
    "    > aFun(x)\n",
    "    [1] 5 7\n",
    "    attr(,\"class\")\n",
    "    [1] \"myclass\"\n",
    "    ```\n",
    "    calls ```aFun.myclass(x)```.\n",
    "\n",
    "    In Julia the ```.``` has two main uses \n",
    "\n",
    "    1) to access fields within an object/tuple (much like ```$``` in R)\n",
    "\n",
    "    i.e. "
   ]
  },
  {
   "cell_type": "code",
   "execution_count": null,
   "metadata": {},
   "outputs": [],
   "source": [
    "a = (b=1,c=2)\n",
    "a.c"
   ]
  },
  {
   "cell_type": "markdown",
   "metadata": {},
   "source": [
    "    2) to broadcast a function over an array (this may be my favourite feature)\n",
    "\n",
    "    i.e. "
   ]
  },
  {
   "cell_type": "code",
   "execution_count": null,
   "metadata": {},
   "outputs": [],
   "source": [
    "aFun = function(x) exp(x) end\n",
    "A = [1 2; 3 4]\n",
    "aFun.(A) ## elementwise exponential"
   ]
  },
  {
   "cell_type": "markdown",
   "metadata": {},
   "source": [
    "- vectors\n",
    "\n",
    "    In R ```c(1,2,3,4)```\n",
    "\n",
    "    In julia "
   ]
  },
  {
   "cell_type": "code",
   "execution_count": null,
   "metadata": {},
   "outputs": [],
   "source": [
    "[1;2;3;4]"
   ]
  },
  {
   "cell_type": "markdown",
   "metadata": {},
   "source": [
    "- Heaps of others"
   ]
  },
  {
   "cell_type": "markdown",
   "metadata": {},
   "source": [
    "---"
   ]
  },
  {
   "cell_type": "markdown",
   "metadata": {},
   "source": [
    "## Loading data "
   ]
  },
  {
   "cell_type": "code",
   "execution_count": null,
   "metadata": {},
   "outputs": [],
   "source": [
    "import CSV "
   ]
  },
  {
   "cell_type": "markdown",
   "metadata": {},
   "source": [
    "Either \n",
    "\n",
    "```CSV.read(\"income.csv\", DataFrame)```\n",
    "\n",
    "or "
   ]
  },
  {
   "cell_type": "code",
   "execution_count": null,
   "metadata": {},
   "outputs": [],
   "source": [
    "incomeCSV = CSV.File(\"income.csv\") # an object of CSV type\n",
    "income = DataFrame(incomeCSV)"
   ]
  },
  {
   "cell_type": "markdown",
   "metadata": {},
   "source": [
    "which is equivalent to "
   ]
  },
  {
   "cell_type": "code",
   "execution_count": null,
   "metadata": {},
   "outputs": [],
   "source": [
    "income = CSV.File(\"income.csv\") |> DataFrame # piping!!"
   ]
  },
  {
   "cell_type": "markdown",
   "metadata": {},
   "source": [
    "There is also a ```DelimitedFiles``` package "
   ]
  },
  {
   "cell_type": "markdown",
   "metadata": {},
   "source": [
    "---"
   ]
  },
  {
   "cell_type": "markdown",
   "metadata": {},
   "source": [
    "## Basic operations \n",
    "\n",
    "The usage of some functionality is *exactly* the same as R;"
   ]
  },
  {
   "cell_type": "code",
   "execution_count": null,
   "metadata": {},
   "outputs": [],
   "source": [
    "nrow(income)"
   ]
  },
  {
   "cell_type": "code",
   "execution_count": null,
   "metadata": {},
   "outputs": [],
   "source": [
    "ncol(income)"
   ]
  },
  {
   "cell_type": "code",
   "execution_count": null,
   "metadata": {},
   "outputs": [],
   "source": [
    "names(income)"
   ]
  },
  {
   "cell_type": "markdown",
   "metadata": {},
   "source": [
    "---"
   ]
  },
  {
   "cell_type": "markdown",
   "metadata": {},
   "source": [
    "## Indexing ```DataFrames```\n",
    "\n",
    "There are many options (too many?).\n",
    "\n",
    "Either "
   ]
  },
  {
   "cell_type": "code",
   "execution_count": null,
   "metadata": {},
   "outputs": [],
   "source": [
    "income.Sex # most similar to income$Sex in R\n",
    "income.\"Sex\""
   ]
  },
  {
   "cell_type": "markdown",
   "metadata": {},
   "source": [
    "Or index with square brackets\n",
    "```\n",
    "income[rows, columns]\n",
    "```\n",
    "\n",
    "The rows argument can be \n",
    "```\n",
    ": # get a COPY of all the rows\n",
    "! # get a VIEW of all the rows \n",
    "```\n",
    "Arrays indexing the rows are also allowed (i.e.```1:2:100``` or ```income[income.AHE.>10,:]```) but not recommended. \n",
    "\n",
    "The columns argument can be any of \n",
    "```\n",
    ":Sex # the syntax for a Symbol type\n",
    "\"Sex\" \n",
    "3\n",
    "```\n",
    "and can be passed as-is to return a ```Vector```\n",
    "\n",
    "or as an ```Array``` to return a```DataFrame``` i.e.\n",
    "```\n",
    "[:Sex]\n",
    "[\"Sex\"]\n",
    "[3]\n",
    "```"
   ]
  },
  {
   "cell_type": "code",
   "execution_count": null,
   "metadata": {},
   "outputs": [],
   "source": [
    "## most similar to income$Sex in R\n",
    "income.Sex \n",
    "income.\"Sex\"\n",
    "# returns a vector\n",
    "\n",
    "## return a COPY of the column(s)\n",
    "# as a vector\n",
    "income[:,:Sex] \n",
    "income[:,\"Sex\"]\n",
    "income[:,3]\n",
    "# as a DataFrame\n",
    "income[:,[:Sex]]\n",
    "income[:,[\"Sex\"]]\n",
    "income[:,[3]]\n",
    "\n",
    "## return a VIEW of the column(s)\n",
    "# as a vector\n",
    "income[!,:Sex] \n",
    "income[!,\"Sex\"]\n",
    "income[!,3]\n",
    "# as a DataFrame\n",
    "income[!,[:Sex]] # this is my personal preference\n",
    "income[!,[\"Sex\"]]\n",
    "income[!,[3]]\n"
   ]
  },
  {
   "cell_type": "markdown",
   "metadata": {},
   "source": [
    "We can also pass arrays of indicies \n",
    "\n",
    "```income[!,[:Sex, :Year]]```\n",
    "\n",
    "or invert selection with \n",
    "\n",
    "```income[!,Not(:Sex)]```\n"
   ]
  },
  {
   "cell_type": "markdown",
   "metadata": {},
   "source": [
    "#### What is the difference between a *copy* and a *view*"
   ]
  },
  {
   "cell_type": "code",
   "execution_count": null,
   "metadata": {},
   "outputs": [],
   "source": [
    "aCopy = income[:,[:Sex]]\n",
    "aCopy[1,:Sex] = \"hello\"\n",
    "first(aCopy,5)"
   ]
  },
  {
   "cell_type": "code",
   "execution_count": null,
   "metadata": {},
   "outputs": [],
   "source": [
    "first(income,5)"
   ]
  },
  {
   "cell_type": "code",
   "execution_count": null,
   "metadata": {},
   "outputs": [],
   "source": [
    "aView = income[!,[:Sex]]\n",
    "aView[1,:Sex] = \"hello\"\n",
    "first(aView,5)"
   ]
  },
  {
   "cell_type": "code",
   "execution_count": null,
   "metadata": {},
   "outputs": [],
   "source": [
    "first(income,5)"
   ]
  },
  {
   "cell_type": "markdown",
   "metadata": {},
   "source": [
    "***```income``` has how changed!!!!***\n",
    "\n",
    "Be careful."
   ]
  },
  {
   "cell_type": "markdown",
   "metadata": {},
   "source": [
    "---"
   ]
  },
  {
   "cell_type": "markdown",
   "metadata": {},
   "source": [
    "## Piping \n",
    "\n",
    "Pass the object on the left to the function of the right. \n",
    "\n",
    "i.e. In R we use the `%>%` infix operator \n",
    "```\n",
    "> aFun <- function(x) x^2\n",
    "> b <- 2 \n",
    "> b %>% aFun\n",
    "[1] 4\n",
    "```\n",
    "\n",
    "In julia its `|>`"
   ]
  },
  {
   "cell_type": "code",
   "execution_count": null,
   "metadata": {},
   "outputs": [],
   "source": [
    "fun(x) = x^2\n",
    "b = 2 \n",
    "b |> fun  "
   ]
  },
  {
   "cell_type": "markdown",
   "metadata": {},
   "source": [
    "Can broadcast via piping too"
   ]
  },
  {
   "cell_type": "code",
   "execution_count": null,
   "metadata": {},
   "outputs": [],
   "source": [
    "A = [1 2; 3 4]\n",
    "A .|> fun "
   ]
  },
  {
   "cell_type": "code",
   "execution_count": null,
   "metadata": {},
   "outputs": [],
   "source": [
    "A |> fun "
   ]
  },
  {
   "cell_type": "markdown",
   "metadata": {},
   "source": [
    "If this is your jam, then see the `Piping` package for some cool stuff."
   ]
  },
  {
   "cell_type": "markdown",
   "metadata": {},
   "source": [
    "## A likeness with ```dplyr```\n",
    "\n",
    "The ```DataFrames``` package has the same data manipulation functionality as ```dplyr```\n",
    "\n",
    "\n",
    "\n",
    "``` R ``` functions and their ```julia``` equivalents;\n",
    "\n",
    " - In R ```rename()```$\\equiv$ in julia ```rename()``` - rename columns.\n",
    " \n",
    " - In R ```filter()```$\\equiv$ in julia ```filter()``` - picks cases based on their values.\n",
    " \n",
    " - In R ```select()```$\\equiv$ in julia ```select()``` - picks variables based on their names.\n",
    " \n",
    " - In R ```mutate()```$\\equiv$ in julia ```transform()``` - adds new variables that are functions of existing variables.\n",
    "\n",
    " - In R ```summarise()```$\\equiv$ in julia ```combine()``` - reduces multiple values down to a single summary\n",
    "\n",
    " - In R ```arrange()```$\\equiv$ in julia ```sort()``` - changes the ordering of the rows.\n",
    " \n",
    " - In R ```group_by()```$\\equiv$in julia ```groupby()``` - returns a ```GroupedDataFrame``` object.\n",
    " \n",
    "\n",
    "```rename!(), filter!(), select!(), transform!(), sort!()``` also exist to manipulate DataFrames in-place\n",
    " \n",
    "Here, common syntax is either \n",
    "```\n",
    ":ColumName => :NewName\n",
    ":ColumName => function => :NewName\n",
    ":ColumName => function\n",
    "```\n",
    "\n",
    "Ex's.\n",
    "\n"
   ]
  },
  {
   "cell_type": "code",
   "execution_count": null,
   "metadata": {},
   "outputs": [],
   "source": [
    "incomeCopy = copy(income);\n",
    "head(x) = first(x,5)\n",
    "rename!(incomeCopy, :AHE => :Income) |> head # ! to operator on incomeCopy in place"
   ]
  },
  {
   "cell_type": "code",
   "execution_count": null,
   "metadata": {},
   "outputs": [],
   "source": [
    "filter!(:Income => (x-> x>20), incomeCopy) |> head # for some reason this one is backwards to the others!\n",
    "# also has an optional argument view::Bool to specify whether to return a view or a copy"
   ]
  },
  {
   "cell_type": "code",
   "execution_count": null,
   "metadata": {
    "scrolled": false
   },
   "outputs": [],
   "source": [
    "select!(incomeCopy, Not(:Year)) |> head "
   ]
  },
  {
   "cell_type": "code",
   "execution_count": null,
   "metadata": {},
   "outputs": [],
   "source": [
    "incomeAdjust(income,sex) = (isequal.(sex,\"male\")*0.87 + isequal.(sex,\"female\")) .* income\n",
    "transform!(incomeCopy,[:Income,:Sex] => incomeAdjust => :AdjustedIncome) |> head "
   ]
  },
  {
   "cell_type": "code",
   "execution_count": null,
   "metadata": {},
   "outputs": [],
   "source": [
    "incomeBySex = groupby(income, :Sex) "
   ]
  },
  {
   "cell_type": "code",
   "execution_count": null,
   "metadata": {},
   "outputs": [],
   "source": [
    "keys(incomeBySex)"
   ]
  },
  {
   "cell_type": "code",
   "execution_count": null,
   "metadata": {},
   "outputs": [],
   "source": [
    "incomeBySex[(Sex=\"male\",)] |> head "
   ]
  },
  {
   "cell_type": "code",
   "execution_count": null,
   "metadata": {},
   "outputs": [],
   "source": [
    "incomeBySex[1] |> head "
   ]
  },
  {
   "cell_type": "code",
   "execution_count": null,
   "metadata": {},
   "outputs": [],
   "source": [
    "incomeBySexYear = groupby(income, [:Sex, :Year])\n",
    "keys(incomeBySexYear)"
   ]
  },
  {
   "cell_type": "code",
   "execution_count": null,
   "metadata": {},
   "outputs": [],
   "source": [
    "incomeBySexYear[(Sex=\"male\",Year=1992)] |> head "
   ]
  },
  {
   "cell_type": "code",
   "execution_count": null,
   "metadata": {},
   "outputs": [],
   "source": [
    "describe(income)"
   ]
  },
  {
   "cell_type": "code",
   "execution_count": null,
   "metadata": {},
   "outputs": [],
   "source": [
    "sort!(income, :AHE, rev = true) |> head "
   ]
  },
  {
   "cell_type": "markdown",
   "metadata": {},
   "source": [
    "---"
   ]
  },
  {
   "cell_type": "markdown",
   "metadata": {},
   "source": [
    "## Functions "
   ]
  },
  {
   "cell_type": "markdown",
   "metadata": {},
   "source": [
    "Anonymous functions "
   ]
  },
  {
   "cell_type": "code",
   "execution_count": null,
   "metadata": {},
   "outputs": [],
   "source": [
    "x -> 2*x + 1 "
   ]
  },
  {
   "cell_type": "markdown",
   "metadata": {},
   "source": [
    "In-line function "
   ]
  },
  {
   "cell_type": "code",
   "execution_count": null,
   "metadata": {},
   "outputs": [],
   "source": [
    "f1(x) = 2*x + 1"
   ]
  },
  {
   "cell_type": "markdown",
   "metadata": {},
   "source": [
    "Other function definition "
   ]
  },
  {
   "cell_type": "code",
   "execution_count": null,
   "metadata": {},
   "outputs": [],
   "source": [
    "f2 = function(x)\n",
    "    2*x + 1 \n",
    "end "
   ]
  },
  {
   "cell_type": "code",
   "execution_count": null,
   "metadata": {},
   "outputs": [],
   "source": [
    "function f3(x)\n",
    "    2*x + 1\n",
    "end"
   ]
  },
  {
   "cell_type": "markdown",
   "metadata": {},
   "source": [
    "Can also use a return keyword (like R)"
   ]
  },
  {
   "cell_type": "code",
   "execution_count": null,
   "metadata": {},
   "outputs": [],
   "source": [
    "function f4(x) \n",
    "    return 2*x + 1\n",
    "end "
   ]
  },
  {
   "cell_type": "markdown",
   "metadata": {},
   "source": [
    "Optional/named arguments "
   ]
  },
  {
   "cell_type": "code",
   "execution_count": null,
   "metadata": {},
   "outputs": [],
   "source": [
    "function f5(;x=1)\n",
    "    return 2*x + 1\n",
    "end"
   ]
  },
  {
   "cell_type": "code",
   "execution_count": null,
   "metadata": {},
   "outputs": [],
   "source": [
    "f5()"
   ]
  },
  {
   "cell_type": "code",
   "execution_count": null,
   "metadata": {},
   "outputs": [],
   "source": [
    "f5(1)"
   ]
  },
  {
   "cell_type": "code",
   "execution_count": null,
   "metadata": {},
   "outputs": [],
   "source": [
    "f5(x=1)"
   ]
  },
  {
   "cell_type": "markdown",
   "metadata": {},
   "source": [
    "Typing and multiple dispatch are far too expansive topics to cover here. \n",
    "\n",
    "You can do most things without them to begin with. "
   ]
  },
  {
   "cell_type": "markdown",
   "metadata": {},
   "source": [
    "---"
   ]
  },
  {
   "cell_type": "markdown",
   "metadata": {},
   "source": [
    "## Linear Models "
   ]
  },
  {
   "cell_type": "code",
   "execution_count": null,
   "metadata": {},
   "outputs": [],
   "source": [
    "using GLM"
   ]
  },
  {
   "cell_type": "code",
   "execution_count": null,
   "metadata": {},
   "outputs": [],
   "source": [
    "lm1 = lm(@formula(log(AHE) ~ Year), income)"
   ]
  },
  {
   "cell_type": "code",
   "execution_count": null,
   "metadata": {},
   "outputs": [],
   "source": [
    "exp.(predict(lm1, DataFrame(Year=2021, Sex=\"female\")))"
   ]
  },
  {
   "cell_type": "code",
   "execution_count": null,
   "metadata": {},
   "outputs": [],
   "source": [
    "using Plots "
   ]
  },
  {
   "cell_type": "markdown",
   "metadata": {},
   "source": [
    "see also `StatsPlots`"
   ]
  },
  {
   "cell_type": "code",
   "execution_count": null,
   "metadata": {},
   "outputs": [],
   "source": [
    "scatter(fitted(lm1.model), residuals(lm1.model))"
   ]
  },
  {
   "cell_type": "code",
   "execution_count": null,
   "metadata": {},
   "outputs": [],
   "source": [
    "lm2 = lm(@formula(log(AHE) ~ Sex + Year), income, contrasts = Dict(:Year => DummyCoding()))"
   ]
  },
  {
   "cell_type": "code",
   "execution_count": null,
   "metadata": {},
   "outputs": [],
   "source": []
  }
 ],
 "metadata": {
  "@webio": {
   "lastCommId": null,
   "lastKernelId": null
  },
  "kernelspec": {
   "display_name": "Julia 1.5.3",
   "language": "julia",
   "name": "julia-1.5"
  },
  "language_info": {
   "file_extension": ".jl",
   "mimetype": "application/julia",
   "name": "julia",
   "version": "1.5.3"
  }
 },
 "nbformat": 4,
 "nbformat_minor": 2
}
