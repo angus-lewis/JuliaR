{
 "cells": [
  {
   "cell_type": "markdown",
   "metadata": {},
   "source": [
    "# JuliaR\n",
    "\n",
    "### On the GLM package and similarities with R\n",
    "\n",
    "https://github.com/angus-lewis/JuliaR"
   ]
  },
  {
   "cell_type": "markdown",
   "metadata": {},
   "source": [
    "run the code from `getPackages.jl` before starting."
   ]
  },
  {
   "cell_type": "markdown",
   "metadata": {},
   "source": [
    "---"
   ]
  },
  {
   "cell_type": "markdown",
   "metadata": {},
   "source": [
    "---"
   ]
  },
  {
   "cell_type": "markdown",
   "metadata": {},
   "source": [
    "---"
   ]
  },
  {
   "cell_type": "markdown",
   "metadata": {},
   "source": [
    "---"
   ]
  },
  {
   "cell_type": "markdown",
   "metadata": {},
   "source": [
    "---"
   ]
  },
  {
   "cell_type": "markdown",
   "metadata": {},
   "source": [
    "## Load our packages"
   ]
  },
  {
   "cell_type": "code",
   "execution_count": 1,
   "metadata": {},
   "outputs": [
    {
     "name": "stderr",
     "output_type": "stream",
     "text": [
      "┌ Info: Precompiling Plots [91a5bcdd-55d7-5caf-9e0b-520d859cae80]\n",
      "└ @ Base loading.jl:1260\n",
      "┌ Info: Precompiling GLM [38e38edf-8417-5370-95a0-9cbb8c7f171a]\n",
      "└ @ Base loading.jl:1260\n",
      "┌ Info: Precompiling DataFrames [a93c6f00-e57d-5684-b7b6-d8193f3e46c0]\n",
      "└ @ Base loading.jl:1260\n",
      "┌ Info: Precompiling RDatasets [ce6b1742-4840-55fa-b093-852dadbb1d8b]\n",
      "└ @ Base loading.jl:1260\n"
     ]
    }
   ],
   "source": [
    "# some other packages we need \n",
    "using Plots, GLM, IterTools, DataFrames\n",
    "import RDatasets"
   ]
  },
  {
   "cell_type": "markdown",
   "metadata": {},
   "source": [
    "note there is a clash between `IterTools.groupby` and `DataFrames.groupby`. \n",
    "\n",
    "Julia will throw an error it we try to call groupby"
   ]
  },
  {
   "cell_type": "code",
   "execution_count": 2,
   "metadata": {},
   "outputs": [
    {
     "name": "stderr",
     "output_type": "stream",
     "text": [
      "WARNING: both DataFrames and IterTools export \"groupby\"; uses of it in module Main must be qualified\n"
     ]
    },
    {
     "ename": "UndefVarError",
     "evalue": "\u001b[91mUndefVarError: groupby not defined\u001b[39m",
     "output_type": "error",
     "traceback": [
      "\u001b[91mUndefVarError: groupby not defined\u001b[39m",
      "",
      "Stacktrace:",
      " [1] top-level scope at In[2]:1"
     ]
    }
   ],
   "source": [
    "groupby(1)"
   ]
  },
  {
   "cell_type": "markdown",
   "metadata": {},
   "source": [
    "We must qualify with dot syntax. i.e. for the DataFrames version,  "
   ]
  },
  {
   "cell_type": "code",
   "execution_count": 3,
   "metadata": {},
   "outputs": [
    {
     "data": {
      "text/html": [
       "<p><b>GroupedDataFrame with 2 groups based on key: b</b></p><p><i>First Group (1 row): b = 3</i></p><table class=\"data-frame\"><thead><tr><th></th><th>a</th><th>b</th></tr><tr><th></th><th>Int64</th><th>Int64</th></tr></thead><tbody><tr><th>1</th><td>1</td><td>3</td></tr></tbody></table><p>&vellip;</p><p><i>Last Group (1 row): b = 4</i></p><table class=\"data-frame\"><thead><tr><th></th><th>a</th><th>b</th></tr><tr><th></th><th>Int64</th><th>Int64</th></tr></thead><tbody><tr><th>1</th><td>2</td><td>4</td></tr></tbody></table>"
      ],
      "text/latex": [
       "GroupedDataFrame with 2 groups based on key: b\n",
       "\n",
       "First Group (1 row): b = 3\n",
       "\n",
       "\\begin{tabular}{r|cc}\n",
       "\t& a & b\\\\\n",
       "\t\\hline\n",
       "\t& Int64 & Int64\\\\\n",
       "\t\\hline\n",
       "\t1 & 1 & 3 \\\\\n",
       "\\end{tabular}\n",
       "\n",
       "$\\dots$\n",
       "\n",
       "Last Group (1 row): b = 4\n",
       "\n",
       "\\begin{tabular}{r|cc}\n",
       "\t& a & b\\\\\n",
       "\t\\hline\n",
       "\t& Int64 & Int64\\\\\n",
       "\t\\hline\n",
       "\t1 & 2 & 4 \\\\\n",
       "\\end{tabular}\n"
      ],
      "text/plain": [
       "GroupedDataFrame with 2 groups based on key: b\n",
       "First Group (1 row): b = 3\n",
       "\u001b[1m Row \u001b[0m│\u001b[1m a     \u001b[0m\u001b[1m b     \u001b[0m\n",
       "\u001b[1m     \u001b[0m│\u001b[90m Int64 \u001b[0m\u001b[90m Int64 \u001b[0m\n",
       "─────┼──────────────\n",
       "   1 │     1      3\n",
       "⋮\n",
       "Last Group (1 row): b = 4\n",
       "\u001b[1m Row \u001b[0m│\u001b[1m a     \u001b[0m\u001b[1m b     \u001b[0m\n",
       "\u001b[1m     \u001b[0m│\u001b[90m Int64 \u001b[0m\u001b[90m Int64 \u001b[0m\n",
       "─────┼──────────────\n",
       "   1 │     2      4"
      ]
     },
     "execution_count": 3,
     "metadata": {},
     "output_type": "execute_result"
    }
   ],
   "source": [
    "DataFrames.groupby(DataFrame(a = [1;2], b = [3;4]),:b)"
   ]
  },
  {
   "cell_type": "markdown",
   "metadata": {},
   "source": [
    "We also need some of our own functions"
   ]
  },
  {
   "cell_type": "code",
   "execution_count": 4,
   "metadata": {},
   "outputs": [],
   "source": [
    "include(\"someFunctions.jl\");"
   ]
  },
  {
   "cell_type": "markdown",
   "metadata": {},
   "source": [
    "---"
   ]
  },
  {
   "cell_type": "markdown",
   "metadata": {},
   "source": [
    "---"
   ]
  },
  {
   "cell_type": "markdown",
   "metadata": {},
   "source": [
    "---"
   ]
  },
  {
   "cell_type": "markdown",
   "metadata": {},
   "source": [
    "---"
   ]
  },
  {
   "cell_type": "markdown",
   "metadata": {},
   "source": [
    "---"
   ]
  },
  {
   "cell_type": "markdown",
   "metadata": {},
   "source": [
    "## Loading data "
   ]
  },
  {
   "cell_type": "code",
   "execution_count": 5,
   "metadata": {},
   "outputs": [
    {
     "data": {
      "text/html": [
       "<table class=\"data-frame\"><thead><tr><th></th><th>Manufacturer</th><th>Model</th><th>Type</th><th>MinPrice</th><th>Price</th><th>MaxPrice</th><th>MPGCity</th><th>MPGHighway</th></tr><tr><th></th><th>Cat…</th><th>String</th><th>Cat…</th><th>Float64</th><th>Float64</th><th>Float64</th><th>Int32</th><th>Int32</th></tr></thead><tbody><p>4 rows × 27 columns (omitted printing of 19 columns)</p><tr><th>1</th><td>Acura</td><td>Integra</td><td>Small</td><td>12.9</td><td>15.9</td><td>18.8</td><td>25</td><td>31</td></tr><tr><th>2</th><td>Acura</td><td>Legend</td><td>Midsize</td><td>29.2</td><td>33.9</td><td>38.7</td><td>18</td><td>25</td></tr><tr><th>3</th><td>Audi</td><td>90</td><td>Compact</td><td>25.9</td><td>29.1</td><td>32.3</td><td>20</td><td>26</td></tr><tr><th>4</th><td>Audi</td><td>100</td><td>Midsize</td><td>30.8</td><td>37.7</td><td>44.6</td><td>19</td><td>26</td></tr></tbody></table>"
      ],
      "text/latex": [
       "\\begin{tabular}{r|ccccccccc}\n",
       "\t& Manufacturer & Model & Type & MinPrice & Price & MaxPrice & MPGCity & MPGHighway & \\\\\n",
       "\t\\hline\n",
       "\t& Cat… & String & Cat… & Float64 & Float64 & Float64 & Int32 & Int32 & \\\\\n",
       "\t\\hline\n",
       "\t1 & Acura & Integra & Small & 12.9 & 15.9 & 18.8 & 25 & 31 & $\\dots$ \\\\\n",
       "\t2 & Acura & Legend & Midsize & 29.2 & 33.9 & 38.7 & 18 & 25 & $\\dots$ \\\\\n",
       "\t3 & Audi & 90 & Compact & 25.9 & 29.1 & 32.3 & 20 & 26 & $\\dots$ \\\\\n",
       "\t4 & Audi & 100 & Midsize & 30.8 & 37.7 & 44.6 & 19 & 26 & $\\dots$ \\\\\n",
       "\\end{tabular}\n"
      ],
      "text/plain": [
       "\u001b[1m4×27 DataFrame\u001b[0m\n",
       "\u001b[1m Row \u001b[0m│\u001b[1m Manufacturer \u001b[0m\u001b[1m Model   \u001b[0m\u001b[1m Type    \u001b[0m\u001b[1m MinPrice \u001b[0m\u001b[1m Price   \u001b[0m\u001b[1m MaxPrice \u001b[0m\u001b[1m MPGCity \u001b[0m\u001b[1m M\u001b[0m ⋯\n",
       "\u001b[1m     \u001b[0m│\u001b[90m Categorical… \u001b[0m\u001b[90m String  \u001b[0m\u001b[90m Cat…    \u001b[0m\u001b[90m Float64  \u001b[0m\u001b[90m Float64 \u001b[0m\u001b[90m Float64  \u001b[0m\u001b[90m Int32   \u001b[0m\u001b[90m I\u001b[0m ⋯\n",
       "─────┼──────────────────────────────────────────────────────────────────────────\n",
       "   1 │ Acura         Integra  Small        12.9     15.9      18.8       25    ⋯\n",
       "   2 │ Acura         Legend   Midsize      29.2     33.9      38.7       18\n",
       "   3 │ Audi          90       Compact      25.9     29.1      32.3       20\n",
       "   4 │ Audi          100      Midsize      30.8     37.7      44.6       19\n",
       "\u001b[36m                                                              20 columns omitted\u001b[0m"
      ]
     },
     "execution_count": 5,
     "metadata": {},
     "output_type": "execute_result"
    }
   ],
   "source": [
    "cars = RDatasets.dataset(\"Mass\", \"Cars93\")\n",
    "head(cars)"
   ]
  },
  {
   "cell_type": "markdown",
   "metadata": {},
   "source": [
    "#### TASK: Load the cars dataset "
   ]
  },
  {
   "cell_type": "markdown",
   "metadata": {},
   "source": [
    "---"
   ]
  },
  {
   "cell_type": "markdown",
   "metadata": {},
   "source": [
    "---"
   ]
  },
  {
   "cell_type": "markdown",
   "metadata": {},
   "source": [
    "---"
   ]
  },
  {
   "cell_type": "markdown",
   "metadata": {},
   "source": [
    "---"
   ]
  },
  {
   "cell_type": "markdown",
   "metadata": {},
   "source": [
    "---"
   ]
  },
  {
   "cell_type": "markdown",
   "metadata": {},
   "source": [
    "## Linear Models "
   ]
  },
  {
   "cell_type": "markdown",
   "metadata": {},
   "source": [
    "we need the `GLM` package "
   ]
  },
  {
   "cell_type": "code",
   "execution_count": 6,
   "metadata": {
    "scrolled": true
   },
   "outputs": [
    {
     "data": {
      "text/html": [
       "<table class=\"data-frame\"><thead><tr><th></th><th>Manufacturer</th><th>Model</th><th>Type</th><th>MinPrice</th><th>Price</th><th>MaxPrice</th><th>AirBags</th></tr><tr><th></th><th>Cat…</th><th>String</th><th>Cat…</th><th>Float64</th><th>Float64</th><th>Float64</th><th>Cat…</th></tr></thead><tbody><p>4 rows × 27 columns (omitted printing of 20 columns)</p><tr><th>1</th><td>Acura</td><td>Integra</td><td>Small</td><td>12.9</td><td>15.9</td><td>18.8</td><td>None</td></tr><tr><th>2</th><td>Acura</td><td>Legend</td><td>Midsize</td><td>29.2</td><td>33.9</td><td>38.7</td><td>Driver &amp; Passenger</td></tr><tr><th>3</th><td>Audi</td><td>90</td><td>Compact</td><td>25.9</td><td>29.1</td><td>32.3</td><td>Driver only</td></tr><tr><th>4</th><td>Audi</td><td>100</td><td>Midsize</td><td>30.8</td><td>37.7</td><td>44.6</td><td>Driver &amp; Passenger</td></tr></tbody></table>"
      ],
      "text/latex": [
       "\\begin{tabular}{r|cccccccc}\n",
       "\t& Manufacturer & Model & Type & MinPrice & Price & MaxPrice & AirBags & \\\\\n",
       "\t\\hline\n",
       "\t& Cat… & String & Cat… & Float64 & Float64 & Float64 & Cat… & \\\\\n",
       "\t\\hline\n",
       "\t1 & Acura & Integra & Small & 12.9 & 15.9 & 18.8 & None & $\\dots$ \\\\\n",
       "\t2 & Acura & Legend & Midsize & 29.2 & 33.9 & 38.7 & Driver \\& Passenger & $\\dots$ \\\\\n",
       "\t3 & Audi & 90 & Compact & 25.9 & 29.1 & 32.3 & Driver only & $\\dots$ \\\\\n",
       "\t4 & Audi & 100 & Midsize & 30.8 & 37.7 & 44.6 & Driver \\& Passenger & $\\dots$ \\\\\n",
       "\\end{tabular}\n"
      ],
      "text/plain": [
       "\u001b[1m4×27 DataFrame\u001b[0m\n",
       "\u001b[1m Row \u001b[0m│\u001b[1m Manufacturer \u001b[0m\u001b[1m Model   \u001b[0m\u001b[1m Type    \u001b[0m\u001b[1m MinPrice \u001b[0m\u001b[1m Price   \u001b[0m\u001b[1m MaxPrice \u001b[0m\u001b[1m AirBags   \u001b[0m ⋯\n",
       "\u001b[1m     \u001b[0m│\u001b[90m Categorical… \u001b[0m\u001b[90m String  \u001b[0m\u001b[90m Cat…    \u001b[0m\u001b[90m Float64  \u001b[0m\u001b[90m Float64 \u001b[0m\u001b[90m Float64  \u001b[0m\u001b[90m Cat…      \u001b[0m ⋯\n",
       "─────┼──────────────────────────────────────────────────────────────────────────\n",
       "   1 │ Acura         Integra  Small        12.9     15.9      18.8  None       ⋯\n",
       "   2 │ Acura         Legend   Midsize      29.2     33.9      38.7  Driver & P\n",
       "   3 │ Audi          90       Compact      25.9     29.1      32.3  Driver onl\n",
       "   4 │ Audi          100      Midsize      30.8     37.7      44.6  Driver & P\n",
       "\u001b[36m                                                              21 columns omitted\u001b[0m"
      ]
     },
     "execution_count": 6,
     "metadata": {},
     "output_type": "execute_result"
    }
   ],
   "source": [
    "# to save you the trouble, I have made a function to filter out rotary\n",
    "# engines and convert MPG to L/100km\n",
    "filter_and_convert!(cars) \n",
    "head(cars)"
   ]
  },
  {
   "cell_type": "code",
   "execution_count": 7,
   "metadata": {},
   "outputs": [
    {
     "data": {
      "text/plain": [
       "StatsModels.TableRegressionModel{LinearModel{GLM.LmResp{Array{Float64,1}},GLM.DensePredChol{Float64,LinearAlgebra.CholeskyPivoted{Float64,Array{Float64,2}}}},Array{Float64,2}}\n",
       "\n",
       "City ~ 1 + Cylinders + Origin\n",
       "\n",
       "Coefficients:\n",
       "─────────────────────────────────────────────────────────────────────────────\n",
       "                     Coef.  Std. Error      t  Pr(>|t|)  Lower 95%  Upper 95%\n",
       "─────────────────────────────────────────────────────────────────────────────\n",
       "(Intercept)       6.25218     0.785153   7.96    <1e-11   4.69135    7.81301\n",
       "Cylinders: 4      3.52633     0.765058   4.61    <1e-4    2.00545    5.04722\n",
       "Cylinders: 5      6.70771     1.15793    5.79    <1e-6    4.40582    9.00961\n",
       "Cylinders: 6      6.65738     0.788405   8.44    <1e-12   5.09009    8.22468\n",
       "Cylinders: 8      7.63451     0.908325   8.41    <1e-12   5.82882    9.4402\n",
       "Origin: non-USA  -0.161429    0.283094  -0.57    0.5700  -0.724202   0.401344\n",
       "─────────────────────────────────────────────────────────────────────────────"
      ]
     },
     "execution_count": 7,
     "metadata": {},
     "output_type": "execute_result"
    }
   ],
   "source": [
    "lm1 = lm(@formula(City ~ Cylinders + Origin), cars)"
   ]
  },
  {
   "cell_type": "markdown",
   "metadata": {},
   "source": [
    "To code Cylinders as a countinuous variable we use "
   ]
  },
  {
   "cell_type": "code",
   "execution_count": 8,
   "metadata": {},
   "outputs": [
    {
     "data": {
      "text/html": [
       "<table class=\"data-frame\"><thead><tr><th></th><th>Manufacturer</th><th>Model</th><th>Type</th><th>MinPrice</th><th>Price</th><th>MaxPrice</th><th>AirBags</th></tr><tr><th></th><th>Cat…</th><th>String</th><th>Cat…</th><th>Float64</th><th>Float64</th><th>Float64</th><th>Cat…</th></tr></thead><tbody><p>4 rows × 27 columns (omitted printing of 20 columns)</p><tr><th>1</th><td>Acura</td><td>Integra</td><td>Small</td><td>12.9</td><td>15.9</td><td>18.8</td><td>None</td></tr><tr><th>2</th><td>Acura</td><td>Legend</td><td>Midsize</td><td>29.2</td><td>33.9</td><td>38.7</td><td>Driver &amp; Passenger</td></tr><tr><th>3</th><td>Audi</td><td>90</td><td>Compact</td><td>25.9</td><td>29.1</td><td>32.3</td><td>Driver only</td></tr><tr><th>4</th><td>Audi</td><td>100</td><td>Midsize</td><td>30.8</td><td>37.7</td><td>44.6</td><td>Driver &amp; Passenger</td></tr></tbody></table>"
      ],
      "text/latex": [
       "\\begin{tabular}{r|cccccccc}\n",
       "\t& Manufacturer & Model & Type & MinPrice & Price & MaxPrice & AirBags & \\\\\n",
       "\t\\hline\n",
       "\t& Cat… & String & Cat… & Float64 & Float64 & Float64 & Cat… & \\\\\n",
       "\t\\hline\n",
       "\t1 & Acura & Integra & Small & 12.9 & 15.9 & 18.8 & None & $\\dots$ \\\\\n",
       "\t2 & Acura & Legend & Midsize & 29.2 & 33.9 & 38.7 & Driver \\& Passenger & $\\dots$ \\\\\n",
       "\t3 & Audi & 90 & Compact & 25.9 & 29.1 & 32.3 & Driver only & $\\dots$ \\\\\n",
       "\t4 & Audi & 100 & Midsize & 30.8 & 37.7 & 44.6 & Driver \\& Passenger & $\\dots$ \\\\\n",
       "\\end{tabular}\n"
      ],
      "text/plain": [
       "\u001b[1m4×27 DataFrame\u001b[0m\n",
       "\u001b[1m Row \u001b[0m│\u001b[1m Manufacturer \u001b[0m\u001b[1m Model   \u001b[0m\u001b[1m Type    \u001b[0m\u001b[1m MinPrice \u001b[0m\u001b[1m Price   \u001b[0m\u001b[1m MaxPrice \u001b[0m\u001b[1m AirBags   \u001b[0m ⋯\n",
       "\u001b[1m     \u001b[0m│\u001b[90m Categorical… \u001b[0m\u001b[90m String  \u001b[0m\u001b[90m Cat…    \u001b[0m\u001b[90m Float64  \u001b[0m\u001b[90m Float64 \u001b[0m\u001b[90m Float64  \u001b[0m\u001b[90m Cat…      \u001b[0m ⋯\n",
       "─────┼──────────────────────────────────────────────────────────────────────────\n",
       "   1 │ Acura         Integra  Small        12.9     15.9      18.8  None       ⋯\n",
       "   2 │ Acura         Legend   Midsize      29.2     33.9      38.7  Driver & P\n",
       "   3 │ Audi          90       Compact      25.9     29.1      32.3  Driver onl\n",
       "   4 │ Audi          100      Midsize      30.8     37.7      44.6  Driver & P\n",
       "\u001b[36m                                                              21 columns omitted\u001b[0m"
      ]
     },
     "execution_count": 8,
     "metadata": {},
     "output_type": "execute_result"
    }
   ],
   "source": [
    "transform!(cars, :Cylinders => (x->parse.(Float64,string.(x))) => :Cylinders) |> head "
   ]
  },
  {
   "cell_type": "code",
   "execution_count": 9,
   "metadata": {},
   "outputs": [
    {
     "data": {
      "text/html": [
       "<table class=\"data-frame\"><thead><tr><th></th><th>Cylinders</th></tr><tr><th></th><th>Float64</th></tr></thead><tbody><p>4 rows × 1 columns</p><tr><th>1</th><td>4.0</td></tr><tr><th>2</th><td>6.0</td></tr><tr><th>3</th><td>6.0</td></tr><tr><th>4</th><td>6.0</td></tr></tbody></table>"
      ],
      "text/latex": [
       "\\begin{tabular}{r|c}\n",
       "\t& Cylinders\\\\\n",
       "\t\\hline\n",
       "\t& Float64\\\\\n",
       "\t\\hline\n",
       "\t1 & 4.0 \\\\\n",
       "\t2 & 6.0 \\\\\n",
       "\t3 & 6.0 \\\\\n",
       "\t4 & 6.0 \\\\\n",
       "\\end{tabular}\n"
      ],
      "text/plain": [
       "\u001b[1m4×1 DataFrame\u001b[0m\n",
       "\u001b[1m Row \u001b[0m│\u001b[1m Cylinders \u001b[0m\n",
       "\u001b[1m     \u001b[0m│\u001b[90m Float64   \u001b[0m\n",
       "─────┼───────────\n",
       "   1 │       4.0\n",
       "   2 │       6.0\n",
       "   3 │       6.0\n",
       "   4 │       6.0"
      ]
     },
     "execution_count": 9,
     "metadata": {},
     "output_type": "execute_result"
    }
   ],
   "source": [
    "cars[:,[:Cylinders]] |> head "
   ]
  },
  {
   "cell_type": "code",
   "execution_count": 10,
   "metadata": {},
   "outputs": [
    {
     "data": {
      "text/plain": [
       "StatsModels.TableRegressionModel{LinearModel{GLM.LmResp{Array{Float64,1}},GLM.DensePredChol{Float64,LinearAlgebra.CholeskyPivoted{Float64,Array{Float64,2}}}},Array{Float64,2}}\n",
       "\n",
       "City ~ 1 + Cylinders + Origin\n",
       "\n",
       "Coefficients:\n",
       "─────────────────────────────────────────────────────────────────────────────\n",
       "                     Coef.  Std. Error      t  Pr(>|t|)  Lower 95%  Upper 95%\n",
       "─────────────────────────────────────────────────────────────────────────────\n",
       "(Intercept)       4.42476     0.663763   6.67    <1e-8    3.10587    5.74364\n",
       "Cylinders         1.34473     0.118469  11.35    <1e-18   1.10933    1.58012\n",
       "Origin: non-USA  -0.170328    0.307739  -0.55    0.5813  -0.781798   0.441142\n",
       "─────────────────────────────────────────────────────────────────────────────"
      ]
     },
     "execution_count": 10,
     "metadata": {},
     "output_type": "execute_result"
    }
   ],
   "source": [
    "lm2 = lm(@formula(City ~ Cylinders + Origin), cars)"
   ]
  },
  {
   "cell_type": "code",
   "execution_count": 11,
   "metadata": {},
   "outputs": [
    {
     "data": {
      "text/plain": [
       "StatsModels.TableRegressionModel{LinearModel{GLM.LmResp{Array{Float64,1}},GLM.DensePredChol{Float64,LinearAlgebra.CholeskyPivoted{Float64,Array{Float64,2}}}},Array{Float64,2}}\n",
       "\n",
       "City ~ 1 + Cylinders + Origin\n",
       "\n",
       "Coefficients:\n",
       "─────────────────────────────────────────────────────────────────────────────\n",
       "                     Coef.  Std. Error      t  Pr(>|t|)  Lower 95%  Upper 95%\n",
       "─────────────────────────────────────────────────────────────────────────────\n",
       "(Intercept)       6.25218     0.785153   7.96    <1e-11   4.69135    7.81301\n",
       "Cylinders: 4.0    3.52633     0.765058   4.61    <1e-4    2.00545    5.04722\n",
       "Cylinders: 5.0    6.70771     1.15793    5.79    <1e-6    4.40582    9.00961\n",
       "Cylinders: 6.0    6.65738     0.788405   8.44    <1e-12   5.09009    8.22468\n",
       "Cylinders: 8.0    7.63451     0.908325   8.41    <1e-12   5.82882    9.4402\n",
       "Origin: non-USA  -0.161429    0.283094  -0.57    0.5700  -0.724202   0.401344\n",
       "─────────────────────────────────────────────────────────────────────────────"
      ]
     },
     "execution_count": 11,
     "metadata": {},
     "output_type": "execute_result"
    }
   ],
   "source": [
    "lm3 = lm(@formula(City ~ Cylinders + Origin), cars, contrasts = Dict(:Cylinders => DummyCoding()))"
   ]
  },
  {
   "cell_type": "markdown",
   "metadata": {},
   "source": [
    "you can also get the coefficients table as a dataframe"
   ]
  },
  {
   "cell_type": "code",
   "execution_count": 12,
   "metadata": {},
   "outputs": [],
   "source": [
    "using DataFrames "
   ]
  },
  {
   "cell_type": "code",
   "execution_count": 13,
   "metadata": {},
   "outputs": [
    {
     "data": {
      "text/html": [
       "<table class=\"data-frame\"><thead><tr><th></th><th>Name</th><th>Coef.</th><th>Std. Error</th><th>t</th><th>Pr(&gt;|t|)</th><th>Lower 95%</th><th>Upper 95%</th></tr><tr><th></th><th>String</th><th>Float64</th><th>Float64</th><th>Float64</th><th>Float64</th><th>Float64</th><th>Float64</th></tr></thead><tbody><p>6 rows × 7 columns</p><tr><th>1</th><td>(Intercept)</td><td>6.25218</td><td>0.785153</td><td>7.96301</td><td>6.28417e-12</td><td>4.69135</td><td>7.81301</td></tr><tr><th>2</th><td>Cylinders: 4</td><td>3.52633</td><td>0.765058</td><td>4.60924</td><td>1.39341e-5</td><td>2.00545</td><td>5.04722</td></tr><tr><th>3</th><td>Cylinders: 5</td><td>6.70771</td><td>1.15793</td><td>5.79284</td><td>1.10963e-7</td><td>4.40582</td><td>9.00961</td></tr><tr><th>4</th><td>Cylinders: 6</td><td>6.65738</td><td>0.788405</td><td>8.44412</td><td>6.65588e-13</td><td>5.09009</td><td>8.22468</td></tr><tr><th>5</th><td>Cylinders: 8</td><td>7.63451</td><td>0.908325</td><td>8.40504</td><td>7.99074e-13</td><td>5.82882</td><td>9.4402</td></tr><tr><th>6</th><td>Origin: non-USA</td><td>-0.161429</td><td>0.283094</td><td>-0.57023</td><td>0.570008</td><td>-0.724202</td><td>0.401344</td></tr></tbody></table>"
      ],
      "text/latex": [
       "\\begin{tabular}{r|ccccccc}\n",
       "\t& Name & Coef. & Std. Error & t & Pr(>|t|) & Lower 95\\% & Upper 95\\%\\\\\n",
       "\t\\hline\n",
       "\t& String & Float64 & Float64 & Float64 & Float64 & Float64 & Float64\\\\\n",
       "\t\\hline\n",
       "\t1 & (Intercept) & 6.25218 & 0.785153 & 7.96301 & 6.28417e-12 & 4.69135 & 7.81301 \\\\\n",
       "\t2 & Cylinders: 4 & 3.52633 & 0.765058 & 4.60924 & 1.39341e-5 & 2.00545 & 5.04722 \\\\\n",
       "\t3 & Cylinders: 5 & 6.70771 & 1.15793 & 5.79284 & 1.10963e-7 & 4.40582 & 9.00961 \\\\\n",
       "\t4 & Cylinders: 6 & 6.65738 & 0.788405 & 8.44412 & 6.65588e-13 & 5.09009 & 8.22468 \\\\\n",
       "\t5 & Cylinders: 8 & 7.63451 & 0.908325 & 8.40504 & 7.99074e-13 & 5.82882 & 9.4402 \\\\\n",
       "\t6 & Origin: non-USA & -0.161429 & 0.283094 & -0.57023 & 0.570008 & -0.724202 & 0.401344 \\\\\n",
       "\\end{tabular}\n"
      ],
      "text/plain": [
       "\u001b[1m6×7 DataFrame\u001b[0m\n",
       "\u001b[1m Row \u001b[0m│\u001b[1m Name            \u001b[0m\u001b[1m Coef.     \u001b[0m\u001b[1m Std. Error \u001b[0m\u001b[1m t        \u001b[0m\u001b[1m Pr(>|t|)    \u001b[0m\u001b[1m Lower 95\u001b[0m ⋯\n",
       "\u001b[1m     \u001b[0m│\u001b[90m String          \u001b[0m\u001b[90m Float64   \u001b[0m\u001b[90m Float64    \u001b[0m\u001b[90m Float64  \u001b[0m\u001b[90m Float64     \u001b[0m\u001b[90m Float64 \u001b[0m ⋯\n",
       "─────┼──────────────────────────────────────────────────────────────────────────\n",
       "   1 │ (Intercept)       6.25218     0.785153   7.96301  6.28417e-12   4.69135 ⋯\n",
       "   2 │ Cylinders: 4      3.52633     0.765058   4.60924  1.39341e-5    2.00545\n",
       "   3 │ Cylinders: 5      6.70771     1.15793    5.79284  1.10963e-7    4.40582\n",
       "   4 │ Cylinders: 6      6.65738     0.788405   8.44412  6.65588e-13   5.09009\n",
       "   5 │ Cylinders: 8      7.63451     0.908325   8.40504  7.99074e-13   5.82882 ⋯\n",
       "   6 │ Origin: non-USA  -0.161429    0.283094  -0.57023  0.570008     -0.72420\n",
       "\u001b[36m                                                               2 columns omitted\u001b[0m"
      ]
     },
     "execution_count": 13,
     "metadata": {},
     "output_type": "execute_result"
    }
   ],
   "source": [
    "lm1Coeffs = DataFrame(coeftable(lm1))"
   ]
  },
  {
   "cell_type": "markdown",
   "metadata": {},
   "source": [
    "---"
   ]
  },
  {
   "cell_type": "code",
   "execution_count": 17,
   "metadata": {},
   "outputs": [],
   "source": [
    "#using Plots"
   ]
  },
  {
   "cell_type": "code",
   "execution_count": 18,
   "metadata": {},
   "outputs": [
    {
     "data": {
      "image/svg+xml": [
       "<?xml version=\"1.0\" encoding=\"utf-8\"?>\n",
       "<svg xmlns=\"http://www.w3.org/2000/svg\" xmlns:xlink=\"http://www.w3.org/1999/xlink\" width=\"600\" height=\"400\" viewBox=\"0 0 2400 1600\">\n",
       "<defs>\n",
       "  <clipPath id=\"clip440\">\n",
       "    <rect x=\"0\" y=\"0\" width=\"2400\" height=\"1600\"/>\n",
       "  </clipPath>\n",
       "</defs>\n",
       "<path clip-path=\"url(#clip440)\" d=\"\n",
       "M0 1600 L2400 1600 L2400 0 L0 0  Z\n",
       "  \" fill=\"#ffffff\" fill-rule=\"evenodd\" fill-opacity=\"1\"/>\n",
       "<defs>\n",
       "  <clipPath id=\"clip441\">\n",
       "    <rect x=\"480\" y=\"0\" width=\"1681\" height=\"1600\"/>\n",
       "  </clipPath>\n",
       "</defs>\n",
       "<path clip-path=\"url(#clip440)\" d=\"\n",
       "M144.168 1486.45 L2352.76 1486.45 L2352.76 47.2441 L144.168 47.2441  Z\n",
       "  \" fill=\"#ffffff\" fill-rule=\"evenodd\" fill-opacity=\"1\"/>\n",
       "<defs>\n",
       "  <clipPath id=\"clip442\">\n",
       "    <rect x=\"144\" y=\"47\" width=\"2210\" height=\"1440\"/>\n",
       "  </clipPath>\n",
       "</defs>\n",
       "<polyline clip-path=\"url(#clip442)\" style=\"stroke:#000000; stroke-width:2; stroke-opacity:0.1; fill:none\" points=\"\n",
       "  182.421,1486.45 182.421,47.2441 \n",
       "  \"/>\n",
       "<polyline clip-path=\"url(#clip442)\" style=\"stroke:#000000; stroke-width:2; stroke-opacity:0.1; fill:none\" points=\"\n",
       "  716.949,1486.45 716.949,47.2441 \n",
       "  \"/>\n",
       "<polyline clip-path=\"url(#clip442)\" style=\"stroke:#000000; stroke-width:2; stroke-opacity:0.1; fill:none\" points=\"\n",
       "  1251.48,1486.45 1251.48,47.2441 \n",
       "  \"/>\n",
       "<polyline clip-path=\"url(#clip442)\" style=\"stroke:#000000; stroke-width:2; stroke-opacity:0.1; fill:none\" points=\"\n",
       "  1786,1486.45 1786,47.2441 \n",
       "  \"/>\n",
       "<polyline clip-path=\"url(#clip442)\" style=\"stroke:#000000; stroke-width:2; stroke-opacity:0.1; fill:none\" points=\"\n",
       "  2320.53,1486.45 2320.53,47.2441 \n",
       "  \"/>\n",
       "<polyline clip-path=\"url(#clip440)\" style=\"stroke:#000000; stroke-width:4; stroke-opacity:1; fill:none\" points=\"\n",
       "  144.168,1486.45 2352.76,1486.45 \n",
       "  \"/>\n",
       "<polyline clip-path=\"url(#clip440)\" style=\"stroke:#000000; stroke-width:4; stroke-opacity:1; fill:none\" points=\"\n",
       "  182.421,1486.45 182.421,1469.18 \n",
       "  \"/>\n",
       "<polyline clip-path=\"url(#clip440)\" style=\"stroke:#000000; stroke-width:4; stroke-opacity:1; fill:none\" points=\"\n",
       "  716.949,1486.45 716.949,1469.18 \n",
       "  \"/>\n",
       "<polyline clip-path=\"url(#clip440)\" style=\"stroke:#000000; stroke-width:4; stroke-opacity:1; fill:none\" points=\"\n",
       "  1251.48,1486.45 1251.48,1469.18 \n",
       "  \"/>\n",
       "<polyline clip-path=\"url(#clip440)\" style=\"stroke:#000000; stroke-width:4; stroke-opacity:1; fill:none\" points=\"\n",
       "  1786,1486.45 1786,1469.18 \n",
       "  \"/>\n",
       "<polyline clip-path=\"url(#clip440)\" style=\"stroke:#000000; stroke-width:4; stroke-opacity:1; fill:none\" points=\"\n",
       "  2320.53,1486.45 2320.53,1469.18 \n",
       "  \"/>\n",
       "<path clip-path=\"url(#clip440)\" d=\"M 0 0 M182.826 1527.98 Q179.678 1527.98 177.826 1530.13 Q175.997 1532.28 175.997 1536.03 Q175.997 1539.76 177.826 1541.93 Q179.678 1544.09 182.826 1544.09 Q185.974 1544.09 187.803 1541.93 Q189.654 1539.76 189.654 1536.03 Q189.654 1532.28 187.803 1530.13 Q185.974 1527.98 182.826 1527.98 M192.108 1513.32 L192.108 1517.58 Q190.349 1516.75 188.543 1516.31 Q186.761 1515.87 185.002 1515.87 Q180.372 1515.87 177.918 1519 Q175.488 1522.12 175.141 1528.44 Q176.506 1526.43 178.567 1525.36 Q180.627 1524.27 183.104 1524.27 Q188.312 1524.27 191.321 1527.44 Q194.354 1530.59 194.354 1536.03 Q194.354 1541.36 191.205 1544.57 Q188.057 1547.79 182.826 1547.79 Q176.83 1547.79 173.659 1543.21 Q170.488 1538.6 170.488 1529.87 Q170.488 1521.68 174.377 1516.82 Q178.266 1511.93 184.817 1511.93 Q186.576 1511.93 188.358 1512.28 Q190.164 1512.63 192.108 1513.32 Z\" fill=\"#000000\" fill-rule=\"evenodd\" fill-opacity=\"1\" /><path clip-path=\"url(#clip440)\" d=\"M 0 0 M716.949 1530.71 Q713.615 1530.71 711.694 1532.49 Q709.796 1534.27 709.796 1537.4 Q709.796 1540.52 711.694 1542.31 Q713.615 1544.09 716.949 1544.09 Q720.282 1544.09 722.203 1542.31 Q724.124 1540.5 724.124 1537.4 Q724.124 1534.27 722.203 1532.49 Q720.305 1530.71 716.949 1530.71 M712.273 1528.72 Q709.263 1527.98 707.574 1525.92 Q705.907 1523.86 705.907 1520.89 Q705.907 1516.75 708.847 1514.34 Q711.81 1511.93 716.949 1511.93 Q722.111 1511.93 725.05 1514.34 Q727.99 1516.75 727.99 1520.89 Q727.99 1523.86 726.3 1525.92 Q724.634 1527.98 721.648 1528.72 Q725.027 1529.5 726.902 1531.8 Q728.8 1534.09 728.8 1537.4 Q728.8 1542.42 725.722 1545.11 Q722.666 1547.79 716.949 1547.79 Q711.231 1547.79 708.152 1545.11 Q705.097 1542.42 705.097 1537.4 Q705.097 1534.09 706.995 1531.8 Q708.893 1529.5 712.273 1528.72 M710.56 1521.33 Q710.56 1524.02 712.226 1525.52 Q713.916 1527.03 716.949 1527.03 Q719.958 1527.03 721.648 1525.52 Q723.361 1524.02 723.361 1521.33 Q723.361 1518.65 721.648 1517.14 Q719.958 1515.64 716.949 1515.64 Q713.916 1515.64 712.226 1517.14 Q710.56 1518.65 710.56 1521.33 Z\" fill=\"#000000\" fill-rule=\"evenodd\" fill-opacity=\"1\" /><path clip-path=\"url(#clip440)\" d=\"M 0 0 M1228.35 1543.18 L1235.99 1543.18 L1235.99 1516.82 L1227.68 1518.49 L1227.68 1514.23 L1235.94 1512.56 L1240.62 1512.56 L1240.62 1543.18 L1248.26 1543.18 L1248.26 1547.12 L1228.35 1547.12 L1228.35 1543.18 Z\" fill=\"#000000\" fill-rule=\"evenodd\" fill-opacity=\"1\" /><path clip-path=\"url(#clip440)\" d=\"M 0 0 M1263.33 1515.64 Q1259.72 1515.64 1257.89 1519.2 Q1256.08 1522.75 1256.08 1529.87 Q1256.08 1536.98 1257.89 1540.55 Q1259.72 1544.09 1263.33 1544.09 Q1266.96 1544.09 1268.77 1540.55 Q1270.6 1536.98 1270.6 1529.87 Q1270.6 1522.75 1268.77 1519.2 Q1266.96 1515.64 1263.33 1515.64 M1263.33 1511.93 Q1269.14 1511.93 1272.19 1516.54 Q1275.27 1521.12 1275.27 1529.87 Q1275.27 1538.6 1272.19 1543.21 Q1269.14 1547.79 1263.33 1547.79 Q1257.52 1547.79 1254.44 1543.21 Q1251.38 1538.6 1251.38 1529.87 Q1251.38 1521.12 1254.44 1516.54 Q1257.52 1511.93 1263.33 1511.93 Z\" fill=\"#000000\" fill-rule=\"evenodd\" fill-opacity=\"1\" /><path clip-path=\"url(#clip440)\" d=\"M 0 0 M1763.68 1543.18 L1771.32 1543.18 L1771.32 1516.82 L1763.01 1518.49 L1763.01 1514.23 L1771.27 1512.56 L1775.95 1512.56 L1775.95 1543.18 L1783.59 1543.18 L1783.59 1547.12 L1763.68 1547.12 L1763.68 1543.18 Z\" fill=\"#000000\" fill-rule=\"evenodd\" fill-opacity=\"1\" /><path clip-path=\"url(#clip440)\" d=\"M 0 0 M1792.68 1543.18 L1809 1543.18 L1809 1547.12 L1787.06 1547.12 L1787.06 1543.18 Q1789.72 1540.43 1794.3 1535.8 Q1798.91 1531.15 1800.09 1529.81 Q1802.34 1527.28 1803.21 1525.55 Q1804.12 1523.79 1804.12 1522.1 Q1804.12 1519.34 1802.17 1517.61 Q1800.25 1515.87 1797.15 1515.87 Q1794.95 1515.87 1792.5 1516.63 Q1790.07 1517.4 1787.29 1518.95 L1787.29 1514.23 Q1790.11 1513.09 1792.57 1512.51 Q1795.02 1511.93 1797.06 1511.93 Q1802.43 1511.93 1805.62 1514.62 Q1808.82 1517.31 1808.82 1521.8 Q1808.82 1523.93 1808.01 1525.85 Q1807.22 1527.74 1805.11 1530.34 Q1804.53 1531.01 1801.43 1534.23 Q1798.33 1537.42 1792.68 1543.18 Z\" fill=\"#000000\" fill-rule=\"evenodd\" fill-opacity=\"1\" /><path clip-path=\"url(#clip440)\" d=\"M 0 0 M2297.16 1543.18 L2304.8 1543.18 L2304.8 1516.82 L2296.49 1518.49 L2296.49 1514.23 L2304.76 1512.56 L2309.43 1512.56 L2309.43 1543.18 L2317.07 1543.18 L2317.07 1547.12 L2297.16 1547.12 L2297.16 1543.18 Z\" fill=\"#000000\" fill-rule=\"evenodd\" fill-opacity=\"1\" /><path clip-path=\"url(#clip440)\" d=\"M 0 0 M2334.99 1516.63 L2323.18 1535.08 L2334.99 1535.08 L2334.99 1516.63 M2333.76 1512.56 L2339.64 1512.56 L2339.64 1535.08 L2344.57 1535.08 L2344.57 1538.97 L2339.64 1538.97 L2339.64 1547.12 L2334.99 1547.12 L2334.99 1538.97 L2319.39 1538.97 L2319.39 1534.46 L2333.76 1512.56 Z\" fill=\"#000000\" fill-rule=\"evenodd\" fill-opacity=\"1\" /><polyline clip-path=\"url(#clip442)\" style=\"stroke:#000000; stroke-width:2; stroke-opacity:0.1; fill:none\" points=\"\n",
       "  144.168,1442.67 2352.76,1442.67 \n",
       "  \"/>\n",
       "<polyline clip-path=\"url(#clip442)\" style=\"stroke:#000000; stroke-width:2; stroke-opacity:0.1; fill:none\" points=\"\n",
       "  144.168,1079.02 2352.76,1079.02 \n",
       "  \"/>\n",
       "<polyline clip-path=\"url(#clip442)\" style=\"stroke:#000000; stroke-width:2; stroke-opacity:0.1; fill:none\" points=\"\n",
       "  144.168,715.36 2352.76,715.36 \n",
       "  \"/>\n",
       "<polyline clip-path=\"url(#clip442)\" style=\"stroke:#000000; stroke-width:2; stroke-opacity:0.1; fill:none\" points=\"\n",
       "  144.168,351.703 2352.76,351.703 \n",
       "  \"/>\n",
       "<polyline clip-path=\"url(#clip440)\" style=\"stroke:#000000; stroke-width:4; stroke-opacity:1; fill:none\" points=\"\n",
       "  144.168,1486.45 144.168,47.2441 \n",
       "  \"/>\n",
       "<polyline clip-path=\"url(#clip440)\" style=\"stroke:#000000; stroke-width:4; stroke-opacity:1; fill:none\" points=\"\n",
       "  144.168,1442.67 170.671,1442.67 \n",
       "  \"/>\n",
       "<polyline clip-path=\"url(#clip440)\" style=\"stroke:#000000; stroke-width:4; stroke-opacity:1; fill:none\" points=\"\n",
       "  144.168,1079.02 170.671,1079.02 \n",
       "  \"/>\n",
       "<polyline clip-path=\"url(#clip440)\" style=\"stroke:#000000; stroke-width:4; stroke-opacity:1; fill:none\" points=\"\n",
       "  144.168,715.36 170.671,715.36 \n",
       "  \"/>\n",
       "<polyline clip-path=\"url(#clip440)\" style=\"stroke:#000000; stroke-width:4; stroke-opacity:1; fill:none\" points=\"\n",
       "  144.168,351.703 170.671,351.703 \n",
       "  \"/>\n",
       "<path clip-path=\"url(#clip440)\" d=\"M 0 0 M50.9921 1443.13 L80.6679 1443.13 L80.6679 1447.06 L50.9921 1447.06 L50.9921 1443.13 Z\" fill=\"#000000\" fill-rule=\"evenodd\" fill-opacity=\"1\" /><path clip-path=\"url(#clip440)\" d=\"M 0 0 M98.5845 1429.47 L86.779 1447.92 L98.5845 1447.92 L98.5845 1429.47 M97.3576 1425.39 L103.237 1425.39 L103.237 1447.92 L108.168 1447.92 L108.168 1451.81 L103.237 1451.81 L103.237 1459.95 L98.5845 1459.95 L98.5845 1451.81 L82.9827 1451.81 L82.9827 1447.29 L97.3576 1425.39 Z\" fill=\"#000000\" fill-rule=\"evenodd\" fill-opacity=\"1\" /><path clip-path=\"url(#clip440)\" d=\"M 0 0 M53.0754 1079.47 L82.7512 1079.47 L82.7512 1083.4 L53.0754 1083.4 L53.0754 1079.47 Z\" fill=\"#000000\" fill-rule=\"evenodd\" fill-opacity=\"1\" /><path clip-path=\"url(#clip440)\" d=\"M 0 0 M91.8484 1092.36 L108.168 1092.36 L108.168 1096.3 L86.2234 1096.3 L86.2234 1092.36 Q88.8854 1089.61 93.4688 1084.98 Q98.0752 1080.33 99.2558 1078.98 Q101.501 1076.46 102.381 1074.72 Q103.284 1072.96 103.284 1071.27 Q103.284 1068.52 101.339 1066.78 Q99.4178 1065.05 96.316 1065.05 Q94.1169 1065.05 91.6632 1065.81 Q89.2327 1066.58 86.4549 1068.13 L86.4549 1063.4 Q89.279 1062.27 91.7326 1061.69 Q94.1863 1061.11 96.2234 1061.11 Q101.594 1061.11 104.788 1063.8 Q107.983 1066.48 107.983 1070.97 Q107.983 1073.1 107.172 1075.02 Q106.385 1076.92 104.279 1079.51 Q103.7 1080.19 100.598 1083.4 Q97.4965 1086.6 91.8484 1092.36 Z\" fill=\"#000000\" fill-rule=\"evenodd\" fill-opacity=\"1\" /><path clip-path=\"url(#clip440)\" d=\"M 0 0 M96.2234 701.159 Q92.6123 701.159 90.7836 704.724 Q88.978 708.265 88.978 715.395 Q88.978 722.501 90.7836 726.066 Q92.6123 729.608 96.2234 729.608 Q99.8576 729.608 101.663 726.066 Q103.492 722.501 103.492 715.395 Q103.492 708.265 101.663 704.724 Q99.8576 701.159 96.2234 701.159 M96.2234 697.455 Q102.034 697.455 105.089 702.062 Q108.168 706.645 108.168 715.395 Q108.168 724.122 105.089 728.728 Q102.034 733.311 96.2234 733.311 Q90.4132 733.311 87.3345 728.728 Q84.279 724.122 84.279 715.395 Q84.279 706.645 87.3345 702.062 Q90.4132 697.455 96.2234 697.455 Z\" fill=\"#000000\" fill-rule=\"evenodd\" fill-opacity=\"1\" /><path clip-path=\"url(#clip440)\" d=\"M 0 0 M91.8484 365.048 L108.168 365.048 L108.168 368.983 L86.2234 368.983 L86.2234 365.048 Q88.8854 362.293 93.4688 357.664 Q98.0752 353.011 99.2558 351.668 Q101.501 349.145 102.381 347.409 Q103.284 345.65 103.284 343.96 Q103.284 341.206 101.339 339.469 Q99.4178 337.733 96.316 337.733 Q94.1169 337.733 91.6632 338.497 Q89.2327 339.261 86.4549 340.812 L86.4549 336.09 Q89.279 334.956 91.7326 334.377 Q94.1863 333.798 96.2234 333.798 Q101.594 333.798 104.788 336.483 Q107.983 339.169 107.983 343.659 Q107.983 345.789 107.172 347.71 Q106.385 349.608 104.279 352.201 Q103.7 352.872 100.598 356.09 Q97.4965 359.284 91.8484 365.048 Z\" fill=\"#000000\" fill-rule=\"evenodd\" fill-opacity=\"1\" /><circle clip-path=\"url(#clip442)\" cx=\"1149.14\" cy=\"753.269\" r=\"14\" fill=\"#009af9\" fill-rule=\"evenodd\" fill-opacity=\"1\" stroke=\"#000000\" stroke-opacity=\"1\" stroke-width=\"3.2\"/>\n",
       "<circle clip-path=\"url(#clip442)\" cx=\"1985.95\" cy=\"657.291\" r=\"14\" fill=\"#009af9\" fill-rule=\"evenodd\" fill-opacity=\"1\" stroke=\"#000000\" stroke-opacity=\"1\" stroke-width=\"3.2\"/>\n",
       "<circle clip-path=\"url(#clip442)\" cx=\"1985.95\" cy=\"894.895\" r=\"14\" fill=\"#009af9\" fill-rule=\"evenodd\" fill-opacity=\"1\" stroke=\"#000000\" stroke-opacity=\"1\" stroke-width=\"3.2\"/>\n",
       "<circle clip-path=\"url(#clip442)\" cx=\"1985.95\" cy=\"782.345\" r=\"14\" fill=\"#009af9\" fill-rule=\"evenodd\" fill-opacity=\"1\" stroke=\"#000000\" stroke-opacity=\"1\" stroke-width=\"3.2\"/>\n",
       "<circle clip-path=\"url(#clip442)\" cx=\"1149.14\" cy=\"519.984\" r=\"14\" fill=\"#009af9\" fill-rule=\"evenodd\" fill-opacity=\"1\" stroke=\"#000000\" stroke-opacity=\"1\" stroke-width=\"3.2\"/>\n",
       "<circle clip-path=\"url(#clip442)\" cx=\"1192.28\" cy=\"549.337\" r=\"14\" fill=\"#009af9\" fill-rule=\"evenodd\" fill-opacity=\"1\" stroke=\"#000000\" stroke-opacity=\"1\" stroke-width=\"3.2\"/>\n",
       "<circle clip-path=\"url(#clip442)\" cx=\"2029.1\" cy=\"811.698\" r=\"14\" fill=\"#009af9\" fill-rule=\"evenodd\" fill-opacity=\"1\" stroke=\"#000000\" stroke-opacity=\"1\" stroke-width=\"3.2\"/>\n",
       "<circle clip-path=\"url(#clip442)\" cx=\"2029.1\" cy=\"389.637\" r=\"14\" fill=\"#009af9\" fill-rule=\"evenodd\" fill-opacity=\"1\" stroke=\"#000000\" stroke-opacity=\"1\" stroke-width=\"3.2\"/>\n",
       "<circle clip-path=\"url(#clip442)\" cx=\"2029.1\" cy=\"811.698\" r=\"14\" fill=\"#009af9\" fill-rule=\"evenodd\" fill-opacity=\"1\" stroke=\"#000000\" stroke-opacity=\"1\" stroke-width=\"3.2\"/>\n",
       "<circle clip-path=\"url(#clip442)\" cx=\"2290.25\" cy=\"567.307\" r=\"14\" fill=\"#009af9\" fill-rule=\"evenodd\" fill-opacity=\"1\" stroke=\"#000000\" stroke-opacity=\"1\" stroke-width=\"3.2\"/>\n",
       "<circle clip-path=\"url(#clip442)\" cx=\"2290.25\" cy=\"567.307\" r=\"14\" fill=\"#009af9\" fill-rule=\"evenodd\" fill-opacity=\"1\" stroke=\"#000000\" stroke-opacity=\"1\" stroke-width=\"3.2\"/>\n",
       "<circle clip-path=\"url(#clip442)\" cx=\"1192.28\" cy=\"782.621\" r=\"14\" fill=\"#009af9\" fill-rule=\"evenodd\" fill-opacity=\"1\" stroke=\"#000000\" stroke-opacity=\"1\" stroke-width=\"3.2\"/>\n",
       "<circle clip-path=\"url(#clip442)\" cx=\"1192.28\" cy=\"782.621\" r=\"14\" fill=\"#009af9\" fill-rule=\"evenodd\" fill-opacity=\"1\" stroke=\"#000000\" stroke-opacity=\"1\" stroke-width=\"3.2\"/>\n",
       "<circle clip-path=\"url(#clip442)\" cx=\"2029.1\" cy=\"811.698\" r=\"14\" fill=\"#009af9\" fill-rule=\"evenodd\" fill-opacity=\"1\" stroke=\"#000000\" stroke-opacity=\"1\" stroke-width=\"3.2\"/>\n",
       "<circle clip-path=\"url(#clip442)\" cx=\"1192.28\" cy=\"456.764\" r=\"14\" fill=\"#009af9\" fill-rule=\"evenodd\" fill-opacity=\"1\" stroke=\"#000000\" stroke-opacity=\"1\" stroke-width=\"3.2\"/>\n",
       "<circle clip-path=\"url(#clip442)\" cx=\"2029.1\" cy=\"686.643\" r=\"14\" fill=\"#009af9\" fill-rule=\"evenodd\" fill-opacity=\"1\" stroke=\"#000000\" stroke-opacity=\"1\" stroke-width=\"3.2\"/>\n",
       "<circle clip-path=\"url(#clip442)\" cx=\"2029.1\" cy=\"211.434\" r=\"14\" fill=\"#009af9\" fill-rule=\"evenodd\" fill-opacity=\"1\" stroke=\"#000000\" stroke-opacity=\"1\" stroke-width=\"3.2\"/>\n",
       "<circle clip-path=\"url(#clip442)\" cx=\"2290.25\" cy=\"724.545\" r=\"14\" fill=\"#009af9\" fill-rule=\"evenodd\" fill-opacity=\"1\" stroke=\"#000000\" stroke-opacity=\"1\" stroke-width=\"3.2\"/>\n",
       "<circle clip-path=\"url(#clip442)\" cx=\"2290.25\" cy=\"724.545\" r=\"14\" fill=\"#009af9\" fill-rule=\"evenodd\" fill-opacity=\"1\" stroke=\"#000000\" stroke-opacity=\"1\" stroke-width=\"3.2\"/>\n",
       "<circle clip-path=\"url(#clip442)\" cx=\"2029.1\" cy=\"924.247\" r=\"14\" fill=\"#009af9\" fill-rule=\"evenodd\" fill-opacity=\"1\" stroke=\"#000000\" stroke-opacity=\"1\" stroke-width=\"3.2\"/>\n",
       "<circle clip-path=\"url(#clip442)\" cx=\"1192.28\" cy=\"633.86\" r=\"14\" fill=\"#009af9\" fill-rule=\"evenodd\" fill-opacity=\"1\" stroke=\"#000000\" stroke-opacity=\"1\" stroke-width=\"3.2\"/>\n",
       "<circle clip-path=\"url(#clip442)\" cx=\"2029.1\" cy=\"924.247\" r=\"14\" fill=\"#009af9\" fill-rule=\"evenodd\" fill-opacity=\"1\" stroke=\"#000000\" stroke-opacity=\"1\" stroke-width=\"3.2\"/>\n",
       "<circle clip-path=\"url(#clip442)\" cx=\"1192.28\" cy=\"1018.59\" r=\"14\" fill=\"#009af9\" fill-rule=\"evenodd\" fill-opacity=\"1\" stroke=\"#000000\" stroke-opacity=\"1\" stroke-width=\"3.2\"/>\n",
       "<circle clip-path=\"url(#clip442)\" cx=\"1192.28\" cy=\"633.86\" r=\"14\" fill=\"#009af9\" fill-rule=\"evenodd\" fill-opacity=\"1\" stroke=\"#000000\" stroke-opacity=\"1\" stroke-width=\"3.2\"/>\n",
       "<circle clip-path=\"url(#clip442)\" cx=\"1192.28\" cy=\"549.337\" r=\"14\" fill=\"#009af9\" fill-rule=\"evenodd\" fill-opacity=\"1\" stroke=\"#000000\" stroke-opacity=\"1\" stroke-width=\"3.2\"/>\n",
       "<circle clip-path=\"url(#clip442)\" cx=\"2029.1\" cy=\"546.876\" r=\"14\" fill=\"#009af9\" fill-rule=\"evenodd\" fill-opacity=\"1\" stroke=\"#000000\" stroke-opacity=\"1\" stroke-width=\"3.2\"/>\n",
       "<circle clip-path=\"url(#clip442)\" cx=\"1192.28\" cy=\"456.764\" r=\"14\" fill=\"#009af9\" fill-rule=\"evenodd\" fill-opacity=\"1\" stroke=\"#000000\" stroke-opacity=\"1\" stroke-width=\"3.2\"/>\n",
       "<circle clip-path=\"url(#clip442)\" cx=\"2029.1\" cy=\"686.643\" r=\"14\" fill=\"#009af9\" fill-rule=\"evenodd\" fill-opacity=\"1\" stroke=\"#000000\" stroke-opacity=\"1\" stroke-width=\"3.2\"/>\n",
       "<circle clip-path=\"url(#clip442)\" cx=\"1192.28\" cy=\"1018.59\" r=\"14\" fill=\"#009af9\" fill-rule=\"evenodd\" fill-opacity=\"1\" stroke=\"#000000\" stroke-opacity=\"1\" stroke-width=\"3.2\"/>\n",
       "<circle clip-path=\"url(#clip442)\" cx=\"2029.1\" cy=\"924.247\" r=\"14\" fill=\"#009af9\" fill-rule=\"evenodd\" fill-opacity=\"1\" stroke=\"#000000\" stroke-opacity=\"1\" stroke-width=\"3.2\"/>\n",
       "<circle clip-path=\"url(#clip442)\" cx=\"1192.28\" cy=\"1113.73\" r=\"14\" fill=\"#009af9\" fill-rule=\"evenodd\" fill-opacity=\"1\" stroke=\"#000000\" stroke-opacity=\"1\" stroke-width=\"3.2\"/>\n",
       "<circle clip-path=\"url(#clip442)\" cx=\"1192.28\" cy=\"633.86\" r=\"14\" fill=\"#009af9\" fill-rule=\"evenodd\" fill-opacity=\"1\" stroke=\"#000000\" stroke-opacity=\"1\" stroke-width=\"3.2\"/>\n",
       "<circle clip-path=\"url(#clip442)\" cx=\"1192.28\" cy=\"549.337\" r=\"14\" fill=\"#009af9\" fill-rule=\"evenodd\" fill-opacity=\"1\" stroke=\"#000000\" stroke-opacity=\"1\" stroke-width=\"3.2\"/>\n",
       "<circle clip-path=\"url(#clip442)\" cx=\"1192.28\" cy=\"549.337\" r=\"14\" fill=\"#009af9\" fill-rule=\"evenodd\" fill-opacity=\"1\" stroke=\"#000000\" stroke-opacity=\"1\" stroke-width=\"3.2\"/>\n",
       "<circle clip-path=\"url(#clip442)\" cx=\"1192.28\" cy=\"711.34\" r=\"14\" fill=\"#009af9\" fill-rule=\"evenodd\" fill-opacity=\"1\" stroke=\"#000000\" stroke-opacity=\"1\" stroke-width=\"3.2\"/>\n",
       "<circle clip-path=\"url(#clip442)\" cx=\"2029.1\" cy=\"211.434\" r=\"14\" fill=\"#009af9\" fill-rule=\"evenodd\" fill-opacity=\"1\" stroke=\"#000000\" stroke-opacity=\"1\" stroke-width=\"3.2\"/>\n",
       "<circle clip-path=\"url(#clip442)\" cx=\"2029.1\" cy=\"1026.08\" r=\"14\" fill=\"#009af9\" fill-rule=\"evenodd\" fill-opacity=\"1\" stroke=\"#000000\" stroke-opacity=\"1\" stroke-width=\"3.2\"/>\n",
       "<circle clip-path=\"url(#clip442)\" cx=\"2290.25\" cy=\"864.312\" r=\"14\" fill=\"#009af9\" fill-rule=\"evenodd\" fill-opacity=\"1\" stroke=\"#000000\" stroke-opacity=\"1\" stroke-width=\"3.2\"/>\n",
       "<circle clip-path=\"url(#clip442)\" cx=\"206.675\" cy=\"893.076\" r=\"14\" fill=\"#009af9\" fill-rule=\"evenodd\" fill-opacity=\"1\" stroke=\"#000000\" stroke-opacity=\"1\" stroke-width=\"3.2\"/>\n",
       "<circle clip-path=\"url(#clip442)\" cx=\"1149.14\" cy=\"1038.39\" r=\"14\" fill=\"#009af9\" fill-rule=\"evenodd\" fill-opacity=\"1\" stroke=\"#000000\" stroke-opacity=\"1\" stroke-width=\"3.2\"/>\n",
       "<circle clip-path=\"url(#clip442)\" cx=\"1149.14\" cy=\"681.987\" r=\"14\" fill=\"#009af9\" fill-rule=\"evenodd\" fill-opacity=\"1\" stroke=\"#000000\" stroke-opacity=\"1\" stroke-width=\"3.2\"/>\n",
       "<circle clip-path=\"url(#clip442)\" cx=\"1149.14\" cy=\"1445.72\" r=\"14\" fill=\"#009af9\" fill-rule=\"evenodd\" fill-opacity=\"1\" stroke=\"#000000\" stroke-opacity=\"1\" stroke-width=\"3.2\"/>\n",
       "<circle clip-path=\"url(#clip442)\" cx=\"1149.14\" cy=\"681.987\" r=\"14\" fill=\"#009af9\" fill-rule=\"evenodd\" fill-opacity=\"1\" stroke=\"#000000\" stroke-opacity=\"1\" stroke-width=\"3.2\"/>\n",
       "<circle clip-path=\"url(#clip442)\" cx=\"1149.14\" cy=\"989.234\" r=\"14\" fill=\"#009af9\" fill-rule=\"evenodd\" fill-opacity=\"1\" stroke=\"#000000\" stroke-opacity=\"1\" stroke-width=\"3.2\"/>\n",
       "<circle clip-path=\"url(#clip442)\" cx=\"1149.14\" cy=\"519.984\" r=\"14\" fill=\"#009af9\" fill-rule=\"evenodd\" fill-opacity=\"1\" stroke=\"#000000\" stroke-opacity=\"1\" stroke-width=\"3.2\"/>\n",
       "<circle clip-path=\"url(#clip442)\" cx=\"1149.14\" cy=\"819.067\" r=\"14\" fill=\"#009af9\" fill-rule=\"evenodd\" fill-opacity=\"1\" stroke=\"#000000\" stroke-opacity=\"1\" stroke-width=\"3.2\"/>\n",
       "<circle clip-path=\"url(#clip442)\" cx=\"1149.14\" cy=\"325.581\" r=\"14\" fill=\"#009af9\" fill-rule=\"evenodd\" fill-opacity=\"1\" stroke=\"#000000\" stroke-opacity=\"1\" stroke-width=\"3.2\"/>\n",
       "<circle clip-path=\"url(#clip442)\" cx=\"2247.1\" cy=\"695.193\" r=\"14\" fill=\"#009af9\" fill-rule=\"evenodd\" fill-opacity=\"1\" stroke=\"#000000\" stroke-opacity=\"1\" stroke-width=\"3.2\"/>\n",
       "<circle clip-path=\"url(#clip442)\" cx=\"1985.95\" cy=\"657.291\" r=\"14\" fill=\"#009af9\" fill-rule=\"evenodd\" fill-opacity=\"1\" stroke=\"#000000\" stroke-opacity=\"1\" stroke-width=\"3.2\"/>\n",
       "<circle clip-path=\"url(#clip442)\" cx=\"1985.95\" cy=\"657.291\" r=\"14\" fill=\"#009af9\" fill-rule=\"evenodd\" fill-opacity=\"1\" stroke=\"#000000\" stroke-opacity=\"1\" stroke-width=\"3.2\"/>\n",
       "<circle clip-path=\"url(#clip442)\" cx=\"2029.1\" cy=\"546.876\" r=\"14\" fill=\"#009af9\" fill-rule=\"evenodd\" fill-opacity=\"1\" stroke=\"#000000\" stroke-opacity=\"1\" stroke-width=\"3.2\"/>\n",
       "<circle clip-path=\"url(#clip442)\" cx=\"2290.25\" cy=\"864.312\" r=\"14\" fill=\"#009af9\" fill-rule=\"evenodd\" fill-opacity=\"1\" stroke=\"#000000\" stroke-opacity=\"1\" stroke-width=\"3.2\"/>\n",
       "<circle clip-path=\"url(#clip442)\" cx=\"1149.14\" cy=\"989.234\" r=\"14\" fill=\"#009af9\" fill-rule=\"evenodd\" fill-opacity=\"1\" stroke=\"#000000\" stroke-opacity=\"1\" stroke-width=\"3.2\"/>\n",
       "<circle clip-path=\"url(#clip442)\" cx=\"1149.14\" cy=\"936.563\" r=\"14\" fill=\"#009af9\" fill-rule=\"evenodd\" fill-opacity=\"1\" stroke=\"#000000\" stroke-opacity=\"1\" stroke-width=\"3.2\"/>\n",
       "<circle clip-path=\"url(#clip442)\" cx=\"1149.14\" cy=\"819.067\" r=\"14\" fill=\"#009af9\" fill-rule=\"evenodd\" fill-opacity=\"1\" stroke=\"#000000\" stroke-opacity=\"1\" stroke-width=\"3.2\"/>\n",
       "<circle clip-path=\"url(#clip442)\" cx=\"1985.95\" cy=\"657.291\" r=\"14\" fill=\"#009af9\" fill-rule=\"evenodd\" fill-opacity=\"1\" stroke=\"#000000\" stroke-opacity=\"1\" stroke-width=\"3.2\"/>\n",
       "<circle clip-path=\"url(#clip442)\" cx=\"1149.14\" cy=\"325.581\" r=\"14\" fill=\"#009af9\" fill-rule=\"evenodd\" fill-opacity=\"1\" stroke=\"#000000\" stroke-opacity=\"1\" stroke-width=\"3.2\"/>\n",
       "<circle clip-path=\"url(#clip442)\" cx=\"1985.95\" cy=\"782.345\" r=\"14\" fill=\"#009af9\" fill-rule=\"evenodd\" fill-opacity=\"1\" stroke=\"#000000\" stroke-opacity=\"1\" stroke-width=\"3.2\"/>\n",
       "<circle clip-path=\"url(#clip442)\" cx=\"1192.28\" cy=\"633.86\" r=\"14\" fill=\"#009af9\" fill-rule=\"evenodd\" fill-opacity=\"1\" stroke=\"#000000\" stroke-opacity=\"1\" stroke-width=\"3.2\"/>\n",
       "<circle clip-path=\"url(#clip442)\" cx=\"2029.1\" cy=\"811.698\" r=\"14\" fill=\"#009af9\" fill-rule=\"evenodd\" fill-opacity=\"1\" stroke=\"#000000\" stroke-opacity=\"1\" stroke-width=\"3.2\"/>\n",
       "<circle clip-path=\"url(#clip442)\" cx=\"1149.14\" cy=\"989.234\" r=\"14\" fill=\"#009af9\" fill-rule=\"evenodd\" fill-opacity=\"1\" stroke=\"#000000\" stroke-opacity=\"1\" stroke-width=\"3.2\"/>\n",
       "<circle clip-path=\"url(#clip442)\" cx=\"1985.95\" cy=\"657.291\" r=\"14\" fill=\"#009af9\" fill-rule=\"evenodd\" fill-opacity=\"1\" stroke=\"#000000\" stroke-opacity=\"1\" stroke-width=\"3.2\"/>\n",
       "<circle clip-path=\"url(#clip442)\" cx=\"1149.14\" cy=\"989.234\" r=\"14\" fill=\"#009af9\" fill-rule=\"evenodd\" fill-opacity=\"1\" stroke=\"#000000\" stroke-opacity=\"1\" stroke-width=\"3.2\"/>\n",
       "<circle clip-path=\"url(#clip442)\" cx=\"1149.14\" cy=\"681.987\" r=\"14\" fill=\"#009af9\" fill-rule=\"evenodd\" fill-opacity=\"1\" stroke=\"#000000\" stroke-opacity=\"1\" stroke-width=\"3.2\"/>\n",
       "<circle clip-path=\"url(#clip442)\" cx=\"1985.95\" cy=\"517.523\" r=\"14\" fill=\"#009af9\" fill-rule=\"evenodd\" fill-opacity=\"1\" stroke=\"#000000\" stroke-opacity=\"1\" stroke-width=\"3.2\"/>\n",
       "<circle clip-path=\"url(#clip442)\" cx=\"1985.95\" cy=\"996.725\" r=\"14\" fill=\"#009af9\" fill-rule=\"evenodd\" fill-opacity=\"1\" stroke=\"#000000\" stroke-opacity=\"1\" stroke-width=\"3.2\"/>\n",
       "<circle clip-path=\"url(#clip442)\" cx=\"1192.28\" cy=\"711.34\" r=\"14\" fill=\"#009af9\" fill-rule=\"evenodd\" fill-opacity=\"1\" stroke=\"#000000\" stroke-opacity=\"1\" stroke-width=\"3.2\"/>\n",
       "<circle clip-path=\"url(#clip442)\" cx=\"1192.28\" cy=\"633.86\" r=\"14\" fill=\"#009af9\" fill-rule=\"evenodd\" fill-opacity=\"1\" stroke=\"#000000\" stroke-opacity=\"1\" stroke-width=\"3.2\"/>\n",
       "<circle clip-path=\"url(#clip442)\" cx=\"2029.1\" cy=\"686.643\" r=\"14\" fill=\"#009af9\" fill-rule=\"evenodd\" fill-opacity=\"1\" stroke=\"#000000\" stroke-opacity=\"1\" stroke-width=\"3.2\"/>\n",
       "<circle clip-path=\"url(#clip442)\" cx=\"2029.1\" cy=\"811.698\" r=\"14\" fill=\"#009af9\" fill-rule=\"evenodd\" fill-opacity=\"1\" stroke=\"#000000\" stroke-opacity=\"1\" stroke-width=\"3.2\"/>\n",
       "<circle clip-path=\"url(#clip442)\" cx=\"1192.28\" cy=\"633.86\" r=\"14\" fill=\"#009af9\" fill-rule=\"evenodd\" fill-opacity=\"1\" stroke=\"#000000\" stroke-opacity=\"1\" stroke-width=\"3.2\"/>\n",
       "<circle clip-path=\"url(#clip442)\" cx=\"1192.28\" cy=\"1113.73\" r=\"14\" fill=\"#009af9\" fill-rule=\"evenodd\" fill-opacity=\"1\" stroke=\"#000000\" stroke-opacity=\"1\" stroke-width=\"3.2\"/>\n",
       "<circle clip-path=\"url(#clip442)\" cx=\"1192.28\" cy=\"633.86\" r=\"14\" fill=\"#009af9\" fill-rule=\"evenodd\" fill-opacity=\"1\" stroke=\"#000000\" stroke-opacity=\"1\" stroke-width=\"3.2\"/>\n",
       "<circle clip-path=\"url(#clip442)\" cx=\"2029.1\" cy=\"811.698\" r=\"14\" fill=\"#009af9\" fill-rule=\"evenodd\" fill-opacity=\"1\" stroke=\"#000000\" stroke-opacity=\"1\" stroke-width=\"3.2\"/>\n",
       "<circle clip-path=\"url(#clip442)\" cx=\"2029.1\" cy=\"811.698\" r=\"14\" fill=\"#009af9\" fill-rule=\"evenodd\" fill-opacity=\"1\" stroke=\"#000000\" stroke-opacity=\"1\" stroke-width=\"3.2\"/>\n",
       "<circle clip-path=\"url(#clip442)\" cx=\"2029.1\" cy=\"811.698\" r=\"14\" fill=\"#009af9\" fill-rule=\"evenodd\" fill-opacity=\"1\" stroke=\"#000000\" stroke-opacity=\"1\" stroke-width=\"3.2\"/>\n",
       "<circle clip-path=\"url(#clip442)\" cx=\"1149.14\" cy=\"325.581\" r=\"14\" fill=\"#009af9\" fill-rule=\"evenodd\" fill-opacity=\"1\" stroke=\"#000000\" stroke-opacity=\"1\" stroke-width=\"3.2\"/>\n",
       "<circle clip-path=\"url(#clip442)\" cx=\"1192.28\" cy=\"965.916\" r=\"14\" fill=\"#009af9\" fill-rule=\"evenodd\" fill-opacity=\"1\" stroke=\"#000000\" stroke-opacity=\"1\" stroke-width=\"3.2\"/>\n",
       "<circle clip-path=\"url(#clip442)\" cx=\"206.675\" cy=\"526.808\" r=\"14\" fill=\"#009af9\" fill-rule=\"evenodd\" fill-opacity=\"1\" stroke=\"#000000\" stroke-opacity=\"1\" stroke-width=\"3.2\"/>\n",
       "<circle clip-path=\"url(#clip442)\" cx=\"1149.14\" cy=\"753.269\" r=\"14\" fill=\"#009af9\" fill-rule=\"evenodd\" fill-opacity=\"1\" stroke=\"#000000\" stroke-opacity=\"1\" stroke-width=\"3.2\"/>\n",
       "<circle clip-path=\"url(#clip442)\" cx=\"1149.14\" cy=\"604.508\" r=\"14\" fill=\"#009af9\" fill-rule=\"evenodd\" fill-opacity=\"1\" stroke=\"#000000\" stroke-opacity=\"1\" stroke-width=\"3.2\"/>\n",
       "<circle clip-path=\"url(#clip442)\" cx=\"206.675\" cy=\"726.196\" r=\"14\" fill=\"#009af9\" fill-rule=\"evenodd\" fill-opacity=\"1\" stroke=\"#000000\" stroke-opacity=\"1\" stroke-width=\"3.2\"/>\n",
       "<circle clip-path=\"url(#clip442)\" cx=\"1149.14\" cy=\"1127.5\" r=\"14\" fill=\"#009af9\" fill-rule=\"evenodd\" fill-opacity=\"1\" stroke=\"#000000\" stroke-opacity=\"1\" stroke-width=\"3.2\"/>\n",
       "<circle clip-path=\"url(#clip442)\" cx=\"1149.14\" cy=\"753.269\" r=\"14\" fill=\"#009af9\" fill-rule=\"evenodd\" fill-opacity=\"1\" stroke=\"#000000\" stroke-opacity=\"1\" stroke-width=\"3.2\"/>\n",
       "<circle clip-path=\"url(#clip442)\" cx=\"1149.14\" cy=\"519.984\" r=\"14\" fill=\"#009af9\" fill-rule=\"evenodd\" fill-opacity=\"1\" stroke=\"#000000\" stroke-opacity=\"1\" stroke-width=\"3.2\"/>\n",
       "<circle clip-path=\"url(#clip442)\" cx=\"1149.14\" cy=\"87.9763\" r=\"14\" fill=\"#009af9\" fill-rule=\"evenodd\" fill-opacity=\"1\" stroke=\"#000000\" stroke-opacity=\"1\" stroke-width=\"3.2\"/>\n",
       "<circle clip-path=\"url(#clip442)\" cx=\"1149.14\" cy=\"753.269\" r=\"14\" fill=\"#009af9\" fill-rule=\"evenodd\" fill-opacity=\"1\" stroke=\"#000000\" stroke-opacity=\"1\" stroke-width=\"3.2\"/>\n",
       "<circle clip-path=\"url(#clip442)\" cx=\"1999.4\" cy=\"526.674\" r=\"14\" fill=\"#009af9\" fill-rule=\"evenodd\" fill-opacity=\"1\" stroke=\"#000000\" stroke-opacity=\"1\" stroke-width=\"3.2\"/>\n",
       "<circle clip-path=\"url(#clip442)\" cx=\"1149.14\" cy=\"427.411\" r=\"14\" fill=\"#009af9\" fill-rule=\"evenodd\" fill-opacity=\"1\" stroke=\"#000000\" stroke-opacity=\"1\" stroke-width=\"3.2\"/>\n",
       "<circle clip-path=\"url(#clip442)\" cx=\"1985.95\" cy=\"657.291\" r=\"14\" fill=\"#009af9\" fill-rule=\"evenodd\" fill-opacity=\"1\" stroke=\"#000000\" stroke-opacity=\"1\" stroke-width=\"3.2\"/>\n",
       "<circle clip-path=\"url(#clip442)\" cx=\"1149.14\" cy=\"427.411\" r=\"14\" fill=\"#009af9\" fill-rule=\"evenodd\" fill-opacity=\"1\" stroke=\"#000000\" stroke-opacity=\"1\" stroke-width=\"3.2\"/>\n",
       "<circle clip-path=\"url(#clip442)\" cx=\"1999.4\" cy=\"904.046\" r=\"14\" fill=\"#009af9\" fill-rule=\"evenodd\" fill-opacity=\"1\" stroke=\"#000000\" stroke-opacity=\"1\" stroke-width=\"3.2\"/>\n",
       "<path clip-path=\"url(#clip440)\" d=\"\n",
       "M1982.72 216.178 L2279.14 216.178 L2279.14 95.2176 L1982.72 95.2176  Z\n",
       "  \" fill=\"#ffffff\" fill-rule=\"evenodd\" fill-opacity=\"1\"/>\n",
       "<polyline clip-path=\"url(#clip440)\" style=\"stroke:#000000; stroke-width:4; stroke-opacity:1; fill:none\" points=\"\n",
       "  1982.72,216.178 2279.14,216.178 2279.14,95.2176 1982.72,95.2176 1982.72,216.178 \n",
       "  \"/>\n",
       "<circle clip-path=\"url(#clip440)\" cx=\"2080.88\" cy=\"155.698\" r=\"23\" fill=\"#009af9\" fill-rule=\"evenodd\" fill-opacity=\"1\" stroke=\"#000000\" stroke-opacity=\"1\" stroke-width=\"5.12\"/>\n",
       "<path clip-path=\"url(#clip440)\" d=\"M 0 0 M2192.88 175.385 Q2191.08 180.015 2189.36 181.427 Q2187.65 182.839 2184.78 182.839 L2181.38 182.839 L2181.38 179.274 L2183.88 179.274 Q2185.64 179.274 2186.61 178.44 Q2187.58 177.607 2188.76 174.505 L2189.52 172.561 L2179.04 147.052 L2183.55 147.052 L2191.65 167.329 L2199.76 147.052 L2204.27 147.052 L2192.88 175.385 Z\" fill=\"#000000\" fill-rule=\"evenodd\" fill-opacity=\"1\" /><path clip-path=\"url(#clip440)\" d=\"M 0 0 M2210.15 169.042 L2217.79 169.042 L2217.79 142.677 L2209.48 144.343 L2209.48 140.084 L2217.74 138.418 L2222.42 138.418 L2222.42 169.042 L2230.06 169.042 L2230.06 172.978 L2210.15 172.978 L2210.15 169.042 Z\" fill=\"#000000\" fill-rule=\"evenodd\" fill-opacity=\"1\" /></svg>\n"
      ]
     },
     "execution_count": 18,
     "metadata": {},
     "output_type": "execute_result"
    }
   ],
   "source": [
    "scatter(predict(lm1.model), residuals(lm1.model))"
   ]
  },
  {
   "cell_type": "markdown",
   "metadata": {},
   "source": [
    "---"
   ]
  },
  {
   "cell_type": "markdown",
   "metadata": {},
   "source": [
    "## Tasks"
   ]
  },
  {
   "cell_type": "markdown",
   "metadata": {},
   "source": [
    "2) for cars which seat 5 or less passengers, fit a linear model to determine if paying more for a car gives better milage"
   ]
  },
  {
   "cell_type": "markdown",
   "metadata": {},
   "source": [
    "3) with the cars data set \n",
    " - exclude rotary cylinder engines\n",
    " - compute the city efficiency in L/100km \n",
    " - convert :Cylinders to a continuous predictor\n",
    " - with city efficiency in L/100km as the response variable, implement an exhastive algorithm to find the linear model which fits best with the following predictors\n",
    " \n",
    " [:Weight,\n",
    " \n",
    " :Price,\n",
    " \n",
    " :Length,\n",
    " \n",
    " :FuelTankCapacity,\n",
    " \n",
    " :Wheelbase,\n",
    " \n",
    " :RPM,\n",
    " \n",
    " :Horsepower, \n",
    " \n",
    " :EngineSize, \n",
    " \n",
    " :Cylinders, \n",
    " \n",
    " :City, \n",
    " \n",
    " :Passengers]\n",
    "\n",
    "Tips: \n",
    " - the function `parse.(Int,\"1\")` converts the string `\"1\"` to an `Int` \n",
    " - the function `deviance(aLinerModel)` extracts the deviance for the linear model `aLinearModel`\n",
    " - the `IterTools` package has a `subsets` function which enumeartes all subsets of a vector\n",
    " - I found it easier to specify the model matrix rather than pass an `@formula` object to `lm`"
   ]
  },
  {
   "cell_type": "code",
   "execution_count": 19,
   "metadata": {},
   "outputs": [
    {
     "data": {
      "text/plain": [
       "IterTools.Subsets{Array{Symbol,1}}([:Manufacturer, :Model, :Type, :MinPrice, :Price, :MaxPrice, :AirBags, :DriveTrain, :Cylinders, :EngineSize  …  :Length, :Wheelbase, :Width, :TurnCircle, :RearSeatRoom, :LuggageRoom, :Weight, :Origin, :Make, :Highway])"
      ]
     },
     "execution_count": 19,
     "metadata": {},
     "output_type": "execute_result"
    }
   ],
   "source": [
    "#Pkg.add(\"IterTools\")\n",
    "#using IterTools\n",
    "vars = propertynames(cars[!,Not(:City)])\n",
    "varsPowerSet = subsets(vars)"
   ]
  },
  {
   "cell_type": "code",
   "execution_count": 20,
   "metadata": {},
   "outputs": [
    {
     "ename": "UndefVarError",
     "evalue": "\u001b[91mUndefVarError: CSV not defined\u001b[39m",
     "output_type": "error",
     "traceback": [
      "\u001b[91mUndefVarError: CSV not defined\u001b[39m",
      "",
      "Stacktrace:",
      " [1] top-level scope at In[20]:1"
     ]
    }
   ],
   "source": [
    "cars = CSV.File(\"cars.csv\") |> DataFrame\n",
    "filterFun(cyl) = !isequal(cyl,\"rotary\") # exclude rotary engines\n",
    "filter!(:Cylinders => filterFun, cars) |> \n",
    "    x -> transform!(x,:MPGCity => mpg2lper100 => :City) |> \n",
    "    x -> select!(x, Not(:MPGCity)) \n",
    "transform!(cars, :Cylinders => (x->parse.(Int,x)) => :Cylinders) |> x -> first(x,5) "
   ]
  },
  {
   "cell_type": "code",
   "execution_count": 21,
   "metadata": {},
   "outputs": [],
   "source": [
    "select!(cars,[:Weight,:Price,:Length,:FuelTankCapacity,\n",
    "        :Wheelbase,:RPM,:Horsepower, :EngineSize, :Cylinders, :City, :Passengers]);"
   ]
  },
  {
   "cell_type": "code",
   "execution_count": 22,
   "metadata": {},
   "outputs": [
    {
     "data": {
      "text/plain": [
       "65.61527965353012"
      ]
     },
     "execution_count": 22,
     "metadata": {},
     "output_type": "execute_result"
    }
   ],
   "source": [
    "deviance(lm(Matrix(cars[:,Not([:City])]),cars[:,:City]))"
   ]
  },
  {
   "cell_type": "code",
   "execution_count": 23,
   "metadata": {},
   "outputs": [
    {
     "data": {
      "text/plain": [
       "IterTools.Subsets{Array{Symbol,1}}([:Weight, :Price, :Length, :FuelTankCapacity, :Wheelbase, :RPM, :Horsepower, :EngineSize, :Cylinders, :Passengers])"
      ]
     },
     "execution_count": 23,
     "metadata": {},
     "output_type": "execute_result"
    }
   ],
   "source": [
    "#Pkg.add(\"IterTools\")\n",
    "vars = propertynames(cars[!,Not(:City)])\n",
    "varsPowerSet = subsets(vars)"
   ]
  },
  {
   "cell_type": "code",
   "execution_count": 24,
   "metadata": {
    "scrolled": true
   },
   "outputs": [
    {
     "name": "stdout",
     "output_type": "stream",
     "text": [
      "  1.093703 seconds (3.03 M allocations: 163.354 MiB, 4.80% gc time)\n"
     ]
    }
   ],
   "source": [
    "@time begin\n",
    "    AICs = []\n",
    "    bestAIC = -Inf\n",
    "    n = nrow(cars)\n",
    "    modelSize = []\n",
    "    bestExclusionVars = []\n",
    "    for (index,varsSubset) in enumerate(varsPowerSet)\n",
    "        if index < 1024\n",
    "            excludeVars = [:City; varsSubset]\n",
    "            k = ncol(cars) - length(excludeVars)\n",
    "            lmDeviance = lm(Matrix(cars[:,Not(excludeVars)]),cars[:,:City]) |> deviance \n",
    "            AIC = 2*k + n*log(lmDeviance)\n",
    "            push!(modelSize,k)\n",
    "            push!(AICs,AIC)\n",
    "        else\n",
    "        end\n",
    "    end\n",
    "end\n",
    "\n",
    "AICs = []\n",
    "bestAIC = -Inf\n",
    "n = nrow(cars)\n",
    "modelSize = []\n",
    "bestExclusionVars = []\n",
    "for (index,varsSubset) in enumerate(varsPowerSet)\n",
    "     if index < 1024\n",
    "        excludeVars = [:City; varsSubset]\n",
    "        k = ncol(cars) - length(excludeVars)\n",
    "        lmDeviance = lm(Matrix(cars[:,Not(excludeVars)]),cars[:,:City]) |> deviance \n",
    "        AIC = 2*k + n*log(lmDeviance)\n",
    "        push!(modelSize,k)\n",
    "        push!(AICs,AIC)\n",
    "    else\n",
    "    end\n",
    "end"
   ]
  },
  {
   "cell_type": "code",
   "execution_count": 25,
   "metadata": {},
   "outputs": [
    {
     "data": {
      "text/html": [
       "<table class=\"data-frame\"><thead><tr><th></th><th>AIC</th><th>size</th><th>which</th></tr><tr><th></th><th>Any</th><th>Any</th><th>Int64</th></tr></thead><tbody><p>10 rows × 3 columns</p><tr><th>1</th><td>393.138</td><td>3</td><td>759</td></tr><tr><th>2</th><td>394.225</td><td>4</td><td>247</td></tr><tr><th>3</th><td>394.557</td><td>4</td><td>695</td></tr><tr><th>4</th><td>394.999</td><td>4</td><td>631</td></tr><tr><th>5</th><td>395.094</td><td>4</td><td>755</td></tr><tr><th>6</th><td>395.11</td><td>4</td><td>757</td></tr><tr><th>7</th><td>395.122</td><td>4</td><td>727</td></tr><tr><th>8</th><td>395.129</td><td>4</td><td>743</td></tr><tr><th>9</th><td>395.733</td><td>5</td><td>245</td></tr><tr><th>10</th><td>395.744</td><td>5</td><td>243</td></tr></tbody></table>"
      ],
      "text/latex": [
       "\\begin{tabular}{r|ccc}\n",
       "\t& AIC & size & which\\\\\n",
       "\t\\hline\n",
       "\t& Any & Any & Int64\\\\\n",
       "\t\\hline\n",
       "\t1 & 393.138 & 3 & 759 \\\\\n",
       "\t2 & 394.225 & 4 & 247 \\\\\n",
       "\t3 & 394.557 & 4 & 695 \\\\\n",
       "\t4 & 394.999 & 4 & 631 \\\\\n",
       "\t5 & 395.094 & 4 & 755 \\\\\n",
       "\t6 & 395.11 & 4 & 757 \\\\\n",
       "\t7 & 395.122 & 4 & 727 \\\\\n",
       "\t8 & 395.129 & 4 & 743 \\\\\n",
       "\t9 & 395.733 & 5 & 245 \\\\\n",
       "\t10 & 395.744 & 5 & 243 \\\\\n",
       "\\end{tabular}\n"
      ],
      "text/plain": [
       "\u001b[1m10×3 DataFrame\u001b[0m\n",
       "\u001b[1m Row \u001b[0m│\u001b[1m AIC     \u001b[0m\u001b[1m size \u001b[0m\u001b[1m which \u001b[0m\n",
       "\u001b[1m     \u001b[0m│\u001b[90m Any     \u001b[0m\u001b[90m Any  \u001b[0m\u001b[90m Int64 \u001b[0m\n",
       "─────┼──────────────────────\n",
       "   1 │ 393.138  3       759\n",
       "   2 │ 394.225  4       247\n",
       "   3 │ 394.557  4       695\n",
       "   4 │ 394.999  4       631\n",
       "   5 │ 395.094  4       755\n",
       "   6 │ 395.11   4       757\n",
       "   7 │ 395.122  4       727\n",
       "   8 │ 395.129  4       743\n",
       "   9 │ 395.733  5       245\n",
       "  10 │ 395.744  5       243"
      ]
     },
     "execution_count": 25,
     "metadata": {},
     "output_type": "execute_result"
    }
   ],
   "source": [
    "aicWidx = DataFrame( AIC = AICs, size = modelSize, which = 1:length(AICs))\n",
    "\n",
    "sort!(aicWidx, [:AIC, :size], rev=false) |> x -> first(x,10) "
   ]
  },
  {
   "cell_type": "code",
   "execution_count": 26,
   "metadata": {},
   "outputs": [
    {
     "ename": "MethodError",
     "evalue": "\u001b[91mMethodError: no method matching getindex(::IterTools.Subsets{Array{Symbol,1}}, ::Int64)\u001b[39m",
     "output_type": "error",
     "traceback": [
      "\u001b[91mMethodError: no method matching getindex(::IterTools.Subsets{Array{Symbol,1}}, ::Int64)\u001b[39m",
      "",
      "Stacktrace:",
      " [1] top-level scope at In[26]:1"
     ]
    }
   ],
   "source": [
    "[varsPowerSet[759];:City]"
   ]
  },
  {
   "cell_type": "code",
   "execution_count": 27,
   "metadata": {},
   "outputs": [
    {
     "ename": "MethodError",
     "evalue": "\u001b[91mMethodError: no method matching getindex(::IterTools.Subsets{Array{Symbol,1}}, ::Int64)\u001b[39m",
     "output_type": "error",
     "traceback": [
      "\u001b[91mMethodError: no method matching getindex(::IterTools.Subsets{Array{Symbol,1}}, ::Int64)\u001b[39m",
      "",
      "Stacktrace:",
      " [1] top-level scope at In[27]:1"
     ]
    }
   ],
   "source": [
    "bestModel = propertynames(cars[:,Not([varsPowerSet[759];:City])])\n",
    "deviance(lm(Matrix(cars[:,bestModel]),cars[:,:City]))"
   ]
  },
  {
   "cell_type": "code",
   "execution_count": 28,
   "metadata": {},
   "outputs": [
    {
     "ename": "UndefVarError",
     "evalue": "\u001b[91mUndefVarError: bestModel not defined\u001b[39m",
     "output_type": "error",
     "traceback": [
      "\u001b[91mUndefVarError: bestModel not defined\u001b[39m",
      "",
      "Stacktrace:",
      " [1] top-level scope at In[28]:1"
     ]
    }
   ],
   "source": [
    "bestModel"
   ]
  },
  {
   "cell_type": "code",
   "execution_count": 29,
   "metadata": {},
   "outputs": [
    {
     "data": {
      "text/plain": [
       "StatsModels.TableRegressionModel{LinearModel{GLM.LmResp{Array{Float64,1}},GLM.DensePredChol{Float64,LinearAlgebra.CholeskyPivoted{Float64,Array{Float64,2}}}},Array{Float64,2}}\n",
       "\n",
       "City ~ 1 + Weight + Cylinders + FuelTankCapacity\n",
       "\n",
       "Coefficients:\n",
       "───────────────────────────────────────────────────────────────────────────────────\n",
       "                       Coef.   Std. Error     t  Pr(>|t|)     Lower 95%   Upper 95%\n",
       "───────────────────────────────────────────────────────────────────────────────────\n",
       "(Intercept)       0.215911    0.492209     0.44    0.6620  -0.762251     1.19407\n",
       "Weight            0.00181091  0.000421543  4.30    <1e-4    0.000973182  0.00264864\n",
       "Cylinders         0.326235    0.115657     2.82    0.0059   0.0963907    0.55608\n",
       "FuelTankCapacity  0.217604    0.0650716    3.34    0.0012   0.0882881    0.34692\n",
       "───────────────────────────────────────────────────────────────────────────────────"
      ]
     },
     "execution_count": 29,
     "metadata": {},
     "output_type": "execute_result"
    }
   ],
   "source": [
    "lm(@formula(City ~ Weight + Cylinders + FuelTankCapacity),cars)"
   ]
  },
  {
   "cell_type": "code",
   "execution_count": null,
   "metadata": {},
   "outputs": [],
   "source": []
  },
  {
   "cell_type": "code",
   "execution_count": null,
   "metadata": {},
   "outputs": [],
   "source": []
  },
  {
   "cell_type": "code",
   "execution_count": null,
   "metadata": {},
   "outputs": [],
   "source": []
  },
  {
   "cell_type": "code",
   "execution_count": null,
   "metadata": {},
   "outputs": [],
   "source": []
  },
  {
   "cell_type": "code",
   "execution_count": null,
   "metadata": {},
   "outputs": [],
   "source": []
  },
  {
   "cell_type": "code",
   "execution_count": null,
   "metadata": {},
   "outputs": [],
   "source": []
  },
  {
   "cell_type": "code",
   "execution_count": null,
   "metadata": {},
   "outputs": [],
   "source": []
  },
  {
   "cell_type": "code",
   "execution_count": null,
   "metadata": {},
   "outputs": [],
   "source": []
  },
  {
   "cell_type": "code",
   "execution_count": null,
   "metadata": {},
   "outputs": [],
   "source": []
  },
  {
   "cell_type": "code",
   "execution_count": null,
   "metadata": {},
   "outputs": [],
   "source": []
  },
  {
   "cell_type": "code",
   "execution_count": null,
   "metadata": {},
   "outputs": [],
   "source": []
  },
  {
   "cell_type": "code",
   "execution_count": null,
   "metadata": {},
   "outputs": [],
   "source": []
  },
  {
   "cell_type": "code",
   "execution_count": null,
   "metadata": {},
   "outputs": [],
   "source": []
  },
  {
   "cell_type": "code",
   "execution_count": null,
   "metadata": {},
   "outputs": [],
   "source": []
  }
 ],
 "metadata": {
  "@webio": {
   "lastCommId": null,
   "lastKernelId": null
  },
  "kernelspec": {
   "display_name": "Julia 1.4.2",
   "language": "julia",
   "name": "julia-1.4"
  },
  "language_info": {
   "file_extension": ".jl",
   "mimetype": "application/julia",
   "name": "julia",
   "version": "1.4.2"
  }
 },
 "nbformat": 4,
 "nbformat_minor": 2
}
