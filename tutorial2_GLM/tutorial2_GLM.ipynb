{
 "cells": [
  {
   "cell_type": "markdown",
   "metadata": {},
   "source": [
    "# JuliaR\n",
    "\n",
    "### On the GLM package and similarities with R\n",
    "\n",
    "https://github.com/angus-lewis/JuliaR"
   ]
  },
  {
   "cell_type": "markdown",
   "metadata": {},
   "source": [
    "run the code from `getPackages.jl` before starting."
   ]
  },
  {
   "cell_type": "markdown",
   "metadata": {},
   "source": [
    "---"
   ]
  },
  {
   "cell_type": "markdown",
   "metadata": {},
   "source": [
    "---"
   ]
  },
  {
   "cell_type": "markdown",
   "metadata": {},
   "source": [
    "---"
   ]
  },
  {
   "cell_type": "markdown",
   "metadata": {},
   "source": [
    "---"
   ]
  },
  {
   "cell_type": "markdown",
   "metadata": {},
   "source": [
    "---"
   ]
  },
  {
   "cell_type": "markdown",
   "metadata": {},
   "source": [
    "## Load our packages"
   ]
  },
  {
   "cell_type": "markdown",
   "metadata": {},
   "source": [
    " + Plots.jl for plotting\n",
    " + GLM.jl the linear models package\n",
    " + IterTools.jl you may not *need* this, but it's here because it clashes with DataFrames.jl\n",
    " + DataFrames.jl for dataframes type and manipulation \n",
    " + RDatasets.jl most of the datasets from R packages "
   ]
  },
  {
   "cell_type": "code",
   "execution_count": 1,
   "metadata": {},
   "outputs": [],
   "source": [
    "# some other packages we need \n",
    "using Plots, GLM, IterTools, DataFrames\n",
    "import RDatasets"
   ]
  },
  {
   "cell_type": "markdown",
   "metadata": {},
   "source": [
    "note there is a clash between `IterTools.groupby` and `DataFrames.groupby`. \n",
    "\n",
    "Julia will throw an error it we try to call groupby"
   ]
  },
  {
   "cell_type": "code",
   "execution_count": 2,
   "metadata": {},
   "outputs": [
    {
     "name": "stderr",
     "output_type": "stream",
     "text": [
      "WARNING: both DataFrames and IterTools export \"groupby\"; uses of it in module Main must be qualified\n"
     ]
    },
    {
     "ename": "LoadError",
     "evalue": "\u001b[91mUndefVarError: groupby not defined\u001b[39m",
     "output_type": "error",
     "traceback": [
      "\u001b[91mUndefVarError: groupby not defined\u001b[39m",
      "",
      "Stacktrace:",
      " [1] top-level scope at In[2]:1",
      " [2] include_string(::Function, ::Module, ::String, ::String) at ./loading.jl:1091"
     ]
    }
   ],
   "source": [
    "groupby(1)"
   ]
  },
  {
   "cell_type": "markdown",
   "metadata": {},
   "source": [
    "We must qualify with dot syntax. i.e. for the DataFrames version,  "
   ]
  },
  {
   "cell_type": "code",
   "execution_count": 3,
   "metadata": {},
   "outputs": [
    {
     "data": {
      "text/html": [
       "<p><b>GroupedDataFrame with 2 groups based on key: b</b></p><p><i>First Group (1 row): b = 3</i></p><table class=\"data-frame\"><thead><tr><th></th><th>a</th><th>b</th></tr><tr><th></th><th>Int64</th><th>Int64</th></tr></thead><tbody><tr><th>1</th><td>1</td><td>3</td></tr></tbody></table><p>&vellip;</p><p><i>Last Group (1 row): b = 4</i></p><table class=\"data-frame\"><thead><tr><th></th><th>a</th><th>b</th></tr><tr><th></th><th>Int64</th><th>Int64</th></tr></thead><tbody><tr><th>1</th><td>2</td><td>4</td></tr></tbody></table>"
      ],
      "text/latex": [
       "GroupedDataFrame with 2 groups based on key: b\n",
       "\n",
       "First Group (1 row): b = 3\n",
       "\n",
       "\\begin{tabular}{r|cc}\n",
       "\t& a & b\\\\\n",
       "\t\\hline\n",
       "\t& Int64 & Int64\\\\\n",
       "\t\\hline\n",
       "\t1 & 1 & 3 \\\\\n",
       "\\end{tabular}\n",
       "\n",
       "$\\dots$\n",
       "\n",
       "Last Group (1 row): b = 4\n",
       "\n",
       "\\begin{tabular}{r|cc}\n",
       "\t& a & b\\\\\n",
       "\t\\hline\n",
       "\t& Int64 & Int64\\\\\n",
       "\t\\hline\n",
       "\t1 & 2 & 4 \\\\\n",
       "\\end{tabular}\n"
      ],
      "text/plain": [
       "GroupedDataFrame with 2 groups based on key: b\n",
       "First Group (1 row): b = 3\n",
       "\u001b[1m Row \u001b[0m│\u001b[1m a     \u001b[0m\u001b[1m b     \u001b[0m\n",
       "\u001b[1m     \u001b[0m│\u001b[90m Int64 \u001b[0m\u001b[90m Int64 \u001b[0m\n",
       "─────┼──────────────\n",
       "   1 │     1      3\n",
       "⋮\n",
       "Last Group (1 row): b = 4\n",
       "\u001b[1m Row \u001b[0m│\u001b[1m a     \u001b[0m\u001b[1m b     \u001b[0m\n",
       "\u001b[1m     \u001b[0m│\u001b[90m Int64 \u001b[0m\u001b[90m Int64 \u001b[0m\n",
       "─────┼──────────────\n",
       "   1 │     2      4"
      ]
     },
     "execution_count": 3,
     "metadata": {},
     "output_type": "execute_result"
    }
   ],
   "source": [
    "DataFrames.groupby(DataFrame(a = [1;2], b = [3;4]),:b)"
   ]
  },
  {
   "cell_type": "markdown",
   "metadata": {},
   "source": [
    "---"
   ]
  },
  {
   "cell_type": "markdown",
   "metadata": {},
   "source": [
    "---"
   ]
  },
  {
   "cell_type": "markdown",
   "metadata": {},
   "source": [
    "---"
   ]
  },
  {
   "cell_type": "markdown",
   "metadata": {},
   "source": [
    "---"
   ]
  },
  {
   "cell_type": "markdown",
   "metadata": {},
   "source": [
    "---"
   ]
  },
  {
   "cell_type": "markdown",
   "metadata": {},
   "source": [
    "## Loading data "
   ]
  },
  {
   "cell_type": "code",
   "execution_count": 4,
   "metadata": {},
   "outputs": [
    {
     "data": {
      "text/html": [
       "<table class=\"data-frame\"><thead><tr><th></th><th>Manufacturer</th><th>Model</th><th>Type</th><th>MinPrice</th><th>Price</th><th>MaxPrice</th><th>MPGCity</th><th>MPGHighway</th></tr><tr><th></th><th>Cat…</th><th>String</th><th>Cat…</th><th>Float64</th><th>Float64</th><th>Float64</th><th>Int32</th><th>Int32</th></tr></thead><tbody><p>5 rows × 27 columns (omitted printing of 19 columns)</p><tr><th>1</th><td>Acura</td><td>Integra</td><td>Small</td><td>12.9</td><td>15.9</td><td>18.8</td><td>25</td><td>31</td></tr><tr><th>2</th><td>Acura</td><td>Legend</td><td>Midsize</td><td>29.2</td><td>33.9</td><td>38.7</td><td>18</td><td>25</td></tr><tr><th>3</th><td>Audi</td><td>90</td><td>Compact</td><td>25.9</td><td>29.1</td><td>32.3</td><td>20</td><td>26</td></tr><tr><th>4</th><td>Audi</td><td>100</td><td>Midsize</td><td>30.8</td><td>37.7</td><td>44.6</td><td>19</td><td>26</td></tr><tr><th>5</th><td>BMW</td><td>535i</td><td>Midsize</td><td>23.7</td><td>30.0</td><td>36.2</td><td>22</td><td>30</td></tr></tbody></table>"
      ],
      "text/latex": [
       "\\begin{tabular}{r|ccccccccc}\n",
       "\t& Manufacturer & Model & Type & MinPrice & Price & MaxPrice & MPGCity & MPGHighway & \\\\\n",
       "\t\\hline\n",
       "\t& Cat… & String & Cat… & Float64 & Float64 & Float64 & Int32 & Int32 & \\\\\n",
       "\t\\hline\n",
       "\t1 & Acura & Integra & Small & 12.9 & 15.9 & 18.8 & 25 & 31 & $\\dots$ \\\\\n",
       "\t2 & Acura & Legend & Midsize & 29.2 & 33.9 & 38.7 & 18 & 25 & $\\dots$ \\\\\n",
       "\t3 & Audi & 90 & Compact & 25.9 & 29.1 & 32.3 & 20 & 26 & $\\dots$ \\\\\n",
       "\t4 & Audi & 100 & Midsize & 30.8 & 37.7 & 44.6 & 19 & 26 & $\\dots$ \\\\\n",
       "\t5 & BMW & 535i & Midsize & 23.7 & 30.0 & 36.2 & 22 & 30 & $\\dots$ \\\\\n",
       "\\end{tabular}\n"
      ],
      "text/plain": [
       "\u001b[1m5×27 DataFrame\u001b[0m\n",
       "\u001b[1m Row \u001b[0m│\u001b[1m Manufacturer \u001b[0m\u001b[1m Model   \u001b[0m\u001b[1m Type    \u001b[0m\u001b[1m MinPrice \u001b[0m\u001b[1m Price   \u001b[0m\u001b[1m MaxPrice \u001b[0m\u001b[1m MPGCity \u001b[0m\u001b[1m M\u001b[0m ⋯\n",
       "\u001b[1m     \u001b[0m│\u001b[90m Categorical… \u001b[0m\u001b[90m String  \u001b[0m\u001b[90m Cat…    \u001b[0m\u001b[90m Float64  \u001b[0m\u001b[90m Float64 \u001b[0m\u001b[90m Float64  \u001b[0m\u001b[90m Int32   \u001b[0m\u001b[90m I\u001b[0m ⋯\n",
       "─────┼──────────────────────────────────────────────────────────────────────────\n",
       "   1 │ Acura         Integra  Small        12.9     15.9      18.8       25    ⋯\n",
       "   2 │ Acura         Legend   Midsize      29.2     33.9      38.7       18\n",
       "   3 │ Audi          90       Compact      25.9     29.1      32.3       20\n",
       "   4 │ Audi          100      Midsize      30.8     37.7      44.6       19\n",
       "   5 │ BMW           535i     Midsize      23.7     30.0      36.2       22    ⋯\n",
       "\u001b[36m                                                              20 columns omitted\u001b[0m"
      ]
     },
     "execution_count": 4,
     "metadata": {},
     "output_type": "execute_result"
    }
   ],
   "source": [
    "cars = RDatasets.dataset(\"Mass\", \"Cars93\")\n",
    "first(cars,5)"
   ]
  },
  {
   "cell_type": "markdown",
   "metadata": {},
   "source": [
    "#### TASK: Load the cars dataset "
   ]
  },
  {
   "cell_type": "markdown",
   "metadata": {},
   "source": [
    "---"
   ]
  },
  {
   "cell_type": "markdown",
   "metadata": {},
   "source": [
    "---"
   ]
  },
  {
   "cell_type": "markdown",
   "metadata": {},
   "source": [
    "---"
   ]
  },
  {
   "cell_type": "markdown",
   "metadata": {},
   "source": [
    "---"
   ]
  },
  {
   "cell_type": "markdown",
   "metadata": {},
   "source": [
    "---"
   ]
  },
  {
   "cell_type": "markdown",
   "metadata": {},
   "source": [
    "## Linear Models "
   ]
  },
  {
   "cell_type": "markdown",
   "metadata": {},
   "source": [
    "Try to follow along, i.e. run the same code as I go. This notebook is on GitHub if you want to a copy. "
   ]
  },
  {
   "cell_type": "code",
   "execution_count": 5,
   "metadata": {
    "scrolled": true
   },
   "outputs": [
    {
     "data": {
      "text/html": [
       "<table class=\"data-frame\"><thead><tr><th></th><th>Cylinders</th></tr><tr><th></th><th>Cat…</th></tr></thead><tbody><p>5 rows × 1 columns</p><tr><th>1</th><td>4</td></tr><tr><th>2</th><td>6</td></tr><tr><th>3</th><td>6</td></tr><tr><th>4</th><td>6</td></tr><tr><th>5</th><td>4</td></tr></tbody></table>"
      ],
      "text/latex": [
       "\\begin{tabular}{r|c}\n",
       "\t& Cylinders\\\\\n",
       "\t\\hline\n",
       "\t& Cat…\\\\\n",
       "\t\\hline\n",
       "\t1 & 4 \\\\\n",
       "\t2 & 6 \\\\\n",
       "\t3 & 6 \\\\\n",
       "\t4 & 6 \\\\\n",
       "\t5 & 4 \\\\\n",
       "\\end{tabular}\n"
      ],
      "text/plain": [
       "\u001b[1m5×1 DataFrame\u001b[0m\n",
       "\u001b[1m Row \u001b[0m│\u001b[1m Cylinders \u001b[0m\n",
       "\u001b[1m     \u001b[0m│\u001b[90m Cat…      \u001b[0m\n",
       "─────┼───────────\n",
       "   1 │ 4\n",
       "   2 │ 6\n",
       "   3 │ 6\n",
       "   4 │ 6\n",
       "   5 │ 4"
      ]
     },
     "execution_count": 5,
     "metadata": {},
     "output_type": "execute_result"
    }
   ],
   "source": [
    "notRotary(cyl) = !isequal(cyl,\"rotary\") # exclude rotary engines\n",
    "filter!(:Cylinders => notRotary, cars)\n",
    "first(cars[:,[:Cylinders]],5)"
   ]
  },
  {
   "cell_type": "markdown",
   "metadata": {},
   "source": [
    "**Task: filter out the rotary engines**"
   ]
  },
  {
   "cell_type": "markdown",
   "metadata": {},
   "source": [
    "----\n",
    "Fitting linear models with the GLM package in Julia is much like R (this is deliberate)."
   ]
  },
  {
   "cell_type": "code",
   "execution_count": 6,
   "metadata": {},
   "outputs": [
    {
     "data": {
      "text/plain": [
       "StatsModels.TableRegressionModel{LinearModel{GLM.LmResp{Array{Float64,1}},GLM.DensePredChol{Float64,LinearAlgebra.CholeskyPivoted{Float64,Array{Float64,2}}}},Array{Float64,2}}\n",
       "\n",
       "MPGCity ~ 1 + Cylinders\n",
       "\n",
       "Coefficients:\n",
       "──────────────────────────────────────────────────────────────────────────\n",
       "                 Coef.  Std. Error       t  Pr(>|t|)  Lower 95%  Upper 95%\n",
       "──────────────────────────────────────────────────────────────────────────\n",
       "(Intercept)    39.3333     1.95222   20.15    <1e-33    35.4531    43.2136\n",
       "Cylinders: 4  -14.4762     2.0111    -7.20    <1e-9    -18.4735   -10.4789\n",
       "Cylinders: 5  -20.8333     3.08673   -6.75    <1e-8    -26.9685   -14.6981\n",
       "Cylinders: 6  -20.914      2.0445   -10.23    <1e-15   -24.9776   -16.8503\n",
       "Cylinders: 8  -22.3333     2.33335   -9.57    <1e-14   -26.9711   -17.6955\n",
       "──────────────────────────────────────────────────────────────────────────"
      ]
     },
     "execution_count": 6,
     "metadata": {},
     "output_type": "execute_result"
    }
   ],
   "source": [
    "lm1 = lm(@formula(MPGCity ~ Cylinders), cars)"
   ]
  },
  {
   "cell_type": "markdown",
   "metadata": {},
   "source": [
    "Let's explore the `lm` function a little. "
   ]
  },
  {
   "cell_type": "markdown",
   "metadata": {},
   "source": [
    "Julia determines whether a variable is continous or categorical automatically based on the *type* of the data.\n",
    "\n",
    "To code Cylinders as a countinuous variable we transform to a `Float64` (at least this is the only way I could work it out). "
   ]
  },
  {
   "cell_type": "code",
   "execution_count": 7,
   "metadata": {},
   "outputs": [],
   "source": [
    "transform!(cars, :Cylinders => (x->parse.(Float64,string.(x))) => :Cylinders);"
   ]
  },
  {
   "cell_type": "code",
   "execution_count": 8,
   "metadata": {},
   "outputs": [
    {
     "data": {
      "text/html": [
       "<table class=\"data-frame\"><thead><tr><th></th><th>Cylinders</th></tr><tr><th></th><th>Float64</th></tr></thead><tbody><p>5 rows × 1 columns</p><tr><th>1</th><td>4.0</td></tr><tr><th>2</th><td>6.0</td></tr><tr><th>3</th><td>6.0</td></tr><tr><th>4</th><td>6.0</td></tr><tr><th>5</th><td>4.0</td></tr></tbody></table>"
      ],
      "text/latex": [
       "\\begin{tabular}{r|c}\n",
       "\t& Cylinders\\\\\n",
       "\t\\hline\n",
       "\t& Float64\\\\\n",
       "\t\\hline\n",
       "\t1 & 4.0 \\\\\n",
       "\t2 & 6.0 \\\\\n",
       "\t3 & 6.0 \\\\\n",
       "\t4 & 6.0 \\\\\n",
       "\t5 & 4.0 \\\\\n",
       "\\end{tabular}\n"
      ],
      "text/plain": [
       "\u001b[1m5×1 DataFrame\u001b[0m\n",
       "\u001b[1m Row \u001b[0m│\u001b[1m Cylinders \u001b[0m\n",
       "\u001b[1m     \u001b[0m│\u001b[90m Float64   \u001b[0m\n",
       "─────┼───────────\n",
       "   1 │       4.0\n",
       "   2 │       6.0\n",
       "   3 │       6.0\n",
       "   4 │       6.0\n",
       "   5 │       4.0"
      ]
     },
     "execution_count": 8,
     "metadata": {},
     "output_type": "execute_result"
    }
   ],
   "source": [
    "cars[:,[:Cylinders]] |> x -> first(x,5) "
   ]
  },
  {
   "cell_type": "markdown",
   "metadata": {},
   "source": [
    "Now it's a Float64 and therefore continous (in the eyes of GLM)"
   ]
  },
  {
   "cell_type": "code",
   "execution_count": 9,
   "metadata": {},
   "outputs": [
    {
     "data": {
      "text/plain": [
       "StatsModels.TableRegressionModel{LinearModel{GLM.LmResp{Array{Float64,1}},GLM.DensePredChol{Float64,LinearAlgebra.CholeskyPivoted{Float64,Array{Float64,2}}}},Array{Float64,2}}\n",
       "\n",
       "MPGCity ~ 1 + Cylinders\n",
       "\n",
       "Coefficients:\n",
       "────────────────────────────────────────────────────────────────────────\n",
       "                Coef.  Std. Error      t  Pr(>|t|)  Lower 95%  Upper 95%\n",
       "────────────────────────────────────────────────────────────────────────\n",
       "(Intercept)  37.1344     1.69413   21.92    <1e-37   33.7687    40.5001\n",
       "Cylinders    -2.96141    0.329977  -8.97    <1e-13   -3.61696   -2.30585\n",
       "────────────────────────────────────────────────────────────────────────"
      ]
     },
     "execution_count": 9,
     "metadata": {},
     "output_type": "execute_result"
    }
   ],
   "source": [
    "lm2 = lm(@formula(MPGCity ~ Cylinders), cars)"
   ]
  },
  {
   "cell_type": "markdown",
   "metadata": {},
   "source": [
    "To go back to (or to change the way that) categorical variables are used by GLM you set the *contrasts*. i.e."
   ]
  },
  {
   "cell_type": "code",
   "execution_count": 10,
   "metadata": {},
   "outputs": [
    {
     "data": {
      "text/plain": [
       "StatsModels.TableRegressionModel{LinearModel{GLM.LmResp{Array{Float64,1}},GLM.DensePredChol{Float64,LinearAlgebra.CholeskyPivoted{Float64,Array{Float64,2}}}},Array{Float64,2}}\n",
       "\n",
       "MPGCity ~ 1 + Cylinders\n",
       "\n",
       "Coefficients:\n",
       "────────────────────────────────────────────────────────────────────────────\n",
       "                   Coef.  Std. Error       t  Pr(>|t|)  Lower 95%  Upper 95%\n",
       "────────────────────────────────────────────────────────────────────────────\n",
       "(Intercept)      39.3333     1.95222   20.15    <1e-33    35.4531    43.2136\n",
       "Cylinders: 4.0  -14.4762     2.0111    -7.20    <1e-9    -18.4735   -10.4789\n",
       "Cylinders: 5.0  -20.8333     3.08673   -6.75    <1e-8    -26.9685   -14.6981\n",
       "Cylinders: 6.0  -20.914      2.0445   -10.23    <1e-15   -24.9776   -16.8503\n",
       "Cylinders: 8.0  -22.3333     2.33335   -9.57    <1e-14   -26.9711   -17.6955\n",
       "────────────────────────────────────────────────────────────────────────────"
      ]
     },
     "execution_count": 10,
     "metadata": {},
     "output_type": "execute_result"
    }
   ],
   "source": [
    "lm3 = lm(@formula(MPGCity ~ Cylinders), cars, contrasts = Dict(:Cylinders => DummyCoding()))"
   ]
  },
  {
   "cell_type": "markdown",
   "metadata": {},
   "source": [
    "The table output from `lm` can be a bit of a pain. \n",
    "\n",
    "The output of `lm` is a `StatsModels.TableRegressionModel` which contains \n",
    " + model (:model) info about the response (:rr) and predictor (:pp)\n",
    " + the model frame (:mf)\n",
    " + model matrix (:mm)"
   ]
  },
  {
   "cell_type": "code",
   "execution_count": 11,
   "metadata": {},
   "outputs": [
    {
     "data": {
      "text/plain": [
       "StatsModels.TableRegressionModel{LinearModel{GLM.LmResp{Array{Float64,1}},GLM.DensePredChol{Float64,LinearAlgebra.CholeskyPivoted{Float64,Array{Float64,2}}}},Array{Float64,2}}\n",
       "\n",
       "MPGCity ~ 1 + Cylinders\n",
       "\n",
       "Coefficients:\n",
       "──────────────────────────────────────────────────────────────────────────\n",
       "                 Coef.  Std. Error       t  Pr(>|t|)  Lower 95%  Upper 95%\n",
       "──────────────────────────────────────────────────────────────────────────\n",
       "(Intercept)    39.3333     1.95222   20.15    <1e-33    35.4531    43.2136\n",
       "Cylinders: 4  -14.4762     2.0111    -7.20    <1e-9    -18.4735   -10.4789\n",
       "Cylinders: 5  -20.8333     3.08673   -6.75    <1e-8    -26.9685   -14.6981\n",
       "Cylinders: 6  -20.914      2.0445   -10.23    <1e-15   -24.9776   -16.8503\n",
       "Cylinders: 8  -22.3333     2.33335   -9.57    <1e-14   -26.9711   -17.6955\n",
       "──────────────────────────────────────────────────────────────────────────"
      ]
     },
     "execution_count": 11,
     "metadata": {},
     "output_type": "execute_result"
    }
   ],
   "source": [
    "lm1"
   ]
  },
  {
   "cell_type": "code",
   "execution_count": 12,
   "metadata": {},
   "outputs": [
    {
     "data": {
      "text/plain": [
       "(:model, :mf, :mm)"
      ]
     },
     "execution_count": 12,
     "metadata": {},
     "output_type": "execute_result"
    }
   ],
   "source": [
    "fieldnames(StatsModels.TableRegressionModel)"
   ]
  },
  {
   "cell_type": "code",
   "execution_count": 13,
   "metadata": {},
   "outputs": [
    {
     "data": {
      "text/plain": [
       "(:rr, :pp)"
      ]
     },
     "execution_count": 13,
     "metadata": {},
     "output_type": "execute_result"
    }
   ],
   "source": [
    "fieldnames(LinearModel)"
   ]
  },
  {
   "cell_type": "code",
   "execution_count": 14,
   "metadata": {},
   "outputs": [
    {
     "data": {
      "text/plain": [
       "GLM.DensePredChol{Float64,LinearAlgebra.CholeskyPivoted{Float64,Array{Float64,2}}}([1.0 1.0 … 0.0 0.0; 1.0 0.0 … 1.0 0.0; … ; 1.0 1.0 … 0.0 0.0; 1.0 0.0 … 0.0 0.0], [39.33333333333342, -14.47619047619056, -20.833333333333414, -20.913978494623738, -22.333333333333417], [0.0, 0.0, 0.0, 0.0, 0.0], [0.0, 0.0, 0.0, 0.0, 0.0], LinearAlgebra.CholeskyPivoted{Float64,Array{Float64,2}}([9.591663046625438 5.108603144398332 … 0.7298004491997617 0.20851441405707477; 49.0 4.785621580635422 … -0.7790546759173944 -0.22258705026211267; … ; 31.0 0.0 … 1.707825127659933 -0.6831300510639732; 7.0 0.0 … 0.0 1.0954451150103324], 'U', [1, 2, 4, 5, 3], 5, -1.0, 0), [6.94817396187755e-310 6.94816570035925e-310 … 2.121995787e-314 2.217286315e-314; 0.0 6.94816570035925e-310 … 0.0 6.94816604253647e-310; … ; 0.0 0.0 … 3.7059444e-317 1.0e-323; NaN 0.0 … 1.6578092e-316 2.483328115342884e-307], [NaN 1.0e-323 … 3.0e-323 5.0e-323; 5.0e-324 1.5e-323 … 4.0e-323 3.0e-323; … ; 5.0e-324 2.0e-323 … 3.0e-323 2.5e-323; 1.0e-323 2.0e-323 … 3.0e-323 5.0e-324])"
      ]
     },
     "execution_count": 14,
     "metadata": {},
     "output_type": "execute_result"
    }
   ],
   "source": [
    "lm1.model.pp"
   ]
  },
  {
   "cell_type": "code",
   "execution_count": 15,
   "metadata": {},
   "outputs": [
    {
     "data": {
      "text/plain": [
       "(:X, :beta0, :delbeta, :scratchbeta, :chol, :scratchm1, :scratchm2)"
      ]
     },
     "execution_count": 15,
     "metadata": {},
     "output_type": "execute_result"
    }
   ],
   "source": [
    "fieldnames(GLM.DensePredChol)"
   ]
  },
  {
   "cell_type": "code",
   "execution_count": 16,
   "metadata": {},
   "outputs": [
    {
     "data": {
      "text/plain": [
       "5-element Array{Float64,1}:\n",
       "  39.33333333333342\n",
       " -14.47619047619056\n",
       " -20.833333333333414\n",
       " -20.913978494623738\n",
       " -22.333333333333417"
      ]
     },
     "execution_count": 16,
     "metadata": {},
     "output_type": "execute_result"
    }
   ],
   "source": [
    "lm1.model.pp.beta0"
   ]
  },
  {
   "cell_type": "markdown",
   "metadata": {},
   "source": [
    "Yuck!!\n",
    "\n",
    "All the useful stuff is usually in the coeftable anyway. \n",
    "\n",
    "You might prefer it as a DataFrame"
   ]
  },
  {
   "cell_type": "code",
   "execution_count": 17,
   "metadata": {},
   "outputs": [
    {
     "data": {
      "text/html": [
       "<table class=\"data-frame\"><thead><tr><th></th><th>Name</th><th>Coef.</th><th>Std. Error</th><th>t</th><th>Pr(&gt;|t|)</th><th>Lower 95%</th><th>Upper 95%</th></tr><tr><th></th><th>String</th><th>Float64</th><th>Float64</th><th>Float64</th><th>Float64</th><th>Float64</th><th>Float64</th></tr></thead><tbody><p>5 rows × 7 columns</p><tr><th>1</th><td>(Intercept)</td><td>39.3333</td><td>1.95222</td><td>20.148</td><td>1.60159e-34</td><td>35.4531</td><td>43.2136</td></tr><tr><th>2</th><td>Cylinders: 4</td><td>-14.4762</td><td>2.0111</td><td>-7.19816</td><td>2.04355e-10</td><td>-18.4735</td><td>-10.4789</td></tr><tr><th>3</th><td>Cylinders: 5</td><td>-20.8333</td><td>3.08673</td><td>-6.74931</td><td>1.58161e-9</td><td>-26.9685</td><td>-14.6981</td></tr><tr><th>4</th><td>Cylinders: 6</td><td>-20.914</td><td>2.0445</td><td>-10.2294</td><td>1.37814e-16</td><td>-24.9776</td><td>-16.8503</td></tr><tr><th>5</th><td>Cylinders: 8</td><td>-22.3333</td><td>2.33335</td><td>-9.57136</td><td>3.03731e-15</td><td>-26.9711</td><td>-17.6955</td></tr></tbody></table>"
      ],
      "text/latex": [
       "\\begin{tabular}{r|ccccccc}\n",
       "\t& Name & Coef. & Std. Error & t & Pr(>|t|) & Lower 95\\% & Upper 95\\%\\\\\n",
       "\t\\hline\n",
       "\t& String & Float64 & Float64 & Float64 & Float64 & Float64 & Float64\\\\\n",
       "\t\\hline\n",
       "\t1 & (Intercept) & 39.3333 & 1.95222 & 20.148 & 1.60159e-34 & 35.4531 & 43.2136 \\\\\n",
       "\t2 & Cylinders: 4 & -14.4762 & 2.0111 & -7.19816 & 2.04355e-10 & -18.4735 & -10.4789 \\\\\n",
       "\t3 & Cylinders: 5 & -20.8333 & 3.08673 & -6.74931 & 1.58161e-9 & -26.9685 & -14.6981 \\\\\n",
       "\t4 & Cylinders: 6 & -20.914 & 2.0445 & -10.2294 & 1.37814e-16 & -24.9776 & -16.8503 \\\\\n",
       "\t5 & Cylinders: 8 & -22.3333 & 2.33335 & -9.57136 & 3.03731e-15 & -26.9711 & -17.6955 \\\\\n",
       "\\end{tabular}\n"
      ],
      "text/plain": [
       "\u001b[1m5×7 DataFrame\u001b[0m\n",
       "\u001b[1m Row \u001b[0m│\u001b[1m Name         \u001b[0m\u001b[1m Coef.    \u001b[0m\u001b[1m Std. Error \u001b[0m\u001b[1m t         \u001b[0m\u001b[1m Pr(>|t|)    \u001b[0m\u001b[1m Lower 95% \u001b[0m\u001b[1m \u001b[0m ⋯\n",
       "\u001b[1m     \u001b[0m│\u001b[90m String       \u001b[0m\u001b[90m Float64  \u001b[0m\u001b[90m Float64    \u001b[0m\u001b[90m Float64   \u001b[0m\u001b[90m Float64     \u001b[0m\u001b[90m Float64   \u001b[0m\u001b[90m \u001b[0m ⋯\n",
       "─────┼──────────────────────────────────────────────────────────────────────────\n",
       "   1 │ (Intercept)    39.3333     1.95222   20.148    1.60159e-34    35.4531   ⋯\n",
       "   2 │ Cylinders: 4  -14.4762     2.0111    -7.19816  2.04355e-10   -18.4735\n",
       "   3 │ Cylinders: 5  -20.8333     3.08673   -6.74931  1.58161e-9    -26.9685\n",
       "   4 │ Cylinders: 6  -20.914      2.0445   -10.2294   1.37814e-16   -24.9776\n",
       "   5 │ Cylinders: 8  -22.3333     2.33335   -9.57136  3.03731e-15   -26.9711   ⋯\n",
       "\u001b[36m                                                                1 column omitted\u001b[0m"
      ]
     },
     "execution_count": 17,
     "metadata": {},
     "output_type": "execute_result"
    }
   ],
   "source": [
    "lm1Coeffs = DataFrame(coeftable(lm1))"
   ]
  },
  {
   "cell_type": "markdown",
   "metadata": {},
   "source": [
    "---"
   ]
  },
  {
   "cell_type": "markdown",
   "metadata": {},
   "source": [
    "Is it linear?"
   ]
  },
  {
   "cell_type": "code",
   "execution_count": 18,
   "metadata": {},
   "outputs": [
    {
     "data": {
      "image/svg+xml": [
       "<?xml version=\"1.0\" encoding=\"utf-8\"?>\n",
       "<svg xmlns=\"http://www.w3.org/2000/svg\" xmlns:xlink=\"http://www.w3.org/1999/xlink\" width=\"600\" height=\"400\" viewBox=\"0 0 2400 1600\">\n",
       "<defs>\n",
       "  <clipPath id=\"clip490\">\n",
       "    <rect x=\"0\" y=\"0\" width=\"2400\" height=\"1600\"/>\n",
       "  </clipPath>\n",
       "</defs>\n",
       "<path clip-path=\"url(#clip490)\" d=\"\n",
       "M0 1600 L2400 1600 L2400 0 L0 0  Z\n",
       "  \" fill=\"#ffffff\" fill-rule=\"evenodd\" fill-opacity=\"1\"/>\n",
       "<defs>\n",
       "  <clipPath id=\"clip491\">\n",
       "    <rect x=\"480\" y=\"0\" width=\"1681\" height=\"1600\"/>\n",
       "  </clipPath>\n",
       "</defs>\n",
       "<path clip-path=\"url(#clip490)\" d=\"\n",
       "M205.954 1423.18 L2352.76 1423.18 L2352.76 47.2441 L205.954 47.2441  Z\n",
       "  \" fill=\"#ffffff\" fill-rule=\"evenodd\" fill-opacity=\"1\"/>\n",
       "<defs>\n",
       "  <clipPath id=\"clip492\">\n",
       "    <rect x=\"205\" y=\"47\" width=\"2148\" height=\"1377\"/>\n",
       "  </clipPath>\n",
       "</defs>\n",
       "<polyline clip-path=\"url(#clip492)\" style=\"stroke:#000000; stroke-width:2; stroke-opacity:0.1; fill:none\" points=\"\n",
       "  479.66,1423.18 479.66,47.2441 \n",
       "  \"/>\n",
       "<polyline clip-path=\"url(#clip492)\" style=\"stroke:#000000; stroke-width:2; stroke-opacity:0.1; fill:none\" points=\"\n",
       "  889.995,1423.18 889.995,47.2441 \n",
       "  \"/>\n",
       "<polyline clip-path=\"url(#clip492)\" style=\"stroke:#000000; stroke-width:2; stroke-opacity:0.1; fill:none\" points=\"\n",
       "  1300.33,1423.18 1300.33,47.2441 \n",
       "  \"/>\n",
       "<polyline clip-path=\"url(#clip492)\" style=\"stroke:#000000; stroke-width:2; stroke-opacity:0.1; fill:none\" points=\"\n",
       "  1710.67,1423.18 1710.67,47.2441 \n",
       "  \"/>\n",
       "<polyline clip-path=\"url(#clip492)\" style=\"stroke:#000000; stroke-width:2; stroke-opacity:0.1; fill:none\" points=\"\n",
       "  2121,1423.18 2121,47.2441 \n",
       "  \"/>\n",
       "<polyline clip-path=\"url(#clip490)\" style=\"stroke:#000000; stroke-width:4; stroke-opacity:1; fill:none\" points=\"\n",
       "  205.954,1423.18 2352.76,1423.18 \n",
       "  \"/>\n",
       "<polyline clip-path=\"url(#clip490)\" style=\"stroke:#000000; stroke-width:4; stroke-opacity:1; fill:none\" points=\"\n",
       "  479.66,1423.18 479.66,1406.67 \n",
       "  \"/>\n",
       "<polyline clip-path=\"url(#clip490)\" style=\"stroke:#000000; stroke-width:4; stroke-opacity:1; fill:none\" points=\"\n",
       "  889.995,1423.18 889.995,1406.67 \n",
       "  \"/>\n",
       "<polyline clip-path=\"url(#clip490)\" style=\"stroke:#000000; stroke-width:4; stroke-opacity:1; fill:none\" points=\"\n",
       "  1300.33,1423.18 1300.33,1406.67 \n",
       "  \"/>\n",
       "<polyline clip-path=\"url(#clip490)\" style=\"stroke:#000000; stroke-width:4; stroke-opacity:1; fill:none\" points=\"\n",
       "  1710.67,1423.18 1710.67,1406.67 \n",
       "  \"/>\n",
       "<polyline clip-path=\"url(#clip490)\" style=\"stroke:#000000; stroke-width:4; stroke-opacity:1; fill:none\" points=\"\n",
       "  2121,1423.18 2121,1406.67 \n",
       "  \"/>\n",
       "<path clip-path=\"url(#clip490)\" d=\"M 0 0 M457.033 1479.92 L464.671 1479.92 L464.671 1453.55 L456.361 1455.22 L456.361 1450.96 L464.625 1449.29 L469.301 1449.29 L469.301 1479.92 L476.94 1479.92 L476.94 1483.85 L457.033 1483.85 L457.033 1479.92 Z\" fill=\"#000000\" fill-rule=\"evenodd\" fill-opacity=\"1\" /><path clip-path=\"url(#clip490)\" d=\"M 0 0 M482.056 1449.29 L500.412 1449.29 L500.412 1453.23 L486.338 1453.23 L486.338 1461.7 Q487.356 1461.35 488.375 1461.19 Q489.393 1461 490.412 1461 Q496.199 1461 499.579 1464.18 Q502.958 1467.35 502.958 1472.76 Q502.958 1478.34 499.486 1481.44 Q496.014 1484.52 489.694 1484.52 Q487.518 1484.52 485.25 1484.15 Q483.005 1483.78 480.597 1483.04 L480.597 1478.34 Q482.681 1479.48 484.903 1480.03 Q487.125 1480.59 489.602 1480.59 Q493.606 1480.59 495.944 1478.48 Q498.282 1476.38 498.282 1472.76 Q498.282 1469.15 495.944 1467.05 Q493.606 1464.94 489.602 1464.94 Q487.727 1464.94 485.852 1465.36 Q484 1465.77 482.056 1466.65 L482.056 1449.29 Z\" fill=\"#000000\" fill-rule=\"evenodd\" fill-opacity=\"1\" /><path clip-path=\"url(#clip490)\" d=\"M 0 0 M866.917 1479.92 L874.556 1479.92 L874.556 1453.55 L866.246 1455.22 L866.246 1450.96 L874.509 1449.29 L879.185 1449.29 L879.185 1479.92 L886.824 1479.92 L886.824 1483.85 L866.917 1483.85 L866.917 1479.92 Z\" fill=\"#000000\" fill-rule=\"evenodd\" fill-opacity=\"1\" /><path clip-path=\"url(#clip490)\" d=\"M 0 0 M901.894 1467.44 Q898.56 1467.44 896.639 1469.22 Q894.741 1471 894.741 1474.13 Q894.741 1477.25 896.639 1479.04 Q898.56 1480.82 901.894 1480.82 Q905.227 1480.82 907.148 1479.04 Q909.069 1477.23 909.069 1474.13 Q909.069 1471 907.148 1469.22 Q905.25 1467.44 901.894 1467.44 M897.218 1465.45 Q894.208 1464.71 892.519 1462.65 Q890.852 1460.59 890.852 1457.63 Q890.852 1453.48 893.792 1451.07 Q896.755 1448.67 901.894 1448.67 Q907.056 1448.67 909.995 1451.07 Q912.935 1453.48 912.935 1457.63 Q912.935 1460.59 911.245 1462.65 Q909.579 1464.71 906.593 1465.45 Q909.972 1466.24 911.847 1468.53 Q913.745 1470.82 913.745 1474.13 Q913.745 1479.15 910.667 1481.84 Q907.611 1484.52 901.894 1484.52 Q896.176 1484.52 893.097 1481.84 Q890.042 1479.15 890.042 1474.13 Q890.042 1470.82 891.94 1468.53 Q893.838 1466.24 897.218 1465.45 M895.505 1458.06 Q895.505 1460.75 897.171 1462.25 Q898.861 1463.76 901.894 1463.76 Q904.903 1463.76 906.593 1462.25 Q908.306 1460.75 908.306 1458.06 Q908.306 1455.38 906.593 1453.88 Q904.903 1452.37 901.894 1452.37 Q898.861 1452.37 897.171 1453.88 Q895.505 1455.38 895.505 1458.06 Z\" fill=\"#000000\" fill-rule=\"evenodd\" fill-opacity=\"1\" /><path clip-path=\"url(#clip490)\" d=\"M 0 0 M1282.09 1479.92 L1298.41 1479.92 L1298.41 1483.85 L1276.47 1483.85 L1276.47 1479.92 Q1279.13 1477.16 1283.71 1472.53 Q1288.32 1467.88 1289.5 1466.54 Q1291.74 1464.01 1292.62 1462.28 Q1293.53 1460.52 1293.53 1458.83 Q1293.53 1456.07 1291.58 1454.34 Q1289.66 1452.6 1286.56 1452.6 Q1284.36 1452.6 1281.91 1453.37 Q1279.47 1454.13 1276.7 1455.68 L1276.7 1450.96 Q1279.52 1449.82 1281.97 1449.25 Q1284.43 1448.67 1286.47 1448.67 Q1291.84 1448.67 1295.03 1451.35 Q1298.22 1454.04 1298.22 1458.53 Q1298.22 1460.66 1297.41 1462.58 Q1296.63 1464.48 1294.52 1467.07 Q1293.94 1467.74 1290.84 1470.96 Q1287.74 1474.15 1282.09 1479.92 Z\" fill=\"#000000\" fill-rule=\"evenodd\" fill-opacity=\"1\" /><path clip-path=\"url(#clip490)\" d=\"M 0 0 M1304.29 1479.92 L1311.93 1479.92 L1311.93 1453.55 L1303.62 1455.22 L1303.62 1450.96 L1311.88 1449.29 L1316.56 1449.29 L1316.56 1479.92 L1324.2 1479.92 L1324.2 1483.85 L1304.29 1483.85 L1304.29 1479.92 Z\" fill=\"#000000\" fill-rule=\"evenodd\" fill-opacity=\"1\" /><path clip-path=\"url(#clip490)\" d=\"M 0 0 M1691.57 1479.92 L1707.89 1479.92 L1707.89 1483.85 L1685.94 1483.85 L1685.94 1479.92 Q1688.61 1477.16 1693.19 1472.53 Q1697.8 1467.88 1698.98 1466.54 Q1701.22 1464.01 1702.1 1462.28 Q1703 1460.52 1703 1458.83 Q1703 1456.07 1701.06 1454.34 Q1699.14 1452.6 1696.04 1452.6 Q1693.84 1452.6 1691.38 1453.37 Q1688.95 1454.13 1686.18 1455.68 L1686.18 1450.96 Q1689 1449.82 1691.45 1449.25 Q1693.91 1448.67 1695.94 1448.67 Q1701.32 1448.67 1704.51 1451.35 Q1707.7 1454.04 1707.7 1458.53 Q1707.7 1460.66 1706.89 1462.58 Q1706.11 1464.48 1704 1467.07 Q1703.42 1467.74 1700.32 1470.96 Q1697.22 1474.15 1691.57 1479.92 Z\" fill=\"#000000\" fill-rule=\"evenodd\" fill-opacity=\"1\" /><path clip-path=\"url(#clip490)\" d=\"M 0 0 M1725.81 1453.37 L1714 1471.81 L1725.81 1471.81 L1725.81 1453.37 M1724.58 1449.29 L1730.46 1449.29 L1730.46 1471.81 L1735.39 1471.81 L1735.39 1475.7 L1730.46 1475.7 L1730.46 1483.85 L1725.81 1483.85 L1725.81 1475.7 L1710.2 1475.7 L1710.2 1471.19 L1724.58 1449.29 Z\" fill=\"#000000\" fill-rule=\"evenodd\" fill-opacity=\"1\" /><path clip-path=\"url(#clip490)\" d=\"M 0 0 M2102.6 1479.92 L2118.92 1479.92 L2118.92 1483.85 L2096.97 1483.85 L2096.97 1479.92 Q2099.64 1477.16 2104.22 1472.53 Q2108.83 1467.88 2110.01 1466.54 Q2112.25 1464.01 2113.13 1462.28 Q2114.04 1460.52 2114.04 1458.83 Q2114.04 1456.07 2112.09 1454.34 Q2110.17 1452.6 2107.07 1452.6 Q2104.87 1452.6 2102.41 1453.37 Q2099.98 1454.13 2097.21 1455.68 L2097.21 1450.96 Q2100.03 1449.82 2102.48 1449.25 Q2104.94 1448.67 2106.97 1448.67 Q2112.35 1448.67 2115.54 1451.35 Q2118.73 1454.04 2118.73 1458.53 Q2118.73 1460.66 2117.92 1462.58 Q2117.14 1464.48 2115.03 1467.07 Q2114.45 1467.74 2111.35 1470.96 Q2108.25 1474.15 2102.6 1479.92 Z\" fill=\"#000000\" fill-rule=\"evenodd\" fill-opacity=\"1\" /><path clip-path=\"url(#clip490)\" d=\"M 0 0 M2122.81 1449.29 L2145.03 1449.29 L2145.03 1451.28 L2132.48 1483.85 L2127.6 1483.85 L2139.41 1453.23 L2122.81 1453.23 L2122.81 1449.29 Z\" fill=\"#000000\" fill-rule=\"evenodd\" fill-opacity=\"1\" /><path clip-path=\"url(#clip490)\" d=\"M 0 0 M1224.66 1518.52 L1224.66 1523.39 L1219.06 1523.39 Q1215.9 1523.39 1214.66 1524.66 Q1213.45 1525.93 1213.45 1529.24 L1213.45 1532.4 L1223.1 1532.4 L1223.1 1536.95 L1213.45 1536.95 L1213.45 1568.04 L1207.57 1568.04 L1207.57 1536.95 L1201.96 1536.95 L1201.96 1532.4 L1207.57 1532.4 L1207.57 1529.91 Q1207.57 1523.96 1210.33 1521.26 Q1213.1 1518.52 1219.12 1518.52 L1224.66 1518.52 Z\" fill=\"#000000\" fill-rule=\"evenodd\" fill-opacity=\"1\" /><path clip-path=\"url(#clip490)\" d=\"M 0 0 M1230.8 1532.4 L1236.66 1532.4 L1236.66 1568.04 L1230.8 1568.04 L1230.8 1532.4 M1230.8 1518.52 L1236.66 1518.52 L1236.66 1525.93 L1230.8 1525.93 L1230.8 1518.52 Z\" fill=\"#000000\" fill-rule=\"evenodd\" fill-opacity=\"1\" /><path clip-path=\"url(#clip490)\" d=\"M 0 0 M1248.59 1522.27 L1248.59 1532.4 L1260.66 1532.4 L1260.66 1536.95 L1248.59 1536.95 L1248.59 1556.3 Q1248.59 1560.66 1249.77 1561.9 Q1250.98 1563.14 1254.64 1563.14 L1260.66 1563.14 L1260.66 1568.04 L1254.64 1568.04 Q1247.86 1568.04 1245.28 1565.53 Q1242.7 1562.98 1242.7 1556.3 L1242.7 1536.95 L1238.41 1536.95 L1238.41 1532.4 L1242.7 1532.4 L1242.7 1522.27 L1248.59 1522.27 Z\" fill=\"#000000\" fill-rule=\"evenodd\" fill-opacity=\"1\" /><path clip-path=\"url(#clip490)\" d=\"M 0 0 M1272.59 1522.27 L1272.59 1532.4 L1284.65 1532.4 L1284.65 1536.95 L1272.59 1536.95 L1272.59 1556.3 Q1272.59 1560.66 1273.77 1561.9 Q1274.98 1563.14 1278.64 1563.14 L1284.65 1563.14 L1284.65 1568.04 L1278.64 1568.04 Q1271.86 1568.04 1269.28 1565.53 Q1266.7 1562.98 1266.7 1556.3 L1266.7 1536.95 L1262.41 1536.95 L1262.41 1532.4 L1266.7 1532.4 L1266.7 1522.27 L1272.59 1522.27 Z\" fill=\"#000000\" fill-rule=\"evenodd\" fill-opacity=\"1\" /><path clip-path=\"url(#clip490)\" d=\"M 0 0 M1321.29 1548.76 L1321.29 1551.62 L1294.36 1551.62 Q1294.74 1557.67 1297.99 1560.85 Q1301.27 1564 1307.09 1564 Q1310.47 1564 1313.62 1563.17 Q1316.8 1562.35 1319.92 1560.69 L1319.92 1566.23 Q1316.77 1567.57 1313.46 1568.27 Q1310.15 1568.97 1306.74 1568.97 Q1298.21 1568.97 1293.22 1564 Q1288.25 1559.04 1288.25 1550.57 Q1288.25 1541.82 1292.96 1536.69 Q1297.7 1531.54 1305.73 1531.54 Q1312.92 1531.54 1317.09 1536.18 Q1321.29 1540.8 1321.29 1548.76 M1315.43 1547.04 Q1315.37 1542.23 1312.73 1539.37 Q1310.12 1536.5 1305.79 1536.5 Q1300.89 1536.5 1297.93 1539.27 Q1295 1542.04 1294.55 1547.07 L1315.43 1547.04 Z\" fill=\"#000000\" fill-rule=\"evenodd\" fill-opacity=\"1\" /><path clip-path=\"url(#clip490)\" d=\"M 0 0 M1350.89 1537.81 L1350.89 1518.52 L1356.75 1518.52 L1356.75 1568.04 L1350.89 1568.04 L1350.89 1562.7 Q1349.04 1565.88 1346.21 1567.44 Q1343.41 1568.97 1339.46 1568.97 Q1333 1568.97 1328.93 1563.81 Q1324.89 1558.65 1324.89 1550.25 Q1324.89 1541.85 1328.93 1536.69 Q1333 1531.54 1339.46 1531.54 Q1343.41 1531.54 1346.21 1533.1 Q1349.04 1534.62 1350.89 1537.81 M1330.93 1550.25 Q1330.93 1556.71 1333.58 1560.4 Q1336.25 1564.07 1340.9 1564.07 Q1345.54 1564.07 1348.22 1560.4 Q1350.89 1556.71 1350.89 1550.25 Q1350.89 1543.79 1348.22 1540.13 Q1345.54 1536.44 1340.9 1536.44 Q1336.25 1536.44 1333.58 1540.13 Q1330.93 1543.79 1330.93 1550.25 Z\" fill=\"#000000\" fill-rule=\"evenodd\" fill-opacity=\"1\" /><polyline clip-path=\"url(#clip492)\" style=\"stroke:#000000; stroke-width:2; stroke-opacity:0.1; fill:none\" points=\"\n",
       "  205.954,1265.58 2352.76,1265.58 \n",
       "  \"/>\n",
       "<polyline clip-path=\"url(#clip492)\" style=\"stroke:#000000; stroke-width:2; stroke-opacity:0.1; fill:none\" points=\"\n",
       "  205.954,1006.37 2352.76,1006.37 \n",
       "  \"/>\n",
       "<polyline clip-path=\"url(#clip492)\" style=\"stroke:#000000; stroke-width:2; stroke-opacity:0.1; fill:none\" points=\"\n",
       "  205.954,747.164 2352.76,747.164 \n",
       "  \"/>\n",
       "<polyline clip-path=\"url(#clip492)\" style=\"stroke:#000000; stroke-width:2; stroke-opacity:0.1; fill:none\" points=\"\n",
       "  205.954,487.954 2352.76,487.954 \n",
       "  \"/>\n",
       "<polyline clip-path=\"url(#clip492)\" style=\"stroke:#000000; stroke-width:2; stroke-opacity:0.1; fill:none\" points=\"\n",
       "  205.954,228.743 2352.76,228.743 \n",
       "  \"/>\n",
       "<polyline clip-path=\"url(#clip490)\" style=\"stroke:#000000; stroke-width:4; stroke-opacity:1; fill:none\" points=\"\n",
       "  205.954,1423.18 205.954,47.2441 \n",
       "  \"/>\n",
       "<polyline clip-path=\"url(#clip490)\" style=\"stroke:#000000; stroke-width:4; stroke-opacity:1; fill:none\" points=\"\n",
       "  205.954,1265.58 231.716,1265.58 \n",
       "  \"/>\n",
       "<polyline clip-path=\"url(#clip490)\" style=\"stroke:#000000; stroke-width:4; stroke-opacity:1; fill:none\" points=\"\n",
       "  205.954,1006.37 231.716,1006.37 \n",
       "  \"/>\n",
       "<polyline clip-path=\"url(#clip490)\" style=\"stroke:#000000; stroke-width:4; stroke-opacity:1; fill:none\" points=\"\n",
       "  205.954,747.164 231.716,747.164 \n",
       "  \"/>\n",
       "<polyline clip-path=\"url(#clip490)\" style=\"stroke:#000000; stroke-width:4; stroke-opacity:1; fill:none\" points=\"\n",
       "  205.954,487.954 231.716,487.954 \n",
       "  \"/>\n",
       "<polyline clip-path=\"url(#clip490)\" style=\"stroke:#000000; stroke-width:4; stroke-opacity:1; fill:none\" points=\"\n",
       "  205.954,228.743 231.716,228.743 \n",
       "  \"/>\n",
       "<path clip-path=\"url(#clip490)\" d=\"M 0 0 M114.26 1266.04 L143.936 1266.04 L143.936 1269.97 L114.26 1269.97 L114.26 1266.04 Z\" fill=\"#000000\" fill-rule=\"evenodd\" fill-opacity=\"1\" /><path clip-path=\"url(#clip490)\" d=\"M 0 0 M149.052 1248.3 L167.408 1248.3 L167.408 1252.24 L153.334 1252.24 L153.334 1260.71 Q154.353 1260.36 155.371 1260.2 Q156.39 1260.02 157.408 1260.02 Q163.195 1260.02 166.575 1263.19 Q169.954 1266.36 169.954 1271.78 Q169.954 1277.36 166.482 1280.46 Q163.01 1283.54 156.69 1283.54 Q154.515 1283.54 152.246 1283.17 Q150.001 1282.8 147.593 1282.05 L147.593 1277.36 Q149.677 1278.49 151.899 1279.05 Q154.121 1279.6 156.598 1279.6 Q160.603 1279.6 162.94 1277.49 Q165.278 1275.39 165.278 1271.78 Q165.278 1268.17 162.94 1266.06 Q160.603 1263.95 156.598 1263.95 Q154.723 1263.95 152.848 1264.37 Q150.996 1264.79 149.052 1265.67 L149.052 1248.3 Z\" fill=\"#000000\" fill-rule=\"evenodd\" fill-opacity=\"1\" /><path clip-path=\"url(#clip490)\" d=\"M 0 0 M158.01 992.173 Q154.399 992.173 152.57 995.738 Q150.765 999.279 150.765 1006.41 Q150.765 1013.52 152.57 1017.08 Q154.399 1020.62 158.01 1020.62 Q161.644 1020.62 163.45 1017.08 Q165.278 1013.52 165.278 1006.41 Q165.278 999.279 163.45 995.738 Q161.644 992.173 158.01 992.173 M158.01 988.469 Q163.82 988.469 166.876 993.076 Q169.954 997.659 169.954 1006.41 Q169.954 1015.14 166.876 1019.74 Q163.82 1024.33 158.01 1024.33 Q152.2 1024.33 149.121 1019.74 Q146.066 1015.14 146.066 1006.41 Q146.066 997.659 149.121 993.076 Q152.2 988.469 158.01 988.469 Z\" fill=\"#000000\" fill-rule=\"evenodd\" fill-opacity=\"1\" /><path clip-path=\"url(#clip490)\" d=\"M 0 0 M149.052 729.884 L167.408 729.884 L167.408 733.819 L153.334 733.819 L153.334 742.291 Q154.353 741.944 155.371 741.782 Q156.39 741.597 157.408 741.597 Q163.195 741.597 166.575 744.768 Q169.954 747.939 169.954 753.356 Q169.954 758.935 166.482 762.037 Q163.01 765.115 156.69 765.115 Q154.515 765.115 152.246 764.745 Q150.001 764.374 147.593 763.634 L147.593 758.935 Q149.677 760.069 151.899 760.624 Q154.121 761.18 156.598 761.18 Q160.603 761.18 162.94 759.074 Q165.278 756.967 165.278 753.356 Q165.278 749.745 162.94 747.638 Q160.603 745.532 156.598 745.532 Q154.723 745.532 152.848 745.949 Q150.996 746.365 149.052 747.245 L149.052 729.884 Z\" fill=\"#000000\" fill-rule=\"evenodd\" fill-opacity=\"1\" /><path clip-path=\"url(#clip490)\" d=\"M 0 0 M123.033 501.298 L130.672 501.298 L130.672 474.933 L122.362 476.599 L122.362 472.34 L130.626 470.674 L135.302 470.674 L135.302 501.298 L142.941 501.298 L142.941 505.234 L123.033 505.234 L123.033 501.298 Z\" fill=\"#000000\" fill-rule=\"evenodd\" fill-opacity=\"1\" /><path clip-path=\"url(#clip490)\" d=\"M 0 0 M158.01 473.752 Q154.399 473.752 152.57 477.317 Q150.765 480.859 150.765 487.988 Q150.765 495.095 152.57 498.66 Q154.399 502.201 158.01 502.201 Q161.644 502.201 163.45 498.66 Q165.278 495.095 165.278 487.988 Q165.278 480.859 163.45 477.317 Q161.644 473.752 158.01 473.752 M158.01 470.049 Q163.82 470.049 166.876 474.655 Q169.954 479.238 169.954 487.988 Q169.954 496.715 166.876 501.322 Q163.82 505.905 158.01 505.905 Q152.2 505.905 149.121 501.322 Q146.066 496.715 146.066 487.988 Q146.066 479.238 149.121 474.655 Q152.2 470.049 158.01 470.049 Z\" fill=\"#000000\" fill-rule=\"evenodd\" fill-opacity=\"1\" /><path clip-path=\"url(#clip490)\" d=\"M 0 0 M124.029 242.088 L131.667 242.088 L131.667 215.722 L123.357 217.389 L123.357 213.13 L131.621 211.463 L136.297 211.463 L136.297 242.088 L143.936 242.088 L143.936 246.023 L124.029 246.023 L124.029 242.088 Z\" fill=\"#000000\" fill-rule=\"evenodd\" fill-opacity=\"1\" /><path clip-path=\"url(#clip490)\" d=\"M 0 0 M149.052 211.463 L167.408 211.463 L167.408 215.398 L153.334 215.398 L153.334 223.871 Q154.353 223.523 155.371 223.361 Q156.39 223.176 157.408 223.176 Q163.195 223.176 166.575 226.347 Q169.954 229.519 169.954 234.935 Q169.954 240.514 166.482 243.616 Q163.01 246.694 156.69 246.694 Q154.515 246.694 152.246 246.324 Q150.001 245.954 147.593 245.213 L147.593 240.514 Q149.677 241.648 151.899 242.204 Q154.121 242.759 156.598 242.759 Q160.603 242.759 162.94 240.653 Q165.278 238.546 165.278 234.935 Q165.278 231.324 162.94 229.218 Q160.603 227.111 156.598 227.111 Q154.723 227.111 152.848 227.528 Q150.996 227.945 149.052 228.824 L149.052 211.463 Z\" fill=\"#000000\" fill-rule=\"evenodd\" fill-opacity=\"1\" /><path clip-path=\"url(#clip490)\" d=\"M 0 0 M33.8307 837.588 Q33.2578 838.575 33.0032 839.753 Q32.7167 840.899 32.7167 842.299 Q32.7167 847.264 35.9632 849.938 Q39.1779 852.58 45.2253 852.58 L64.0042 852.58 L64.0042 858.468 L28.3562 858.468 L28.3562 852.58 L33.8944 852.58 Q30.6479 850.734 29.0883 847.774 Q27.4968 844.814 27.4968 840.58 Q27.4968 839.976 27.5923 839.244 Q27.656 838.511 27.8151 837.62 L33.8307 837.588 Z\" fill=\"#000000\" fill-rule=\"evenodd\" fill-opacity=\"1\" /><path clip-path=\"url(#clip490)\" d=\"M 0 0 M44.7161 802.386 L47.5806 802.386 L47.5806 829.313 Q53.6281 828.931 56.8109 825.685 Q59.9619 822.406 59.9619 816.582 Q59.9619 813.208 59.1344 810.057 Q58.3069 806.874 56.6518 803.755 L62.1899 803.755 Q63.5267 806.906 64.227 810.216 Q64.9272 813.526 64.9272 816.932 Q64.9272 825.462 59.9619 830.459 Q54.9967 835.424 46.5303 835.424 Q37.7774 835.424 32.6531 830.713 Q27.4968 825.971 27.4968 817.95 Q27.4968 810.757 32.1438 806.587 Q36.7589 802.386 44.7161 802.386 M42.9973 808.243 Q38.1912 808.306 35.3266 810.948 Q32.4621 813.558 32.4621 817.887 Q32.4621 822.788 35.2312 825.748 Q38.0002 828.676 43.0292 829.122 L42.9973 808.243 Z\" fill=\"#000000\" fill-rule=\"evenodd\" fill-opacity=\"1\" /><path clip-path=\"url(#clip490)\" d=\"M 0 0 M29.4065 773.518 L34.9447 773.518 Q33.6716 776 33.035 778.674 Q32.3984 781.347 32.3984 784.212 Q32.3984 788.573 33.7352 790.769 Q35.072 792.933 37.7456 792.933 Q39.7826 792.933 40.9603 791.373 Q42.1061 789.814 43.1565 785.103 L43.6021 783.098 Q44.9389 776.86 47.3897 774.25 Q49.8086 771.608 54.1691 771.608 Q59.1344 771.608 62.0308 775.555 Q64.9272 779.47 64.9272 786.345 Q64.9272 789.209 64.3543 792.328 Q63.8132 795.416 62.6992 798.853 L56.6518 798.853 Q58.3387 795.607 59.198 792.456 Q60.0256 789.305 60.0256 786.217 Q60.0256 782.079 58.6251 779.851 Q57.1929 777.623 54.6147 777.623 Q52.2276 777.623 50.9545 779.247 Q49.6813 780.838 48.5037 786.281 L48.0262 788.318 Q46.8804 793.761 44.5251 796.18 Q42.138 798.598 38.0002 798.598 Q32.9713 798.598 30.2341 795.034 Q27.4968 791.469 27.4968 784.912 Q27.4968 781.666 27.9743 778.801 Q28.4517 775.937 29.4065 773.518 Z\" fill=\"#000000\" fill-rule=\"evenodd\" fill-opacity=\"1\" /><path clip-path=\"url(#clip490)\" d=\"M 0 0 M28.3562 765.465 L28.3562 759.609 L64.0042 759.609 L64.0042 765.465 L28.3562 765.465 M14.479 765.465 L14.479 759.609 L21.895 759.609 L21.895 765.465 L14.479 765.465 Z\" fill=\"#000000\" fill-rule=\"evenodd\" fill-opacity=\"1\" /><path clip-path=\"url(#clip490)\" d=\"M 0 0 M33.7671 730.008 L14.479 730.008 L14.479 724.152 L64.0042 724.152 L64.0042 730.008 L58.657 730.008 Q61.8398 731.854 63.3994 734.687 Q64.9272 737.488 64.9272 741.434 Q64.9272 747.896 59.771 751.97 Q54.6147 756.012 46.212 756.012 Q37.8093 756.012 32.6531 751.97 Q27.4968 747.896 27.4968 741.434 Q27.4968 737.488 29.0564 734.687 Q30.5842 731.854 33.7671 730.008 M46.212 749.964 Q52.6732 749.964 56.3653 747.323 Q60.0256 744.649 60.0256 740.002 Q60.0256 735.355 56.3653 732.682 Q52.6732 730.008 46.212 730.008 Q39.7508 730.008 36.0905 732.682 Q32.3984 735.355 32.3984 740.002 Q32.3984 744.649 36.0905 747.323 Q39.7508 749.964 46.212 749.964 Z\" fill=\"#000000\" fill-rule=\"evenodd\" fill-opacity=\"1\" /><path clip-path=\"url(#clip490)\" d=\"M 0 0 M49.9359 718.613 L28.3562 718.613 L28.3562 712.757 L49.7131 712.757 Q54.7739 712.757 57.3202 710.784 Q59.8346 708.81 59.8346 704.863 Q59.8346 700.121 56.8109 697.384 Q53.7872 694.615 48.5673 694.615 L28.3562 694.615 L28.3562 688.758 L64.0042 688.758 L64.0042 694.615 L58.5296 694.615 Q61.7762 696.747 63.3676 699.58 Q64.9272 702.381 64.9272 706.105 Q64.9272 712.248 61.1078 715.431 Q57.2883 718.613 49.9359 718.613 M27.4968 703.877 L27.4968 703.877 Z\" fill=\"#000000\" fill-rule=\"evenodd\" fill-opacity=\"1\" /><path clip-path=\"url(#clip490)\" d=\"M 0 0 M46.0847 666.415 Q46.0847 673.512 47.7079 676.25 Q49.3312 678.987 53.2461 678.987 Q56.3653 678.987 58.2114 676.95 Q60.0256 674.881 60.0256 671.348 Q60.0256 666.478 56.5881 663.55 Q53.1188 660.59 47.3897 660.59 L46.0847 660.59 L46.0847 666.415 M43.6657 654.734 L64.0042 654.734 L64.0042 660.59 L58.5933 660.59 Q61.8398 662.595 63.3994 665.587 Q64.9272 668.579 64.9272 672.908 Q64.9272 678.382 61.8716 681.629 Q58.7843 684.843 53.6281 684.843 Q47.6125 684.843 44.5569 680.833 Q41.5014 676.791 41.5014 668.802 L41.5014 660.59 L40.9285 660.59 Q36.8862 660.59 34.6901 663.264 Q32.4621 665.905 32.4621 670.711 Q32.4621 673.767 33.1941 676.663 Q33.9262 679.56 35.3903 682.233 L29.9795 682.233 Q28.7381 679.019 28.1334 675.995 Q27.4968 672.971 27.4968 670.107 Q27.4968 662.372 31.5072 658.553 Q35.5176 654.734 43.6657 654.734 Z\" fill=\"#000000\" fill-rule=\"evenodd\" fill-opacity=\"1\" /><path clip-path=\"url(#clip490)\" d=\"M 0 0 M14.479 648.591 L14.479 642.734 L64.0042 642.734 L64.0042 648.591 L14.479 648.591 Z\" fill=\"#000000\" fill-rule=\"evenodd\" fill-opacity=\"1\" /><path clip-path=\"url(#clip490)\" d=\"M 0 0 M29.4065 613.866 L34.9447 613.866 Q33.6716 616.348 33.035 619.022 Q32.3984 621.696 32.3984 624.56 Q32.3984 628.921 33.7352 631.117 Q35.072 633.281 37.7456 633.281 Q39.7826 633.281 40.9603 631.721 Q42.1061 630.162 43.1565 625.451 L43.6021 623.446 Q44.9389 617.208 47.3897 614.598 Q49.8086 611.956 54.1691 611.956 Q59.1344 611.956 62.0308 615.903 Q64.9272 619.818 64.9272 626.693 Q64.9272 629.557 64.3543 632.676 Q63.8132 635.764 62.6992 639.201 L56.6518 639.201 Q58.3387 635.955 59.198 632.804 Q60.0256 629.653 60.0256 626.565 Q60.0256 622.428 58.6251 620.2 Q57.1929 617.972 54.6147 617.972 Q52.2276 617.972 50.9545 619.595 Q49.6813 621.186 48.5037 626.629 L48.0262 628.666 Q46.8804 634.109 44.5251 636.528 Q42.138 638.947 38.0002 638.947 Q32.9713 638.947 30.2341 635.382 Q27.4968 631.817 27.4968 625.26 Q27.4968 622.014 27.9743 619.149 Q28.4517 616.285 29.4065 613.866 Z\" fill=\"#000000\" fill-rule=\"evenodd\" fill-opacity=\"1\" /><circle clip-path=\"url(#clip492)\" cx=\"1886.94\" cy=\"1021.34\" r=\"14\" fill=\"#009af9\" fill-rule=\"evenodd\" fill-opacity=\"1\" stroke=\"#000000\" stroke-opacity=\"1\" stroke-width=\"3.2\"/>\n",
       "<circle clip-path=\"url(#clip492)\" cx=\"1076.83\" cy=\"1077.19\" r=\"14\" fill=\"#009af9\" fill-rule=\"evenodd\" fill-opacity=\"1\" stroke=\"#000000\" stroke-opacity=\"1\" stroke-width=\"3.2\"/>\n",
       "<circle clip-path=\"url(#clip492)\" cx=\"1076.83\" cy=\"973.503\" r=\"14\" fill=\"#009af9\" fill-rule=\"evenodd\" fill-opacity=\"1\" stroke=\"#000000\" stroke-opacity=\"1\" stroke-width=\"3.2\"/>\n",
       "<circle clip-path=\"url(#clip492)\" cx=\"1076.83\" cy=\"1025.35\" r=\"14\" fill=\"#009af9\" fill-rule=\"evenodd\" fill-opacity=\"1\" stroke=\"#000000\" stroke-opacity=\"1\" stroke-width=\"3.2\"/>\n",
       "<circle clip-path=\"url(#clip492)\" cx=\"1886.94\" cy=\"1176.87\" r=\"14\" fill=\"#009af9\" fill-rule=\"evenodd\" fill-opacity=\"1\" stroke=\"#000000\" stroke-opacity=\"1\" stroke-width=\"3.2\"/>\n",
       "<circle clip-path=\"url(#clip492)\" cx=\"1886.94\" cy=\"1176.87\" r=\"14\" fill=\"#009af9\" fill-rule=\"evenodd\" fill-opacity=\"1\" stroke=\"#000000\" stroke-opacity=\"1\" stroke-width=\"3.2\"/>\n",
       "<circle clip-path=\"url(#clip492)\" cx=\"1076.83\" cy=\"1025.35\" r=\"14\" fill=\"#009af9\" fill-rule=\"evenodd\" fill-opacity=\"1\" stroke=\"#000000\" stroke-opacity=\"1\" stroke-width=\"3.2\"/>\n",
       "<circle clip-path=\"url(#clip492)\" cx=\"1076.83\" cy=\"1180.87\" r=\"14\" fill=\"#009af9\" fill-rule=\"evenodd\" fill-opacity=\"1\" stroke=\"#000000\" stroke-opacity=\"1\" stroke-width=\"3.2\"/>\n",
       "<circle clip-path=\"url(#clip492)\" cx=\"1076.83\" cy=\"1025.35\" r=\"14\" fill=\"#009af9\" fill-rule=\"evenodd\" fill-opacity=\"1\" stroke=\"#000000\" stroke-opacity=\"1\" stroke-width=\"3.2\"/>\n",
       "<circle clip-path=\"url(#clip492)\" cx=\"266.713\" cy=\"873.821\" r=\"14\" fill=\"#009af9\" fill-rule=\"evenodd\" fill-opacity=\"1\" stroke=\"#000000\" stroke-opacity=\"1\" stroke-width=\"3.2\"/>\n",
       "<circle clip-path=\"url(#clip492)\" cx=\"266.713\" cy=\"873.821\" r=\"14\" fill=\"#009af9\" fill-rule=\"evenodd\" fill-opacity=\"1\" stroke=\"#000000\" stroke-opacity=\"1\" stroke-width=\"3.2\"/>\n",
       "<circle clip-path=\"url(#clip492)\" cx=\"1886.94\" cy=\"1021.34\" r=\"14\" fill=\"#009af9\" fill-rule=\"evenodd\" fill-opacity=\"1\" stroke=\"#000000\" stroke-opacity=\"1\" stroke-width=\"3.2\"/>\n",
       "<circle clip-path=\"url(#clip492)\" cx=\"1886.94\" cy=\"1021.34\" r=\"14\" fill=\"#009af9\" fill-rule=\"evenodd\" fill-opacity=\"1\" stroke=\"#000000\" stroke-opacity=\"1\" stroke-width=\"3.2\"/>\n",
       "<circle clip-path=\"url(#clip492)\" cx=\"1076.83\" cy=\"1025.35\" r=\"14\" fill=\"#009af9\" fill-rule=\"evenodd\" fill-opacity=\"1\" stroke=\"#000000\" stroke-opacity=\"1\" stroke-width=\"3.2\"/>\n",
       "<circle clip-path=\"url(#clip492)\" cx=\"1886.94\" cy=\"1228.71\" r=\"14\" fill=\"#009af9\" fill-rule=\"evenodd\" fill-opacity=\"1\" stroke=\"#000000\" stroke-opacity=\"1\" stroke-width=\"3.2\"/>\n",
       "<circle clip-path=\"url(#clip492)\" cx=\"1076.83\" cy=\"1077.19\" r=\"14\" fill=\"#009af9\" fill-rule=\"evenodd\" fill-opacity=\"1\" stroke=\"#000000\" stroke-opacity=\"1\" stroke-width=\"3.2\"/>\n",
       "<circle clip-path=\"url(#clip492)\" cx=\"1076.83\" cy=\"1232.71\" r=\"14\" fill=\"#009af9\" fill-rule=\"evenodd\" fill-opacity=\"1\" stroke=\"#000000\" stroke-opacity=\"1\" stroke-width=\"3.2\"/>\n",
       "<circle clip-path=\"url(#clip492)\" cx=\"266.713\" cy=\"821.979\" r=\"14\" fill=\"#009af9\" fill-rule=\"evenodd\" fill-opacity=\"1\" stroke=\"#000000\" stroke-opacity=\"1\" stroke-width=\"3.2\"/>\n",
       "<circle clip-path=\"url(#clip492)\" cx=\"266.713\" cy=\"821.979\" r=\"14\" fill=\"#009af9\" fill-rule=\"evenodd\" fill-opacity=\"1\" stroke=\"#000000\" stroke-opacity=\"1\" stroke-width=\"3.2\"/>\n",
       "<circle clip-path=\"url(#clip492)\" cx=\"1076.83\" cy=\"973.503\" r=\"14\" fill=\"#009af9\" fill-rule=\"evenodd\" fill-opacity=\"1\" stroke=\"#000000\" stroke-opacity=\"1\" stroke-width=\"3.2\"/>\n",
       "<circle clip-path=\"url(#clip492)\" cx=\"1886.94\" cy=\"1125.03\" r=\"14\" fill=\"#009af9\" fill-rule=\"evenodd\" fill-opacity=\"1\" stroke=\"#000000\" stroke-opacity=\"1\" stroke-width=\"3.2\"/>\n",
       "<circle clip-path=\"url(#clip492)\" cx=\"1076.83\" cy=\"973.503\" r=\"14\" fill=\"#009af9\" fill-rule=\"evenodd\" fill-opacity=\"1\" stroke=\"#000000\" stroke-opacity=\"1\" stroke-width=\"3.2\"/>\n",
       "<circle clip-path=\"url(#clip492)\" cx=\"1886.94\" cy=\"813.975\" r=\"14\" fill=\"#009af9\" fill-rule=\"evenodd\" fill-opacity=\"1\" stroke=\"#000000\" stroke-opacity=\"1\" stroke-width=\"3.2\"/>\n",
       "<circle clip-path=\"url(#clip492)\" cx=\"1886.94\" cy=\"1125.03\" r=\"14\" fill=\"#009af9\" fill-rule=\"evenodd\" fill-opacity=\"1\" stroke=\"#000000\" stroke-opacity=\"1\" stroke-width=\"3.2\"/>\n",
       "<circle clip-path=\"url(#clip492)\" cx=\"1886.94\" cy=\"1176.87\" r=\"14\" fill=\"#009af9\" fill-rule=\"evenodd\" fill-opacity=\"1\" stroke=\"#000000\" stroke-opacity=\"1\" stroke-width=\"3.2\"/>\n",
       "<circle clip-path=\"url(#clip492)\" cx=\"1076.83\" cy=\"1129.03\" r=\"14\" fill=\"#009af9\" fill-rule=\"evenodd\" fill-opacity=\"1\" stroke=\"#000000\" stroke-opacity=\"1\" stroke-width=\"3.2\"/>\n",
       "<circle clip-path=\"url(#clip492)\" cx=\"1886.94\" cy=\"1228.71\" r=\"14\" fill=\"#009af9\" fill-rule=\"evenodd\" fill-opacity=\"1\" stroke=\"#000000\" stroke-opacity=\"1\" stroke-width=\"3.2\"/>\n",
       "<circle clip-path=\"url(#clip492)\" cx=\"1076.83\" cy=\"1077.19\" r=\"14\" fill=\"#009af9\" fill-rule=\"evenodd\" fill-opacity=\"1\" stroke=\"#000000\" stroke-opacity=\"1\" stroke-width=\"3.2\"/>\n",
       "<circle clip-path=\"url(#clip492)\" cx=\"1886.94\" cy=\"813.975\" r=\"14\" fill=\"#009af9\" fill-rule=\"evenodd\" fill-opacity=\"1\" stroke=\"#000000\" stroke-opacity=\"1\" stroke-width=\"3.2\"/>\n",
       "<circle clip-path=\"url(#clip492)\" cx=\"1076.83\" cy=\"973.503\" r=\"14\" fill=\"#009af9\" fill-rule=\"evenodd\" fill-opacity=\"1\" stroke=\"#000000\" stroke-opacity=\"1\" stroke-width=\"3.2\"/>\n",
       "<circle clip-path=\"url(#clip492)\" cx=\"1886.94\" cy=\"710.291\" r=\"14\" fill=\"#009af9\" fill-rule=\"evenodd\" fill-opacity=\"1\" stroke=\"#000000\" stroke-opacity=\"1\" stroke-width=\"3.2\"/>\n",
       "<circle clip-path=\"url(#clip492)\" cx=\"1886.94\" cy=\"1125.03\" r=\"14\" fill=\"#009af9\" fill-rule=\"evenodd\" fill-opacity=\"1\" stroke=\"#000000\" stroke-opacity=\"1\" stroke-width=\"3.2\"/>\n",
       "<circle clip-path=\"url(#clip492)\" cx=\"1886.94\" cy=\"1176.87\" r=\"14\" fill=\"#009af9\" fill-rule=\"evenodd\" fill-opacity=\"1\" stroke=\"#000000\" stroke-opacity=\"1\" stroke-width=\"3.2\"/>\n",
       "<circle clip-path=\"url(#clip492)\" cx=\"1886.94\" cy=\"1176.87\" r=\"14\" fill=\"#009af9\" fill-rule=\"evenodd\" fill-opacity=\"1\" stroke=\"#000000\" stroke-opacity=\"1\" stroke-width=\"3.2\"/>\n",
       "<circle clip-path=\"url(#clip492)\" cx=\"1886.94\" cy=\"1073.19\" r=\"14\" fill=\"#009af9\" fill-rule=\"evenodd\" fill-opacity=\"1\" stroke=\"#000000\" stroke-opacity=\"1\" stroke-width=\"3.2\"/>\n",
       "<circle clip-path=\"url(#clip492)\" cx=\"1076.83\" cy=\"1232.71\" r=\"14\" fill=\"#009af9\" fill-rule=\"evenodd\" fill-opacity=\"1\" stroke=\"#000000\" stroke-opacity=\"1\" stroke-width=\"3.2\"/>\n",
       "<circle clip-path=\"url(#clip492)\" cx=\"1076.83\" cy=\"921.661\" r=\"14\" fill=\"#009af9\" fill-rule=\"evenodd\" fill-opacity=\"1\" stroke=\"#000000\" stroke-opacity=\"1\" stroke-width=\"3.2\"/>\n",
       "<circle clip-path=\"url(#clip492)\" cx=\"266.713\" cy=\"770.137\" r=\"14\" fill=\"#009af9\" fill-rule=\"evenodd\" fill-opacity=\"1\" stroke=\"#000000\" stroke-opacity=\"1\" stroke-width=\"3.2\"/>\n",
       "<circle clip-path=\"url(#clip492)\" cx=\"2292\" cy=\"86.1857\" r=\"14\" fill=\"#009af9\" fill-rule=\"evenodd\" fill-opacity=\"1\" stroke=\"#000000\" stroke-opacity=\"1\" stroke-width=\"3.2\"/>\n",
       "<circle clip-path=\"url(#clip492)\" cx=\"1886.94\" cy=\"762.133\" r=\"14\" fill=\"#009af9\" fill-rule=\"evenodd\" fill-opacity=\"1\" stroke=\"#000000\" stroke-opacity=\"1\" stroke-width=\"3.2\"/>\n",
       "<circle clip-path=\"url(#clip492)\" cx=\"1886.94\" cy=\"1073.19\" r=\"14\" fill=\"#009af9\" fill-rule=\"evenodd\" fill-opacity=\"1\" stroke=\"#000000\" stroke-opacity=\"1\" stroke-width=\"3.2\"/>\n",
       "<circle clip-path=\"url(#clip492)\" cx=\"1886.94\" cy=\"140.029\" r=\"14\" fill=\"#009af9\" fill-rule=\"evenodd\" fill-opacity=\"1\" stroke=\"#000000\" stroke-opacity=\"1\" stroke-width=\"3.2\"/>\n",
       "<circle clip-path=\"url(#clip492)\" cx=\"1886.94\" cy=\"1073.19\" r=\"14\" fill=\"#009af9\" fill-rule=\"evenodd\" fill-opacity=\"1\" stroke=\"#000000\" stroke-opacity=\"1\" stroke-width=\"3.2\"/>\n",
       "<circle clip-path=\"url(#clip492)\" cx=\"1886.94\" cy=\"813.975\" r=\"14\" fill=\"#009af9\" fill-rule=\"evenodd\" fill-opacity=\"1\" stroke=\"#000000\" stroke-opacity=\"1\" stroke-width=\"3.2\"/>\n",
       "<circle clip-path=\"url(#clip492)\" cx=\"1886.94\" cy=\"1176.87\" r=\"14\" fill=\"#009af9\" fill-rule=\"evenodd\" fill-opacity=\"1\" stroke=\"#000000\" stroke-opacity=\"1\" stroke-width=\"3.2\"/>\n",
       "<circle clip-path=\"url(#clip492)\" cx=\"1886.94\" cy=\"969.502\" r=\"14\" fill=\"#009af9\" fill-rule=\"evenodd\" fill-opacity=\"1\" stroke=\"#000000\" stroke-opacity=\"1\" stroke-width=\"3.2\"/>\n",
       "<circle clip-path=\"url(#clip492)\" cx=\"1886.94\" cy=\"1280.55\" r=\"14\" fill=\"#009af9\" fill-rule=\"evenodd\" fill-opacity=\"1\" stroke=\"#000000\" stroke-opacity=\"1\" stroke-width=\"3.2\"/>\n",
       "<circle clip-path=\"url(#clip492)\" cx=\"266.713\" cy=\"821.979\" r=\"14\" fill=\"#009af9\" fill-rule=\"evenodd\" fill-opacity=\"1\" stroke=\"#000000\" stroke-opacity=\"1\" stroke-width=\"3.2\"/>\n",
       "<circle clip-path=\"url(#clip492)\" cx=\"1076.83\" cy=\"1077.19\" r=\"14\" fill=\"#009af9\" fill-rule=\"evenodd\" fill-opacity=\"1\" stroke=\"#000000\" stroke-opacity=\"1\" stroke-width=\"3.2\"/>\n",
       "<circle clip-path=\"url(#clip492)\" cx=\"1076.83\" cy=\"1077.19\" r=\"14\" fill=\"#009af9\" fill-rule=\"evenodd\" fill-opacity=\"1\" stroke=\"#000000\" stroke-opacity=\"1\" stroke-width=\"3.2\"/>\n",
       "<circle clip-path=\"url(#clip492)\" cx=\"1076.83\" cy=\"1129.03\" r=\"14\" fill=\"#009af9\" fill-rule=\"evenodd\" fill-opacity=\"1\" stroke=\"#000000\" stroke-opacity=\"1\" stroke-width=\"3.2\"/>\n",
       "<circle clip-path=\"url(#clip492)\" cx=\"266.713\" cy=\"770.137\" r=\"14\" fill=\"#009af9\" fill-rule=\"evenodd\" fill-opacity=\"1\" stroke=\"#000000\" stroke-opacity=\"1\" stroke-width=\"3.2\"/>\n",
       "<circle clip-path=\"url(#clip492)\" cx=\"1886.94\" cy=\"813.975\" r=\"14\" fill=\"#009af9\" fill-rule=\"evenodd\" fill-opacity=\"1\" stroke=\"#000000\" stroke-opacity=\"1\" stroke-width=\"3.2\"/>\n",
       "<circle clip-path=\"url(#clip492)\" cx=\"1886.94\" cy=\"865.818\" r=\"14\" fill=\"#009af9\" fill-rule=\"evenodd\" fill-opacity=\"1\" stroke=\"#000000\" stroke-opacity=\"1\" stroke-width=\"3.2\"/>\n",
       "<circle clip-path=\"url(#clip492)\" cx=\"1886.94\" cy=\"969.502\" r=\"14\" fill=\"#009af9\" fill-rule=\"evenodd\" fill-opacity=\"1\" stroke=\"#000000\" stroke-opacity=\"1\" stroke-width=\"3.2\"/>\n",
       "<circle clip-path=\"url(#clip492)\" cx=\"1076.83\" cy=\"1077.19\" r=\"14\" fill=\"#009af9\" fill-rule=\"evenodd\" fill-opacity=\"1\" stroke=\"#000000\" stroke-opacity=\"1\" stroke-width=\"3.2\"/>\n",
       "<circle clip-path=\"url(#clip492)\" cx=\"1886.94\" cy=\"1280.55\" r=\"14\" fill=\"#009af9\" fill-rule=\"evenodd\" fill-opacity=\"1\" stroke=\"#000000\" stroke-opacity=\"1\" stroke-width=\"3.2\"/>\n",
       "<circle clip-path=\"url(#clip492)\" cx=\"1076.83\" cy=\"1025.35\" r=\"14\" fill=\"#009af9\" fill-rule=\"evenodd\" fill-opacity=\"1\" stroke=\"#000000\" stroke-opacity=\"1\" stroke-width=\"3.2\"/>\n",
       "<circle clip-path=\"url(#clip492)\" cx=\"1886.94\" cy=\"1125.03\" r=\"14\" fill=\"#009af9\" fill-rule=\"evenodd\" fill-opacity=\"1\" stroke=\"#000000\" stroke-opacity=\"1\" stroke-width=\"3.2\"/>\n",
       "<circle clip-path=\"url(#clip492)\" cx=\"1076.83\" cy=\"1025.35\" r=\"14\" fill=\"#009af9\" fill-rule=\"evenodd\" fill-opacity=\"1\" stroke=\"#000000\" stroke-opacity=\"1\" stroke-width=\"3.2\"/>\n",
       "<circle clip-path=\"url(#clip492)\" cx=\"1886.94\" cy=\"813.975\" r=\"14\" fill=\"#009af9\" fill-rule=\"evenodd\" fill-opacity=\"1\" stroke=\"#000000\" stroke-opacity=\"1\" stroke-width=\"3.2\"/>\n",
       "<circle clip-path=\"url(#clip492)\" cx=\"1076.83\" cy=\"1077.19\" r=\"14\" fill=\"#009af9\" fill-rule=\"evenodd\" fill-opacity=\"1\" stroke=\"#000000\" stroke-opacity=\"1\" stroke-width=\"3.2\"/>\n",
       "<circle clip-path=\"url(#clip492)\" cx=\"1886.94\" cy=\"813.975\" r=\"14\" fill=\"#009af9\" fill-rule=\"evenodd\" fill-opacity=\"1\" stroke=\"#000000\" stroke-opacity=\"1\" stroke-width=\"3.2\"/>\n",
       "<circle clip-path=\"url(#clip492)\" cx=\"1886.94\" cy=\"1073.19\" r=\"14\" fill=\"#009af9\" fill-rule=\"evenodd\" fill-opacity=\"1\" stroke=\"#000000\" stroke-opacity=\"1\" stroke-width=\"3.2\"/>\n",
       "<circle clip-path=\"url(#clip492)\" cx=\"1076.83\" cy=\"1129.03\" r=\"14\" fill=\"#009af9\" fill-rule=\"evenodd\" fill-opacity=\"1\" stroke=\"#000000\" stroke-opacity=\"1\" stroke-width=\"3.2\"/>\n",
       "<circle clip-path=\"url(#clip492)\" cx=\"1076.83\" cy=\"921.661\" r=\"14\" fill=\"#009af9\" fill-rule=\"evenodd\" fill-opacity=\"1\" stroke=\"#000000\" stroke-opacity=\"1\" stroke-width=\"3.2\"/>\n",
       "<circle clip-path=\"url(#clip492)\" cx=\"1886.94\" cy=\"1073.19\" r=\"14\" fill=\"#009af9\" fill-rule=\"evenodd\" fill-opacity=\"1\" stroke=\"#000000\" stroke-opacity=\"1\" stroke-width=\"3.2\"/>\n",
       "<circle clip-path=\"url(#clip492)\" cx=\"1886.94\" cy=\"1125.03\" r=\"14\" fill=\"#009af9\" fill-rule=\"evenodd\" fill-opacity=\"1\" stroke=\"#000000\" stroke-opacity=\"1\" stroke-width=\"3.2\"/>\n",
       "<circle clip-path=\"url(#clip492)\" cx=\"1076.83\" cy=\"1077.19\" r=\"14\" fill=\"#009af9\" fill-rule=\"evenodd\" fill-opacity=\"1\" stroke=\"#000000\" stroke-opacity=\"1\" stroke-width=\"3.2\"/>\n",
       "<circle clip-path=\"url(#clip492)\" cx=\"1076.83\" cy=\"1025.35\" r=\"14\" fill=\"#009af9\" fill-rule=\"evenodd\" fill-opacity=\"1\" stroke=\"#000000\" stroke-opacity=\"1\" stroke-width=\"3.2\"/>\n",
       "<circle clip-path=\"url(#clip492)\" cx=\"1886.94\" cy=\"1125.03\" r=\"14\" fill=\"#009af9\" fill-rule=\"evenodd\" fill-opacity=\"1\" stroke=\"#000000\" stroke-opacity=\"1\" stroke-width=\"3.2\"/>\n",
       "<circle clip-path=\"url(#clip492)\" cx=\"1886.94\" cy=\"710.291\" r=\"14\" fill=\"#009af9\" fill-rule=\"evenodd\" fill-opacity=\"1\" stroke=\"#000000\" stroke-opacity=\"1\" stroke-width=\"3.2\"/>\n",
       "<circle clip-path=\"url(#clip492)\" cx=\"1886.94\" cy=\"1125.03\" r=\"14\" fill=\"#009af9\" fill-rule=\"evenodd\" fill-opacity=\"1\" stroke=\"#000000\" stroke-opacity=\"1\" stroke-width=\"3.2\"/>\n",
       "<circle clip-path=\"url(#clip492)\" cx=\"1076.83\" cy=\"1025.35\" r=\"14\" fill=\"#009af9\" fill-rule=\"evenodd\" fill-opacity=\"1\" stroke=\"#000000\" stroke-opacity=\"1\" stroke-width=\"3.2\"/>\n",
       "<circle clip-path=\"url(#clip492)\" cx=\"1076.83\" cy=\"1025.35\" r=\"14\" fill=\"#009af9\" fill-rule=\"evenodd\" fill-opacity=\"1\" stroke=\"#000000\" stroke-opacity=\"1\" stroke-width=\"3.2\"/>\n",
       "<circle clip-path=\"url(#clip492)\" cx=\"1076.83\" cy=\"1025.35\" r=\"14\" fill=\"#009af9\" fill-rule=\"evenodd\" fill-opacity=\"1\" stroke=\"#000000\" stroke-opacity=\"1\" stroke-width=\"3.2\"/>\n",
       "<circle clip-path=\"url(#clip492)\" cx=\"1886.94\" cy=\"1280.55\" r=\"14\" fill=\"#009af9\" fill-rule=\"evenodd\" fill-opacity=\"1\" stroke=\"#000000\" stroke-opacity=\"1\" stroke-width=\"3.2\"/>\n",
       "<circle clip-path=\"url(#clip492)\" cx=\"1886.94\" cy=\"865.818\" r=\"14\" fill=\"#009af9\" fill-rule=\"evenodd\" fill-opacity=\"1\" stroke=\"#000000\" stroke-opacity=\"1\" stroke-width=\"3.2\"/>\n",
       "<circle clip-path=\"url(#clip492)\" cx=\"2292\" cy=\"760.133\" r=\"14\" fill=\"#009af9\" fill-rule=\"evenodd\" fill-opacity=\"1\" stroke=\"#000000\" stroke-opacity=\"1\" stroke-width=\"3.2\"/>\n",
       "<circle clip-path=\"url(#clip492)\" cx=\"1886.94\" cy=\"1021.34\" r=\"14\" fill=\"#009af9\" fill-rule=\"evenodd\" fill-opacity=\"1\" stroke=\"#000000\" stroke-opacity=\"1\" stroke-width=\"3.2\"/>\n",
       "<circle clip-path=\"url(#clip492)\" cx=\"1886.94\" cy=\"1125.03\" r=\"14\" fill=\"#009af9\" fill-rule=\"evenodd\" fill-opacity=\"1\" stroke=\"#000000\" stroke-opacity=\"1\" stroke-width=\"3.2\"/>\n",
       "<circle clip-path=\"url(#clip492)\" cx=\"2292\" cy=\"449.08\" r=\"14\" fill=\"#009af9\" fill-rule=\"evenodd\" fill-opacity=\"1\" stroke=\"#000000\" stroke-opacity=\"1\" stroke-width=\"3.2\"/>\n",
       "<circle clip-path=\"url(#clip492)\" cx=\"1886.94\" cy=\"658.449\" r=\"14\" fill=\"#009af9\" fill-rule=\"evenodd\" fill-opacity=\"1\" stroke=\"#000000\" stroke-opacity=\"1\" stroke-width=\"3.2\"/>\n",
       "<circle clip-path=\"url(#clip492)\" cx=\"1886.94\" cy=\"1021.34\" r=\"14\" fill=\"#009af9\" fill-rule=\"evenodd\" fill-opacity=\"1\" stroke=\"#000000\" stroke-opacity=\"1\" stroke-width=\"3.2\"/>\n",
       "<circle clip-path=\"url(#clip492)\" cx=\"1886.94\" cy=\"1176.87\" r=\"14\" fill=\"#009af9\" fill-rule=\"evenodd\" fill-opacity=\"1\" stroke=\"#000000\" stroke-opacity=\"1\" stroke-width=\"3.2\"/>\n",
       "<circle clip-path=\"url(#clip492)\" cx=\"1886.94\" cy=\"1384.24\" r=\"14\" fill=\"#009af9\" fill-rule=\"evenodd\" fill-opacity=\"1\" stroke=\"#000000\" stroke-opacity=\"1\" stroke-width=\"3.2\"/>\n",
       "<circle clip-path=\"url(#clip492)\" cx=\"1886.94\" cy=\"1021.34\" r=\"14\" fill=\"#009af9\" fill-rule=\"evenodd\" fill-opacity=\"1\" stroke=\"#000000\" stroke-opacity=\"1\" stroke-width=\"3.2\"/>\n",
       "<circle clip-path=\"url(#clip492)\" cx=\"1481.88\" cy=\"1282.55\" r=\"14\" fill=\"#009af9\" fill-rule=\"evenodd\" fill-opacity=\"1\" stroke=\"#000000\" stroke-opacity=\"1\" stroke-width=\"3.2\"/>\n",
       "<circle clip-path=\"url(#clip492)\" cx=\"1886.94\" cy=\"1228.71\" r=\"14\" fill=\"#009af9\" fill-rule=\"evenodd\" fill-opacity=\"1\" stroke=\"#000000\" stroke-opacity=\"1\" stroke-width=\"3.2\"/>\n",
       "<circle clip-path=\"url(#clip492)\" cx=\"1076.83\" cy=\"1077.19\" r=\"14\" fill=\"#009af9\" fill-rule=\"evenodd\" fill-opacity=\"1\" stroke=\"#000000\" stroke-opacity=\"1\" stroke-width=\"3.2\"/>\n",
       "<circle clip-path=\"url(#clip492)\" cx=\"1886.94\" cy=\"1228.71\" r=\"14\" fill=\"#009af9\" fill-rule=\"evenodd\" fill-opacity=\"1\" stroke=\"#000000\" stroke-opacity=\"1\" stroke-width=\"3.2\"/>\n",
       "<circle clip-path=\"url(#clip492)\" cx=\"1481.88\" cy=\"1127.03\" r=\"14\" fill=\"#009af9\" fill-rule=\"evenodd\" fill-opacity=\"1\" stroke=\"#000000\" stroke-opacity=\"1\" stroke-width=\"3.2\"/>\n",
       "</svg>\n"
      ]
     },
     "execution_count": 18,
     "metadata": {},
     "output_type": "execute_result"
    }
   ],
   "source": [
    "scatter(\n",
    "    predict(lm2), residuals(lm2),\n",
    "    xlabel = \"fitted\", ylabel = \"residuals\",\n",
    "    legend = false,\n",
    ")"
   ]
  },
  {
   "cell_type": "code",
   "execution_count": 19,
   "metadata": {},
   "outputs": [
    {
     "data": {
      "image/svg+xml": [
       "<?xml version=\"1.0\" encoding=\"utf-8\"?>\n",
       "<svg xmlns=\"http://www.w3.org/2000/svg\" xmlns:xlink=\"http://www.w3.org/1999/xlink\" width=\"600\" height=\"400\" viewBox=\"0 0 2400 1600\">\n",
       "<defs>\n",
       "  <clipPath id=\"clip530\">\n",
       "    <rect x=\"0\" y=\"0\" width=\"2400\" height=\"1600\"/>\n",
       "  </clipPath>\n",
       "</defs>\n",
       "<path clip-path=\"url(#clip530)\" d=\"\n",
       "M0 1600 L2400 1600 L2400 0 L0 0  Z\n",
       "  \" fill=\"#ffffff\" fill-rule=\"evenodd\" fill-opacity=\"1\"/>\n",
       "<defs>\n",
       "  <clipPath id=\"clip531\">\n",
       "    <rect x=\"480\" y=\"0\" width=\"1681\" height=\"1600\"/>\n",
       "  </clipPath>\n",
       "</defs>\n",
       "<path clip-path=\"url(#clip530)\" d=\"\n",
       "M202.459 1423.18 L2352.76 1423.18 L2352.76 47.2441 L202.459 47.2441  Z\n",
       "  \" fill=\"#ffffff\" fill-rule=\"evenodd\" fill-opacity=\"1\"/>\n",
       "<defs>\n",
       "  <clipPath id=\"clip532\">\n",
       "    <rect x=\"202\" y=\"47\" width=\"2151\" height=\"1377\"/>\n",
       "  </clipPath>\n",
       "</defs>\n",
       "<polyline clip-path=\"url(#clip532)\" style=\"stroke:#000000; stroke-width:2; stroke-opacity:0.1; fill:none\" points=\"\n",
       "  263.316,1423.18 263.316,47.2441 \n",
       "  \"/>\n",
       "<polyline clip-path=\"url(#clip532)\" style=\"stroke:#000000; stroke-width:2; stroke-opacity:0.1; fill:none\" points=\"\n",
       "  669.033,1423.18 669.033,47.2441 \n",
       "  \"/>\n",
       "<polyline clip-path=\"url(#clip532)\" style=\"stroke:#000000; stroke-width:2; stroke-opacity:0.1; fill:none\" points=\"\n",
       "  1074.75,1423.18 1074.75,47.2441 \n",
       "  \"/>\n",
       "<polyline clip-path=\"url(#clip532)\" style=\"stroke:#000000; stroke-width:2; stroke-opacity:0.1; fill:none\" points=\"\n",
       "  1480.47,1423.18 1480.47,47.2441 \n",
       "  \"/>\n",
       "<polyline clip-path=\"url(#clip532)\" style=\"stroke:#000000; stroke-width:2; stroke-opacity:0.1; fill:none\" points=\"\n",
       "  1886.18,1423.18 1886.18,47.2441 \n",
       "  \"/>\n",
       "<polyline clip-path=\"url(#clip532)\" style=\"stroke:#000000; stroke-width:2; stroke-opacity:0.1; fill:none\" points=\"\n",
       "  2291.9,1423.18 2291.9,47.2441 \n",
       "  \"/>\n",
       "<polyline clip-path=\"url(#clip530)\" style=\"stroke:#000000; stroke-width:4; stroke-opacity:1; fill:none\" points=\"\n",
       "  202.459,1423.18 2352.76,1423.18 \n",
       "  \"/>\n",
       "<polyline clip-path=\"url(#clip530)\" style=\"stroke:#000000; stroke-width:4; stroke-opacity:1; fill:none\" points=\"\n",
       "  263.316,1423.18 263.316,1406.67 \n",
       "  \"/>\n",
       "<polyline clip-path=\"url(#clip530)\" style=\"stroke:#000000; stroke-width:4; stroke-opacity:1; fill:none\" points=\"\n",
       "  669.033,1423.18 669.033,1406.67 \n",
       "  \"/>\n",
       "<polyline clip-path=\"url(#clip530)\" style=\"stroke:#000000; stroke-width:4; stroke-opacity:1; fill:none\" points=\"\n",
       "  1074.75,1423.18 1074.75,1406.67 \n",
       "  \"/>\n",
       "<polyline clip-path=\"url(#clip530)\" style=\"stroke:#000000; stroke-width:4; stroke-opacity:1; fill:none\" points=\"\n",
       "  1480.47,1423.18 1480.47,1406.67 \n",
       "  \"/>\n",
       "<polyline clip-path=\"url(#clip530)\" style=\"stroke:#000000; stroke-width:4; stroke-opacity:1; fill:none\" points=\"\n",
       "  1886.18,1423.18 1886.18,1406.67 \n",
       "  \"/>\n",
       "<polyline clip-path=\"url(#clip530)\" style=\"stroke:#000000; stroke-width:4; stroke-opacity:1; fill:none\" points=\"\n",
       "  2291.9,1423.18 2291.9,1406.67 \n",
       "  \"/>\n",
       "<path clip-path=\"url(#clip530)\" d=\"M 0 0 M267.564 1465.22 Q270.921 1465.94 272.796 1468.2 Q274.694 1470.47 274.694 1473.81 Q274.694 1478.92 271.175 1481.72 Q267.657 1484.52 261.175 1484.52 Q258.999 1484.52 256.685 1484.08 Q254.393 1483.67 251.939 1482.81 L251.939 1478.3 Q253.884 1479.43 256.198 1480.01 Q258.513 1480.59 261.036 1480.59 Q265.434 1480.59 267.726 1478.85 Q270.041 1477.12 270.041 1473.81 Q270.041 1470.75 267.888 1469.04 Q265.759 1467.3 261.939 1467.3 L257.911 1467.3 L257.911 1463.46 L262.124 1463.46 Q265.573 1463.46 267.402 1462.09 Q269.231 1460.7 269.231 1458.11 Q269.231 1455.45 267.333 1454.04 Q265.458 1452.6 261.939 1452.6 Q260.018 1452.6 257.819 1453.02 Q255.62 1453.44 252.981 1454.31 L252.981 1450.15 Q255.643 1449.41 257.958 1449.04 Q260.296 1448.67 262.356 1448.67 Q267.68 1448.67 270.782 1451.1 Q273.883 1453.5 273.883 1457.63 Q273.883 1460.5 272.24 1462.49 Q270.596 1464.45 267.564 1465.22 Z\" fill=\"#000000\" fill-rule=\"evenodd\" fill-opacity=\"1\" /><path clip-path=\"url(#clip530)\" d=\"M 0 0 M672.042 1453.37 L660.237 1471.81 L672.042 1471.81 L672.042 1453.37 M670.815 1449.29 L676.695 1449.29 L676.695 1471.81 L681.625 1471.81 L681.625 1475.7 L676.695 1475.7 L676.695 1483.85 L672.042 1483.85 L672.042 1475.7 L656.44 1475.7 L656.44 1471.19 L670.815 1449.29 Z\" fill=\"#000000\" fill-rule=\"evenodd\" fill-opacity=\"1\" /><path clip-path=\"url(#clip530)\" d=\"M 0 0 M1065.03 1449.29 L1083.38 1449.29 L1083.38 1453.23 L1069.31 1453.23 L1069.31 1461.7 Q1070.33 1461.35 1071.35 1461.19 Q1072.36 1461 1073.38 1461 Q1079.17 1461 1082.55 1464.18 Q1085.93 1467.35 1085.93 1472.76 Q1085.93 1478.34 1082.46 1481.44 Q1078.99 1484.52 1072.67 1484.52 Q1070.49 1484.52 1068.22 1484.15 Q1065.98 1483.78 1063.57 1483.04 L1063.57 1478.34 Q1065.65 1479.48 1067.87 1480.03 Q1070.1 1480.59 1072.57 1480.59 Q1076.58 1480.59 1078.92 1478.48 Q1081.25 1476.38 1081.25 1472.76 Q1081.25 1469.15 1078.92 1467.05 Q1076.58 1464.94 1072.57 1464.94 Q1070.7 1464.94 1068.82 1465.36 Q1066.97 1465.77 1065.03 1466.65 L1065.03 1449.29 Z\" fill=\"#000000\" fill-rule=\"evenodd\" fill-opacity=\"1\" /><path clip-path=\"url(#clip530)\" d=\"M 0 0 M1480.87 1464.71 Q1477.72 1464.71 1475.87 1466.86 Q1474.04 1469.01 1474.04 1472.76 Q1474.04 1476.49 1475.87 1478.67 Q1477.72 1480.82 1480.87 1480.82 Q1484.02 1480.82 1485.85 1478.67 Q1487.7 1476.49 1487.7 1472.76 Q1487.7 1469.01 1485.85 1466.86 Q1484.02 1464.71 1480.87 1464.71 M1490.15 1450.06 L1490.15 1454.31 Q1488.39 1453.48 1486.59 1453.04 Q1484.81 1452.6 1483.05 1452.6 Q1478.42 1452.6 1475.96 1455.73 Q1473.53 1458.85 1473.19 1465.17 Q1474.55 1463.16 1476.61 1462.09 Q1478.67 1461 1481.15 1461 Q1486.36 1461 1489.37 1464.18 Q1492.4 1467.32 1492.4 1472.76 Q1492.4 1478.09 1489.25 1481.31 Q1486.1 1484.52 1480.87 1484.52 Q1474.88 1484.52 1471.7 1479.94 Q1468.53 1475.33 1468.53 1466.61 Q1468.53 1458.41 1472.42 1453.55 Q1476.31 1448.67 1482.86 1448.67 Q1484.62 1448.67 1486.4 1449.01 Q1488.21 1449.36 1490.15 1450.06 Z\" fill=\"#000000\" fill-rule=\"evenodd\" fill-opacity=\"1\" /><path clip-path=\"url(#clip530)\" d=\"M 0 0 M1875.07 1449.29 L1897.29 1449.29 L1897.29 1451.28 L1884.75 1483.85 L1879.86 1483.85 L1891.67 1453.23 L1875.07 1453.23 L1875.07 1449.29 Z\" fill=\"#000000\" fill-rule=\"evenodd\" fill-opacity=\"1\" /><path clip-path=\"url(#clip530)\" d=\"M 0 0 M2291.9 1467.44 Q2288.57 1467.44 2286.64 1469.22 Q2284.75 1471 2284.75 1474.13 Q2284.75 1477.25 2286.64 1479.04 Q2288.57 1480.82 2291.9 1480.82 Q2295.23 1480.82 2297.15 1479.04 Q2299.07 1477.23 2299.07 1474.13 Q2299.07 1471 2297.15 1469.22 Q2295.25 1467.44 2291.9 1467.44 M2287.22 1465.45 Q2284.21 1464.71 2282.52 1462.65 Q2280.86 1460.59 2280.86 1457.63 Q2280.86 1453.48 2283.8 1451.07 Q2286.76 1448.67 2291.9 1448.67 Q2297.06 1448.67 2300 1451.07 Q2302.94 1453.48 2302.94 1457.63 Q2302.94 1460.59 2301.25 1462.65 Q2299.58 1464.71 2296.6 1465.45 Q2299.98 1466.24 2301.85 1468.53 Q2303.75 1470.82 2303.75 1474.13 Q2303.75 1479.15 2300.67 1481.84 Q2297.62 1484.52 2291.9 1484.52 Q2286.18 1484.52 2283.1 1481.84 Q2280.05 1479.15 2280.05 1474.13 Q2280.05 1470.82 2281.94 1468.53 Q2283.84 1466.24 2287.22 1465.45 M2285.51 1458.06 Q2285.51 1460.75 2287.18 1462.25 Q2288.87 1463.76 2291.9 1463.76 Q2294.91 1463.76 2296.6 1462.25 Q2298.31 1460.75 2298.31 1458.06 Q2298.31 1455.38 2296.6 1453.88 Q2294.91 1452.37 2291.9 1452.37 Q2288.87 1452.37 2287.18 1453.88 Q2285.51 1455.38 2285.51 1458.06 Z\" fill=\"#000000\" fill-rule=\"evenodd\" fill-opacity=\"1\" /><path clip-path=\"url(#clip530)\" d=\"M 0 0 M1183.73 1524.18 L1183.73 1530.96 Q1180.48 1527.94 1176.79 1526.44 Q1173.13 1524.95 1168.99 1524.95 Q1160.84 1524.95 1156.52 1529.95 Q1152.19 1534.91 1152.19 1544.33 Q1152.19 1553.72 1156.52 1558.72 Q1160.84 1563.68 1168.99 1563.68 Q1173.13 1563.68 1176.79 1562.19 Q1180.48 1560.69 1183.73 1557.67 L1183.73 1564.38 Q1180.36 1566.68 1176.57 1567.82 Q1172.81 1568.97 1168.61 1568.97 Q1157.82 1568.97 1151.61 1562.38 Q1145.41 1555.76 1145.41 1544.33 Q1145.41 1532.87 1151.61 1526.28 Q1157.82 1519.66 1168.61 1519.66 Q1172.88 1519.66 1176.63 1520.81 Q1180.42 1521.92 1183.73 1524.18 Z\" fill=\"#000000\" fill-rule=\"evenodd\" fill-opacity=\"1\" /><path clip-path=\"url(#clip530)\" d=\"M 0 0 M1204.7 1571.35 Q1202.22 1577.72 1199.87 1579.66 Q1197.51 1581.6 1193.56 1581.6 L1188.89 1581.6 L1188.89 1576.7 L1192.32 1576.7 Q1194.74 1576.7 1196.08 1575.56 Q1197.42 1574.41 1199.04 1570.14 L1200.09 1567.47 L1185.67 1532.4 L1191.88 1532.4 L1203.02 1560.28 L1214.16 1532.4 L1220.36 1532.4 L1204.7 1571.35 Z\" fill=\"#000000\" fill-rule=\"evenodd\" fill-opacity=\"1\" /><path clip-path=\"url(#clip530)\" d=\"M 0 0 M1226.51 1518.52 L1232.36 1518.52 L1232.36 1568.04 L1226.51 1568.04 L1226.51 1518.52 Z\" fill=\"#000000\" fill-rule=\"evenodd\" fill-opacity=\"1\" /><path clip-path=\"url(#clip530)\" d=\"M 0 0 M1238.51 1532.4 L1244.36 1532.4 L1244.36 1568.04 L1238.51 1568.04 L1238.51 1532.4 M1238.51 1518.52 L1244.36 1518.52 L1244.36 1525.93 L1238.51 1525.93 L1238.51 1518.52 Z\" fill=\"#000000\" fill-rule=\"evenodd\" fill-opacity=\"1\" /><path clip-path=\"url(#clip530)\" d=\"M 0 0 M1280.14 1546.53 L1280.14 1568.04 L1274.28 1568.04 L1274.28 1546.72 Q1274.28 1541.66 1272.31 1539.14 Q1270.33 1536.63 1266.39 1536.63 Q1261.65 1536.63 1258.91 1539.65 Q1256.17 1542.68 1256.17 1547.9 L1256.17 1568.04 L1250.28 1568.04 L1250.28 1532.4 L1256.17 1532.4 L1256.17 1537.93 Q1258.27 1534.72 1261.1 1533.13 Q1263.97 1531.54 1267.69 1531.54 Q1273.84 1531.54 1276.99 1535.36 Q1280.14 1539.14 1280.14 1546.53 Z\" fill=\"#000000\" fill-rule=\"evenodd\" fill-opacity=\"1\" /><path clip-path=\"url(#clip530)\" d=\"M 0 0 M1309.74 1537.81 L1309.74 1518.52 L1315.59 1518.52 L1315.59 1568.04 L1309.74 1568.04 L1309.74 1562.7 Q1307.89 1565.88 1305.06 1567.44 Q1302.26 1568.97 1298.31 1568.97 Q1291.85 1568.97 1287.78 1563.81 Q1283.73 1558.65 1283.73 1550.25 Q1283.73 1541.85 1287.78 1536.69 Q1291.85 1531.54 1298.31 1531.54 Q1302.26 1531.54 1305.06 1533.1 Q1307.89 1534.62 1309.74 1537.81 M1289.78 1550.25 Q1289.78 1556.71 1292.42 1560.4 Q1295.1 1564.07 1299.74 1564.07 Q1304.39 1564.07 1307.06 1560.4 Q1309.74 1556.71 1309.74 1550.25 Q1309.74 1543.79 1307.06 1540.13 Q1304.39 1536.44 1299.74 1536.44 Q1295.1 1536.44 1292.42 1540.13 Q1289.78 1543.79 1289.78 1550.25 Z\" fill=\"#000000\" fill-rule=\"evenodd\" fill-opacity=\"1\" /><path clip-path=\"url(#clip530)\" d=\"M 0 0 M1352.23 1548.76 L1352.23 1551.62 L1325.3 1551.62 Q1325.68 1557.67 1328.93 1560.85 Q1332.21 1564 1338.03 1564 Q1341.41 1564 1344.56 1563.17 Q1347.74 1562.35 1350.86 1560.69 L1350.86 1566.23 Q1347.71 1567.57 1344.4 1568.27 Q1341.09 1568.97 1337.68 1568.97 Q1329.15 1568.97 1324.16 1564 Q1319.19 1559.04 1319.19 1550.57 Q1319.19 1541.82 1323.9 1536.69 Q1328.64 1531.54 1336.67 1531.54 Q1343.86 1531.54 1348.03 1536.18 Q1352.23 1540.8 1352.23 1548.76 M1346.37 1547.04 Q1346.31 1542.23 1343.67 1539.37 Q1341.06 1536.5 1336.73 1536.5 Q1331.83 1536.5 1328.87 1539.27 Q1325.94 1542.04 1325.49 1547.07 L1346.37 1547.04 Z\" fill=\"#000000\" fill-rule=\"evenodd\" fill-opacity=\"1\" /><path clip-path=\"url(#clip530)\" d=\"M 0 0 M1379.03 1537.87 Q1378.04 1537.3 1376.86 1537.04 Q1375.72 1536.76 1374.32 1536.76 Q1369.35 1536.76 1366.68 1540 Q1364.04 1543.22 1364.04 1549.27 L1364.04 1568.04 L1358.15 1568.04 L1358.15 1532.4 L1364.04 1532.4 L1364.04 1537.93 Q1365.88 1534.69 1368.84 1533.13 Q1371.8 1531.54 1376.04 1531.54 Q1376.64 1531.54 1377.37 1531.63 Q1378.11 1531.7 1379 1531.85 L1379.03 1537.87 Z\" fill=\"#000000\" fill-rule=\"evenodd\" fill-opacity=\"1\" /><path clip-path=\"url(#clip530)\" d=\"M 0 0 M1407.9 1533.45 L1407.9 1538.98 Q1405.41 1537.71 1402.74 1537.07 Q1400.07 1536.44 1397.2 1536.44 Q1392.84 1536.44 1390.65 1537.77 Q1388.48 1539.11 1388.48 1541.79 Q1388.48 1543.82 1390.04 1545 Q1391.6 1546.15 1396.31 1547.2 L1398.32 1547.64 Q1404.56 1548.98 1407.17 1551.43 Q1409.81 1553.85 1409.81 1558.21 Q1409.81 1563.17 1405.86 1566.07 Q1401.95 1568.97 1395.07 1568.97 Q1392.21 1568.97 1389.09 1568.39 Q1386 1567.85 1382.56 1566.74 L1382.56 1560.69 Q1385.81 1562.38 1388.96 1563.24 Q1392.11 1564.07 1395.2 1564.07 Q1399.34 1564.07 1401.56 1562.66 Q1403.79 1561.23 1403.79 1558.65 Q1403.79 1556.27 1402.17 1554.99 Q1400.58 1553.72 1395.13 1552.54 L1393.1 1552.07 Q1387.65 1550.92 1385.24 1548.56 Q1382.82 1546.18 1382.82 1542.04 Q1382.82 1537.01 1386.38 1534.27 Q1389.95 1531.54 1396.5 1531.54 Q1399.75 1531.54 1402.61 1532.01 Q1405.48 1532.49 1407.9 1533.45 Z\" fill=\"#000000\" fill-rule=\"evenodd\" fill-opacity=\"1\" /><polyline clip-path=\"url(#clip532)\" style=\"stroke:#000000; stroke-width:2; stroke-opacity:0.1; fill:none\" points=\"\n",
       "  202.459,1384.24 2352.76,1384.24 \n",
       "  \"/>\n",
       "<polyline clip-path=\"url(#clip532)\" style=\"stroke:#000000; stroke-width:2; stroke-opacity:0.1; fill:none\" points=\"\n",
       "  202.459,1174.87 2352.76,1174.87 \n",
       "  \"/>\n",
       "<polyline clip-path=\"url(#clip532)\" style=\"stroke:#000000; stroke-width:2; stroke-opacity:0.1; fill:none\" points=\"\n",
       "  202.459,965.512 2352.76,965.512 \n",
       "  \"/>\n",
       "<polyline clip-path=\"url(#clip532)\" style=\"stroke:#000000; stroke-width:2; stroke-opacity:0.1; fill:none\" points=\"\n",
       "  202.459,756.148 2352.76,756.148 \n",
       "  \"/>\n",
       "<polyline clip-path=\"url(#clip532)\" style=\"stroke:#000000; stroke-width:2; stroke-opacity:0.1; fill:none\" points=\"\n",
       "  202.459,546.785 2352.76,546.785 \n",
       "  \"/>\n",
       "<polyline clip-path=\"url(#clip532)\" style=\"stroke:#000000; stroke-width:2; stroke-opacity:0.1; fill:none\" points=\"\n",
       "  202.459,337.422 2352.76,337.422 \n",
       "  \"/>\n",
       "<polyline clip-path=\"url(#clip532)\" style=\"stroke:#000000; stroke-width:2; stroke-opacity:0.1; fill:none\" points=\"\n",
       "  202.459,128.058 2352.76,128.058 \n",
       "  \"/>\n",
       "<polyline clip-path=\"url(#clip530)\" style=\"stroke:#000000; stroke-width:4; stroke-opacity:1; fill:none\" points=\"\n",
       "  202.459,1423.18 202.459,47.2441 \n",
       "  \"/>\n",
       "<polyline clip-path=\"url(#clip530)\" style=\"stroke:#000000; stroke-width:4; stroke-opacity:1; fill:none\" points=\"\n",
       "  202.459,1384.24 228.263,1384.24 \n",
       "  \"/>\n",
       "<polyline clip-path=\"url(#clip530)\" style=\"stroke:#000000; stroke-width:4; stroke-opacity:1; fill:none\" points=\"\n",
       "  202.459,1174.87 228.263,1174.87 \n",
       "  \"/>\n",
       "<polyline clip-path=\"url(#clip530)\" style=\"stroke:#000000; stroke-width:4; stroke-opacity:1; fill:none\" points=\"\n",
       "  202.459,965.512 228.263,965.512 \n",
       "  \"/>\n",
       "<polyline clip-path=\"url(#clip530)\" style=\"stroke:#000000; stroke-width:4; stroke-opacity:1; fill:none\" points=\"\n",
       "  202.459,756.148 228.263,756.148 \n",
       "  \"/>\n",
       "<polyline clip-path=\"url(#clip530)\" style=\"stroke:#000000; stroke-width:4; stroke-opacity:1; fill:none\" points=\"\n",
       "  202.459,546.785 228.263,546.785 \n",
       "  \"/>\n",
       "<polyline clip-path=\"url(#clip530)\" style=\"stroke:#000000; stroke-width:4; stroke-opacity:1; fill:none\" points=\"\n",
       "  202.459,337.422 228.263,337.422 \n",
       "  \"/>\n",
       "<polyline clip-path=\"url(#clip530)\" style=\"stroke:#000000; stroke-width:4; stroke-opacity:1; fill:none\" points=\"\n",
       "  202.459,128.058 228.263,128.058 \n",
       "  \"/>\n",
       "<path clip-path=\"url(#clip530)\" d=\"M 0 0 M120.533 1397.58 L128.172 1397.58 L128.172 1371.22 L119.862 1372.88 L119.862 1368.62 L128.126 1366.96 L132.802 1366.96 L132.802 1397.58 L140.441 1397.58 L140.441 1401.52 L120.533 1401.52 L120.533 1397.58 Z\" fill=\"#000000\" fill-rule=\"evenodd\" fill-opacity=\"1\" /><path clip-path=\"url(#clip530)\" d=\"M 0 0 M145.556 1366.96 L163.913 1366.96 L163.913 1370.89 L149.839 1370.89 L149.839 1379.37 Q150.857 1379.02 151.876 1378.86 Q152.894 1378.67 153.913 1378.67 Q159.7 1378.67 163.079 1381.84 Q166.459 1385.01 166.459 1390.43 Q166.459 1396.01 162.987 1399.11 Q159.515 1402.19 153.195 1402.19 Q151.019 1402.19 148.751 1401.82 Q146.505 1401.45 144.098 1400.71 L144.098 1396.01 Q146.181 1397.14 148.403 1397.7 Q150.626 1398.25 153.103 1398.25 Q157.107 1398.25 159.445 1396.15 Q161.783 1394.04 161.783 1390.43 Q161.783 1386.82 159.445 1384.71 Q157.107 1382.61 153.103 1382.61 Q151.228 1382.61 149.353 1383.02 Q147.501 1383.44 145.556 1384.32 L145.556 1366.96 Z\" fill=\"#000000\" fill-rule=\"evenodd\" fill-opacity=\"1\" /><path clip-path=\"url(#clip530)\" d=\"M 0 0 M123.126 1188.22 L139.445 1188.22 L139.445 1192.15 L117.501 1192.15 L117.501 1188.22 Q120.163 1185.47 124.746 1180.84 Q129.353 1176.18 130.533 1174.84 Q132.779 1172.32 133.658 1170.58 Q134.561 1168.82 134.561 1167.13 Q134.561 1164.38 132.617 1162.64 Q130.695 1160.91 127.593 1160.91 Q125.394 1160.91 122.941 1161.67 Q120.51 1162.43 117.732 1163.98 L117.732 1159.26 Q120.556 1158.13 123.01 1157.55 Q125.464 1156.97 127.501 1156.97 Q132.871 1156.97 136.066 1159.66 Q139.26 1162.34 139.26 1166.83 Q139.26 1168.96 138.45 1170.88 Q137.663 1172.78 135.556 1175.37 Q134.978 1176.04 131.876 1179.26 Q128.774 1182.46 123.126 1188.22 Z\" fill=\"#000000\" fill-rule=\"evenodd\" fill-opacity=\"1\" /><path clip-path=\"url(#clip530)\" d=\"M 0 0 M154.515 1160.67 Q150.903 1160.67 149.075 1164.24 Q147.269 1167.78 147.269 1174.91 Q147.269 1182.02 149.075 1185.58 Q150.903 1189.12 154.515 1189.12 Q158.149 1189.12 159.954 1185.58 Q161.783 1182.02 161.783 1174.91 Q161.783 1167.78 159.954 1164.24 Q158.149 1160.67 154.515 1160.67 M154.515 1156.97 Q160.325 1156.97 163.38 1161.58 Q166.459 1166.16 166.459 1174.91 Q166.459 1183.64 163.38 1188.24 Q160.325 1192.83 154.515 1192.83 Q148.704 1192.83 145.626 1188.24 Q142.57 1183.64 142.57 1174.91 Q142.57 1166.16 145.626 1161.58 Q148.704 1156.97 154.515 1156.97 Z\" fill=\"#000000\" fill-rule=\"evenodd\" fill-opacity=\"1\" /><path clip-path=\"url(#clip530)\" d=\"M 0 0 M124.121 978.856 L140.441 978.856 L140.441 982.792 L118.496 982.792 L118.496 978.856 Q121.158 976.102 125.742 971.472 Q130.348 966.819 131.529 965.477 Q133.774 962.954 134.654 961.218 Q135.556 959.458 135.556 957.769 Q135.556 955.014 133.612 953.278 Q131.691 951.542 128.589 951.542 Q126.39 951.542 123.936 952.306 Q121.505 953.07 118.728 954.62 L118.728 949.898 Q121.552 948.764 124.005 948.185 Q126.459 947.607 128.496 947.607 Q133.867 947.607 137.061 950.292 Q140.255 952.977 140.255 957.468 Q140.255 959.597 139.445 961.519 Q138.658 963.417 136.552 966.009 Q135.973 966.681 132.871 969.898 Q129.769 973.093 124.121 978.856 Z\" fill=\"#000000\" fill-rule=\"evenodd\" fill-opacity=\"1\" /><path clip-path=\"url(#clip530)\" d=\"M 0 0 M145.556 948.232 L163.913 948.232 L163.913 952.167 L149.839 952.167 L149.839 960.639 Q150.857 960.292 151.876 960.13 Q152.894 959.945 153.913 959.945 Q159.7 959.945 163.079 963.116 Q166.459 966.287 166.459 971.704 Q166.459 977.282 162.987 980.384 Q159.515 983.463 153.195 983.463 Q151.019 983.463 148.751 983.093 Q146.505 982.722 144.098 981.981 L144.098 977.282 Q146.181 978.417 148.403 978.972 Q150.626 979.528 153.103 979.528 Q157.107 979.528 159.445 977.421 Q161.783 975.315 161.783 971.704 Q161.783 968.093 159.445 965.986 Q157.107 963.88 153.103 963.88 Q151.228 963.88 149.353 964.296 Q147.501 964.713 145.556 965.593 L145.556 948.232 Z\" fill=\"#000000\" fill-rule=\"evenodd\" fill-opacity=\"1\" /><path clip-path=\"url(#clip530)\" d=\"M 0 0 M132.316 754.794 Q135.672 755.512 137.547 757.78 Q139.445 760.049 139.445 763.382 Q139.445 768.498 135.927 771.299 Q132.408 774.1 125.927 774.1 Q123.751 774.1 121.436 773.66 Q119.144 773.243 116.691 772.387 L116.691 767.873 Q118.635 769.007 120.95 769.586 Q123.265 770.164 125.788 770.164 Q130.186 770.164 132.478 768.428 Q134.792 766.692 134.792 763.382 Q134.792 760.327 132.64 758.614 Q130.51 756.877 126.691 756.877 L122.663 756.877 L122.663 753.035 L126.876 753.035 Q130.325 753.035 132.154 751.669 Q133.982 750.28 133.982 747.688 Q133.982 745.026 132.084 743.614 Q130.209 742.178 126.691 742.178 Q124.769 742.178 122.57 742.595 Q120.371 743.012 117.732 743.891 L117.732 739.725 Q120.394 738.984 122.709 738.614 Q125.047 738.243 127.107 738.243 Q132.431 738.243 135.533 740.674 Q138.635 743.081 138.635 747.202 Q138.635 750.072 136.992 752.063 Q135.348 754.03 132.316 754.794 Z\" fill=\"#000000\" fill-rule=\"evenodd\" fill-opacity=\"1\" /><path clip-path=\"url(#clip530)\" d=\"M 0 0 M154.515 741.947 Q150.903 741.947 149.075 745.512 Q147.269 749.053 147.269 756.183 Q147.269 763.289 149.075 766.854 Q150.903 770.396 154.515 770.396 Q158.149 770.396 159.954 766.854 Q161.783 763.289 161.783 756.183 Q161.783 749.053 159.954 745.512 Q158.149 741.947 154.515 741.947 M154.515 738.243 Q160.325 738.243 163.38 742.85 Q166.459 747.433 166.459 756.183 Q166.459 764.91 163.38 769.516 Q160.325 774.1 154.515 774.1 Q148.704 774.1 145.626 769.516 Q142.57 764.91 142.57 756.183 Q142.57 747.433 145.626 742.85 Q148.704 738.243 154.515 738.243 Z\" fill=\"#000000\" fill-rule=\"evenodd\" fill-opacity=\"1\" /><path clip-path=\"url(#clip530)\" d=\"M 0 0 M133.311 545.431 Q136.667 546.148 138.542 548.417 Q140.441 550.685 140.441 554.019 Q140.441 559.134 136.922 561.935 Q133.404 564.736 126.922 564.736 Q124.746 564.736 122.431 564.296 Q120.14 563.88 117.686 563.023 L117.686 558.509 Q119.63 559.644 121.945 560.222 Q124.26 560.801 126.783 560.801 Q131.181 560.801 133.473 559.065 Q135.788 557.329 135.788 554.019 Q135.788 550.963 133.635 549.25 Q131.505 547.514 127.686 547.514 L123.658 547.514 L123.658 543.672 L127.871 543.672 Q131.32 543.672 133.149 542.306 Q134.978 540.917 134.978 538.324 Q134.978 535.662 133.08 534.25 Q131.205 532.815 127.686 532.815 Q125.765 532.815 123.566 533.232 Q121.367 533.648 118.728 534.528 L118.728 530.361 Q121.39 529.621 123.705 529.25 Q126.043 528.88 128.103 528.88 Q133.427 528.88 136.529 531.311 Q139.63 533.718 139.63 537.838 Q139.63 540.709 137.987 542.699 Q136.343 544.667 133.311 545.431 Z\" fill=\"#000000\" fill-rule=\"evenodd\" fill-opacity=\"1\" /><path clip-path=\"url(#clip530)\" d=\"M 0 0 M145.556 529.505 L163.913 529.505 L163.913 533.44 L149.839 533.44 L149.839 541.912 Q150.857 541.565 151.876 541.403 Q152.894 541.218 153.913 541.218 Q159.7 541.218 163.079 544.389 Q166.459 547.56 166.459 552.977 Q166.459 558.556 162.987 561.658 Q159.515 564.736 153.195 564.736 Q151.019 564.736 148.751 564.366 Q146.505 563.996 144.098 563.255 L144.098 558.556 Q146.181 559.69 148.403 560.246 Q150.626 560.801 153.103 560.801 Q157.107 560.801 159.445 558.695 Q161.783 556.588 161.783 552.977 Q161.783 549.366 159.445 547.26 Q157.107 545.153 153.103 545.153 Q151.228 545.153 149.353 545.57 Q147.501 545.986 145.556 546.866 L145.556 529.505 Z\" fill=\"#000000\" fill-rule=\"evenodd\" fill-opacity=\"1\" /><path clip-path=\"url(#clip530)\" d=\"M 0 0 M129.862 324.216 L118.056 342.665 L129.862 342.665 L129.862 324.216 M128.635 320.142 L134.515 320.142 L134.515 342.665 L139.445 342.665 L139.445 346.554 L134.515 346.554 L134.515 354.702 L129.862 354.702 L129.862 346.554 L114.26 346.554 L114.26 342.04 L128.635 320.142 Z\" fill=\"#000000\" fill-rule=\"evenodd\" fill-opacity=\"1\" /><path clip-path=\"url(#clip530)\" d=\"M 0 0 M154.515 323.22 Q150.903 323.22 149.075 326.785 Q147.269 330.327 147.269 337.456 Q147.269 344.563 149.075 348.128 Q150.903 351.669 154.515 351.669 Q158.149 351.669 159.954 348.128 Q161.783 344.563 161.783 337.456 Q161.783 330.327 159.954 326.785 Q158.149 323.22 154.515 323.22 M154.515 319.517 Q160.325 319.517 163.38 324.123 Q166.459 328.706 166.459 337.456 Q166.459 346.183 163.38 350.79 Q160.325 355.373 154.515 355.373 Q148.704 355.373 145.626 350.79 Q142.57 346.183 142.57 337.456 Q142.57 328.706 145.626 324.123 Q148.704 319.517 154.515 319.517 Z\" fill=\"#000000\" fill-rule=\"evenodd\" fill-opacity=\"1\" /><path clip-path=\"url(#clip530)\" d=\"M 0 0 M130.857 114.852 L119.052 133.301 L130.857 133.301 L130.857 114.852 M129.63 110.778 L135.51 110.778 L135.51 133.301 L140.441 133.301 L140.441 137.19 L135.51 137.19 L135.51 145.338 L130.857 145.338 L130.857 137.19 L115.256 137.19 L115.256 132.676 L129.63 110.778 Z\" fill=\"#000000\" fill-rule=\"evenodd\" fill-opacity=\"1\" /><path clip-path=\"url(#clip530)\" d=\"M 0 0 M145.556 110.778 L163.913 110.778 L163.913 114.714 L149.839 114.714 L149.839 123.186 Q150.857 122.838 151.876 122.676 Q152.894 122.491 153.913 122.491 Q159.7 122.491 163.079 125.663 Q166.459 128.834 166.459 134.25 Q166.459 139.829 162.987 142.931 Q159.515 146.01 153.195 146.01 Q151.019 146.01 148.751 145.639 Q146.505 145.269 144.098 144.528 L144.098 139.829 Q146.181 140.963 148.403 141.519 Q150.626 142.074 153.103 142.074 Q157.107 142.074 159.445 139.968 Q161.783 137.862 161.783 134.25 Q161.783 130.639 159.445 128.533 Q157.107 126.426 153.103 126.426 Q151.228 126.426 149.353 126.843 Q147.501 127.26 145.556 128.139 L145.556 110.778 Z\" fill=\"#000000\" fill-rule=\"evenodd\" fill-opacity=\"1\" /><path clip-path=\"url(#clip530)\" d=\"M 0 0 M44.7161 841.201 L47.5806 841.201 L47.5806 868.128 Q53.6281 867.746 56.8109 864.499 Q59.9619 861.221 59.9619 855.397 Q59.9619 852.023 59.1344 848.872 Q58.3069 845.689 56.6518 842.57 L62.1899 842.57 Q63.5267 845.721 64.227 849.031 Q64.9272 852.341 64.9272 855.747 Q64.9272 864.277 59.9619 869.274 Q54.9967 874.239 46.5303 874.239 Q37.7774 874.239 32.6531 869.528 Q27.4968 864.786 27.4968 856.765 Q27.4968 849.572 32.1438 845.402 Q36.7589 841.201 44.7161 841.201 M42.9973 847.057 Q38.1912 847.121 35.3266 849.763 Q32.4621 852.373 32.4621 856.701 Q32.4621 861.603 35.2312 864.563 Q38.0002 867.491 43.0292 867.937 L42.9973 847.057 Z\" fill=\"#000000\" fill-rule=\"evenodd\" fill-opacity=\"1\" /><path clip-path=\"url(#clip530)\" d=\"M 0 0 M14.479 817.011 L19.3487 817.011 L19.3487 822.613 Q19.3487 825.764 20.6219 827.005 Q21.895 828.215 25.2052 828.215 L28.3562 828.215 L28.3562 818.571 L32.9077 818.571 L32.9077 828.215 L64.0042 828.215 L64.0042 834.103 L32.9077 834.103 L32.9077 839.705 L28.3562 839.705 L28.3562 834.103 L25.8736 834.103 Q19.9216 834.103 17.2162 831.334 Q14.479 828.565 14.479 822.549 L14.479 817.011 Z\" fill=\"#000000\" fill-rule=\"evenodd\" fill-opacity=\"1\" /><path clip-path=\"url(#clip530)\" d=\"M 0 0 M14.479 792.822 L19.3487 792.822 L19.3487 798.423 Q19.3487 801.574 20.6219 802.816 Q21.895 804.025 25.2052 804.025 L28.3562 804.025 L28.3562 794.381 L32.9077 794.381 L32.9077 804.025 L64.0042 804.025 L64.0042 809.914 L32.9077 809.914 L32.9077 815.515 L28.3562 815.515 L28.3562 809.914 L25.8736 809.914 Q19.9216 809.914 17.2162 807.144 Q14.479 804.375 14.479 798.36 L14.479 792.822 Z\" fill=\"#000000\" fill-rule=\"evenodd\" fill-opacity=\"1\" /><path clip-path=\"url(#clip530)\" d=\"M 0 0 M28.3562 786.679 L28.3562 780.822 L64.0042 780.822 L64.0042 786.679 L28.3562 786.679 M14.479 786.679 L14.479 780.822 L21.895 780.822 L21.895 786.679 L14.479 786.679 Z\" fill=\"#000000\" fill-rule=\"evenodd\" fill-opacity=\"1\" /><path clip-path=\"url(#clip530)\" d=\"M 0 0 M29.7248 749.026 L35.1993 749.026 Q33.8307 751.508 33.1623 754.023 Q32.4621 756.505 32.4621 759.052 Q32.4621 764.749 36.0905 767.9 Q39.6872 771.051 46.212 771.051 Q52.7369 771.051 56.3653 767.9 Q59.9619 764.749 59.9619 759.052 Q59.9619 756.505 59.2935 754.023 Q58.5933 751.508 57.2247 749.026 L62.6355 749.026 Q63.7814 751.476 64.3543 754.118 Q64.9272 756.728 64.9272 759.688 Q64.9272 767.741 59.8664 772.483 Q54.8057 777.226 46.212 777.226 Q37.491 777.226 32.4939 772.451 Q27.4968 767.645 27.4968 759.306 Q27.4968 756.601 28.0697 754.023 Q28.6108 751.445 29.7248 749.026 Z\" fill=\"#000000\" fill-rule=\"evenodd\" fill-opacity=\"1\" /><path clip-path=\"url(#clip530)\" d=\"M 0 0 M28.3562 742.883 L28.3562 737.026 L64.0042 737.026 L64.0042 742.883 L28.3562 742.883 M14.479 742.883 L14.479 737.026 L21.895 737.026 L21.895 742.883 L14.479 742.883 Z\" fill=\"#000000\" fill-rule=\"evenodd\" fill-opacity=\"1\" /><path clip-path=\"url(#clip530)\" d=\"M 0 0 M44.7161 700.392 L47.5806 700.392 L47.5806 727.318 Q53.6281 726.937 56.8109 723.69 Q59.9619 720.412 59.9619 714.587 Q59.9619 711.213 59.1344 708.062 Q58.3069 704.879 56.6518 701.76 L62.1899 701.76 Q63.5267 704.911 64.227 708.221 Q64.9272 711.532 64.9272 714.937 Q64.9272 723.467 59.9619 728.464 Q54.9967 733.43 46.5303 733.43 Q37.7774 733.43 32.6531 728.719 Q27.4968 723.976 27.4968 715.956 Q27.4968 708.762 32.1438 704.593 Q36.7589 700.392 44.7161 700.392 M42.9973 706.248 Q38.1912 706.312 35.3266 708.953 Q32.4621 711.563 32.4621 715.892 Q32.4621 720.794 35.2312 723.754 Q38.0002 726.682 43.0292 727.128 L42.9973 706.248 Z\" fill=\"#000000\" fill-rule=\"evenodd\" fill-opacity=\"1\" /><path clip-path=\"url(#clip530)\" d=\"M 0 0 M42.4881 664.616 L64.0042 664.616 L64.0042 670.473 L42.679 670.473 Q37.6183 670.473 35.1038 672.446 Q32.5894 674.419 32.5894 678.366 Q32.5894 683.109 35.6131 685.846 Q38.6368 688.583 43.8567 688.583 L64.0042 688.583 L64.0042 694.471 L28.3562 694.471 L28.3562 688.583 L33.8944 688.583 Q30.6797 686.482 29.0883 683.65 Q27.4968 680.785 27.4968 677.061 Q27.4968 670.918 31.3163 667.767 Q35.1038 664.616 42.4881 664.616 Z\" fill=\"#000000\" fill-rule=\"evenodd\" fill-opacity=\"1\" /><path clip-path=\"url(#clip530)\" d=\"M 0 0 M29.7248 632.82 L35.1993 632.82 Q33.8307 635.302 33.1623 637.817 Q32.4621 640.299 32.4621 642.846 Q32.4621 648.543 36.0905 651.694 Q39.6872 654.845 46.212 654.845 Q52.7369 654.845 56.3653 651.694 Q59.9619 648.543 59.9619 642.846 Q59.9619 640.299 59.2935 637.817 Q58.5933 635.302 57.2247 632.82 L62.6355 632.82 Q63.7814 635.27 64.3543 637.912 Q64.9272 640.522 64.9272 643.482 Q64.9272 651.535 59.8664 656.277 Q54.8057 661.02 46.212 661.02 Q37.491 661.02 32.4939 656.245 Q27.4968 651.439 27.4968 643.1 Q27.4968 640.395 28.0697 637.817 Q28.6108 635.239 29.7248 632.82 Z\" fill=\"#000000\" fill-rule=\"evenodd\" fill-opacity=\"1\" /><path clip-path=\"url(#clip530)\" d=\"M 0 0 M67.3143 611.845 Q73.68 614.327 75.6216 616.683 Q77.5631 619.038 77.5631 622.985 L77.5631 627.663 L72.6615 627.663 L72.6615 624.226 Q72.6615 621.807 71.5157 620.47 Q70.3699 619.133 66.1048 617.51 L63.4312 616.46 L28.3562 630.878 L28.3562 624.671 L56.238 613.531 L28.3562 602.391 L28.3562 596.185 L67.3143 611.845 Z\" fill=\"#000000\" fill-rule=\"evenodd\" fill-opacity=\"1\" /><circle clip-path=\"url(#clip532)\" cx=\"669.033\" cy=\"965.512\" r=\"14\" fill=\"#009af9\" fill-rule=\"evenodd\" fill-opacity=\"1\" stroke=\"#000000\" stroke-opacity=\"1\" stroke-width=\"3.2\"/>\n",
       "<circle clip-path=\"url(#clip532)\" cx=\"1480.47\" cy=\"1258.62\" r=\"14\" fill=\"#009af9\" fill-rule=\"evenodd\" fill-opacity=\"1\" stroke=\"#000000\" stroke-opacity=\"1\" stroke-width=\"3.2\"/>\n",
       "<circle clip-path=\"url(#clip532)\" cx=\"1480.47\" cy=\"1174.87\" r=\"14\" fill=\"#009af9\" fill-rule=\"evenodd\" fill-opacity=\"1\" stroke=\"#000000\" stroke-opacity=\"1\" stroke-width=\"3.2\"/>\n",
       "<circle clip-path=\"url(#clip532)\" cx=\"1480.47\" cy=\"1216.75\" r=\"14\" fill=\"#009af9\" fill-rule=\"evenodd\" fill-opacity=\"1\" stroke=\"#000000\" stroke-opacity=\"1\" stroke-width=\"3.2\"/>\n",
       "<circle clip-path=\"url(#clip532)\" cx=\"669.033\" cy=\"1091.13\" r=\"14\" fill=\"#009af9\" fill-rule=\"evenodd\" fill-opacity=\"1\" stroke=\"#000000\" stroke-opacity=\"1\" stroke-width=\"3.2\"/>\n",
       "<circle clip-path=\"url(#clip532)\" cx=\"669.033\" cy=\"1091.13\" r=\"14\" fill=\"#009af9\" fill-rule=\"evenodd\" fill-opacity=\"1\" stroke=\"#000000\" stroke-opacity=\"1\" stroke-width=\"3.2\"/>\n",
       "<circle clip-path=\"url(#clip532)\" cx=\"1480.47\" cy=\"1216.75\" r=\"14\" fill=\"#009af9\" fill-rule=\"evenodd\" fill-opacity=\"1\" stroke=\"#000000\" stroke-opacity=\"1\" stroke-width=\"3.2\"/>\n",
       "<circle clip-path=\"url(#clip532)\" cx=\"1480.47\" cy=\"1342.37\" r=\"14\" fill=\"#009af9\" fill-rule=\"evenodd\" fill-opacity=\"1\" stroke=\"#000000\" stroke-opacity=\"1\" stroke-width=\"3.2\"/>\n",
       "<circle clip-path=\"url(#clip532)\" cx=\"1480.47\" cy=\"1216.75\" r=\"14\" fill=\"#009af9\" fill-rule=\"evenodd\" fill-opacity=\"1\" stroke=\"#000000\" stroke-opacity=\"1\" stroke-width=\"3.2\"/>\n",
       "<circle clip-path=\"url(#clip532)\" cx=\"2291.9\" cy=\"1342.37\" r=\"14\" fill=\"#009af9\" fill-rule=\"evenodd\" fill-opacity=\"1\" stroke=\"#000000\" stroke-opacity=\"1\" stroke-width=\"3.2\"/>\n",
       "<circle clip-path=\"url(#clip532)\" cx=\"2291.9\" cy=\"1342.37\" r=\"14\" fill=\"#009af9\" fill-rule=\"evenodd\" fill-opacity=\"1\" stroke=\"#000000\" stroke-opacity=\"1\" stroke-width=\"3.2\"/>\n",
       "<circle clip-path=\"url(#clip532)\" cx=\"669.033\" cy=\"965.512\" r=\"14\" fill=\"#009af9\" fill-rule=\"evenodd\" fill-opacity=\"1\" stroke=\"#000000\" stroke-opacity=\"1\" stroke-width=\"3.2\"/>\n",
       "<circle clip-path=\"url(#clip532)\" cx=\"669.033\" cy=\"965.512\" r=\"14\" fill=\"#009af9\" fill-rule=\"evenodd\" fill-opacity=\"1\" stroke=\"#000000\" stroke-opacity=\"1\" stroke-width=\"3.2\"/>\n",
       "<circle clip-path=\"url(#clip532)\" cx=\"1480.47\" cy=\"1216.75\" r=\"14\" fill=\"#009af9\" fill-rule=\"evenodd\" fill-opacity=\"1\" stroke=\"#000000\" stroke-opacity=\"1\" stroke-width=\"3.2\"/>\n",
       "<circle clip-path=\"url(#clip532)\" cx=\"669.033\" cy=\"1133\" r=\"14\" fill=\"#009af9\" fill-rule=\"evenodd\" fill-opacity=\"1\" stroke=\"#000000\" stroke-opacity=\"1\" stroke-width=\"3.2\"/>\n",
       "<circle clip-path=\"url(#clip532)\" cx=\"1480.47\" cy=\"1258.62\" r=\"14\" fill=\"#009af9\" fill-rule=\"evenodd\" fill-opacity=\"1\" stroke=\"#000000\" stroke-opacity=\"1\" stroke-width=\"3.2\"/>\n",
       "<circle clip-path=\"url(#clip532)\" cx=\"1480.47\" cy=\"1384.24\" r=\"14\" fill=\"#009af9\" fill-rule=\"evenodd\" fill-opacity=\"1\" stroke=\"#000000\" stroke-opacity=\"1\" stroke-width=\"3.2\"/>\n",
       "<circle clip-path=\"url(#clip532)\" cx=\"2291.9\" cy=\"1300.49\" r=\"14\" fill=\"#009af9\" fill-rule=\"evenodd\" fill-opacity=\"1\" stroke=\"#000000\" stroke-opacity=\"1\" stroke-width=\"3.2\"/>\n",
       "<circle clip-path=\"url(#clip532)\" cx=\"2291.9\" cy=\"1300.49\" r=\"14\" fill=\"#009af9\" fill-rule=\"evenodd\" fill-opacity=\"1\" stroke=\"#000000\" stroke-opacity=\"1\" stroke-width=\"3.2\"/>\n",
       "<circle clip-path=\"url(#clip532)\" cx=\"1480.47\" cy=\"1174.87\" r=\"14\" fill=\"#009af9\" fill-rule=\"evenodd\" fill-opacity=\"1\" stroke=\"#000000\" stroke-opacity=\"1\" stroke-width=\"3.2\"/>\n",
       "<circle clip-path=\"url(#clip532)\" cx=\"669.033\" cy=\"1049.26\" r=\"14\" fill=\"#009af9\" fill-rule=\"evenodd\" fill-opacity=\"1\" stroke=\"#000000\" stroke-opacity=\"1\" stroke-width=\"3.2\"/>\n",
       "<circle clip-path=\"url(#clip532)\" cx=\"1480.47\" cy=\"1174.87\" r=\"14\" fill=\"#009af9\" fill-rule=\"evenodd\" fill-opacity=\"1\" stroke=\"#000000\" stroke-opacity=\"1\" stroke-width=\"3.2\"/>\n",
       "<circle clip-path=\"url(#clip532)\" cx=\"669.033\" cy=\"798.021\" r=\"14\" fill=\"#009af9\" fill-rule=\"evenodd\" fill-opacity=\"1\" stroke=\"#000000\" stroke-opacity=\"1\" stroke-width=\"3.2\"/>\n",
       "<circle clip-path=\"url(#clip532)\" cx=\"669.033\" cy=\"1049.26\" r=\"14\" fill=\"#009af9\" fill-rule=\"evenodd\" fill-opacity=\"1\" stroke=\"#000000\" stroke-opacity=\"1\" stroke-width=\"3.2\"/>\n",
       "<circle clip-path=\"url(#clip532)\" cx=\"669.033\" cy=\"1091.13\" r=\"14\" fill=\"#009af9\" fill-rule=\"evenodd\" fill-opacity=\"1\" stroke=\"#000000\" stroke-opacity=\"1\" stroke-width=\"3.2\"/>\n",
       "<circle clip-path=\"url(#clip532)\" cx=\"1480.47\" cy=\"1300.49\" r=\"14\" fill=\"#009af9\" fill-rule=\"evenodd\" fill-opacity=\"1\" stroke=\"#000000\" stroke-opacity=\"1\" stroke-width=\"3.2\"/>\n",
       "<circle clip-path=\"url(#clip532)\" cx=\"669.033\" cy=\"1133\" r=\"14\" fill=\"#009af9\" fill-rule=\"evenodd\" fill-opacity=\"1\" stroke=\"#000000\" stroke-opacity=\"1\" stroke-width=\"3.2\"/>\n",
       "<circle clip-path=\"url(#clip532)\" cx=\"1480.47\" cy=\"1258.62\" r=\"14\" fill=\"#009af9\" fill-rule=\"evenodd\" fill-opacity=\"1\" stroke=\"#000000\" stroke-opacity=\"1\" stroke-width=\"3.2\"/>\n",
       "<circle clip-path=\"url(#clip532)\" cx=\"669.033\" cy=\"798.021\" r=\"14\" fill=\"#009af9\" fill-rule=\"evenodd\" fill-opacity=\"1\" stroke=\"#000000\" stroke-opacity=\"1\" stroke-width=\"3.2\"/>\n",
       "<circle clip-path=\"url(#clip532)\" cx=\"1480.47\" cy=\"1174.87\" r=\"14\" fill=\"#009af9\" fill-rule=\"evenodd\" fill-opacity=\"1\" stroke=\"#000000\" stroke-opacity=\"1\" stroke-width=\"3.2\"/>\n",
       "<circle clip-path=\"url(#clip532)\" cx=\"669.033\" cy=\"714.276\" r=\"14\" fill=\"#009af9\" fill-rule=\"evenodd\" fill-opacity=\"1\" stroke=\"#000000\" stroke-opacity=\"1\" stroke-width=\"3.2\"/>\n",
       "<circle clip-path=\"url(#clip532)\" cx=\"669.033\" cy=\"1049.26\" r=\"14\" fill=\"#009af9\" fill-rule=\"evenodd\" fill-opacity=\"1\" stroke=\"#000000\" stroke-opacity=\"1\" stroke-width=\"3.2\"/>\n",
       "<circle clip-path=\"url(#clip532)\" cx=\"669.033\" cy=\"1091.13\" r=\"14\" fill=\"#009af9\" fill-rule=\"evenodd\" fill-opacity=\"1\" stroke=\"#000000\" stroke-opacity=\"1\" stroke-width=\"3.2\"/>\n",
       "<circle clip-path=\"url(#clip532)\" cx=\"669.033\" cy=\"1091.13\" r=\"14\" fill=\"#009af9\" fill-rule=\"evenodd\" fill-opacity=\"1\" stroke=\"#000000\" stroke-opacity=\"1\" stroke-width=\"3.2\"/>\n",
       "<circle clip-path=\"url(#clip532)\" cx=\"669.033\" cy=\"1007.38\" r=\"14\" fill=\"#009af9\" fill-rule=\"evenodd\" fill-opacity=\"1\" stroke=\"#000000\" stroke-opacity=\"1\" stroke-width=\"3.2\"/>\n",
       "<circle clip-path=\"url(#clip532)\" cx=\"1480.47\" cy=\"1384.24\" r=\"14\" fill=\"#009af9\" fill-rule=\"evenodd\" fill-opacity=\"1\" stroke=\"#000000\" stroke-opacity=\"1\" stroke-width=\"3.2\"/>\n",
       "<circle clip-path=\"url(#clip532)\" cx=\"1480.47\" cy=\"1133\" r=\"14\" fill=\"#009af9\" fill-rule=\"evenodd\" fill-opacity=\"1\" stroke=\"#000000\" stroke-opacity=\"1\" stroke-width=\"3.2\"/>\n",
       "<circle clip-path=\"url(#clip532)\" cx=\"2291.9\" cy=\"1258.62\" r=\"14\" fill=\"#009af9\" fill-rule=\"evenodd\" fill-opacity=\"1\" stroke=\"#000000\" stroke-opacity=\"1\" stroke-width=\"3.2\"/>\n",
       "<circle clip-path=\"url(#clip532)\" cx=\"263.316\" cy=\"86.1857\" r=\"14\" fill=\"#009af9\" fill-rule=\"evenodd\" fill-opacity=\"1\" stroke=\"#000000\" stroke-opacity=\"1\" stroke-width=\"3.2\"/>\n",
       "<circle clip-path=\"url(#clip532)\" cx=\"669.033\" cy=\"756.148\" r=\"14\" fill=\"#009af9\" fill-rule=\"evenodd\" fill-opacity=\"1\" stroke=\"#000000\" stroke-opacity=\"1\" stroke-width=\"3.2\"/>\n",
       "<circle clip-path=\"url(#clip532)\" cx=\"669.033\" cy=\"1007.38\" r=\"14\" fill=\"#009af9\" fill-rule=\"evenodd\" fill-opacity=\"1\" stroke=\"#000000\" stroke-opacity=\"1\" stroke-width=\"3.2\"/>\n",
       "<circle clip-path=\"url(#clip532)\" cx=\"669.033\" cy=\"253.676\" r=\"14\" fill=\"#009af9\" fill-rule=\"evenodd\" fill-opacity=\"1\" stroke=\"#000000\" stroke-opacity=\"1\" stroke-width=\"3.2\"/>\n",
       "<circle clip-path=\"url(#clip532)\" cx=\"669.033\" cy=\"1007.38\" r=\"14\" fill=\"#009af9\" fill-rule=\"evenodd\" fill-opacity=\"1\" stroke=\"#000000\" stroke-opacity=\"1\" stroke-width=\"3.2\"/>\n",
       "<circle clip-path=\"url(#clip532)\" cx=\"669.033\" cy=\"798.021\" r=\"14\" fill=\"#009af9\" fill-rule=\"evenodd\" fill-opacity=\"1\" stroke=\"#000000\" stroke-opacity=\"1\" stroke-width=\"3.2\"/>\n",
       "<circle clip-path=\"url(#clip532)\" cx=\"669.033\" cy=\"1091.13\" r=\"14\" fill=\"#009af9\" fill-rule=\"evenodd\" fill-opacity=\"1\" stroke=\"#000000\" stroke-opacity=\"1\" stroke-width=\"3.2\"/>\n",
       "<circle clip-path=\"url(#clip532)\" cx=\"669.033\" cy=\"923.639\" r=\"14\" fill=\"#009af9\" fill-rule=\"evenodd\" fill-opacity=\"1\" stroke=\"#000000\" stroke-opacity=\"1\" stroke-width=\"3.2\"/>\n",
       "<circle clip-path=\"url(#clip532)\" cx=\"669.033\" cy=\"1174.87\" r=\"14\" fill=\"#009af9\" fill-rule=\"evenodd\" fill-opacity=\"1\" stroke=\"#000000\" stroke-opacity=\"1\" stroke-width=\"3.2\"/>\n",
       "<circle clip-path=\"url(#clip532)\" cx=\"2291.9\" cy=\"1300.49\" r=\"14\" fill=\"#009af9\" fill-rule=\"evenodd\" fill-opacity=\"1\" stroke=\"#000000\" stroke-opacity=\"1\" stroke-width=\"3.2\"/>\n",
       "<circle clip-path=\"url(#clip532)\" cx=\"1480.47\" cy=\"1258.62\" r=\"14\" fill=\"#009af9\" fill-rule=\"evenodd\" fill-opacity=\"1\" stroke=\"#000000\" stroke-opacity=\"1\" stroke-width=\"3.2\"/>\n",
       "<circle clip-path=\"url(#clip532)\" cx=\"1480.47\" cy=\"1258.62\" r=\"14\" fill=\"#009af9\" fill-rule=\"evenodd\" fill-opacity=\"1\" stroke=\"#000000\" stroke-opacity=\"1\" stroke-width=\"3.2\"/>\n",
       "<circle clip-path=\"url(#clip532)\" cx=\"1480.47\" cy=\"1300.49\" r=\"14\" fill=\"#009af9\" fill-rule=\"evenodd\" fill-opacity=\"1\" stroke=\"#000000\" stroke-opacity=\"1\" stroke-width=\"3.2\"/>\n",
       "<circle clip-path=\"url(#clip532)\" cx=\"2291.9\" cy=\"1258.62\" r=\"14\" fill=\"#009af9\" fill-rule=\"evenodd\" fill-opacity=\"1\" stroke=\"#000000\" stroke-opacity=\"1\" stroke-width=\"3.2\"/>\n",
       "<circle clip-path=\"url(#clip532)\" cx=\"669.033\" cy=\"798.021\" r=\"14\" fill=\"#009af9\" fill-rule=\"evenodd\" fill-opacity=\"1\" stroke=\"#000000\" stroke-opacity=\"1\" stroke-width=\"3.2\"/>\n",
       "<circle clip-path=\"url(#clip532)\" cx=\"669.033\" cy=\"839.894\" r=\"14\" fill=\"#009af9\" fill-rule=\"evenodd\" fill-opacity=\"1\" stroke=\"#000000\" stroke-opacity=\"1\" stroke-width=\"3.2\"/>\n",
       "<circle clip-path=\"url(#clip532)\" cx=\"669.033\" cy=\"923.639\" r=\"14\" fill=\"#009af9\" fill-rule=\"evenodd\" fill-opacity=\"1\" stroke=\"#000000\" stroke-opacity=\"1\" stroke-width=\"3.2\"/>\n",
       "<circle clip-path=\"url(#clip532)\" cx=\"1480.47\" cy=\"1258.62\" r=\"14\" fill=\"#009af9\" fill-rule=\"evenodd\" fill-opacity=\"1\" stroke=\"#000000\" stroke-opacity=\"1\" stroke-width=\"3.2\"/>\n",
       "<circle clip-path=\"url(#clip532)\" cx=\"669.033\" cy=\"1174.87\" r=\"14\" fill=\"#009af9\" fill-rule=\"evenodd\" fill-opacity=\"1\" stroke=\"#000000\" stroke-opacity=\"1\" stroke-width=\"3.2\"/>\n",
       "<circle clip-path=\"url(#clip532)\" cx=\"1480.47\" cy=\"1216.75\" r=\"14\" fill=\"#009af9\" fill-rule=\"evenodd\" fill-opacity=\"1\" stroke=\"#000000\" stroke-opacity=\"1\" stroke-width=\"3.2\"/>\n",
       "<circle clip-path=\"url(#clip532)\" cx=\"669.033\" cy=\"1049.26\" r=\"14\" fill=\"#009af9\" fill-rule=\"evenodd\" fill-opacity=\"1\" stroke=\"#000000\" stroke-opacity=\"1\" stroke-width=\"3.2\"/>\n",
       "<circle clip-path=\"url(#clip532)\" cx=\"1480.47\" cy=\"1216.75\" r=\"14\" fill=\"#009af9\" fill-rule=\"evenodd\" fill-opacity=\"1\" stroke=\"#000000\" stroke-opacity=\"1\" stroke-width=\"3.2\"/>\n",
       "<circle clip-path=\"url(#clip532)\" cx=\"669.033\" cy=\"798.021\" r=\"14\" fill=\"#009af9\" fill-rule=\"evenodd\" fill-opacity=\"1\" stroke=\"#000000\" stroke-opacity=\"1\" stroke-width=\"3.2\"/>\n",
       "<circle clip-path=\"url(#clip532)\" cx=\"1480.47\" cy=\"1258.62\" r=\"14\" fill=\"#009af9\" fill-rule=\"evenodd\" fill-opacity=\"1\" stroke=\"#000000\" stroke-opacity=\"1\" stroke-width=\"3.2\"/>\n",
       "<circle clip-path=\"url(#clip532)\" cx=\"669.033\" cy=\"798.021\" r=\"14\" fill=\"#009af9\" fill-rule=\"evenodd\" fill-opacity=\"1\" stroke=\"#000000\" stroke-opacity=\"1\" stroke-width=\"3.2\"/>\n",
       "<circle clip-path=\"url(#clip532)\" cx=\"669.033\" cy=\"1007.38\" r=\"14\" fill=\"#009af9\" fill-rule=\"evenodd\" fill-opacity=\"1\" stroke=\"#000000\" stroke-opacity=\"1\" stroke-width=\"3.2\"/>\n",
       "<circle clip-path=\"url(#clip532)\" cx=\"1480.47\" cy=\"1300.49\" r=\"14\" fill=\"#009af9\" fill-rule=\"evenodd\" fill-opacity=\"1\" stroke=\"#000000\" stroke-opacity=\"1\" stroke-width=\"3.2\"/>\n",
       "<circle clip-path=\"url(#clip532)\" cx=\"1480.47\" cy=\"1133\" r=\"14\" fill=\"#009af9\" fill-rule=\"evenodd\" fill-opacity=\"1\" stroke=\"#000000\" stroke-opacity=\"1\" stroke-width=\"3.2\"/>\n",
       "<circle clip-path=\"url(#clip532)\" cx=\"669.033\" cy=\"1007.38\" r=\"14\" fill=\"#009af9\" fill-rule=\"evenodd\" fill-opacity=\"1\" stroke=\"#000000\" stroke-opacity=\"1\" stroke-width=\"3.2\"/>\n",
       "<circle clip-path=\"url(#clip532)\" cx=\"669.033\" cy=\"1049.26\" r=\"14\" fill=\"#009af9\" fill-rule=\"evenodd\" fill-opacity=\"1\" stroke=\"#000000\" stroke-opacity=\"1\" stroke-width=\"3.2\"/>\n",
       "<circle clip-path=\"url(#clip532)\" cx=\"1480.47\" cy=\"1258.62\" r=\"14\" fill=\"#009af9\" fill-rule=\"evenodd\" fill-opacity=\"1\" stroke=\"#000000\" stroke-opacity=\"1\" stroke-width=\"3.2\"/>\n",
       "<circle clip-path=\"url(#clip532)\" cx=\"1480.47\" cy=\"1216.75\" r=\"14\" fill=\"#009af9\" fill-rule=\"evenodd\" fill-opacity=\"1\" stroke=\"#000000\" stroke-opacity=\"1\" stroke-width=\"3.2\"/>\n",
       "<circle clip-path=\"url(#clip532)\" cx=\"669.033\" cy=\"1049.26\" r=\"14\" fill=\"#009af9\" fill-rule=\"evenodd\" fill-opacity=\"1\" stroke=\"#000000\" stroke-opacity=\"1\" stroke-width=\"3.2\"/>\n",
       "<circle clip-path=\"url(#clip532)\" cx=\"669.033\" cy=\"714.276\" r=\"14\" fill=\"#009af9\" fill-rule=\"evenodd\" fill-opacity=\"1\" stroke=\"#000000\" stroke-opacity=\"1\" stroke-width=\"3.2\"/>\n",
       "<circle clip-path=\"url(#clip532)\" cx=\"669.033\" cy=\"1049.26\" r=\"14\" fill=\"#009af9\" fill-rule=\"evenodd\" fill-opacity=\"1\" stroke=\"#000000\" stroke-opacity=\"1\" stroke-width=\"3.2\"/>\n",
       "<circle clip-path=\"url(#clip532)\" cx=\"1480.47\" cy=\"1216.75\" r=\"14\" fill=\"#009af9\" fill-rule=\"evenodd\" fill-opacity=\"1\" stroke=\"#000000\" stroke-opacity=\"1\" stroke-width=\"3.2\"/>\n",
       "<circle clip-path=\"url(#clip532)\" cx=\"1480.47\" cy=\"1216.75\" r=\"14\" fill=\"#009af9\" fill-rule=\"evenodd\" fill-opacity=\"1\" stroke=\"#000000\" stroke-opacity=\"1\" stroke-width=\"3.2\"/>\n",
       "<circle clip-path=\"url(#clip532)\" cx=\"1480.47\" cy=\"1216.75\" r=\"14\" fill=\"#009af9\" fill-rule=\"evenodd\" fill-opacity=\"1\" stroke=\"#000000\" stroke-opacity=\"1\" stroke-width=\"3.2\"/>\n",
       "<circle clip-path=\"url(#clip532)\" cx=\"669.033\" cy=\"1174.87\" r=\"14\" fill=\"#009af9\" fill-rule=\"evenodd\" fill-opacity=\"1\" stroke=\"#000000\" stroke-opacity=\"1\" stroke-width=\"3.2\"/>\n",
       "<circle clip-path=\"url(#clip532)\" cx=\"669.033\" cy=\"839.894\" r=\"14\" fill=\"#009af9\" fill-rule=\"evenodd\" fill-opacity=\"1\" stroke=\"#000000\" stroke-opacity=\"1\" stroke-width=\"3.2\"/>\n",
       "<circle clip-path=\"url(#clip532)\" cx=\"263.316\" cy=\"630.53\" r=\"14\" fill=\"#009af9\" fill-rule=\"evenodd\" fill-opacity=\"1\" stroke=\"#000000\" stroke-opacity=\"1\" stroke-width=\"3.2\"/>\n",
       "<circle clip-path=\"url(#clip532)\" cx=\"669.033\" cy=\"965.512\" r=\"14\" fill=\"#009af9\" fill-rule=\"evenodd\" fill-opacity=\"1\" stroke=\"#000000\" stroke-opacity=\"1\" stroke-width=\"3.2\"/>\n",
       "<circle clip-path=\"url(#clip532)\" cx=\"669.033\" cy=\"1049.26\" r=\"14\" fill=\"#009af9\" fill-rule=\"evenodd\" fill-opacity=\"1\" stroke=\"#000000\" stroke-opacity=\"1\" stroke-width=\"3.2\"/>\n",
       "<circle clip-path=\"url(#clip532)\" cx=\"263.316\" cy=\"379.294\" r=\"14\" fill=\"#009af9\" fill-rule=\"evenodd\" fill-opacity=\"1\" stroke=\"#000000\" stroke-opacity=\"1\" stroke-width=\"3.2\"/>\n",
       "<circle clip-path=\"url(#clip532)\" cx=\"669.033\" cy=\"672.403\" r=\"14\" fill=\"#009af9\" fill-rule=\"evenodd\" fill-opacity=\"1\" stroke=\"#000000\" stroke-opacity=\"1\" stroke-width=\"3.2\"/>\n",
       "<circle clip-path=\"url(#clip532)\" cx=\"669.033\" cy=\"965.512\" r=\"14\" fill=\"#009af9\" fill-rule=\"evenodd\" fill-opacity=\"1\" stroke=\"#000000\" stroke-opacity=\"1\" stroke-width=\"3.2\"/>\n",
       "<circle clip-path=\"url(#clip532)\" cx=\"669.033\" cy=\"1091.13\" r=\"14\" fill=\"#009af9\" fill-rule=\"evenodd\" fill-opacity=\"1\" stroke=\"#000000\" stroke-opacity=\"1\" stroke-width=\"3.2\"/>\n",
       "<circle clip-path=\"url(#clip532)\" cx=\"669.033\" cy=\"1258.62\" r=\"14\" fill=\"#009af9\" fill-rule=\"evenodd\" fill-opacity=\"1\" stroke=\"#000000\" stroke-opacity=\"1\" stroke-width=\"3.2\"/>\n",
       "<circle clip-path=\"url(#clip532)\" cx=\"669.033\" cy=\"965.512\" r=\"14\" fill=\"#009af9\" fill-rule=\"evenodd\" fill-opacity=\"1\" stroke=\"#000000\" stroke-opacity=\"1\" stroke-width=\"3.2\"/>\n",
       "<circle clip-path=\"url(#clip532)\" cx=\"1074.75\" cy=\"1300.49\" r=\"14\" fill=\"#009af9\" fill-rule=\"evenodd\" fill-opacity=\"1\" stroke=\"#000000\" stroke-opacity=\"1\" stroke-width=\"3.2\"/>\n",
       "<circle clip-path=\"url(#clip532)\" cx=\"669.033\" cy=\"1133\" r=\"14\" fill=\"#009af9\" fill-rule=\"evenodd\" fill-opacity=\"1\" stroke=\"#000000\" stroke-opacity=\"1\" stroke-width=\"3.2\"/>\n",
       "<circle clip-path=\"url(#clip532)\" cx=\"1480.47\" cy=\"1258.62\" r=\"14\" fill=\"#009af9\" fill-rule=\"evenodd\" fill-opacity=\"1\" stroke=\"#000000\" stroke-opacity=\"1\" stroke-width=\"3.2\"/>\n",
       "<circle clip-path=\"url(#clip532)\" cx=\"669.033\" cy=\"1133\" r=\"14\" fill=\"#009af9\" fill-rule=\"evenodd\" fill-opacity=\"1\" stroke=\"#000000\" stroke-opacity=\"1\" stroke-width=\"3.2\"/>\n",
       "<circle clip-path=\"url(#clip532)\" cx=\"1074.75\" cy=\"1174.87\" r=\"14\" fill=\"#009af9\" fill-rule=\"evenodd\" fill-opacity=\"1\" stroke=\"#000000\" stroke-opacity=\"1\" stroke-width=\"3.2\"/>\n",
       "</svg>\n"
      ]
     },
     "execution_count": 19,
     "metadata": {},
     "output_type": "execute_result"
    }
   ],
   "source": [
    "scatter(\n",
    "    cars[:,:Cylinders],cars[:,:MPGCity],\n",
    "    xlabel = \"Cylinders\", ylabel = \"efficiency\",\n",
    "    legend = false,\n",
    ")"
   ]
  },
  {
   "cell_type": "markdown",
   "metadata": {},
   "source": [
    "---"
   ]
  },
  {
   "cell_type": "markdown",
   "metadata": {},
   "source": [
    "## Tasks"
   ]
  },
  {
   "cell_type": "markdown",
   "metadata": {},
   "source": [
    "With the cars data set \n",
    " - exclude rotary cylinder engines\n",
    " - convert :Cylinders to a continuous predictor\n",
    " - with city efficiency as the response variable, fit a model with all the predictors\n",
    " - with city efficiency as the response variable, implement an exhastive algorithm to find the linear model which fits best with the following predictors\n",
    " \n",
    " [:Weight,\n",
    " \n",
    " :Price,\n",
    " \n",
    " :Length,\n",
    " \n",
    " :FuelTankCapacity,\n",
    " \n",
    " :Wheelbase,\n",
    " \n",
    " :RPM,\n",
    " \n",
    " :Horsepower, \n",
    " \n",
    " :EngineSize, \n",
    " \n",
    " :Cylinders, \n",
    " \n",
    " :City, \n",
    " \n",
    " :Passengers]\n",
    "\n",
    "Tips: \n",
    " - functions in the someFunctions.jl might be useful\n",
    " - the function `parse.(Int,\"1\")` converts the string `\"1\"` to an `Int` \n",
    " - the function `deviance(aLinerModel)` extracts the deviance for the linear model `aLinearModel`\n",
    " - the `IterTools` package has a `subsets` function which enumeartes all subsets of a vector\n",
    " - I found it easier to specify the model matrix rather than pass an `@formula` object to `lm`"
   ]
  },
  {
   "cell_type": "code",
   "execution_count": 20,
   "metadata": {},
   "outputs": [
    {
     "data": {
      "text/plain": [
       "IterTools.Subsets{Array{Symbol,1}}([:Manufacturer, :Model, :Type, :MinPrice, :Price, :MaxPrice, :MPGHighway, :AirBags, :DriveTrain, :Cylinders  …  :Passengers, :Length, :Wheelbase, :Width, :TurnCircle, :RearSeatRoom, :LuggageRoom, :Weight, :Origin, :Make])"
      ]
     },
     "execution_count": 20,
     "metadata": {},
     "output_type": "execute_result"
    }
   ],
   "source": [
    "#Pkg.add(\"IterTools\")\n",
    "#using IterTools\n",
    "cars = RDatasets.dataset(\"Mass\", \"Cars93\")\n",
    "vars = propertynames(cars[!,Not(:MPGCity)])\n",
    "varsPowerSet = subsets(vars)"
   ]
  },
  {
   "cell_type": "code",
   "execution_count": 21,
   "metadata": {},
   "outputs": [
    {
     "data": {
      "text/html": [
       "<table class=\"data-frame\"><thead><tr><th></th><th>Manufacturer</th><th>Model</th><th>Type</th><th>MinPrice</th><th>Price</th><th>MaxPrice</th><th>MPGCity</th><th>MPGHighway</th></tr><tr><th></th><th>Cat…</th><th>String</th><th>Cat…</th><th>Float64</th><th>Float64</th><th>Float64</th><th>Int32</th><th>Int32</th></tr></thead><tbody><p>5 rows × 27 columns (omitted printing of 19 columns)</p><tr><th>1</th><td>Acura</td><td>Integra</td><td>Small</td><td>12.9</td><td>15.9</td><td>18.8</td><td>25</td><td>31</td></tr><tr><th>2</th><td>Acura</td><td>Legend</td><td>Midsize</td><td>29.2</td><td>33.9</td><td>38.7</td><td>18</td><td>25</td></tr><tr><th>3</th><td>Audi</td><td>90</td><td>Compact</td><td>25.9</td><td>29.1</td><td>32.3</td><td>20</td><td>26</td></tr><tr><th>4</th><td>Audi</td><td>100</td><td>Midsize</td><td>30.8</td><td>37.7</td><td>44.6</td><td>19</td><td>26</td></tr><tr><th>5</th><td>BMW</td><td>535i</td><td>Midsize</td><td>23.7</td><td>30.0</td><td>36.2</td><td>22</td><td>30</td></tr></tbody></table>"
      ],
      "text/latex": [
       "\\begin{tabular}{r|ccccccccc}\n",
       "\t& Manufacturer & Model & Type & MinPrice & Price & MaxPrice & MPGCity & MPGHighway & \\\\\n",
       "\t\\hline\n",
       "\t& Cat… & String & Cat… & Float64 & Float64 & Float64 & Int32 & Int32 & \\\\\n",
       "\t\\hline\n",
       "\t1 & Acura & Integra & Small & 12.9 & 15.9 & 18.8 & 25 & 31 & $\\dots$ \\\\\n",
       "\t2 & Acura & Legend & Midsize & 29.2 & 33.9 & 38.7 & 18 & 25 & $\\dots$ \\\\\n",
       "\t3 & Audi & 90 & Compact & 25.9 & 29.1 & 32.3 & 20 & 26 & $\\dots$ \\\\\n",
       "\t4 & Audi & 100 & Midsize & 30.8 & 37.7 & 44.6 & 19 & 26 & $\\dots$ \\\\\n",
       "\t5 & BMW & 535i & Midsize & 23.7 & 30.0 & 36.2 & 22 & 30 & $\\dots$ \\\\\n",
       "\\end{tabular}\n"
      ],
      "text/plain": [
       "\u001b[1m5×27 DataFrame\u001b[0m\n",
       "\u001b[1m Row \u001b[0m│\u001b[1m Manufacturer \u001b[0m\u001b[1m Model   \u001b[0m\u001b[1m Type    \u001b[0m\u001b[1m MinPrice \u001b[0m\u001b[1m Price   \u001b[0m\u001b[1m MaxPrice \u001b[0m\u001b[1m MPGCity \u001b[0m\u001b[1m M\u001b[0m ⋯\n",
       "\u001b[1m     \u001b[0m│\u001b[90m Categorical… \u001b[0m\u001b[90m String  \u001b[0m\u001b[90m Cat…    \u001b[0m\u001b[90m Float64  \u001b[0m\u001b[90m Float64 \u001b[0m\u001b[90m Float64  \u001b[0m\u001b[90m Int32   \u001b[0m\u001b[90m I\u001b[0m ⋯\n",
       "─────┼──────────────────────────────────────────────────────────────────────────\n",
       "   1 │ Acura         Integra  Small        12.9     15.9      18.8       25    ⋯\n",
       "   2 │ Acura         Legend   Midsize      29.2     33.9      38.7       18\n",
       "   3 │ Audi          90       Compact      25.9     29.1      32.3       20\n",
       "   4 │ Audi          100      Midsize      30.8     37.7      44.6       19\n",
       "   5 │ BMW           535i     Midsize      23.7     30.0      36.2       22    ⋯\n",
       "\u001b[36m                                                              20 columns omitted\u001b[0m"
      ]
     },
     "execution_count": 21,
     "metadata": {},
     "output_type": "execute_result"
    }
   ],
   "source": [
    "filterFun(cyl) = !isequal(cyl,\"rotary\") # exclude rotary engines\n",
    "filter!(:Cylinders => filterFun, cars)  \n",
    "transform!(cars, :Cylinders => (x->parse.(Float64,string.(x))) => :Cylinders) |> x -> first(x,5) \n",
    "# transform!(cars, :MPGCity => convertMPG => :MPGCity)"
   ]
  },
  {
   "cell_type": "code",
   "execution_count": 22,
   "metadata": {},
   "outputs": [],
   "source": [
    "select!(cars,[:Weight,:Price,:Length,:FuelTankCapacity,\n",
    "        :Wheelbase,:RPM,:Horsepower, :EngineSize, :Cylinders, :MPGCity, :Passengers]);"
   ]
  },
  {
   "cell_type": "code",
   "execution_count": 23,
   "metadata": {},
   "outputs": [
    {
     "data": {
      "text/plain": [
       "751.4275165747264"
      ]
     },
     "execution_count": 23,
     "metadata": {},
     "output_type": "execute_result"
    }
   ],
   "source": [
    "deviance(lm(Matrix(cars[:,Not([:MPGCity])]),cars[:,:MPGCity]))"
   ]
  },
  {
   "cell_type": "code",
   "execution_count": 24,
   "metadata": {},
   "outputs": [
    {
     "data": {
      "text/plain": [
       "IterTools.Subsets{Array{Symbol,1}}([:Weight, :Price, :Length, :FuelTankCapacity, :Wheelbase, :RPM, :Horsepower, :EngineSize, :Cylinders, :Passengers])"
      ]
     },
     "execution_count": 24,
     "metadata": {},
     "output_type": "execute_result"
    }
   ],
   "source": [
    "#Pkg.add(\"IterTools\")\n",
    "vars = propertynames(cars[!,Not(:MPGCity)])\n",
    "varsPowerSet = subsets(vars)"
   ]
  },
  {
   "cell_type": "code",
   "execution_count": 25,
   "metadata": {
    "scrolled": true
   },
   "outputs": [
    {
     "name": "stdout",
     "output_type": "stream",
     "text": [
      "  1.031350 seconds (2.97 M allocations: 162.597 MiB, 4.85% gc time)\n"
     ]
    }
   ],
   "source": [
    "@time begin\n",
    "    AICs = []\n",
    "    bestAIC = -Inf\n",
    "    n = nrow(cars)\n",
    "    modelSize = []\n",
    "    bestExclusionVars = []\n",
    "    for (index,varsSubset) in enumerate(varsPowerSet)\n",
    "        if index < 1024\n",
    "            excludeVars = [:MPGCity; varsSubset]\n",
    "            k = ncol(cars) - length(excludeVars)\n",
    "            lmDeviance = lm(Matrix(cars[:,Not(excludeVars)]),cars[:,:MPGCity]) |> deviance \n",
    "            AIC = 2*k + n*log(lmDeviance)\n",
    "            push!(modelSize,k)\n",
    "            push!(AICs,AIC)\n",
    "        else\n",
    "        end\n",
    "    end\n",
    "end\n",
    "\n",
    "AICs = []\n",
    "bestAIC = -Inf\n",
    "n = nrow(cars)\n",
    "modelSize = []\n",
    "bestExclusionVars = []\n",
    "for (index,varsSubset) in enumerate(varsPowerSet)\n",
    "     if index < 1024\n",
    "        excludeVars = [:MPGCity; varsSubset]\n",
    "        k = ncol(cars) - length(excludeVars)\n",
    "        lmDeviance = lm(Matrix(cars[:,Not(excludeVars)]),cars[:,:MPGCity]) |> deviance \n",
    "        AIC = 2*k + n*log(lmDeviance)\n",
    "        push!(modelSize,k)\n",
    "        push!(AICs,AIC)\n",
    "    else\n",
    "    end\n",
    "end"
   ]
  },
  {
   "cell_type": "code",
   "execution_count": 26,
   "metadata": {},
   "outputs": [
    {
     "data": {
      "text/html": [
       "<table class=\"data-frame\"><thead><tr><th></th><th>AIC</th><th>size</th><th>which</th></tr><tr><th></th><th>Any</th><th>Any</th><th>Int64</th></tr></thead><tbody><p>20 rows × 3 columns</p><tr><th>1</th><td>623.0</td><td>6</td><td>453</td></tr><tr><th>2</th><td>623.079</td><td>5</td><td>461</td></tr><tr><th>3</th><td>623.973</td><td>4</td><td>967</td></tr><tr><th>4</th><td>624.306</td><td>5</td><td>965</td></tr><tr><th>5</th><td>624.43</td><td>5</td><td>455</td></tr><tr><th>6</th><td>624.693</td><td>7</td><td>325</td></tr><tr><th>7</th><td>624.754</td><td>7</td><td>197</td></tr><tr><th>8</th><td>624.778</td><td>6</td><td>205</td></tr><tr><th>9</th><td>624.784</td><td>6</td><td>837</td></tr><tr><th>10</th><td>624.8</td><td>7</td><td>449</td></tr><tr><th>11</th><td>624.884</td><td>4</td><td>973</td></tr><tr><th>12</th><td>624.916</td><td>6</td><td>457</td></tr><tr><th>13</th><td>624.967</td><td>7</td><td>389</td></tr><tr><th>14</th><td>624.984</td><td>6</td><td>333</td></tr><tr><th>15</th><td>624.997</td><td>6</td><td>397</td></tr><tr><th>16</th><td>625.387</td><td>5</td><td>839</td></tr><tr><th>17</th><td>625.498</td><td>6</td><td>709</td></tr><tr><th>18</th><td>625.667</td><td>6</td><td>391</td></tr><tr><th>19</th><td>625.787</td><td>6</td><td>901</td></tr><tr><th>20</th><td>625.794</td><td>5</td><td>711</td></tr></tbody></table>"
      ],
      "text/latex": [
       "\\begin{tabular}{r|ccc}\n",
       "\t& AIC & size & which\\\\\n",
       "\t\\hline\n",
       "\t& Any & Any & Int64\\\\\n",
       "\t\\hline\n",
       "\t1 & 623.0 & 6 & 453 \\\\\n",
       "\t2 & 623.079 & 5 & 461 \\\\\n",
       "\t3 & 623.973 & 4 & 967 \\\\\n",
       "\t4 & 624.306 & 5 & 965 \\\\\n",
       "\t5 & 624.43 & 5 & 455 \\\\\n",
       "\t6 & 624.693 & 7 & 325 \\\\\n",
       "\t7 & 624.754 & 7 & 197 \\\\\n",
       "\t8 & 624.778 & 6 & 205 \\\\\n",
       "\t9 & 624.784 & 6 & 837 \\\\\n",
       "\t10 & 624.8 & 7 & 449 \\\\\n",
       "\t11 & 624.884 & 4 & 973 \\\\\n",
       "\t12 & 624.916 & 6 & 457 \\\\\n",
       "\t13 & 624.967 & 7 & 389 \\\\\n",
       "\t14 & 624.984 & 6 & 333 \\\\\n",
       "\t15 & 624.997 & 6 & 397 \\\\\n",
       "\t16 & 625.387 & 5 & 839 \\\\\n",
       "\t17 & 625.498 & 6 & 709 \\\\\n",
       "\t18 & 625.667 & 6 & 391 \\\\\n",
       "\t19 & 625.787 & 6 & 901 \\\\\n",
       "\t20 & 625.794 & 5 & 711 \\\\\n",
       "\\end{tabular}\n"
      ],
      "text/plain": [
       "\u001b[1m20×3 DataFrame\u001b[0m\n",
       "\u001b[1m Row \u001b[0m│\u001b[1m AIC     \u001b[0m\u001b[1m size \u001b[0m\u001b[1m which \u001b[0m\n",
       "\u001b[1m     \u001b[0m│\u001b[90m Any     \u001b[0m\u001b[90m Any  \u001b[0m\u001b[90m Int64 \u001b[0m\n",
       "─────┼──────────────────────\n",
       "   1 │ 623.0    6       453\n",
       "   2 │ 623.079  5       461\n",
       "   3 │ 623.973  4       967\n",
       "   4 │ 624.306  5       965\n",
       "   5 │ 624.43   5       455\n",
       "   6 │ 624.693  7       325\n",
       "   7 │ 624.754  7       197\n",
       "   8 │ 624.778  6       205\n",
       "   9 │ 624.784  6       837\n",
       "  10 │ 624.8    7       449\n",
       "  11 │ 624.884  4       973\n",
       "  12 │ 624.916  6       457\n",
       "  13 │ 624.967  7       389\n",
       "  14 │ 624.984  6       333\n",
       "  15 │ 624.997  6       397\n",
       "  16 │ 625.387  5       839\n",
       "  17 │ 625.498  6       709\n",
       "  18 │ 625.667  6       391\n",
       "  19 │ 625.787  6       901\n",
       "  20 │ 625.794  5       711"
      ]
     },
     "execution_count": 26,
     "metadata": {},
     "output_type": "execute_result"
    }
   ],
   "source": [
    "aicWidx = DataFrame( AIC = AICs, size = modelSize, which = 1:length(AICs))\n",
    "\n",
    "sort!(aicWidx, [:AIC, :size], rev=false) |> x -> first(x,20) "
   ]
  },
  {
   "cell_type": "code",
   "execution_count": 27,
   "metadata": {},
   "outputs": [
    {
     "data": {
      "text/plain": [
       "4-element Array{Symbol,1}:\n",
       " :Weight\n",
       " :FuelTankCapacity\n",
       " :Wheelbase\n",
       " :RPM"
      ]
     },
     "execution_count": 27,
     "metadata": {},
     "output_type": "execute_result"
    }
   ],
   "source": [
    "exclVars = []\n",
    "for (n,set) in enumerate(varsPowerSet)\n",
    "    if n == 967\n",
    "        exclVars = [:MPGCity; set]\n",
    "    end\n",
    "end\n",
    "bestModel = propertynames(cars[:,Not(exclVars)])"
   ]
  },
  {
   "cell_type": "code",
   "execution_count": 28,
   "metadata": {},
   "outputs": [
    {
     "data": {
      "text/plain": [
       "808.6401190508552"
      ]
     },
     "execution_count": 28,
     "metadata": {},
     "output_type": "execute_result"
    }
   ],
   "source": [
    "deviance(lm(Matrix(cars[:,bestModel]),cars[:,:MPGCity]))"
   ]
  },
  {
   "cell_type": "code",
   "execution_count": 29,
   "metadata": {},
   "outputs": [
    {
     "data": {
      "text/plain": [
       "StatsModels.TableRegressionModel{LinearModel{GLM.LmResp{Array{Float64,1}},GLM.DensePredChol{Float64,LinearAlgebra.CholeskyPivoted{Float64,Array{Float64,2}}}},Array{Float64,2}}\n",
       "\n",
       "MPGCity ~ 1 + Weight + FuelTankCapacity + Wheelbase + RPM\n",
       "\n",
       "Coefficients:\n",
       "───────────────────────────────────────────────────────────────────────────────────────\n",
       "                         Coef.   Std. Error      t  Pr(>|t|)     Lower 95%    Upper 95%\n",
       "───────────────────────────────────────────────────────────────────────────────────────\n",
       "(Intercept)       28.1616       8.52094       3.30    0.0014  11.2253       45.0979\n",
       "Weight            -0.00797639   0.00153351   -5.20    <1e-5   -0.0110244    -0.00492837\n",
       "FuelTankCapacity  -0.388923     0.214338     -1.81    0.0730  -0.814944      0.0370976\n",
       "Wheelbase          0.210784     0.092988      2.27    0.0259   0.0259604     0.395608\n",
       "RPM                0.000631651  0.000579845   1.09    0.2790  -0.000520853   0.00178416\n",
       "───────────────────────────────────────────────────────────────────────────────────────"
      ]
     },
     "execution_count": 29,
     "metadata": {},
     "output_type": "execute_result"
    }
   ],
   "source": [
    "lm(@formula(MPGCity ~ Weight + FuelTankCapacity + Wheelbase + RPM),cars)"
   ]
  },
  {
   "cell_type": "code",
   "execution_count": null,
   "metadata": {},
   "outputs": [],
   "source": []
  },
  {
   "cell_type": "code",
   "execution_count": null,
   "metadata": {},
   "outputs": [],
   "source": []
  },
  {
   "cell_type": "code",
   "execution_count": null,
   "metadata": {},
   "outputs": [],
   "source": []
  },
  {
   "cell_type": "code",
   "execution_count": null,
   "metadata": {},
   "outputs": [],
   "source": []
  },
  {
   "cell_type": "code",
   "execution_count": null,
   "metadata": {},
   "outputs": [],
   "source": []
  },
  {
   "cell_type": "code",
   "execution_count": null,
   "metadata": {},
   "outputs": [],
   "source": []
  },
  {
   "cell_type": "code",
   "execution_count": null,
   "metadata": {},
   "outputs": [],
   "source": []
  },
  {
   "cell_type": "code",
   "execution_count": null,
   "metadata": {},
   "outputs": [],
   "source": []
  },
  {
   "cell_type": "code",
   "execution_count": null,
   "metadata": {},
   "outputs": [],
   "source": []
  },
  {
   "cell_type": "code",
   "execution_count": null,
   "metadata": {},
   "outputs": [],
   "source": []
  }
 ],
 "metadata": {
  "@webio": {
   "lastCommId": null,
   "lastKernelId": null
  },
  "kernelspec": {
   "display_name": "Julia 1.5.3",
   "language": "julia",
   "name": "julia-1.5"
  },
  "language_info": {
   "file_extension": ".jl",
   "mimetype": "application/julia",
   "name": "julia",
   "version": "1.5.3"
  }
 },
 "nbformat": 4,
 "nbformat_minor": 2
}
