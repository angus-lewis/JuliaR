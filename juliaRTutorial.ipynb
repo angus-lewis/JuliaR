{
 "cells": [
  {
   "cell_type": "markdown",
   "metadata": {},
   "source": [
    "# JuliaR\n",
    "\n",
    "### On DataFrames and R (dplyr)-like functionality in Julia\n",
    "\n",
    "<img src=\"meme.jpg\" alt=\"Drawing\" style=\"width: 500px;\"/>\n"
   ]
  },
  {
   "cell_type": "markdown",
   "metadata": {},
   "source": [
    "---"
   ]
  },
  {
   "cell_type": "markdown",
   "metadata": {},
   "source": [
    "---"
   ]
  },
  {
   "cell_type": "markdown",
   "metadata": {},
   "source": [
    "---"
   ]
  },
  {
   "cell_type": "markdown",
   "metadata": {},
   "source": [
    "---"
   ]
  },
  {
   "cell_type": "markdown",
   "metadata": {},
   "source": [
    "---"
   ]
  },
  {
   "cell_type": "markdown",
   "metadata": {},
   "source": [
    "## Package management \n",
    "\n",
    "### To download\n",
    "\n",
    "```Pkg.add``` $\\equiv$ ```install.packages```"
   ]
  },
  {
   "cell_type": "code",
   "execution_count": 93,
   "metadata": {},
   "outputs": [
    {
     "name": "stderr",
     "output_type": "stream",
     "text": [
      "\u001b[32m\u001b[1m  Resolving\u001b[22m\u001b[39m package versions...\n",
      "\u001b[32m\u001b[1m   Updating\u001b[22m\u001b[39m `~/.julia/environments/v1.4/Project.toml`\n",
      "\u001b[90m [no changes]\u001b[39m\n",
      "\u001b[32m\u001b[1m   Updating\u001b[22m\u001b[39m `~/.julia/environments/v1.4/Manifest.toml`\n",
      "\u001b[90m [no changes]\u001b[39m\n"
     ]
    }
   ],
   "source": [
    "import Pkg # load Pkg package into namespace\n",
    "Pkg.add(\"DataFrames\") # download package from github"
   ]
  },
  {
   "cell_type": "markdown",
   "metadata": {},
   "source": [
    "#### TASK: Now you do it!"
   ]
  },
  {
   "cell_type": "markdown",
   "metadata": {},
   "source": [
    "---"
   ]
  },
  {
   "cell_type": "markdown",
   "metadata": {},
   "source": [
    "### To load "
   ]
  },
  {
   "cell_type": "markdown",
   "metadata": {},
   "source": [
    "Either"
   ]
  },
  {
   "cell_type": "code",
   "execution_count": 2,
   "metadata": {},
   "outputs": [
    {
     "name": "stderr",
     "output_type": "stream",
     "text": [
      "┌ Info: Precompiling DataFrames [a93c6f00-e57d-5684-b7b6-d8193f3e46c0]\n",
      "└ @ Base loading.jl:1260\n"
     ]
    }
   ],
   "source": [
    "import DataFrames "
   ]
  },
  {
   "cell_type": "markdown",
   "metadata": {},
   "source": [
    "Adds functions/variables/structs from ```DataFrames``` to namesapces with ```DataFrames.``` prefix.\n",
    "\n",
    "i.e. "
   ]
  },
  {
   "cell_type": "code",
   "execution_count": 3,
   "metadata": {},
   "outputs": [
    {
     "data": {
      "text/plain": [
       "nrow (generic function with 2 methods)"
      ]
     },
     "execution_count": 3,
     "metadata": {},
     "output_type": "execute_result"
    }
   ],
   "source": [
    "DataFrames.nrow"
   ]
  },
  {
   "cell_type": "markdown",
   "metadata": {},
   "source": [
    "calls the ```nrow``` function from ```DataFrames```;\n",
    "\n",
    "sans prefix, ```nrow``` throws an error."
   ]
  },
  {
   "cell_type": "code",
   "execution_count": 94,
   "metadata": {},
   "outputs": [
    {
     "data": {
      "text/plain": [
       "nrow (generic function with 2 methods)"
      ]
     },
     "execution_count": 94,
     "metadata": {},
     "output_type": "execute_result"
    }
   ],
   "source": [
    "nrow"
   ]
  },
  {
   "cell_type": "markdown",
   "metadata": {},
   "source": [
    "or"
   ]
  },
  {
   "cell_type": "code",
   "execution_count": 95,
   "metadata": {},
   "outputs": [],
   "source": [
    "using DataFrames"
   ]
  },
  {
   "cell_type": "markdown",
   "metadata": {},
   "source": [
    "Adds exported functions/variables/structs from ```DataFrames``` to namespace.\n",
    "\n",
    "i.e. ```nrow()``` calls the ```nrow()``` function from ```DataFrames```."
   ]
  },
  {
   "cell_type": "code",
   "execution_count": 97,
   "metadata": {},
   "outputs": [
    {
     "data": {
      "text/plain": [
       "nrow (generic function with 2 methods)"
      ]
     },
     "execution_count": 97,
     "metadata": {},
     "output_type": "execute_result"
    }
   ],
   "source": [
    "nrow"
   ]
  },
  {
   "cell_type": "markdown",
   "metadata": {},
   "source": [
    "reminds me of the `attatch()` function in `R` "
   ]
  },
  {
   "cell_type": "markdown",
   "metadata": {},
   "source": [
    "---"
   ]
  },
  {
   "cell_type": "markdown",
   "metadata": {},
   "source": [
    "---"
   ]
  },
  {
   "cell_type": "markdown",
   "metadata": {},
   "source": [
    "---"
   ]
  },
  {
   "cell_type": "markdown",
   "metadata": {},
   "source": [
    "---"
   ]
  },
  {
   "cell_type": "markdown",
   "metadata": {},
   "source": [
    "---"
   ]
  },
  {
   "cell_type": "markdown",
   "metadata": {},
   "source": [
    "## Getting help\n",
    "\n",
    "1) type ```?``` then the thing you want help with in the REPL"
   ]
  },
  {
   "cell_type": "code",
   "execution_count": 98,
   "metadata": {},
   "outputs": [
    {
     "name": "stdout",
     "output_type": "stream",
     "text": [
      "search: \u001b[0m\u001b[1m+\u001b[22m\n",
      "\n"
     ]
    },
    {
     "data": {
      "text/latex": [
       "\\begin{verbatim}\n",
       "+(x, y...)\n",
       "\\end{verbatim}\n",
       "Addition operator. \\texttt{x+y+z+...} calls this function with all arguments, i.e. \\texttt{+(x, y, z, ...)}.\n",
       "\n",
       "\\section{Examples}\n",
       "\\begin{verbatim}\n",
       "julia> 1 + 20 + 4\n",
       "25\n",
       "\n",
       "julia> +(1, 20, 4)\n",
       "25\n",
       "\\end{verbatim}\n",
       "\\rule{\\textwidth}{1pt}\n",
       "\\begin{verbatim}\n",
       "dt::Date + t::Time -> DateTime\n",
       "\\end{verbatim}\n",
       "The addition of a \\texttt{Date} with a \\texttt{Time} produces a \\texttt{DateTime}. The hour, minute, second, and millisecond parts of the \\texttt{Time} are used along with the year, month, and day of the \\texttt{Date} to create the new \\texttt{DateTime}. Non-zero microseconds or nanoseconds in the \\texttt{Time} type will result in an \\texttt{InexactError} being thrown.\n",
       "\n"
      ],
      "text/markdown": [
       "```\n",
       "+(x, y...)\n",
       "```\n",
       "\n",
       "Addition operator. `x+y+z+...` calls this function with all arguments, i.e. `+(x, y, z, ...)`.\n",
       "\n",
       "# Examples\n",
       "\n",
       "```jldoctest\n",
       "julia> 1 + 20 + 4\n",
       "25\n",
       "\n",
       "julia> +(1, 20, 4)\n",
       "25\n",
       "```\n",
       "\n",
       "---\n",
       "\n",
       "```\n",
       "dt::Date + t::Time -> DateTime\n",
       "```\n",
       "\n",
       "The addition of a `Date` with a `Time` produces a `DateTime`. The hour, minute, second, and millisecond parts of the `Time` are used along with the year, month, and day of the `Date` to create the new `DateTime`. Non-zero microseconds or nanoseconds in the `Time` type will result in an `InexactError` being thrown.\n"
      ],
      "text/plain": [
       "\u001b[36m  +(x, y...)\u001b[39m\n",
       "\n",
       "  Addition operator. \u001b[36mx+y+z+...\u001b[39m calls this function with all arguments, i.e.\n",
       "  \u001b[36m+(x, y, z, ...)\u001b[39m.\n",
       "\n",
       "\u001b[1m  Examples\u001b[22m\n",
       "\u001b[1m  ≡≡≡≡≡≡≡≡≡≡\u001b[22m\n",
       "\n",
       "\u001b[36m  julia> 1 + 20 + 4\u001b[39m\n",
       "\u001b[36m  25\u001b[39m\n",
       "\u001b[36m  \u001b[39m\n",
       "\u001b[36m  julia> +(1, 20, 4)\u001b[39m\n",
       "\u001b[36m  25\u001b[39m\n",
       "\n",
       "  ────────────────────────────────────────────────────────────────────────────\n",
       "\n",
       "\u001b[36m  dt::Date + t::Time -> DateTime\u001b[39m\n",
       "\n",
       "  The addition of a \u001b[36mDate\u001b[39m with a \u001b[36mTime\u001b[39m produces a \u001b[36mDateTime\u001b[39m. The hour, minute,\n",
       "  second, and millisecond parts of the \u001b[36mTime\u001b[39m are used along with the year,\n",
       "  month, and day of the \u001b[36mDate\u001b[39m to create the new \u001b[36mDateTime\u001b[39m. Non-zero microseconds\n",
       "  or nanoseconds in the \u001b[36mTime\u001b[39m type will result in an \u001b[36mInexactError\u001b[39m being thrown."
      ]
     },
     "execution_count": 98,
     "metadata": {},
     "output_type": "execute_result"
    }
   ],
   "source": [
    "? + "
   ]
  },
  {
   "cell_type": "markdown",
   "metadata": {},
   "source": [
    "2) Google it. "
   ]
  },
  {
   "cell_type": "markdown",
   "metadata": {},
   "source": [
    "3) Post in the slack"
   ]
  },
  {
   "cell_type": "markdown",
   "metadata": {},
   "source": [
    "---"
   ]
  },
  {
   "cell_type": "markdown",
   "metadata": {},
   "source": [
    "---"
   ]
  },
  {
   "cell_type": "markdown",
   "metadata": {},
   "source": [
    "---"
   ]
  },
  {
   "cell_type": "markdown",
   "metadata": {},
   "source": [
    "---"
   ]
  },
  {
   "cell_type": "markdown",
   "metadata": {},
   "source": [
    "---"
   ]
  },
  {
   "cell_type": "markdown",
   "metadata": {},
   "source": [
    "## Functions (very quickly)"
   ]
  },
  {
   "cell_type": "markdown",
   "metadata": {},
   "source": [
    "Most similar to `R` is "
   ]
  },
  {
   "cell_type": "code",
   "execution_count": 166,
   "metadata": {},
   "outputs": [
    {
     "ename": "ErrorException",
     "evalue": "invalid redefinition of constant head",
     "output_type": "error",
     "traceback": [
      "invalid redefinition of constant head",
      "",
      "Stacktrace:",
      " [1] top-level scope at In[166]:1"
     ]
    }
   ],
   "source": [
    "head = function(x,y)\n",
    "    return first(df,4) # first is a function from DataFrames\n",
    "end "
   ]
  },
  {
   "cell_type": "markdown",
   "metadata": {},
   "source": [
    "most similar to MATLAB"
   ]
  },
  {
   "cell_type": "code",
   "execution_count": 100,
   "metadata": {},
   "outputs": [
    {
     "ename": "ErrorException",
     "evalue": "invalid redefinition of constant f1",
     "output_type": "error",
     "traceback": [
      "invalid redefinition of constant f1",
      "",
      "Stacktrace:",
      " [1] top-level scope at In[100]:1"
     ]
    }
   ],
   "source": [
    "f1 = function(x,y) \n",
    "    x*y\n",
    "end"
   ]
  },
  {
   "cell_type": "markdown",
   "metadata": {},
   "source": [
    "For piping, anonymous functions are neat"
   ]
  },
  {
   "cell_type": "code",
   "execution_count": 101,
   "metadata": {},
   "outputs": [
    {
     "data": {
      "text/plain": [
       "#32 (generic function with 1 method)"
      ]
     },
     "execution_count": 101,
     "metadata": {},
     "output_type": "execute_result"
    }
   ],
   "source": [
    "f2 = x -> x^2"
   ]
  },
  {
   "cell_type": "code",
   "execution_count": 102,
   "metadata": {},
   "outputs": [
    {
     "data": {
      "text/plain": [
       "16"
      ]
     },
     "execution_count": 102,
     "metadata": {},
     "output_type": "execute_result"
    }
   ],
   "source": [
    "f2(4)"
   ]
  },
  {
   "cell_type": "markdown",
   "metadata": {},
   "source": [
    "see also\n",
    " - broadcasting with `.` syntax (maybe the best feature there is! IMO) \n",
    " - methods and mutliple dispatch and types"
   ]
  },
  {
   "cell_type": "markdown",
   "metadata": {},
   "source": [
    "---"
   ]
  },
  {
   "cell_type": "markdown",
   "metadata": {},
   "source": [
    "---"
   ]
  },
  {
   "cell_type": "markdown",
   "metadata": {},
   "source": [
    "---"
   ]
  },
  {
   "cell_type": "markdown",
   "metadata": {},
   "source": [
    "---"
   ]
  },
  {
   "cell_type": "markdown",
   "metadata": {},
   "source": [
    "---"
   ]
  },
  {
   "cell_type": "markdown",
   "metadata": {},
   "source": [
    "## Piping (function compositon)\n",
    "\n",
    "Pass the object on the left to the function of the right. \n",
    "\n",
    "i.e. In R we use the `%>%` infix operator \n",
    "```\n",
    "> aFun <- function(x) x^2\n",
    "> b <- 2 \n",
    "> b %>% aFun\n",
    "[1] 4\n",
    "```\n",
    "\n",
    "In julia its `|>`"
   ]
  },
  {
   "cell_type": "code",
   "execution_count": 91,
   "metadata": {},
   "outputs": [
    {
     "data": {
      "text/plain": [
       "16"
      ]
     },
     "execution_count": 91,
     "metadata": {},
     "output_type": "execute_result"
    }
   ],
   "source": [
    "fun(x) = x^2\n",
    "b = 2 \n",
    "b |> fun |> fun "
   ]
  },
  {
   "cell_type": "markdown",
   "metadata": {},
   "source": [
    "with anonymous functions"
   ]
  },
  {
   "cell_type": "code",
   "execution_count": 104,
   "metadata": {},
   "outputs": [
    {
     "data": {
      "text/plain": [
       "8"
      ]
     },
     "execution_count": 104,
     "metadata": {},
     "output_type": "execute_result"
    }
   ],
   "source": [
    "b |> \n",
    "    x -> x^2 |> \n",
    "    x -> 2*x"
   ]
  },
  {
   "cell_type": "markdown",
   "metadata": {},
   "source": [
    "There are some other really cool function composition and piping stuff out there too\n",
    " - $f\\circ g$ notation type `?\\circ\\tab` into the REPL\n",
    " - or see the `Piping` package"
   ]
  },
  {
   "cell_type": "markdown",
   "metadata": {},
   "source": [
    "---"
   ]
  },
  {
   "cell_type": "markdown",
   "metadata": {},
   "source": [
    "---"
   ]
  },
  {
   "cell_type": "markdown",
   "metadata": {},
   "source": [
    "---"
   ]
  },
  {
   "cell_type": "markdown",
   "metadata": {},
   "source": [
    "---"
   ]
  },
  {
   "cell_type": "markdown",
   "metadata": {},
   "source": [
    "---"
   ]
  },
  {
   "cell_type": "markdown",
   "metadata": {},
   "source": [
    "## Loading data "
   ]
  },
  {
   "cell_type": "code",
   "execution_count": 73,
   "metadata": {},
   "outputs": [],
   "source": [
    "import CSV "
   ]
  },
  {
   "cell_type": "markdown",
   "metadata": {},
   "source": [
    "Either \n",
    "\n",
    "```CSV.read(\"cars.csv\", DataFrame)```\n",
    "\n",
    "or "
   ]
  },
  {
   "cell_type": "markdown",
   "metadata": {},
   "source": [
    "which is equivalent to "
   ]
  },
  {
   "cell_type": "code",
   "execution_count": 113,
   "metadata": {},
   "outputs": [
    {
     "data": {
      "text/html": [
       "<table class=\"data-frame\"><thead><tr><th></th><th>Manufacturer</th><th>Model</th><th>Type</th><th>MinPrice</th><th>Price</th><th>MaxPrice</th><th>MPGCity</th><th>MPGHighway</th></tr><tr><th></th><th>String</th><th>String</th><th>String</th><th>Float64</th><th>Float64</th><th>Float64</th><th>Int64</th><th>Int64</th></tr></thead><tbody><p>5 rows × 27 columns (omitted printing of 19 columns)</p><tr><th>1</th><td>Acura</td><td>Integra</td><td>Small</td><td>12.9</td><td>15.9</td><td>18.8</td><td>25</td><td>31</td></tr><tr><th>2</th><td>Acura</td><td>Legend</td><td>Midsize</td><td>29.2</td><td>33.9</td><td>38.7</td><td>18</td><td>25</td></tr><tr><th>3</th><td>Audi</td><td>90</td><td>Compact</td><td>25.9</td><td>29.1</td><td>32.3</td><td>20</td><td>26</td></tr><tr><th>4</th><td>Audi</td><td>100</td><td>Midsize</td><td>30.8</td><td>37.7</td><td>44.6</td><td>19</td><td>26</td></tr><tr><th>5</th><td>BMW</td><td>535i</td><td>Midsize</td><td>23.7</td><td>30.0</td><td>36.2</td><td>22</td><td>30</td></tr></tbody></table>"
      ],
      "text/latex": [
       "\\begin{tabular}{r|ccccccccc}\n",
       "\t& Manufacturer & Model & Type & MinPrice & Price & MaxPrice & MPGCity & MPGHighway & \\\\\n",
       "\t\\hline\n",
       "\t& String & String & String & Float64 & Float64 & Float64 & Int64 & Int64 & \\\\\n",
       "\t\\hline\n",
       "\t1 & Acura & Integra & Small & 12.9 & 15.9 & 18.8 & 25 & 31 & $\\dots$ \\\\\n",
       "\t2 & Acura & Legend & Midsize & 29.2 & 33.9 & 38.7 & 18 & 25 & $\\dots$ \\\\\n",
       "\t3 & Audi & 90 & Compact & 25.9 & 29.1 & 32.3 & 20 & 26 & $\\dots$ \\\\\n",
       "\t4 & Audi & 100 & Midsize & 30.8 & 37.7 & 44.6 & 19 & 26 & $\\dots$ \\\\\n",
       "\t5 & BMW & 535i & Midsize & 23.7 & 30.0 & 36.2 & 22 & 30 & $\\dots$ \\\\\n",
       "\\end{tabular}\n"
      ],
      "text/plain": [
       "5×27 DataFrame. Omitted printing of 21 columns\n",
       "│ Row │ Manufacturer │ Model   │ Type    │ MinPrice │ Price   │ MaxPrice │\n",
       "│     │ \u001b[90mString\u001b[39m       │ \u001b[90mString\u001b[39m  │ \u001b[90mString\u001b[39m  │ \u001b[90mFloat64\u001b[39m  │ \u001b[90mFloat64\u001b[39m │ \u001b[90mFloat64\u001b[39m  │\n",
       "├─────┼──────────────┼─────────┼─────────┼──────────┼─────────┼──────────┤\n",
       "│ 1   │ Acura        │ Integra │ Small   │ 12.9     │ 15.9    │ 18.8     │\n",
       "│ 2   │ Acura        │ Legend  │ Midsize │ 29.2     │ 33.9    │ 38.7     │\n",
       "│ 3   │ Audi         │ 90      │ Compact │ 25.9     │ 29.1    │ 32.3     │\n",
       "│ 4   │ Audi         │ 100     │ Midsize │ 30.8     │ 37.7    │ 44.6     │\n",
       "│ 5   │ BMW          │ 535i    │ Midsize │ 23.7     │ 30.0    │ 36.2     │"
      ]
     },
     "execution_count": 113,
     "metadata": {},
     "output_type": "execute_result"
    }
   ],
   "source": [
    "cars = CSV.File(\"cars.csv\") |> DataFrame \n",
    "cars |> head "
   ]
  },
  {
   "cell_type": "markdown",
   "metadata": {},
   "source": [
    "There is also a ```DelimitedFiles``` package, but I've never used it. "
   ]
  },
  {
   "cell_type": "markdown",
   "metadata": {},
   "source": [
    "---"
   ]
  },
  {
   "cell_type": "markdown",
   "metadata": {},
   "source": [
    "---"
   ]
  },
  {
   "cell_type": "markdown",
   "metadata": {},
   "source": [
    "---"
   ]
  },
  {
   "cell_type": "markdown",
   "metadata": {},
   "source": [
    "---"
   ]
  },
  {
   "cell_type": "markdown",
   "metadata": {},
   "source": [
    "---"
   ]
  },
  {
   "cell_type": "markdown",
   "metadata": {},
   "source": [
    "## Basic operations \n",
    "\n",
    "The usage of some functionality is *exactly* the same as R;"
   ]
  },
  {
   "cell_type": "code",
   "execution_count": 114,
   "metadata": {},
   "outputs": [
    {
     "data": {
      "text/plain": [
       "93"
      ]
     },
     "execution_count": 114,
     "metadata": {},
     "output_type": "execute_result"
    }
   ],
   "source": [
    "nrow(cars)"
   ]
  },
  {
   "cell_type": "code",
   "execution_count": 115,
   "metadata": {},
   "outputs": [
    {
     "data": {
      "text/plain": [
       "27"
      ]
     },
     "execution_count": 115,
     "metadata": {},
     "output_type": "execute_result"
    }
   ],
   "source": [
    "ncol(cars)"
   ]
  },
  {
   "cell_type": "code",
   "execution_count": 116,
   "metadata": {},
   "outputs": [
    {
     "data": {
      "text/plain": [
       "27-element Array{String,1}:\n",
       " \"Manufacturer\"\n",
       " \"Model\"\n",
       " \"Type\"\n",
       " \"MinPrice\"\n",
       " \"Price\"\n",
       " \"MaxPrice\"\n",
       " \"MPGCity\"\n",
       " \"MPGHighway\"\n",
       " \"AirBags\"\n",
       " \"DriveTrain\"\n",
       " \"Cylinders\"\n",
       " \"EngineSize\"\n",
       " \"Horsepower\"\n",
       " ⋮\n",
       " \"ManTransAvail\"\n",
       " \"FuelTankCapacity\"\n",
       " \"Passengers\"\n",
       " \"Length\"\n",
       " \"Wheelbase\"\n",
       " \"Width\"\n",
       " \"TurnCircle\"\n",
       " \"RearSeatRoom\"\n",
       " \"LuggageRoom\"\n",
       " \"Weight\"\n",
       " \"Origin\"\n",
       " \"Make\""
      ]
     },
     "execution_count": 116,
     "metadata": {},
     "output_type": "execute_result"
    }
   ],
   "source": [
    "names(cars)"
   ]
  },
  {
   "cell_type": "markdown",
   "metadata": {},
   "source": [
    "---"
   ]
  },
  {
   "cell_type": "markdown",
   "metadata": {},
   "source": [
    "---"
   ]
  },
  {
   "cell_type": "markdown",
   "metadata": {},
   "source": [
    "---"
   ]
  },
  {
   "cell_type": "markdown",
   "metadata": {},
   "source": [
    "---"
   ]
  },
  {
   "cell_type": "markdown",
   "metadata": {},
   "source": [
    "---"
   ]
  },
  {
   "cell_type": "markdown",
   "metadata": {},
   "source": [
    "## Indexing ```DataFrames```\n",
    "\n",
    "There are many options (too many?).\n",
    "\n",
    "Either "
   ]
  },
  {
   "cell_type": "code",
   "execution_count": 121,
   "metadata": {},
   "outputs": [
    {
     "data": {
      "text/plain": [
       "93-element PooledArrays.PooledArray{String,UInt32,1,Array{UInt32,1}}:\n",
       " \"Small\"\n",
       " \"Midsize\"\n",
       " \"Compact\"\n",
       " \"Midsize\"\n",
       " \"Midsize\"\n",
       " \"Midsize\"\n",
       " \"Large\"\n",
       " \"Large\"\n",
       " \"Midsize\"\n",
       " \"Large\"\n",
       " \"Midsize\"\n",
       " \"Compact\"\n",
       " \"Compact\"\n",
       " ⋮\n",
       " \"Compact\"\n",
       " \"Small\"\n",
       " \"Small\"\n",
       " \"Sporty\"\n",
       " \"Midsize\"\n",
       " \"Van\"\n",
       " \"Small\"\n",
       " \"Van\"\n",
       " \"Compact\"\n",
       " \"Sporty\"\n",
       " \"Compact\"\n",
       " \"Midsize\""
      ]
     },
     "execution_count": 121,
     "metadata": {},
     "output_type": "execute_result"
    }
   ],
   "source": [
    "cars.Type # most similar to income$Sex in R\n",
    "cars.\"Type\" "
   ]
  },
  {
   "cell_type": "markdown",
   "metadata": {},
   "source": [
    "Or index with square brackets\n",
    "```\n",
    "cars[rows, columns]\n",
    "```\n",
    "\n",
    "To get all rows we use either\n",
    "```\n",
    ": # as in MATLAB\n",
    "```\n",
    "or\n",
    "```\n",
    "! \n",
    "```\n",
    "\n",
    "The columns argument can be any of (all 3 return the same thing)\n",
    "```\n",
    ":Type      # the syntax for a Symbol type\n",
    "\"Type\"     # string\n",
    "3          # column number \n",
    "```\n",
    "or as a vector (all 3 return the same thing)\n",
    "```\n",
    "[:Type]\n",
    "[\"Type\"]\n",
    "[3]\n",
    "```\n"
   ]
  },
  {
   "cell_type": "markdown",
   "metadata": {},
   "source": [
    "#### TASK: What is the difference beetween "
   ]
  },
  {
   "cell_type": "code",
   "execution_count": 129,
   "metadata": {},
   "outputs": [],
   "source": [
    "cars[:,[:Type]]\n",
    "cars[!,[:Type]];"
   ]
  },
  {
   "cell_type": "markdown",
   "metadata": {},
   "source": [
    "#### what is the difference between "
   ]
  },
  {
   "cell_type": "code",
   "execution_count": 132,
   "metadata": {},
   "outputs": [],
   "source": [
    "cars[:,:Type]\n",
    "cars[:,[:Type]];"
   ]
  },
  {
   "cell_type": "markdown",
   "metadata": {},
   "source": [
    "#### what does this one do"
   ]
  },
  {
   "cell_type": "code",
   "execution_count": 135,
   "metadata": {},
   "outputs": [],
   "source": [
    "cars.Type; # or cars.\"Type\" same-same "
   ]
  },
  {
   "cell_type": "markdown",
   "metadata": {},
   "source": [
    "---"
   ]
  },
  {
   "cell_type": "markdown",
   "metadata": {},
   "source": [
    "The following are all ways to index a `DataFrame`. "
   ]
  },
  {
   "cell_type": "code",
   "execution_count": 142,
   "metadata": {},
   "outputs": [],
   "source": [
    "## Return a VIEW as a Vector\n",
    "cars.Type      ## most similar to cars$Type in R\n",
    "cars.\"Type\"\n",
    "cars[!,:Type] \n",
    "cars[!,\"Type\"]\n",
    "cars[!,3]\n",
    "\n",
    "## Return a COPY as a Vector \n",
    "cars[:,:Type] \n",
    "cars[:,\"Type\"]\n",
    "cars[:,3]\n",
    "\n",
    "## return a COPY as a DataFrame\n",
    "cars[:,[:Type]]\n",
    "cars[:,[\"Type\"]]\n",
    "cars[:,[3]]\n",
    "\n",
    "## return a VIEW as a DataFrame\n",
    "cars[!,[:Type]] # this is my personal preference\n",
    "cars[!,[\"Type\"]]\n",
    "cars[!,[3]];"
   ]
  },
  {
   "cell_type": "markdown",
   "metadata": {},
   "source": [
    "can also index columns via arrays and logicals but better to use `filter` see below "
   ]
  },
  {
   "cell_type": "markdown",
   "metadata": {},
   "source": [
    "We can also pass arrays of indicies "
   ]
  },
  {
   "cell_type": "code",
   "execution_count": 153,
   "metadata": {},
   "outputs": [
    {
     "data": {
      "text/html": [
       "<table class=\"data-frame\"><thead><tr><th></th><th>Type</th><th>Model</th></tr><tr><th></th><th>String</th><th>String</th></tr></thead><tbody><p>5 rows × 2 columns</p><tr><th>1</th><td>p</td><td>Integra</td></tr><tr><th>2</th><td>Midsize</td><td>Legend</td></tr><tr><th>3</th><td>Compact</td><td>90</td></tr><tr><th>4</th><td>Midsize</td><td>100</td></tr><tr><th>5</th><td>Midsize</td><td>535i</td></tr></tbody></table>"
      ],
      "text/latex": [
       "\\begin{tabular}{r|cc}\n",
       "\t& Type & Model\\\\\n",
       "\t\\hline\n",
       "\t& String & String\\\\\n",
       "\t\\hline\n",
       "\t1 & p & Integra \\\\\n",
       "\t2 & Midsize & Legend \\\\\n",
       "\t3 & Compact & 90 \\\\\n",
       "\t4 & Midsize & 100 \\\\\n",
       "\t5 & Midsize & 535i \\\\\n",
       "\\end{tabular}\n"
      ],
      "text/plain": [
       "5×2 DataFrame\n",
       "│ Row │ Type    │ Model   │\n",
       "│     │ \u001b[90mString\u001b[39m  │ \u001b[90mString\u001b[39m  │\n",
       "├─────┼─────────┼─────────┤\n",
       "│ 1   │ p       │ Integra │\n",
       "│ 2   │ Midsize │ Legend  │\n",
       "│ 3   │ Compact │ 90      │\n",
       "│ 4   │ Midsize │ 100     │\n",
       "│ 5   │ Midsize │ 535i    │"
      ]
     },
     "execution_count": 153,
     "metadata": {},
     "output_type": "execute_result"
    }
   ],
   "source": [
    "cars[!,[:Type, :Model]] |> head "
   ]
  },
  {
   "cell_type": "markdown",
   "metadata": {},
   "source": [
    "or invert selection with "
   ]
  },
  {
   "cell_type": "code",
   "execution_count": 154,
   "metadata": {},
   "outputs": [
    {
     "data": {
      "text/html": [
       "<table class=\"data-frame\"><thead><tr><th></th><th>Manufacturer</th><th>MinPrice</th><th>Price</th><th>MaxPrice</th><th>MPGCity</th><th>MPGHighway</th><th>AirBags</th></tr><tr><th></th><th>String</th><th>Float64</th><th>Float64</th><th>Float64</th><th>Int64</th><th>Int64</th><th>String</th></tr></thead><tbody><p>5 rows × 25 columns (omitted printing of 18 columns)</p><tr><th>1</th><td>Acura</td><td>12.9</td><td>15.9</td><td>18.8</td><td>25</td><td>31</td><td>None</td></tr><tr><th>2</th><td>Acura</td><td>29.2</td><td>33.9</td><td>38.7</td><td>18</td><td>25</td><td>Driver &amp; Passenger</td></tr><tr><th>3</th><td>Audi</td><td>25.9</td><td>29.1</td><td>32.3</td><td>20</td><td>26</td><td>Driver only</td></tr><tr><th>4</th><td>Audi</td><td>30.8</td><td>37.7</td><td>44.6</td><td>19</td><td>26</td><td>Driver &amp; Passenger</td></tr><tr><th>5</th><td>BMW</td><td>23.7</td><td>30.0</td><td>36.2</td><td>22</td><td>30</td><td>Driver only</td></tr></tbody></table>"
      ],
      "text/latex": [
       "\\begin{tabular}{r|cccccccc}\n",
       "\t& Manufacturer & MinPrice & Price & MaxPrice & MPGCity & MPGHighway & AirBags & \\\\\n",
       "\t\\hline\n",
       "\t& String & Float64 & Float64 & Float64 & Int64 & Int64 & String & \\\\\n",
       "\t\\hline\n",
       "\t1 & Acura & 12.9 & 15.9 & 18.8 & 25 & 31 & None & $\\dots$ \\\\\n",
       "\t2 & Acura & 29.2 & 33.9 & 38.7 & 18 & 25 & Driver \\& Passenger & $\\dots$ \\\\\n",
       "\t3 & Audi & 25.9 & 29.1 & 32.3 & 20 & 26 & Driver only & $\\dots$ \\\\\n",
       "\t4 & Audi & 30.8 & 37.7 & 44.6 & 19 & 26 & Driver \\& Passenger & $\\dots$ \\\\\n",
       "\t5 & BMW & 23.7 & 30.0 & 36.2 & 22 & 30 & Driver only & $\\dots$ \\\\\n",
       "\\end{tabular}\n"
      ],
      "text/plain": [
       "5×25 DataFrame. Omitted printing of 19 columns\n",
       "│ Row │ Manufacturer │ MinPrice │ Price   │ MaxPrice │ MPGCity │ MPGHighway │\n",
       "│     │ \u001b[90mString\u001b[39m       │ \u001b[90mFloat64\u001b[39m  │ \u001b[90mFloat64\u001b[39m │ \u001b[90mFloat64\u001b[39m  │ \u001b[90mInt64\u001b[39m   │ \u001b[90mInt64\u001b[39m      │\n",
       "├─────┼──────────────┼──────────┼─────────┼──────────┼─────────┼────────────┤\n",
       "│ 1   │ Acura        │ 12.9     │ 15.9    │ 18.8     │ 25      │ 31         │\n",
       "│ 2   │ Acura        │ 29.2     │ 33.9    │ 38.7     │ 18      │ 25         │\n",
       "│ 3   │ Audi         │ 25.9     │ 29.1    │ 32.3     │ 20      │ 26         │\n",
       "│ 4   │ Audi         │ 30.8     │ 37.7    │ 44.6     │ 19      │ 26         │\n",
       "│ 5   │ BMW          │ 23.7     │ 30.0    │ 36.2     │ 22      │ 30         │"
      ]
     },
     "execution_count": 154,
     "metadata": {},
     "output_type": "execute_result"
    }
   ],
   "source": [
    "cars[!,Not([:Type,:Model])] |> head "
   ]
  },
  {
   "cell_type": "markdown",
   "metadata": {},
   "source": [
    "---"
   ]
  },
  {
   "cell_type": "markdown",
   "metadata": {},
   "source": [
    "#### What is the difference between a *copy* and a *view*"
   ]
  },
  {
   "cell_type": "code",
   "execution_count": 161,
   "metadata": {},
   "outputs": [
    {
     "data": {
      "text/html": [
       "<table class=\"data-frame\"><thead><tr><th></th><th>Type</th></tr><tr><th></th><th>String</th></tr></thead><tbody><p>5 rows × 1 columns</p><tr><th>1</th><td>hello</td></tr><tr><th>2</th><td>Midsize</td></tr><tr><th>3</th><td>Compact</td></tr><tr><th>4</th><td>Midsize</td></tr><tr><th>5</th><td>Midsize</td></tr></tbody></table>"
      ],
      "text/latex": [
       "\\begin{tabular}{r|c}\n",
       "\t& Type\\\\\n",
       "\t\\hline\n",
       "\t& String\\\\\n",
       "\t\\hline\n",
       "\t1 & hello \\\\\n",
       "\t2 & Midsize \\\\\n",
       "\t3 & Compact \\\\\n",
       "\t4 & Midsize \\\\\n",
       "\t5 & Midsize \\\\\n",
       "\\end{tabular}\n"
      ],
      "text/plain": [
       "5×1 DataFrame\n",
       "│ Row │ Type    │\n",
       "│     │ \u001b[90mString\u001b[39m  │\n",
       "├─────┼─────────┤\n",
       "│ 1   │ hello   │\n",
       "│ 2   │ Midsize │\n",
       "│ 3   │ Compact │\n",
       "│ 4   │ Midsize │\n",
       "│ 5   │ Midsize │"
      ]
     },
     "execution_count": 161,
     "metadata": {},
     "output_type": "execute_result"
    }
   ],
   "source": [
    "aCopy = cars[:,[:Type]]     # select Type column as a COPY\n",
    "aCopy[1,:Type] = \"hello\"    # change the first element\n",
    "aCopy |> head               # print the copy"
   ]
  },
  {
   "cell_type": "code",
   "execution_count": 162,
   "metadata": {},
   "outputs": [
    {
     "data": {
      "text/html": [
       "<table class=\"data-frame\"><thead><tr><th></th><th>Manufacturer</th><th>Model</th><th>Type</th><th>MinPrice</th><th>Price</th><th>MaxPrice</th><th>MPGCity</th><th>MPGHighway</th></tr><tr><th></th><th>String</th><th>String</th><th>String</th><th>Float64</th><th>Float64</th><th>Float64</th><th>Int64</th><th>Int64</th></tr></thead><tbody><p>5 rows × 27 columns (omitted printing of 19 columns)</p><tr><th>1</th><td>Acura</td><td>Integra</td><td>p</td><td>12.9</td><td>15.9</td><td>18.8</td><td>25</td><td>31</td></tr><tr><th>2</th><td>Acura</td><td>Legend</td><td>Midsize</td><td>29.2</td><td>33.9</td><td>38.7</td><td>18</td><td>25</td></tr><tr><th>3</th><td>Audi</td><td>90</td><td>Compact</td><td>25.9</td><td>29.1</td><td>32.3</td><td>20</td><td>26</td></tr><tr><th>4</th><td>Audi</td><td>100</td><td>Midsize</td><td>30.8</td><td>37.7</td><td>44.6</td><td>19</td><td>26</td></tr><tr><th>5</th><td>BMW</td><td>535i</td><td>Midsize</td><td>23.7</td><td>30.0</td><td>36.2</td><td>22</td><td>30</td></tr></tbody></table>"
      ],
      "text/latex": [
       "\\begin{tabular}{r|ccccccccc}\n",
       "\t& Manufacturer & Model & Type & MinPrice & Price & MaxPrice & MPGCity & MPGHighway & \\\\\n",
       "\t\\hline\n",
       "\t& String & String & String & Float64 & Float64 & Float64 & Int64 & Int64 & \\\\\n",
       "\t\\hline\n",
       "\t1 & Acura & Integra & p & 12.9 & 15.9 & 18.8 & 25 & 31 & $\\dots$ \\\\\n",
       "\t2 & Acura & Legend & Midsize & 29.2 & 33.9 & 38.7 & 18 & 25 & $\\dots$ \\\\\n",
       "\t3 & Audi & 90 & Compact & 25.9 & 29.1 & 32.3 & 20 & 26 & $\\dots$ \\\\\n",
       "\t4 & Audi & 100 & Midsize & 30.8 & 37.7 & 44.6 & 19 & 26 & $\\dots$ \\\\\n",
       "\t5 & BMW & 535i & Midsize & 23.7 & 30.0 & 36.2 & 22 & 30 & $\\dots$ \\\\\n",
       "\\end{tabular}\n"
      ],
      "text/plain": [
       "5×27 DataFrame. Omitted printing of 21 columns\n",
       "│ Row │ Manufacturer │ Model   │ Type    │ MinPrice │ Price   │ MaxPrice │\n",
       "│     │ \u001b[90mString\u001b[39m       │ \u001b[90mString\u001b[39m  │ \u001b[90mString\u001b[39m  │ \u001b[90mFloat64\u001b[39m  │ \u001b[90mFloat64\u001b[39m │ \u001b[90mFloat64\u001b[39m  │\n",
       "├─────┼──────────────┼─────────┼─────────┼──────────┼─────────┼──────────┤\n",
       "│ 1   │ Acura        │ Integra │ p       │ 12.9     │ 15.9    │ 18.8     │\n",
       "│ 2   │ Acura        │ Legend  │ Midsize │ 29.2     │ 33.9    │ 38.7     │\n",
       "│ 3   │ Audi         │ 90      │ Compact │ 25.9     │ 29.1    │ 32.3     │\n",
       "│ 4   │ Audi         │ 100     │ Midsize │ 30.8     │ 37.7    │ 44.6     │\n",
       "│ 5   │ BMW          │ 535i    │ Midsize │ 23.7     │ 30.0    │ 36.2     │"
      ]
     },
     "execution_count": 162,
     "metadata": {},
     "output_type": "execute_result"
    }
   ],
   "source": [
    "cars |> head       # print original and compare "
   ]
  },
  {
   "cell_type": "code",
   "execution_count": 164,
   "metadata": {},
   "outputs": [
    {
     "data": {
      "text/html": [
       "<table class=\"data-frame\"><thead><tr><th></th><th>Type</th></tr><tr><th></th><th>String</th></tr></thead><tbody><p>5 rows × 1 columns</p><tr><th>1</th><td>hello</td></tr><tr><th>2</th><td>Midsize</td></tr><tr><th>3</th><td>Compact</td></tr><tr><th>4</th><td>Midsize</td></tr><tr><th>5</th><td>Midsize</td></tr></tbody></table>"
      ],
      "text/latex": [
       "\\begin{tabular}{r|c}\n",
       "\t& Type\\\\\n",
       "\t\\hline\n",
       "\t& String\\\\\n",
       "\t\\hline\n",
       "\t1 & hello \\\\\n",
       "\t2 & Midsize \\\\\n",
       "\t3 & Compact \\\\\n",
       "\t4 & Midsize \\\\\n",
       "\t5 & Midsize \\\\\n",
       "\\end{tabular}\n"
      ],
      "text/plain": [
       "5×1 DataFrame\n",
       "│ Row │ Type    │\n",
       "│     │ \u001b[90mString\u001b[39m  │\n",
       "├─────┼─────────┤\n",
       "│ 1   │ hello   │\n",
       "│ 2   │ Midsize │\n",
       "│ 3   │ Compact │\n",
       "│ 4   │ Midsize │\n",
       "│ 5   │ Midsize │"
      ]
     },
     "execution_count": 164,
     "metadata": {},
     "output_type": "execute_result"
    }
   ],
   "source": [
    "aView = cars[!,[:Type]]     # select the Type column as a VIEW\n",
    "aView[1,:Type] = \"hello\"    # change the first element\n",
    "aView |> head               # print the view"
   ]
  },
  {
   "cell_type": "code",
   "execution_count": 165,
   "metadata": {},
   "outputs": [
    {
     "data": {
      "text/html": [
       "<table class=\"data-frame\"><thead><tr><th></th><th>Manufacturer</th><th>Model</th><th>Type</th><th>MinPrice</th><th>Price</th><th>MaxPrice</th><th>MPGCity</th><th>MPGHighway</th></tr><tr><th></th><th>String</th><th>String</th><th>String</th><th>Float64</th><th>Float64</th><th>Float64</th><th>Int64</th><th>Int64</th></tr></thead><tbody><p>5 rows × 27 columns (omitted printing of 19 columns)</p><tr><th>1</th><td>Acura</td><td>Integra</td><td>hello</td><td>12.9</td><td>15.9</td><td>18.8</td><td>25</td><td>31</td></tr><tr><th>2</th><td>Acura</td><td>Legend</td><td>Midsize</td><td>29.2</td><td>33.9</td><td>38.7</td><td>18</td><td>25</td></tr><tr><th>3</th><td>Audi</td><td>90</td><td>Compact</td><td>25.9</td><td>29.1</td><td>32.3</td><td>20</td><td>26</td></tr><tr><th>4</th><td>Audi</td><td>100</td><td>Midsize</td><td>30.8</td><td>37.7</td><td>44.6</td><td>19</td><td>26</td></tr><tr><th>5</th><td>BMW</td><td>535i</td><td>Midsize</td><td>23.7</td><td>30.0</td><td>36.2</td><td>22</td><td>30</td></tr></tbody></table>"
      ],
      "text/latex": [
       "\\begin{tabular}{r|ccccccccc}\n",
       "\t& Manufacturer & Model & Type & MinPrice & Price & MaxPrice & MPGCity & MPGHighway & \\\\\n",
       "\t\\hline\n",
       "\t& String & String & String & Float64 & Float64 & Float64 & Int64 & Int64 & \\\\\n",
       "\t\\hline\n",
       "\t1 & Acura & Integra & hello & 12.9 & 15.9 & 18.8 & 25 & 31 & $\\dots$ \\\\\n",
       "\t2 & Acura & Legend & Midsize & 29.2 & 33.9 & 38.7 & 18 & 25 & $\\dots$ \\\\\n",
       "\t3 & Audi & 90 & Compact & 25.9 & 29.1 & 32.3 & 20 & 26 & $\\dots$ \\\\\n",
       "\t4 & Audi & 100 & Midsize & 30.8 & 37.7 & 44.6 & 19 & 26 & $\\dots$ \\\\\n",
       "\t5 & BMW & 535i & Midsize & 23.7 & 30.0 & 36.2 & 22 & 30 & $\\dots$ \\\\\n",
       "\\end{tabular}\n"
      ],
      "text/plain": [
       "5×27 DataFrame. Omitted printing of 21 columns\n",
       "│ Row │ Manufacturer │ Model   │ Type    │ MinPrice │ Price   │ MaxPrice │\n",
       "│     │ \u001b[90mString\u001b[39m       │ \u001b[90mString\u001b[39m  │ \u001b[90mString\u001b[39m  │ \u001b[90mFloat64\u001b[39m  │ \u001b[90mFloat64\u001b[39m │ \u001b[90mFloat64\u001b[39m  │\n",
       "├─────┼──────────────┼─────────┼─────────┼──────────┼─────────┼──────────┤\n",
       "│ 1   │ Acura        │ Integra │ hello   │ 12.9     │ 15.9    │ 18.8     │\n",
       "│ 2   │ Acura        │ Legend  │ Midsize │ 29.2     │ 33.9    │ 38.7     │\n",
       "│ 3   │ Audi         │ 90      │ Compact │ 25.9     │ 29.1    │ 32.3     │\n",
       "│ 4   │ Audi         │ 100     │ Midsize │ 30.8     │ 37.7    │ 44.6     │\n",
       "│ 5   │ BMW          │ 535i    │ Midsize │ 23.7     │ 30.0    │ 36.2     │"
      ]
     },
     "execution_count": 165,
     "metadata": {},
     "output_type": "execute_result"
    }
   ],
   "source": [
    "cars |> head      # now it has changed "
   ]
  },
  {
   "cell_type": "code",
   "execution_count": null,
   "metadata": {},
   "outputs": [],
   "source": []
  },
  {
   "cell_type": "markdown",
   "metadata": {},
   "source": [
    "***```cars``` has how changed!!!!***\n",
    "\n",
    "Be careful."
   ]
  },
  {
   "cell_type": "markdown",
   "metadata": {},
   "source": [
    "---"
   ]
  },
  {
   "cell_type": "markdown",
   "metadata": {},
   "source": [
    "---"
   ]
  },
  {
   "cell_type": "markdown",
   "metadata": {},
   "source": [
    "---"
   ]
  },
  {
   "cell_type": "markdown",
   "metadata": {},
   "source": [
    "---"
   ]
  },
  {
   "cell_type": "markdown",
   "metadata": {},
   "source": [
    "---"
   ]
  },
  {
   "cell_type": "markdown",
   "metadata": {},
   "source": [
    "---"
   ]
  },
  {
   "cell_type": "markdown",
   "metadata": {},
   "source": [
    "## A likeness with ```dplyr```\n",
    "\n",
    "The ```DataFrames``` package has the same data manipulation functionality as ```dplyr```\n",
    "\n",
    "\n",
    "\n",
    "``` R ``` functions and their ```julia``` equivalents;\n",
    "\n",
    " - In R ```rename()```$\\equiv$ in julia ```rename()``` - rename columns.\n",
    " \n",
    " - In R ```filter()```$\\equiv$ in julia ```filter()``` - picks cases based on their values.\n",
    " \n",
    " - In R ```select()```$\\equiv$ in julia ```select()``` - picks variables based on their names.\n",
    " \n",
    " - In R ```mutate()```$\\equiv$ in julia ```transform()``` - adds new variables that are functions of existing variables.\n",
    "\n",
    " - In R ```summarise()```$\\equiv$ in julia ```combine()``` - reduces multiple values down to a single summary\n",
    "\n",
    " - In R ```arrange()```$\\equiv$ in julia ```sort()``` - changes the ordering of the rows.\n",
    " \n",
    " - In R ```group_by()```$\\equiv$in julia ```groupby()``` - returns a ```GroupedDataFrame``` object.\n",
    " \n",
    "\n",
    "```rename!(), filter!(), select!(), transform!(), sort!()``` also exist to manipulate DataFrames in-place\n",
    " \n",
    "Here, common syntax is either \n",
    "```\n",
    ":ColumName => :NewName\n",
    ":ColumName => function => :NewName\n",
    ":ColumName => function\n",
    "```\n",
    "\n",
    "Ex's.\n",
    "\n"
   ]
  },
  {
   "cell_type": "code",
   "execution_count": 242,
   "metadata": {},
   "outputs": [],
   "source": [
    "cars = CSV.File(\"cars.csv\") |> DataFrame; # read in the data again 'cause I changed it"
   ]
  },
  {
   "cell_type": "code",
   "execution_count": 243,
   "metadata": {},
   "outputs": [
    {
     "data": {
      "text/html": [
       "<table class=\"data-frame\"><thead><tr><th></th><th>Manufacturer</th><th>Model</th><th>Type</th><th>MinPrice</th><th>Price</th><th>MaxPrice</th><th>MPGCity</th><th>MPGHighway</th></tr><tr><th></th><th>String</th><th>String</th><th>String</th><th>Float64</th><th>Float64</th><th>Float64</th><th>Int64</th><th>Int64</th></tr></thead><tbody><p>5 rows × 27 columns (omitted printing of 19 columns)</p><tr><th>1</th><td>Acura</td><td>Integra</td><td>Small</td><td>12.9</td><td>15.9</td><td>18.8</td><td>25</td><td>31</td></tr><tr><th>2</th><td>Acura</td><td>Legend</td><td>Midsize</td><td>29.2</td><td>33.9</td><td>38.7</td><td>18</td><td>25</td></tr><tr><th>3</th><td>Audi</td><td>90</td><td>Compact</td><td>25.9</td><td>29.1</td><td>32.3</td><td>20</td><td>26</td></tr><tr><th>4</th><td>Audi</td><td>100</td><td>Midsize</td><td>30.8</td><td>37.7</td><td>44.6</td><td>19</td><td>26</td></tr><tr><th>5</th><td>BMW</td><td>535i</td><td>Midsize</td><td>23.7</td><td>30.0</td><td>36.2</td><td>22</td><td>30</td></tr></tbody></table>"
      ],
      "text/latex": [
       "\\begin{tabular}{r|ccccccccc}\n",
       "\t& Manufacturer & Model & Type & MinPrice & Price & MaxPrice & MPGCity & MPGHighway & \\\\\n",
       "\t\\hline\n",
       "\t& String & String & String & Float64 & Float64 & Float64 & Int64 & Int64 & \\\\\n",
       "\t\\hline\n",
       "\t1 & Acura & Integra & Small & 12.9 & 15.9 & 18.8 & 25 & 31 & $\\dots$ \\\\\n",
       "\t2 & Acura & Legend & Midsize & 29.2 & 33.9 & 38.7 & 18 & 25 & $\\dots$ \\\\\n",
       "\t3 & Audi & 90 & Compact & 25.9 & 29.1 & 32.3 & 20 & 26 & $\\dots$ \\\\\n",
       "\t4 & Audi & 100 & Midsize & 30.8 & 37.7 & 44.6 & 19 & 26 & $\\dots$ \\\\\n",
       "\t5 & BMW & 535i & Midsize & 23.7 & 30.0 & 36.2 & 22 & 30 & $\\dots$ \\\\\n",
       "\\end{tabular}\n"
      ],
      "text/plain": [
       "5×27 DataFrame. Omitted printing of 21 columns\n",
       "│ Row │ Manufacturer │ Model   │ Type    │ MinPrice │ Price   │ MaxPrice │\n",
       "│     │ \u001b[90mString\u001b[39m       │ \u001b[90mString\u001b[39m  │ \u001b[90mString\u001b[39m  │ \u001b[90mFloat64\u001b[39m  │ \u001b[90mFloat64\u001b[39m │ \u001b[90mFloat64\u001b[39m  │\n",
       "├─────┼──────────────┼─────────┼─────────┼──────────┼─────────┼──────────┤\n",
       "│ 1   │ Acura        │ Integra │ Small   │ 12.9     │ 15.9    │ 18.8     │\n",
       "│ 2   │ Acura        │ Legend  │ Midsize │ 29.2     │ 33.9    │ 38.7     │\n",
       "│ 3   │ Audi         │ 90      │ Compact │ 25.9     │ 29.1    │ 32.3     │\n",
       "│ 4   │ Audi         │ 100     │ Midsize │ 30.8     │ 37.7    │ 44.6     │\n",
       "│ 5   │ BMW          │ 535i    │ Midsize │ 23.7     │ 30.0    │ 36.2     │"
      ]
     },
     "execution_count": 243,
     "metadata": {},
     "output_type": "execute_result"
    }
   ],
   "source": [
    "filter!(:Origin => (x -> isequal(x,\"non-USA\")), cars) |> head \n",
    "# for some reason this one is backwards to the others!\n",
    "# also has an optional argument view::Bool to specify whether to return a view or a copy\n",
    "# also, note the ! to change cars in place \n",
    "# see also filter(:Origin => (x -> isequal(x,\"non-USA\")), cars) |> head "
   ]
  },
  {
   "cell_type": "code",
   "execution_count": 244,
   "metadata": {
    "scrolled": false
   },
   "outputs": [
    {
     "data": {
      "text/plain": [
       "8-element Array{String,1}:\n",
       " \"Manufacturer\"\n",
       " \"Model\"\n",
       " \"Price\"\n",
       " \"MPGCity\"\n",
       " \"MPGHighway\"\n",
       " \"DriveTrain\"\n",
       " \"Cylinders\"\n",
       " \"EngineSize\""
      ]
     },
     "execution_count": 244,
     "metadata": {},
     "output_type": "execute_result"
    }
   ],
   "source": [
    "select!(cars, [:Manufacturer, :Model, :Price, :MPGCity, :MPGHighway, :DriveTrain, :Cylinders, :EngineSize]) |> names "
   ]
  },
  {
   "cell_type": "code",
   "execution_count": 245,
   "metadata": {},
   "outputs": [
    {
     "data": {
      "text/html": [
       "<table class=\"data-frame\"><thead><tr><th></th><th>Manufacturer</th><th>Model</th><th>Price</th><th>DriveTrain</th><th>Cylinders</th><th>EngineSize</th><th>City</th><th>Highway</th></tr><tr><th></th><th>String</th><th>String</th><th>Float64</th><th>String</th><th>String</th><th>Float64</th><th>Float64</th><th>Float64</th></tr></thead><tbody><p>5 rows × 8 columns</p><tr><th>1</th><td>Acura</td><td>Integra</td><td>15.9</td><td>Front</td><td>4</td><td>1.8</td><td>9.4086</td><td>7.58758</td></tr><tr><th>2</th><td>Acura</td><td>Legend</td><td>33.9</td><td>Front</td><td>6</td><td>3.2</td><td>13.0675</td><td>9.4086</td></tr><tr><th>3</th><td>Audi</td><td>90</td><td>29.1</td><td>Front</td><td>6</td><td>2.8</td><td>11.7607</td><td>9.04673</td></tr><tr><th>4</th><td>Audi</td><td>100</td><td>37.7</td><td>Front</td><td>6</td><td>2.8</td><td>12.3797</td><td>9.04673</td></tr><tr><th>5</th><td>BMW</td><td>535i</td><td>30.0</td><td>Rear</td><td>4</td><td>3.5</td><td>10.6916</td><td>7.8405</td></tr></tbody></table>"
      ],
      "text/latex": [
       "\\begin{tabular}{r|cccccccc}\n",
       "\t& Manufacturer & Model & Price & DriveTrain & Cylinders & EngineSize & City & Highway\\\\\n",
       "\t\\hline\n",
       "\t& String & String & Float64 & String & String & Float64 & Float64 & Float64\\\\\n",
       "\t\\hline\n",
       "\t1 & Acura & Integra & 15.9 & Front & 4 & 1.8 & 9.4086 & 7.58758 \\\\\n",
       "\t2 & Acura & Legend & 33.9 & Front & 6 & 3.2 & 13.0675 & 9.4086 \\\\\n",
       "\t3 & Audi & 90 & 29.1 & Front & 6 & 2.8 & 11.7607 & 9.04673 \\\\\n",
       "\t4 & Audi & 100 & 37.7 & Front & 6 & 2.8 & 12.3797 & 9.04673 \\\\\n",
       "\t5 & BMW & 535i & 30.0 & Rear & 4 & 3.5 & 10.6916 & 7.8405 \\\\\n",
       "\\end{tabular}\n"
      ],
      "text/plain": [
       "5×8 DataFrame. Omitted printing of 2 columns\n",
       "│ Row │ Manufacturer │ Model   │ Price   │ DriveTrain │ Cylinders │ EngineSize │\n",
       "│     │ \u001b[90mString\u001b[39m       │ \u001b[90mString\u001b[39m  │ \u001b[90mFloat64\u001b[39m │ \u001b[90mString\u001b[39m     │ \u001b[90mString\u001b[39m    │ \u001b[90mFloat64\u001b[39m    │\n",
       "├─────┼──────────────┼─────────┼─────────┼────────────┼───────────┼────────────┤\n",
       "│ 1   │ Acura        │ Integra │ 15.9    │ Front      │ 4         │ 1.8        │\n",
       "│ 2   │ Acura        │ Legend  │ 33.9    │ Front      │ 6         │ 3.2        │\n",
       "│ 3   │ Audi         │ 90      │ 29.1    │ Front      │ 6         │ 2.8        │\n",
       "│ 4   │ Audi         │ 100     │ 37.7    │ Front      │ 6         │ 2.8        │\n",
       "│ 5   │ BMW          │ 535i    │ 30.0    │ Rear       │ 4         │ 3.5        │"
      ]
     },
     "execution_count": 245,
     "metadata": {},
     "output_type": "execute_result"
    }
   ],
   "source": [
    "mpg2lper100(MPG) = 235.215./MPG\n",
    "transform!(cars,:MPGCity => mpg2lper100 => :City, :MPGHighway => mpg2lper100 => :Highway) |> \n",
    "    x -> select!(x,Not([:MPGCity,:MPGHighway])) |> \n",
    "    head "
   ]
  },
  {
   "cell_type": "code",
   "execution_count": 246,
   "metadata": {},
   "outputs": [
    {
     "data": {
      "text/html": [
       "<p><b>GroupedDataFrame with 6 groups based on key: Cylinders</b></p><p><i>First Group (27 rows): Cylinders = \"4\"</i></p><table class=\"data-frame\"><thead><tr><th></th><th>Manufacturer</th><th>Model</th><th>Price</th><th>DriveTrain</th><th>Cylinders</th><th>EngineSize</th><th>City</th><th>Highway</th></tr><tr><th></th><th>String</th><th>String</th><th>Float64</th><th>String</th><th>String</th><th>Float64</th><th>Float64</th><th>Float64</th></tr></thead><tbody><tr><th>1</th><td>Acura</td><td>Integra</td><td>15.9</td><td>Front</td><td>4</td><td>1.8</td><td>9.4086</td><td>7.58758</td></tr><tr><th>2</th><td>BMW</td><td>535i</td><td>30.0</td><td>Rear</td><td>4</td><td>3.5</td><td>10.6916</td><td>7.8405</td></tr><tr><th>3</th><td>Geo</td><td>Storm</td><td>12.5</td><td>Front</td><td>4</td><td>1.6</td><td>7.8405</td><td>6.53375</td></tr><tr><th>4</th><td>Honda</td><td>Prelude</td><td>19.8</td><td>Front</td><td>4</td><td>2.3</td><td>9.80063</td><td>7.58758</td></tr><tr><th>5</th><td>Honda</td><td>Civic</td><td>12.1</td><td>Front</td><td>4</td><td>1.5</td><td>5.60036</td><td>5.11337</td></tr><tr><th>6</th><td>Honda</td><td>Accord</td><td>17.5</td><td>Front</td><td>4</td><td>2.2</td><td>9.80063</td><td>7.58758</td></tr><tr><th>7</th><td>Hyundai</td><td>Excel</td><td>8.0</td><td>Front</td><td>4</td><td>1.5</td><td>8.11086</td><td>7.12773</td></tr><tr><th>8</th><td>Hyundai</td><td>Elantra</td><td>10.0</td><td>Front</td><td>4</td><td>1.8</td><td>10.6916</td><td>8.11086</td></tr><tr><th>9</th><td>Hyundai</td><td>Scoupe</td><td>10.0</td><td>Front</td><td>4</td><td>1.5</td><td>9.04673</td><td>6.91809</td></tr><tr><th>10</th><td>Hyundai</td><td>Sonata</td><td>13.9</td><td>Front</td><td>4</td><td>2.0</td><td>11.7607</td><td>8.71167</td></tr><tr><th>11</th><td>Mazda</td><td>323</td><td>8.3</td><td>Front</td><td>4</td><td>1.6</td><td>8.11086</td><td>6.35716</td></tr><tr><th>12</th><td>Mazda</td><td>Protege</td><td>11.6</td><td>Front</td><td>4</td><td>1.8</td><td>8.40054</td><td>6.53375</td></tr><tr><th>13</th><td>Mazda</td><td>626</td><td>16.5</td><td>Front</td><td>4</td><td>2.5</td><td>9.04673</td><td>6.91809</td></tr><tr><th>14</th><td>Mercedes-Benz</td><td>190E</td><td>31.9</td><td>Rear</td><td>4</td><td>2.3</td><td>11.7607</td><td>8.11086</td></tr><tr><th>15</th><td>Mitsubishi</td><td>Mirage</td><td>10.3</td><td>Front</td><td>4</td><td>1.5</td><td>8.11086</td><td>7.12773</td></tr><tr><th>16</th><td>Nissan</td><td>Sentra</td><td>11.8</td><td>Front</td><td>4</td><td>1.6</td><td>8.11086</td><td>7.12773</td></tr><tr><th>17</th><td>Nissan</td><td>Altima</td><td>15.7</td><td>Front</td><td>4</td><td>2.4</td><td>9.80063</td><td>7.8405</td></tr><tr><th>18</th><td>Saab</td><td>900</td><td>28.7</td><td>Front</td><td>4</td><td>2.1</td><td>11.7607</td><td>9.04673</td></tr><tr><th>19</th><td>Subaru</td><td>Loyale</td><td>10.9</td><td>4WD</td><td>4</td><td>1.8</td><td>9.4086</td><td>7.8405</td></tr><tr><th>20</th><td>Subaru</td><td>Legacy</td><td>19.5</td><td>4WD</td><td>4</td><td>2.2</td><td>10.2267</td><td>7.8405</td></tr><tr><th>21</th><td>Toyota</td><td>Tercel</td><td>9.8</td><td>Front</td><td>4</td><td>1.5</td><td>7.35047</td><td>6.35716</td></tr><tr><th>22</th><td>Toyota</td><td>Celica</td><td>18.4</td><td>Front</td><td>4</td><td>2.2</td><td>9.4086</td><td>7.35047</td></tr><tr><th>23</th><td>Toyota</td><td>Camry</td><td>18.2</td><td>Front</td><td>4</td><td>2.2</td><td>10.6916</td><td>8.11086</td></tr><tr><th>24</th><td>Toyota</td><td>Previa</td><td>22.7</td><td>4WD</td><td>4</td><td>2.4</td><td>13.0675</td><td>10.6916</td></tr><tr><th>25</th><td>Volkswagen</td><td>Fox</td><td>9.1</td><td>Front</td><td>4</td><td>1.8</td><td>9.4086</td><td>7.12773</td></tr><tr><th>26</th><td>Volkswagen</td><td>Passat</td><td>20.0</td><td>Front</td><td>4</td><td>2.0</td><td>11.2007</td><td>7.8405</td></tr><tr><th>27</th><td>Volvo</td><td>240</td><td>22.7</td><td>Rear</td><td>4</td><td>2.3</td><td>11.2007</td><td>8.40054</td></tr></tbody></table><p>&vellip;</p><p><i>Last Group (2 rows): Cylinders = \"5\"</i></p><table class=\"data-frame\"><thead><tr><th></th><th>Manufacturer</th><th>Model</th><th>Price</th><th>DriveTrain</th><th>Cylinders</th><th>EngineSize</th><th>City</th><th>Highway</th></tr><tr><th></th><th>String</th><th>String</th><th>Float64</th><th>String</th><th>String</th><th>Float64</th><th>Float64</th><th>Float64</th></tr></thead><tbody><tr><th>1</th><td>Volkswagen</td><td>Eurovan</td><td>19.7</td><td>Front</td><td>5</td><td>2.5</td><td>13.8362</td><td>11.2007</td></tr><tr><th>2</th><td>Volvo</td><td>850</td><td>26.7</td><td>Front</td><td>5</td><td>2.4</td><td>11.7607</td><td>8.40054</td></tr></tbody></table>"
      ],
      "text/latex": [
       "GroupedDataFrame with 6 groups based on key: Cylinders\n",
       "\n",
       "First Group (27 rows): Cylinders = \"4\"\n",
       "\n",
       "\\begin{tabular}{r|cccccccc}\n",
       "\t& Manufacturer & Model & Price & DriveTrain & Cylinders & EngineSize & City & Highway\\\\\n",
       "\t\\hline\n",
       "\t& String & String & Float64 & String & String & Float64 & Float64 & Float64\\\\\n",
       "\t\\hline\n",
       "\t1 & Acura & Integra & 15.9 & Front & 4 & 1.8 & 9.4086 & 7.58758 \\\\\n",
       "\t2 & BMW & 535i & 30.0 & Rear & 4 & 3.5 & 10.6916 & 7.8405 \\\\\n",
       "\t3 & Geo & Storm & 12.5 & Front & 4 & 1.6 & 7.8405 & 6.53375 \\\\\n",
       "\t4 & Honda & Prelude & 19.8 & Front & 4 & 2.3 & 9.80063 & 7.58758 \\\\\n",
       "\t5 & Honda & Civic & 12.1 & Front & 4 & 1.5 & 5.60036 & 5.11337 \\\\\n",
       "\t6 & Honda & Accord & 17.5 & Front & 4 & 2.2 & 9.80063 & 7.58758 \\\\\n",
       "\t7 & Hyundai & Excel & 8.0 & Front & 4 & 1.5 & 8.11086 & 7.12773 \\\\\n",
       "\t8 & Hyundai & Elantra & 10.0 & Front & 4 & 1.8 & 10.6916 & 8.11086 \\\\\n",
       "\t9 & Hyundai & Scoupe & 10.0 & Front & 4 & 1.5 & 9.04673 & 6.91809 \\\\\n",
       "\t10 & Hyundai & Sonata & 13.9 & Front & 4 & 2.0 & 11.7607 & 8.71167 \\\\\n",
       "\t11 & Mazda & 323 & 8.3 & Front & 4 & 1.6 & 8.11086 & 6.35716 \\\\\n",
       "\t12 & Mazda & Protege & 11.6 & Front & 4 & 1.8 & 8.40054 & 6.53375 \\\\\n",
       "\t13 & Mazda & 626 & 16.5 & Front & 4 & 2.5 & 9.04673 & 6.91809 \\\\\n",
       "\t14 & Mercedes-Benz & 190E & 31.9 & Rear & 4 & 2.3 & 11.7607 & 8.11086 \\\\\n",
       "\t15 & Mitsubishi & Mirage & 10.3 & Front & 4 & 1.5 & 8.11086 & 7.12773 \\\\\n",
       "\t16 & Nissan & Sentra & 11.8 & Front & 4 & 1.6 & 8.11086 & 7.12773 \\\\\n",
       "\t17 & Nissan & Altima & 15.7 & Front & 4 & 2.4 & 9.80063 & 7.8405 \\\\\n",
       "\t18 & Saab & 900 & 28.7 & Front & 4 & 2.1 & 11.7607 & 9.04673 \\\\\n",
       "\t19 & Subaru & Loyale & 10.9 & 4WD & 4 & 1.8 & 9.4086 & 7.8405 \\\\\n",
       "\t20 & Subaru & Legacy & 19.5 & 4WD & 4 & 2.2 & 10.2267 & 7.8405 \\\\\n",
       "\t21 & Toyota & Tercel & 9.8 & Front & 4 & 1.5 & 7.35047 & 6.35716 \\\\\n",
       "\t22 & Toyota & Celica & 18.4 & Front & 4 & 2.2 & 9.4086 & 7.35047 \\\\\n",
       "\t23 & Toyota & Camry & 18.2 & Front & 4 & 2.2 & 10.6916 & 8.11086 \\\\\n",
       "\t24 & Toyota & Previa & 22.7 & 4WD & 4 & 2.4 & 13.0675 & 10.6916 \\\\\n",
       "\t25 & Volkswagen & Fox & 9.1 & Front & 4 & 1.8 & 9.4086 & 7.12773 \\\\\n",
       "\t26 & Volkswagen & Passat & 20.0 & Front & 4 & 2.0 & 11.2007 & 7.8405 \\\\\n",
       "\t27 & Volvo & 240 & 22.7 & Rear & 4 & 2.3 & 11.2007 & 8.40054 \\\\\n",
       "\\end{tabular}\n",
       "\n",
       "$\\dots$\n",
       "\n",
       "Last Group (2 rows): Cylinders = \"5\"\n",
       "\n",
       "\\begin{tabular}{r|cccccccc}\n",
       "\t& Manufacturer & Model & Price & DriveTrain & Cylinders & EngineSize & City & Highway\\\\\n",
       "\t\\hline\n",
       "\t& String & String & Float64 & String & String & Float64 & Float64 & Float64\\\\\n",
       "\t\\hline\n",
       "\t1 & Volkswagen & Eurovan & 19.7 & Front & 5 & 2.5 & 13.8362 & 11.2007 \\\\\n",
       "\t2 & Volvo & 850 & 26.7 & Front & 5 & 2.4 & 11.7607 & 8.40054 \\\\\n",
       "\\end{tabular}\n"
      ],
      "text/plain": [
       "GroupedDataFrame with 6 groups based on key: Cylinders\n",
       "First Group (27 rows): Cylinders = \"4\". Omitted printing of 2 columns\n",
       "│ Row │ Manufacturer │ Model   │ Price   │ DriveTrain │ Cylinders │ EngineSize │\n",
       "│     │ \u001b[90mString\u001b[39m       │ \u001b[90mString\u001b[39m  │ \u001b[90mFloat64\u001b[39m │ \u001b[90mString\u001b[39m     │ \u001b[90mString\u001b[39m    │ \u001b[90mFloat64\u001b[39m    │\n",
       "├─────┼──────────────┼─────────┼─────────┼────────────┼───────────┼────────────┤\n",
       "│ 1   │ Acura        │ Integra │ 15.9    │ Front      │ 4         │ 1.8        │\n",
       "│ 2   │ BMW          │ 535i    │ 30.0    │ Rear       │ 4         │ 3.5        │\n",
       "│ 3   │ Geo          │ Storm   │ 12.5    │ Front      │ 4         │ 1.6        │\n",
       "│ 4   │ Honda        │ Prelude │ 19.8    │ Front      │ 4         │ 2.3        │\n",
       "│ 5   │ Honda        │ Civic   │ 12.1    │ Front      │ 4         │ 1.5        │\n",
       "│ 6   │ Honda        │ Accord  │ 17.5    │ Front      │ 4         │ 2.2        │\n",
       "│ 7   │ Hyundai      │ Excel   │ 8.0     │ Front      │ 4         │ 1.5        │\n",
       "│ 8   │ Hyundai      │ Elantra │ 10.0    │ Front      │ 4         │ 1.8        │\n",
       "│ 9   │ Hyundai      │ Scoupe  │ 10.0    │ Front      │ 4         │ 1.5        │\n",
       "│ 10  │ Hyundai      │ Sonata  │ 13.9    │ Front      │ 4         │ 2.0        │\n",
       "⋮\n",
       "│ 17  │ Nissan       │ Altima  │ 15.7    │ Front      │ 4         │ 2.4        │\n",
       "│ 18  │ Saab         │ 900     │ 28.7    │ Front      │ 4         │ 2.1        │\n",
       "│ 19  │ Subaru       │ Loyale  │ 10.9    │ 4WD        │ 4         │ 1.8        │\n",
       "│ 20  │ Subaru       │ Legacy  │ 19.5    │ 4WD        │ 4         │ 2.2        │\n",
       "│ 21  │ Toyota       │ Tercel  │ 9.8     │ Front      │ 4         │ 1.5        │\n",
       "│ 22  │ Toyota       │ Celica  │ 18.4    │ Front      │ 4         │ 2.2        │\n",
       "│ 23  │ Toyota       │ Camry   │ 18.2    │ Front      │ 4         │ 2.2        │\n",
       "│ 24  │ Toyota       │ Previa  │ 22.7    │ 4WD        │ 4         │ 2.4        │\n",
       "│ 25  │ Volkswagen   │ Fox     │ 9.1     │ Front      │ 4         │ 1.8        │\n",
       "│ 26  │ Volkswagen   │ Passat  │ 20.0    │ Front      │ 4         │ 2.0        │\n",
       "│ 27  │ Volvo        │ 240     │ 22.7    │ Rear       │ 4         │ 2.3        │\n",
       "⋮\n",
       "Last Group (2 rows): Cylinders = \"5\". Omitted printing of 2 columns\n",
       "│ Row │ Manufacturer │ Model   │ Price   │ DriveTrain │ Cylinders │ EngineSize │\n",
       "│     │ \u001b[90mString\u001b[39m       │ \u001b[90mString\u001b[39m  │ \u001b[90mFloat64\u001b[39m │ \u001b[90mString\u001b[39m     │ \u001b[90mString\u001b[39m    │ \u001b[90mFloat64\u001b[39m    │\n",
       "├─────┼──────────────┼─────────┼─────────┼────────────┼───────────┼────────────┤\n",
       "│ 1   │ Volkswagen   │ Eurovan │ 19.7    │ Front      │ 5         │ 2.5        │\n",
       "│ 2   │ Volvo        │ 850     │ 26.7    │ Front      │ 5         │ 2.4        │"
      ]
     },
     "execution_count": 246,
     "metadata": {},
     "output_type": "execute_result"
    }
   ],
   "source": [
    "carsByCylinders = groupby(cars, :Cylinders) "
   ]
  },
  {
   "cell_type": "code",
   "execution_count": 247,
   "metadata": {},
   "outputs": [
    {
     "data": {
      "text/plain": [
       "6-element DataFrames.GroupKeys{GroupedDataFrame{DataFrame}}:\n",
       " GroupKey: (Cylinders = \"4\",)\n",
       " GroupKey: (Cylinders = \"6\",)\n",
       " GroupKey: (Cylinders = \"3\",)\n",
       " GroupKey: (Cylinders = \"8\",)\n",
       " GroupKey: (Cylinders = \"rotary\",)\n",
       " GroupKey: (Cylinders = \"5\",)"
      ]
     },
     "execution_count": 247,
     "metadata": {},
     "output_type": "execute_result"
    }
   ],
   "source": [
    "keys(carsByCylinders)"
   ]
  },
  {
   "cell_type": "code",
   "execution_count": 248,
   "metadata": {},
   "outputs": [
    {
     "data": {
      "text/html": [
       "<table class=\"data-frame\"><thead><tr><th></th><th>Manufacturer</th><th>Model</th><th>Price</th><th>DriveTrain</th><th>Cylinders</th><th>EngineSize</th><th>City</th><th>Highway</th></tr><tr><th></th><th>String</th><th>String</th><th>Float64</th><th>String</th><th>String</th><th>Float64</th><th>Float64</th><th>Float64</th></tr></thead><tbody><p>2 rows × 8 columns</p><tr><th>1</th><td>Volkswagen</td><td>Eurovan</td><td>19.7</td><td>Front</td><td>5</td><td>2.5</td><td>13.8362</td><td>11.2007</td></tr><tr><th>2</th><td>Volvo</td><td>850</td><td>26.7</td><td>Front</td><td>5</td><td>2.4</td><td>11.7607</td><td>8.40054</td></tr></tbody></table>"
      ],
      "text/latex": [
       "\\begin{tabular}{r|cccccccc}\n",
       "\t& Manufacturer & Model & Price & DriveTrain & Cylinders & EngineSize & City & Highway\\\\\n",
       "\t\\hline\n",
       "\t& String & String & Float64 & String & String & Float64 & Float64 & Float64\\\\\n",
       "\t\\hline\n",
       "\t1 & Volkswagen & Eurovan & 19.7 & Front & 5 & 2.5 & 13.8362 & 11.2007 \\\\\n",
       "\t2 & Volvo & 850 & 26.7 & Front & 5 & 2.4 & 11.7607 & 8.40054 \\\\\n",
       "\\end{tabular}\n"
      ],
      "text/plain": [
       "2×8 DataFrame. Omitted printing of 2 columns\n",
       "│ Row │ Manufacturer │ Model   │ Price   │ DriveTrain │ Cylinders │ EngineSize │\n",
       "│     │ \u001b[90mString\u001b[39m       │ \u001b[90mString\u001b[39m  │ \u001b[90mFloat64\u001b[39m │ \u001b[90mString\u001b[39m     │ \u001b[90mString\u001b[39m    │ \u001b[90mFloat64\u001b[39m    │\n",
       "├─────┼──────────────┼─────────┼─────────┼────────────┼───────────┼────────────┤\n",
       "│ 1   │ Volkswagen   │ Eurovan │ 19.7    │ Front      │ 5         │ 2.5        │\n",
       "│ 2   │ Volvo        │ 850     │ 26.7    │ Front      │ 5         │ 2.4        │"
      ]
     },
     "execution_count": 248,
     "metadata": {},
     "output_type": "execute_result"
    }
   ],
   "source": [
    "carsByCylinders[(Cylinders=\"5\",)] |> head "
   ]
  },
  {
   "cell_type": "code",
   "execution_count": 249,
   "metadata": {},
   "outputs": [
    {
     "data": {
      "text/html": [
       "<table class=\"data-frame\"><thead><tr><th></th><th>Manufacturer</th><th>Model</th><th>Price</th><th>DriveTrain</th><th>Cylinders</th><th>EngineSize</th><th>City</th><th>Highway</th></tr><tr><th></th><th>String</th><th>String</th><th>Float64</th><th>String</th><th>String</th><th>Float64</th><th>Float64</th><th>Float64</th></tr></thead><tbody><p>2 rows × 8 columns</p><tr><th>1</th><td>Volkswagen</td><td>Eurovan</td><td>19.7</td><td>Front</td><td>5</td><td>2.5</td><td>13.8362</td><td>11.2007</td></tr><tr><th>2</th><td>Volvo</td><td>850</td><td>26.7</td><td>Front</td><td>5</td><td>2.4</td><td>11.7607</td><td>8.40054</td></tr></tbody></table>"
      ],
      "text/latex": [
       "\\begin{tabular}{r|cccccccc}\n",
       "\t& Manufacturer & Model & Price & DriveTrain & Cylinders & EngineSize & City & Highway\\\\\n",
       "\t\\hline\n",
       "\t& String & String & Float64 & String & String & Float64 & Float64 & Float64\\\\\n",
       "\t\\hline\n",
       "\t1 & Volkswagen & Eurovan & 19.7 & Front & 5 & 2.5 & 13.8362 & 11.2007 \\\\\n",
       "\t2 & Volvo & 850 & 26.7 & Front & 5 & 2.4 & 11.7607 & 8.40054 \\\\\n",
       "\\end{tabular}\n"
      ],
      "text/plain": [
       "2×8 DataFrame. Omitted printing of 2 columns\n",
       "│ Row │ Manufacturer │ Model   │ Price   │ DriveTrain │ Cylinders │ EngineSize │\n",
       "│     │ \u001b[90mString\u001b[39m       │ \u001b[90mString\u001b[39m  │ \u001b[90mFloat64\u001b[39m │ \u001b[90mString\u001b[39m     │ \u001b[90mString\u001b[39m    │ \u001b[90mFloat64\u001b[39m    │\n",
       "├─────┼──────────────┼─────────┼─────────┼────────────┼───────────┼────────────┤\n",
       "│ 1   │ Volkswagen   │ Eurovan │ 19.7    │ Front      │ 5         │ 2.5        │\n",
       "│ 2   │ Volvo        │ 850     │ 26.7    │ Front      │ 5         │ 2.4        │"
      ]
     },
     "execution_count": 249,
     "metadata": {},
     "output_type": "execute_result"
    }
   ],
   "source": [
    "carsByCylinders[6] |> head "
   ]
  },
  {
   "cell_type": "code",
   "execution_count": 250,
   "metadata": {},
   "outputs": [
    {
     "data": {
      "text/plain": [
       "12-element DataFrames.GroupKeys{GroupedDataFrame{DataFrame}}:\n",
       " GroupKey: (Cylinders = \"4\", DriveTrain = \"Front\")\n",
       " GroupKey: (Cylinders = \"6\", DriveTrain = \"Front\")\n",
       " GroupKey: (Cylinders = \"4\", DriveTrain = \"Rear\")\n",
       " GroupKey: (Cylinders = \"6\", DriveTrain = \"Rear\")\n",
       " GroupKey: (Cylinders = \"8\", DriveTrain = \"Front\")\n",
       " GroupKey: (Cylinders = \"6\", DriveTrain = \"4WD\")\n",
       " GroupKey: (Cylinders = \"8\", DriveTrain = \"Rear\")\n",
       " GroupKey: (Cylinders = \"3\", DriveTrain = \"Front\")\n",
       " GroupKey: (Cylinders = \"rotary\", DriveTrain = \"Rear\")\n",
       " GroupKey: (Cylinders = \"4\", DriveTrain = \"4WD\")\n",
       " GroupKey: (Cylinders = \"3\", DriveTrain = \"4WD\")\n",
       " GroupKey: (Cylinders = \"5\", DriveTrain = \"Front\")"
      ]
     },
     "execution_count": 250,
     "metadata": {},
     "output_type": "execute_result"
    }
   ],
   "source": [
    "carsByCylDrive = groupby(income, [:Cylinders, :DriveTrain])\n",
    "keys(carsByCylDrive)"
   ]
  },
  {
   "cell_type": "code",
   "execution_count": 251,
   "metadata": {},
   "outputs": [
    {
     "data": {
      "text/html": [
       "<table class=\"data-frame\"><thead><tr><th></th><th>Manufacturer</th><th>Model</th><th>Type</th><th>MinPrice</th><th>Price</th><th>MaxPrice</th><th>MPGCity</th><th>MPGHighway</th></tr><tr><th></th><th>String</th><th>String</th><th>String</th><th>Float64</th><th>Float64</th><th>Float64</th><th>Int64</th><th>Int64</th></tr></thead><tbody><p>4 rows × 27 columns (omitted printing of 19 columns)</p><tr><th>1</th><td>Plymouth</td><td>Laser</td><td>Sporty</td><td>11.4</td><td>14.4</td><td>17.4</td><td>23</td><td>30</td></tr><tr><th>2</th><td>Subaru</td><td>Loyale</td><td>Small</td><td>10.5</td><td>10.9</td><td>11.3</td><td>25</td><td>30</td></tr><tr><th>3</th><td>Subaru</td><td>Legacy</td><td>Compact</td><td>16.3</td><td>19.5</td><td>22.7</td><td>23</td><td>30</td></tr><tr><th>4</th><td>Toyota</td><td>Previa</td><td>Van</td><td>18.9</td><td>22.7</td><td>26.6</td><td>18</td><td>22</td></tr></tbody></table>"
      ],
      "text/latex": [
       "\\begin{tabular}{r|ccccccccc}\n",
       "\t& Manufacturer & Model & Type & MinPrice & Price & MaxPrice & MPGCity & MPGHighway & \\\\\n",
       "\t\\hline\n",
       "\t& String & String & String & Float64 & Float64 & Float64 & Int64 & Int64 & \\\\\n",
       "\t\\hline\n",
       "\t1 & Plymouth & Laser & Sporty & 11.4 & 14.4 & 17.4 & 23 & 30 & $\\dots$ \\\\\n",
       "\t2 & Subaru & Loyale & Small & 10.5 & 10.9 & 11.3 & 25 & 30 & $\\dots$ \\\\\n",
       "\t3 & Subaru & Legacy & Compact & 16.3 & 19.5 & 22.7 & 23 & 30 & $\\dots$ \\\\\n",
       "\t4 & Toyota & Previa & Van & 18.9 & 22.7 & 26.6 & 18 & 22 & $\\dots$ \\\\\n",
       "\\end{tabular}\n"
      ],
      "text/plain": [
       "4×27 DataFrame. Omitted printing of 21 columns\n",
       "│ Row │ Manufacturer │ Model  │ Type    │ MinPrice │ Price   │ MaxPrice │\n",
       "│     │ \u001b[90mString\u001b[39m       │ \u001b[90mString\u001b[39m │ \u001b[90mString\u001b[39m  │ \u001b[90mFloat64\u001b[39m  │ \u001b[90mFloat64\u001b[39m │ \u001b[90mFloat64\u001b[39m  │\n",
       "├─────┼──────────────┼────────┼─────────┼──────────┼─────────┼──────────┤\n",
       "│ 1   │ Plymouth     │ Laser  │ Sporty  │ 11.4     │ 14.4    │ 17.4     │\n",
       "│ 2   │ Subaru       │ Loyale │ Small   │ 10.5     │ 10.9    │ 11.3     │\n",
       "│ 3   │ Subaru       │ Legacy │ Compact │ 16.3     │ 19.5    │ 22.7     │\n",
       "│ 4   │ Toyota       │ Previa │ Van     │ 18.9     │ 22.7    │ 26.6     │"
      ]
     },
     "execution_count": 251,
     "metadata": {},
     "output_type": "execute_result"
    }
   ],
   "source": [
    "carsByCylDrive[(Cylinders = \"4\",DriveTrain = \"4WD\")] |> head "
   ]
  },
  {
   "cell_type": "code",
   "execution_count": 252,
   "metadata": {},
   "outputs": [
    {
     "data": {
      "text/html": [
       "<table class=\"data-frame\"><thead><tr><th></th><th>variable</th><th>mean</th><th>min</th><th>median</th><th>max</th><th>nunique</th><th>nmissing</th><th>eltype</th></tr><tr><th></th><th>Symbol</th><th>Union…</th><th>Any</th><th>Union…</th><th>Any</th><th>Union…</th><th>Nothing</th><th>DataType</th></tr></thead><tbody><p>8 rows × 8 columns</p><tr><th>1</th><td>Manufacturer</td><td></td><td>Acura</td><td></td><td>Volvo</td><td>18</td><td></td><td>String</td></tr><tr><th>2</th><td>Model</td><td></td><td>100</td><td></td><td>Tercel</td><td>45</td><td></td><td>String</td></tr><tr><th>3</th><td>Price</td><td>20.5089</td><td>8.0</td><td>19.1</td><td>61.9</td><td></td><td></td><td>Float64</td></tr><tr><th>4</th><td>DriveTrain</td><td></td><td>4WD</td><td></td><td>Rear</td><td>3</td><td></td><td>String</td></tr><tr><th>5</th><td>Cylinders</td><td></td><td>3</td><td></td><td>rotary</td><td>6</td><td></td><td>String</td></tr><tr><th>6</th><td>EngineSize</td><td>2.24222</td><td>1.0</td><td>2.2</td><td>4.5</td><td></td><td></td><td>Float64</td></tr><tr><th>7</th><td>City</td><td>10.4738</td><td>5.11337</td><td>10.6916</td><td>13.8362</td><td></td><td></td><td>Float64</td></tr><tr><th>8</th><td>Highway</td><td>8.11545</td><td>4.7043</td><td>7.8405</td><td>11.2007</td><td></td><td></td><td>Float64</td></tr></tbody></table>"
      ],
      "text/latex": [
       "\\begin{tabular}{r|cccccccc}\n",
       "\t& variable & mean & min & median & max & nunique & nmissing & eltype\\\\\n",
       "\t\\hline\n",
       "\t& Symbol & Union… & Any & Union… & Any & Union… & Nothing & DataType\\\\\n",
       "\t\\hline\n",
       "\t1 & Manufacturer &  & Acura &  & Volvo & 18 &  & String \\\\\n",
       "\t2 & Model &  & 100 &  & Tercel & 45 &  & String \\\\\n",
       "\t3 & Price & 20.5089 & 8.0 & 19.1 & 61.9 &  &  & Float64 \\\\\n",
       "\t4 & DriveTrain &  & 4WD &  & Rear & 3 &  & String \\\\\n",
       "\t5 & Cylinders &  & 3 &  & rotary & 6 &  & String \\\\\n",
       "\t6 & EngineSize & 2.24222 & 1.0 & 2.2 & 4.5 &  &  & Float64 \\\\\n",
       "\t7 & City & 10.4738 & 5.11337 & 10.6916 & 13.8362 &  &  & Float64 \\\\\n",
       "\t8 & Highway & 8.11545 & 4.7043 & 7.8405 & 11.2007 &  &  & Float64 \\\\\n",
       "\\end{tabular}\n"
      ],
      "text/plain": [
       "8×8 DataFrame. Omitted printing of 2 columns\n",
       "│ Row │ variable     │ mean    │ min     │ median  │ max     │ nunique │\n",
       "│     │ \u001b[90mSymbol\u001b[39m       │ \u001b[90mUnion…\u001b[39m  │ \u001b[90mAny\u001b[39m     │ \u001b[90mUnion…\u001b[39m  │ \u001b[90mAny\u001b[39m     │ \u001b[90mUnion…\u001b[39m  │\n",
       "├─────┼──────────────┼─────────┼─────────┼─────────┼─────────┼─────────┤\n",
       "│ 1   │ Manufacturer │         │ Acura   │         │ Volvo   │ 18      │\n",
       "│ 2   │ Model        │         │ 100     │         │ Tercel  │ 45      │\n",
       "│ 3   │ Price        │ 20.5089 │ 8.0     │ 19.1    │ 61.9    │         │\n",
       "│ 4   │ DriveTrain   │         │ 4WD     │         │ Rear    │ 3       │\n",
       "│ 5   │ Cylinders    │         │ 3       │         │ rotary  │ 6       │\n",
       "│ 6   │ EngineSize   │ 2.24222 │ 1.0     │ 2.2     │ 4.5     │         │\n",
       "│ 7   │ City         │ 10.4738 │ 5.11337 │ 10.6916 │ 13.8362 │         │\n",
       "│ 8   │ Highway      │ 8.11545 │ 4.7043  │ 7.8405  │ 11.2007 │         │"
      ]
     },
     "execution_count": 252,
     "metadata": {},
     "output_type": "execute_result"
    }
   ],
   "source": [
    "describe(cars)"
   ]
  },
  {
   "cell_type": "code",
   "execution_count": 254,
   "metadata": {},
   "outputs": [
    {
     "data": {
      "text/html": [
       "<table class=\"data-frame\"><thead><tr><th></th><th>Cylinders</th><th>City_mean</th></tr><tr><th></th><th>String</th><th>Float64</th></tr></thead><tbody><p>6 rows × 2 columns</p><tr><th>1</th><td>3</td><td>6.09075</td></tr><tr><th>2</th><td>4</td><td>9.62288</td></tr><tr><th>3</th><td>5</td><td>12.7985</td></tr><tr><th>4</th><td>6</td><td>12.7238</td></tr><tr><th>5</th><td>8</td><td>13.8362</td></tr><tr><th>6</th><td>rotary</td><td>13.8362</td></tr></tbody></table>"
      ],
      "text/latex": [
       "\\begin{tabular}{r|cc}\n",
       "\t& Cylinders & City\\_mean\\\\\n",
       "\t\\hline\n",
       "\t& String & Float64\\\\\n",
       "\t\\hline\n",
       "\t1 & 3 & 6.09075 \\\\\n",
       "\t2 & 4 & 9.62288 \\\\\n",
       "\t3 & 5 & 12.7985 \\\\\n",
       "\t4 & 6 & 12.7238 \\\\\n",
       "\t5 & 8 & 13.8362 \\\\\n",
       "\t6 & rotary & 13.8362 \\\\\n",
       "\\end{tabular}\n"
      ],
      "text/plain": [
       "6×2 DataFrame\n",
       "│ Row │ Cylinders │ City_mean │\n",
       "│     │ \u001b[90mString\u001b[39m    │ \u001b[90mFloat64\u001b[39m   │\n",
       "├─────┼───────────┼───────────┤\n",
       "│ 1   │ 3         │ 6.09075   │\n",
       "│ 2   │ 4         │ 9.62288   │\n",
       "│ 3   │ 5         │ 12.7985   │\n",
       "│ 4   │ 6         │ 12.7238   │\n",
       "│ 5   │ 8         │ 13.8362   │\n",
       "│ 6   │ rotary    │ 13.8362   │"
      ]
     },
     "execution_count": 254,
     "metadata": {},
     "output_type": "execute_result"
    }
   ],
   "source": [
    "mean(x) = sum(x)/length(x)\n",
    "combine(carsByCylinders, :City => mean) |> x -> sort(x,:Cylinders)"
   ]
  },
  {
   "cell_type": "markdown",
   "metadata": {},
   "source": [
    "---"
   ]
  },
  {
   "cell_type": "markdown",
   "metadata": {},
   "source": [
    "---"
   ]
  },
  {
   "cell_type": "markdown",
   "metadata": {},
   "source": [
    "---"
   ]
  },
  {
   "cell_type": "markdown",
   "metadata": {},
   "source": [
    "---"
   ]
  },
  {
   "cell_type": "markdown",
   "metadata": {},
   "source": [
    "---"
   ]
  },
  {
   "cell_type": "markdown",
   "metadata": {},
   "source": [
    "## Linear Models "
   ]
  },
  {
   "cell_type": "code",
   "execution_count": 295,
   "metadata": {},
   "outputs": [],
   "source": [
    "using GLM"
   ]
  },
  {
   "cell_type": "code",
   "execution_count": 296,
   "metadata": {},
   "outputs": [
    {
     "data": {
      "text/html": [
       "<table class=\"data-frame\"><thead><tr><th></th><th>Manufacturer</th><th>Model</th><th>Type</th><th>MinPrice</th><th>Price</th><th>MaxPrice</th><th>AirBags</th></tr><tr><th></th><th>String</th><th>String</th><th>String</th><th>Float64</th><th>Float64</th><th>Float64</th><th>String</th></tr></thead><tbody><p>5 rows × 27 columns (omitted printing of 20 columns)</p><tr><th>1</th><td>Acura</td><td>Integra</td><td>Small</td><td>12.9</td><td>15.9</td><td>18.8</td><td>None</td></tr><tr><th>2</th><td>Acura</td><td>Legend</td><td>Midsize</td><td>29.2</td><td>33.9</td><td>38.7</td><td>Driver &amp; Passenger</td></tr><tr><th>3</th><td>Audi</td><td>90</td><td>Compact</td><td>25.9</td><td>29.1</td><td>32.3</td><td>Driver only</td></tr><tr><th>4</th><td>Audi</td><td>100</td><td>Midsize</td><td>30.8</td><td>37.7</td><td>44.6</td><td>Driver &amp; Passenger</td></tr><tr><th>5</th><td>BMW</td><td>535i</td><td>Midsize</td><td>23.7</td><td>30.0</td><td>36.2</td><td>Driver only</td></tr></tbody></table>"
      ],
      "text/latex": [
       "\\begin{tabular}{r|cccccccc}\n",
       "\t& Manufacturer & Model & Type & MinPrice & Price & MaxPrice & AirBags & \\\\\n",
       "\t\\hline\n",
       "\t& String & String & String & Float64 & Float64 & Float64 & String & \\\\\n",
       "\t\\hline\n",
       "\t1 & Acura & Integra & Small & 12.9 & 15.9 & 18.8 & None & $\\dots$ \\\\\n",
       "\t2 & Acura & Legend & Midsize & 29.2 & 33.9 & 38.7 & Driver \\& Passenger & $\\dots$ \\\\\n",
       "\t3 & Audi & 90 & Compact & 25.9 & 29.1 & 32.3 & Driver only & $\\dots$ \\\\\n",
       "\t4 & Audi & 100 & Midsize & 30.8 & 37.7 & 44.6 & Driver \\& Passenger & $\\dots$ \\\\\n",
       "\t5 & BMW & 535i & Midsize & 23.7 & 30.0 & 36.2 & Driver only & $\\dots$ \\\\\n",
       "\\end{tabular}\n"
      ],
      "text/plain": [
       "5×27 DataFrame. Omitted printing of 21 columns\n",
       "│ Row │ Manufacturer │ Model   │ Type    │ MinPrice │ Price   │ MaxPrice │\n",
       "│     │ \u001b[90mString\u001b[39m       │ \u001b[90mString\u001b[39m  │ \u001b[90mString\u001b[39m  │ \u001b[90mFloat64\u001b[39m  │ \u001b[90mFloat64\u001b[39m │ \u001b[90mFloat64\u001b[39m  │\n",
       "├─────┼──────────────┼─────────┼─────────┼──────────┼─────────┼──────────┤\n",
       "│ 1   │ Acura        │ Integra │ Small   │ 12.9     │ 15.9    │ 18.8     │\n",
       "│ 2   │ Acura        │ Legend  │ Midsize │ 29.2     │ 33.9    │ 38.7     │\n",
       "│ 3   │ Audi         │ 90      │ Compact │ 25.9     │ 29.1    │ 32.3     │\n",
       "│ 4   │ Audi         │ 100     │ Midsize │ 30.8     │ 37.7    │ 44.6     │\n",
       "│ 5   │ BMW          │ 535i    │ Midsize │ 23.7     │ 30.0    │ 36.2     │"
      ]
     },
     "execution_count": 296,
     "metadata": {},
     "output_type": "execute_result"
    }
   ],
   "source": [
    "cars = CSV.File(\"cars.csv\") |> DataFrame; # read in the data again 'cause I changed it\n",
    "filterFun(cyl) = !isequal(cyl,\"rotary\") # exclude rotary engines\n",
    "filter!(:Cylinders => filterFun, cars) |> \n",
    "    x -> transform!(x,:MPGCity => mpg2lper100 => :City, :MPGHighway => mpg2lper100 => :Highway) |> \n",
    "    x -> select!(x, Not([:MPGCity,:MPGHighway])) |> \n",
    "    head "
   ]
  },
  {
   "cell_type": "code",
   "execution_count": 297,
   "metadata": {},
   "outputs": [
    {
     "data": {
      "text/plain": [
       "StatsModels.TableRegressionModel{LinearModel{GLM.LmResp{Array{Float64,1}},GLM.DensePredChol{Float64,LinearAlgebra.Cholesky{Float64,Array{Float64,2}}}},Array{Float64,2}}\n",
       "\n",
       "City ~ 1 + Cylinders + Origin\n",
       "\n",
       "Coefficients:\n",
       "─────────────────────────────────────────────────────────────────────────────\n",
       "                     Coef.  Std. Error      t  Pr(>|t|)  Lower 95%  Upper 95%\n",
       "─────────────────────────────────────────────────────────────────────────────\n",
       "(Intercept)       4.42476     0.663763   6.67    <1e-8    3.10587    5.74364\n",
       "Cylinders         1.34473     0.118469  11.35    <1e-18   1.10933    1.58012\n",
       "Origin: non-USA  -0.170328    0.307739  -0.55    0.5813  -0.781798   0.441142\n",
       "─────────────────────────────────────────────────────────────────────────────"
      ]
     },
     "execution_count": 297,
     "metadata": {},
     "output_type": "execute_result"
    }
   ],
   "source": [
    "transform!(cars, :Cylinders => (x->parse.(Int,x)) => :Cylinders)\n",
    "lm1 = lm(@formula(City ~ Cylinders + Origin), cars)"
   ]
  },
  {
   "cell_type": "code",
   "execution_count": 275,
   "metadata": {},
   "outputs": [
    {
     "data": {
      "text/plain": [
       "StatsModels.TableRegressionModel{LinearModel{GLM.LmResp{Array{Float64,1}},GLM.DensePredChol{Float64,LinearAlgebra.Cholesky{Float64,Array{Float64,2}}}},Array{Float64,2}}\n",
       "\n",
       "City ~ 1 + Cylinders + Origin\n",
       "\n",
       "Coefficients:\n",
       "─────────────────────────────────────────────────────────────────────────────\n",
       "                     Coef.  Std. Error      t  Pr(>|t|)  Lower 95%  Upper 95%\n",
       "─────────────────────────────────────────────────────────────────────────────\n",
       "(Intercept)       6.25218     0.785153   7.96    <1e-11   4.69135    7.81301\n",
       "Cylinders: 4      3.52633     0.765058   4.61    <1e-4    2.00545    5.04722\n",
       "Cylinders: 5      6.70771     1.15793    5.79    <1e-6    4.40582    9.00961\n",
       "Cylinders: 6      6.65738     0.788405   8.44    <1e-12   5.09009    8.22468\n",
       "Cylinders: 8      7.63451     0.908325   8.41    <1e-12   5.82882    9.4402\n",
       "Origin: non-USA  -0.161429    0.283094  -0.57    0.5700  -0.724202   0.401344\n",
       "─────────────────────────────────────────────────────────────────────────────"
      ]
     },
     "execution_count": 275,
     "metadata": {},
     "output_type": "execute_result"
    }
   ],
   "source": [
    "lm2 = lm(@formula(City ~ Cylinders + Origin), cars, contrasts = Dict(:Cylinders => DummyCoding()))"
   ]
  },
  {
   "cell_type": "code",
   "execution_count": 280,
   "metadata": {},
   "outputs": [],
   "source": [
    "using Plots"
   ]
  },
  {
   "cell_type": "code",
   "execution_count": 279,
   "metadata": {},
   "outputs": [
    {
     "data": {
      "image/svg+xml": [
       "<?xml version=\"1.0\" encoding=\"utf-8\"?>\n",
       "<svg xmlns=\"http://www.w3.org/2000/svg\" xmlns:xlink=\"http://www.w3.org/1999/xlink\" width=\"600\" height=\"400\" viewBox=\"0 0 2400 1600\">\n",
       "<defs>\n",
       "  <clipPath id=\"clip330\">\n",
       "    <rect x=\"0\" y=\"0\" width=\"2400\" height=\"1600\"/>\n",
       "  </clipPath>\n",
       "</defs>\n",
       "<path clip-path=\"url(#clip330)\" d=\"\n",
       "M0 1600 L2400 1600 L2400 0 L0 0  Z\n",
       "  \" fill=\"#ffffff\" fill-rule=\"evenodd\" fill-opacity=\"1\"/>\n",
       "<defs>\n",
       "  <clipPath id=\"clip331\">\n",
       "    <rect x=\"480\" y=\"0\" width=\"1681\" height=\"1600\"/>\n",
       "  </clipPath>\n",
       "</defs>\n",
       "<path clip-path=\"url(#clip330)\" d=\"\n",
       "M144.168 1486.45 L2352.76 1486.45 L2352.76 47.2441 L144.168 47.2441  Z\n",
       "  \" fill=\"#ffffff\" fill-rule=\"evenodd\" fill-opacity=\"1\"/>\n",
       "<defs>\n",
       "  <clipPath id=\"clip332\">\n",
       "    <rect x=\"144\" y=\"47\" width=\"2210\" height=\"1440\"/>\n",
       "  </clipPath>\n",
       "</defs>\n",
       "<polyline clip-path=\"url(#clip332)\" style=\"stroke:#000000; stroke-width:2; stroke-opacity:0.1; fill:none\" points=\"\n",
       "  421.678,1486.45 421.678,47.2441 \n",
       "  \"/>\n",
       "<polyline clip-path=\"url(#clip332)\" style=\"stroke:#000000; stroke-width:2; stroke-opacity:0.1; fill:none\" points=\"\n",
       "  723.91,1486.45 723.91,47.2441 \n",
       "  \"/>\n",
       "<polyline clip-path=\"url(#clip332)\" style=\"stroke:#000000; stroke-width:2; stroke-opacity:0.1; fill:none\" points=\"\n",
       "  1026.14,1486.45 1026.14,47.2441 \n",
       "  \"/>\n",
       "<polyline clip-path=\"url(#clip332)\" style=\"stroke:#000000; stroke-width:2; stroke-opacity:0.1; fill:none\" points=\"\n",
       "  1328.37,1486.45 1328.37,47.2441 \n",
       "  \"/>\n",
       "<polyline clip-path=\"url(#clip332)\" style=\"stroke:#000000; stroke-width:2; stroke-opacity:0.1; fill:none\" points=\"\n",
       "  1630.6,1486.45 1630.6,47.2441 \n",
       "  \"/>\n",
       "<polyline clip-path=\"url(#clip332)\" style=\"stroke:#000000; stroke-width:2; stroke-opacity:0.1; fill:none\" points=\"\n",
       "  1932.84,1486.45 1932.84,47.2441 \n",
       "  \"/>\n",
       "<polyline clip-path=\"url(#clip332)\" style=\"stroke:#000000; stroke-width:2; stroke-opacity:0.1; fill:none\" points=\"\n",
       "  2235.07,1486.45 2235.07,47.2441 \n",
       "  \"/>\n",
       "<polyline clip-path=\"url(#clip332)\" style=\"stroke:#000000; stroke-width:2; stroke-opacity:0.1; fill:none\" points=\"\n",
       "  144.168,1439.72 2352.76,1439.72 \n",
       "  \"/>\n",
       "<polyline clip-path=\"url(#clip332)\" style=\"stroke:#000000; stroke-width:2; stroke-opacity:0.1; fill:none\" points=\"\n",
       "  144.168,1076.06 2352.76,1076.06 \n",
       "  \"/>\n",
       "<polyline clip-path=\"url(#clip332)\" style=\"stroke:#000000; stroke-width:2; stroke-opacity:0.1; fill:none\" points=\"\n",
       "  144.168,712.404 2352.76,712.404 \n",
       "  \"/>\n",
       "<polyline clip-path=\"url(#clip332)\" style=\"stroke:#000000; stroke-width:2; stroke-opacity:0.1; fill:none\" points=\"\n",
       "  144.168,348.747 2352.76,348.747 \n",
       "  \"/>\n",
       "<polyline clip-path=\"url(#clip330)\" style=\"stroke:#000000; stroke-width:4; stroke-opacity:1; fill:none\" points=\"\n",
       "  144.168,1486.45 2352.76,1486.45 \n",
       "  \"/>\n",
       "<polyline clip-path=\"url(#clip330)\" style=\"stroke:#000000; stroke-width:4; stroke-opacity:1; fill:none\" points=\"\n",
       "  144.168,1486.45 144.168,47.2441 \n",
       "  \"/>\n",
       "<polyline clip-path=\"url(#clip330)\" style=\"stroke:#000000; stroke-width:4; stroke-opacity:1; fill:none\" points=\"\n",
       "  421.678,1486.45 421.678,1469.18 \n",
       "  \"/>\n",
       "<polyline clip-path=\"url(#clip330)\" style=\"stroke:#000000; stroke-width:4; stroke-opacity:1; fill:none\" points=\"\n",
       "  723.91,1486.45 723.91,1469.18 \n",
       "  \"/>\n",
       "<polyline clip-path=\"url(#clip330)\" style=\"stroke:#000000; stroke-width:4; stroke-opacity:1; fill:none\" points=\"\n",
       "  1026.14,1486.45 1026.14,1469.18 \n",
       "  \"/>\n",
       "<polyline clip-path=\"url(#clip330)\" style=\"stroke:#000000; stroke-width:4; stroke-opacity:1; fill:none\" points=\"\n",
       "  1328.37,1486.45 1328.37,1469.18 \n",
       "  \"/>\n",
       "<polyline clip-path=\"url(#clip330)\" style=\"stroke:#000000; stroke-width:4; stroke-opacity:1; fill:none\" points=\"\n",
       "  1630.6,1486.45 1630.6,1469.18 \n",
       "  \"/>\n",
       "<polyline clip-path=\"url(#clip330)\" style=\"stroke:#000000; stroke-width:4; stroke-opacity:1; fill:none\" points=\"\n",
       "  1932.84,1486.45 1932.84,1469.18 \n",
       "  \"/>\n",
       "<polyline clip-path=\"url(#clip330)\" style=\"stroke:#000000; stroke-width:4; stroke-opacity:1; fill:none\" points=\"\n",
       "  2235.07,1486.45 2235.07,1469.18 \n",
       "  \"/>\n",
       "<polyline clip-path=\"url(#clip330)\" style=\"stroke:#000000; stroke-width:4; stroke-opacity:1; fill:none\" points=\"\n",
       "  144.168,1439.72 170.671,1439.72 \n",
       "  \"/>\n",
       "<polyline clip-path=\"url(#clip330)\" style=\"stroke:#000000; stroke-width:4; stroke-opacity:1; fill:none\" points=\"\n",
       "  144.168,1076.06 170.671,1076.06 \n",
       "  \"/>\n",
       "<polyline clip-path=\"url(#clip330)\" style=\"stroke:#000000; stroke-width:4; stroke-opacity:1; fill:none\" points=\"\n",
       "  144.168,712.404 170.671,712.404 \n",
       "  \"/>\n",
       "<polyline clip-path=\"url(#clip330)\" style=\"stroke:#000000; stroke-width:4; stroke-opacity:1; fill:none\" points=\"\n",
       "  144.168,348.747 170.671,348.747 \n",
       "  \"/>\n",
       "<path clip-path=\"url(#clip330)\" d=\"M 0 0 M411.979 1539.2 L411.979 1534.94 Q413.739 1535.78 415.544 1536.22 Q417.35 1536.66 419.086 1536.66 Q423.716 1536.66 426.146 1533.55 Q428.6 1530.43 428.947 1524.09 Q427.604 1526.08 425.544 1527.14 Q423.484 1528.21 420.984 1528.21 Q415.799 1528.21 412.767 1525.08 Q409.757 1521.93 409.757 1516.49 Q409.757 1511.17 412.905 1507.95 Q416.054 1504.73 421.285 1504.73 Q427.28 1504.73 430.428 1509.34 Q433.6 1513.92 433.6 1522.67 Q433.6 1530.85 429.711 1535.73 Q425.845 1540.59 419.294 1540.59 Q417.535 1540.59 415.729 1540.24 Q413.924 1539.9 411.979 1539.2 M421.285 1524.55 Q424.433 1524.55 426.262 1522.4 Q428.114 1520.24 428.114 1516.49 Q428.114 1512.77 426.262 1510.61 Q424.433 1508.44 421.285 1508.44 Q418.137 1508.44 416.285 1510.61 Q414.456 1512.77 414.456 1516.49 Q414.456 1520.24 416.285 1522.4 Q418.137 1524.55 421.285 1524.55 Z\" fill=\"#000000\" fill-rule=\"evenodd\" fill-opacity=\"1\" /><path clip-path=\"url(#clip330)\" d=\"M 0 0 M700.785 1535.98 L708.424 1535.98 L708.424 1509.62 L700.114 1511.29 L700.114 1507.03 L708.378 1505.36 L713.053 1505.36 L713.053 1535.98 L720.692 1535.98 L720.692 1539.92 L700.785 1539.92 L700.785 1535.98 Z\" fill=\"#000000\" fill-rule=\"evenodd\" fill-opacity=\"1\" /><path clip-path=\"url(#clip330)\" d=\"M 0 0 M735.762 1508.44 Q732.151 1508.44 730.322 1512 Q728.516 1515.55 728.516 1522.67 Q728.516 1529.78 730.322 1533.35 Q732.151 1536.89 735.762 1536.89 Q739.396 1536.89 741.201 1533.35 Q743.03 1529.78 743.03 1522.67 Q743.03 1515.55 741.201 1512 Q739.396 1508.44 735.762 1508.44 M735.762 1504.73 Q741.572 1504.73 744.627 1509.34 Q747.706 1513.92 747.706 1522.67 Q747.706 1531.4 744.627 1536.01 Q741.572 1540.59 735.762 1540.59 Q729.952 1540.59 726.873 1536.01 Q723.817 1531.4 723.817 1522.67 Q723.817 1513.92 726.873 1509.34 Q729.952 1504.73 735.762 1504.73 Z\" fill=\"#000000\" fill-rule=\"evenodd\" fill-opacity=\"1\" /><path clip-path=\"url(#clip330)\" d=\"M 0 0 M1003.63 1535.98 L1011.27 1535.98 L1011.27 1509.62 L1002.96 1511.29 L1002.96 1507.03 L1011.22 1505.36 L1015.9 1505.36 L1015.9 1535.98 L1023.54 1535.98 L1023.54 1539.92 L1003.63 1539.92 L1003.63 1535.98 Z\" fill=\"#000000\" fill-rule=\"evenodd\" fill-opacity=\"1\" /><path clip-path=\"url(#clip330)\" d=\"M 0 0 M1029.42 1535.98 L1037.06 1535.98 L1037.06 1509.62 L1028.75 1511.29 L1028.75 1507.03 L1037.01 1505.36 L1041.69 1505.36 L1041.69 1535.98 L1049.32 1535.98 L1049.32 1539.92 L1029.42 1539.92 L1029.42 1535.98 Z\" fill=\"#000000\" fill-rule=\"evenodd\" fill-opacity=\"1\" /><path clip-path=\"url(#clip330)\" d=\"M 0 0 M1306.05 1535.98 L1313.69 1535.98 L1313.69 1509.62 L1305.38 1511.29 L1305.38 1507.03 L1313.64 1505.36 L1318.31 1505.36 L1318.31 1535.98 L1325.95 1535.98 L1325.95 1539.92 L1306.05 1539.92 L1306.05 1535.98 Z\" fill=\"#000000\" fill-rule=\"evenodd\" fill-opacity=\"1\" /><path clip-path=\"url(#clip330)\" d=\"M 0 0 M1335.05 1535.98 L1351.37 1535.98 L1351.37 1539.92 L1329.43 1539.92 L1329.43 1535.98 Q1332.09 1533.23 1336.67 1528.6 Q1341.28 1523.95 1342.46 1522.61 Q1344.7 1520.08 1345.58 1518.35 Q1346.49 1516.59 1346.49 1514.9 Q1346.49 1512.14 1344.54 1510.41 Q1342.62 1508.67 1339.52 1508.67 Q1337.32 1508.67 1334.87 1509.43 Q1332.44 1510.2 1329.66 1511.75 L1329.66 1507.03 Q1332.48 1505.89 1334.94 1505.31 Q1337.39 1504.73 1339.43 1504.73 Q1344.8 1504.73 1347.99 1507.42 Q1351.19 1510.11 1351.19 1514.6 Q1351.19 1516.73 1350.37 1518.65 Q1349.59 1520.54 1347.48 1523.14 Q1346.9 1523.81 1343.8 1527.03 Q1340.7 1530.22 1335.05 1535.98 Z\" fill=\"#000000\" fill-rule=\"evenodd\" fill-opacity=\"1\" /><path clip-path=\"url(#clip330)\" d=\"M 0 0 M1607.8 1535.98 L1615.44 1535.98 L1615.44 1509.62 L1607.13 1511.29 L1607.13 1507.03 L1615.4 1505.36 L1620.07 1505.36 L1620.07 1535.98 L1627.71 1535.98 L1627.71 1539.92 L1607.8 1539.92 L1607.8 1535.98 Z\" fill=\"#000000\" fill-rule=\"evenodd\" fill-opacity=\"1\" /><path clip-path=\"url(#clip330)\" d=\"M 0 0 M1646.95 1521.29 Q1650.3 1522 1652.18 1524.27 Q1654.08 1526.54 1654.08 1529.87 Q1654.08 1534.99 1650.56 1537.79 Q1647.04 1540.59 1640.56 1540.59 Q1638.38 1540.59 1636.07 1540.15 Q1633.78 1539.73 1631.32 1538.88 L1631.32 1534.36 Q1633.27 1535.5 1635.58 1536.08 Q1637.9 1536.66 1640.42 1536.66 Q1644.82 1536.66 1647.11 1534.92 Q1649.42 1533.18 1649.42 1529.87 Q1649.42 1526.82 1647.27 1525.11 Q1645.14 1523.37 1641.32 1523.37 L1637.29 1523.37 L1637.29 1519.53 L1641.51 1519.53 Q1644.96 1519.53 1646.78 1518.16 Q1648.61 1516.77 1648.61 1514.18 Q1648.61 1511.52 1646.72 1510.11 Q1644.84 1508.67 1641.32 1508.67 Q1639.4 1508.67 1637.2 1509.09 Q1635 1509.5 1632.36 1510.38 L1632.36 1506.22 Q1635.03 1505.48 1637.34 1505.11 Q1639.68 1504.73 1641.74 1504.73 Q1647.06 1504.73 1650.16 1507.17 Q1653.27 1509.57 1653.27 1513.69 Q1653.27 1516.56 1651.62 1518.55 Q1649.98 1520.52 1646.95 1521.29 Z\" fill=\"#000000\" fill-rule=\"evenodd\" fill-opacity=\"1\" /><path clip-path=\"url(#clip330)\" d=\"M 0 0 M1909.47 1535.98 L1917.11 1535.98 L1917.11 1509.62 L1908.8 1511.29 L1908.8 1507.03 L1917.06 1505.36 L1921.74 1505.36 L1921.74 1535.98 L1929.37 1535.98 L1929.37 1539.92 L1909.47 1539.92 L1909.47 1535.98 Z\" fill=\"#000000\" fill-rule=\"evenodd\" fill-opacity=\"1\" /><path clip-path=\"url(#clip330)\" d=\"M 0 0 M1947.29 1509.43 L1935.49 1527.88 L1947.29 1527.88 L1947.29 1509.43 M1946.06 1505.36 L1951.94 1505.36 L1951.94 1527.88 L1956.87 1527.88 L1956.87 1531.77 L1951.94 1531.77 L1951.94 1539.92 L1947.29 1539.92 L1947.29 1531.77 L1931.69 1531.77 L1931.69 1527.26 L1946.06 1505.36 Z\" fill=\"#000000\" fill-rule=\"evenodd\" fill-opacity=\"1\" /><path clip-path=\"url(#clip330)\" d=\"M 0 0 M2212.44 1535.98 L2220.08 1535.98 L2220.08 1509.62 L2211.77 1511.29 L2211.77 1507.03 L2220.03 1505.36 L2224.71 1505.36 L2224.71 1535.98 L2232.35 1535.98 L2232.35 1539.92 L2212.44 1539.92 L2212.44 1535.98 Z\" fill=\"#000000\" fill-rule=\"evenodd\" fill-opacity=\"1\" /><path clip-path=\"url(#clip330)\" d=\"M 0 0 M2237.46 1505.36 L2255.82 1505.36 L2255.82 1509.3 L2241.75 1509.3 L2241.75 1517.77 Q2242.76 1517.42 2243.78 1517.26 Q2244.8 1517.07 2245.82 1517.07 Q2251.61 1517.07 2254.99 1520.24 Q2258.37 1523.42 2258.37 1528.83 Q2258.37 1534.41 2254.89 1537.51 Q2251.42 1540.59 2245.1 1540.59 Q2242.93 1540.59 2240.66 1540.22 Q2238.41 1539.85 2236 1539.11 L2236 1534.41 Q2238.09 1535.54 2240.31 1536.1 Q2242.53 1536.66 2245.01 1536.66 Q2249.01 1536.66 2251.35 1534.55 Q2253.69 1532.44 2253.69 1528.83 Q2253.69 1525.22 2251.35 1523.11 Q2249.01 1521.01 2245.01 1521.01 Q2243.13 1521.01 2241.26 1521.42 Q2239.41 1521.84 2237.46 1522.72 L2237.46 1505.36 Z\" fill=\"#000000\" fill-rule=\"evenodd\" fill-opacity=\"1\" /><path clip-path=\"url(#clip330)\" d=\"M 0 0 M62.9921 1440.17 L92.6679 1440.17 L92.6679 1444.1 L62.9921 1444.1 L62.9921 1440.17 Z\" fill=\"#000000\" fill-rule=\"evenodd\" fill-opacity=\"1\" /><path clip-path=\"url(#clip330)\" d=\"M 0 0 M110.584 1426.51 L98.779 1444.96 L110.584 1444.96 L110.584 1426.51 M109.358 1422.44 L115.237 1422.44 L115.237 1444.96 L120.168 1444.96 L120.168 1448.85 L115.237 1448.85 L115.237 1457 L110.584 1457 L110.584 1448.85 L94.9827 1448.85 L94.9827 1444.34 L109.358 1422.44 Z\" fill=\"#000000\" fill-rule=\"evenodd\" fill-opacity=\"1\" /><path clip-path=\"url(#clip330)\" d=\"M 0 0 M65.0754 1076.51 L94.7512 1076.51 L94.7512 1080.45 L65.0754 1080.45 L65.0754 1076.51 Z\" fill=\"#000000\" fill-rule=\"evenodd\" fill-opacity=\"1\" /><path clip-path=\"url(#clip330)\" d=\"M 0 0 M103.848 1089.41 L120.168 1089.41 L120.168 1093.34 L98.2234 1093.34 L98.2234 1089.41 Q100.885 1086.65 105.469 1082.02 Q110.075 1077.37 111.256 1076.03 Q113.501 1073.5 114.381 1071.77 Q115.284 1070.01 115.284 1068.32 Q115.284 1065.56 113.339 1063.83 Q111.418 1062.09 108.316 1062.09 Q106.117 1062.09 103.663 1062.86 Q101.233 1063.62 98.4549 1065.17 L98.4549 1060.45 Q101.279 1059.31 103.733 1058.73 Q106.186 1058.16 108.223 1058.16 Q113.594 1058.16 116.788 1060.84 Q119.983 1063.53 119.983 1068.02 Q119.983 1070.15 119.172 1072.07 Q118.385 1073.97 116.279 1076.56 Q115.7 1077.23 112.598 1080.45 Q109.497 1083.64 103.848 1089.41 Z\" fill=\"#000000\" fill-rule=\"evenodd\" fill-opacity=\"1\" /><path clip-path=\"url(#clip330)\" d=\"M 0 0 M108.223 698.203 Q104.612 698.203 102.784 701.768 Q100.978 705.309 100.978 712.439 Q100.978 719.545 102.784 723.11 Q104.612 726.652 108.223 726.652 Q111.858 726.652 113.663 723.11 Q115.492 719.545 115.492 712.439 Q115.492 705.309 113.663 701.768 Q111.858 698.203 108.223 698.203 M108.223 694.499 Q114.034 694.499 117.089 699.106 Q120.168 703.689 120.168 712.439 Q120.168 721.166 117.089 725.772 Q114.034 730.356 108.223 730.356 Q102.413 730.356 99.3345 725.772 Q96.279 721.166 96.279 712.439 Q96.279 703.689 99.3345 699.106 Q102.413 694.499 108.223 694.499 Z\" fill=\"#000000\" fill-rule=\"evenodd\" fill-opacity=\"1\" /><path clip-path=\"url(#clip330)\" d=\"M 0 0 M103.848 362.092 L120.168 362.092 L120.168 366.027 L98.2234 366.027 L98.2234 362.092 Q100.885 359.337 105.469 354.708 Q110.075 350.055 111.256 348.713 Q113.501 346.189 114.381 344.453 Q115.284 342.694 115.284 341.004 Q115.284 338.25 113.339 336.514 Q111.418 334.777 108.316 334.777 Q106.117 334.777 103.663 335.541 Q101.233 336.305 98.4549 337.856 L98.4549 333.134 Q101.279 332 103.733 331.421 Q106.186 330.842 108.223 330.842 Q113.594 330.842 116.788 333.527 Q119.983 336.213 119.983 340.703 Q119.983 342.833 119.172 344.754 Q118.385 346.652 116.279 349.245 Q115.7 349.916 112.598 353.134 Q109.497 356.328 103.848 362.092 Z\" fill=\"#000000\" fill-rule=\"evenodd\" fill-opacity=\"1\" /><circle clip-path=\"url(#clip332)\" cx=\"613.094\" cy=\"753.269\" r=\"14\" fill=\"#009af9\" fill-rule=\"evenodd\" fill-opacity=\"1\" stroke=\"#000000\" stroke-opacity=\"1\" stroke-width=\"3.2\"/>\n",
       "<circle clip-path=\"url(#clip332)\" cx=\"1425.93\" cy=\"576.996\" r=\"14\" fill=\"#009af9\" fill-rule=\"evenodd\" fill-opacity=\"1\" stroke=\"#000000\" stroke-opacity=\"1\" stroke-width=\"3.2\"/>\n",
       "<circle clip-path=\"url(#clip332)\" cx=\"1425.93\" cy=\"814.6\" r=\"14\" fill=\"#009af9\" fill-rule=\"evenodd\" fill-opacity=\"1\" stroke=\"#000000\" stroke-opacity=\"1\" stroke-width=\"3.2\"/>\n",
       "<circle clip-path=\"url(#clip332)\" cx=\"1425.93\" cy=\"702.051\" r=\"14\" fill=\"#009af9\" fill-rule=\"evenodd\" fill-opacity=\"1\" stroke=\"#000000\" stroke-opacity=\"1\" stroke-width=\"3.2\"/>\n",
       "<circle clip-path=\"url(#clip332)\" cx=\"613.094\" cy=\"519.984\" r=\"14\" fill=\"#009af9\" fill-rule=\"evenodd\" fill-opacity=\"1\" stroke=\"#000000\" stroke-opacity=\"1\" stroke-width=\"3.2\"/>\n",
       "<circle clip-path=\"url(#clip332)\" cx=\"664.573\" cy=\"550.955\" r=\"14\" fill=\"#009af9\" fill-rule=\"evenodd\" fill-opacity=\"1\" stroke=\"#000000\" stroke-opacity=\"1\" stroke-width=\"3.2\"/>\n",
       "<circle clip-path=\"url(#clip332)\" cx=\"1477.41\" cy=\"733.022\" r=\"14\" fill=\"#009af9\" fill-rule=\"evenodd\" fill-opacity=\"1\" stroke=\"#000000\" stroke-opacity=\"1\" stroke-width=\"3.2\"/>\n",
       "<circle clip-path=\"url(#clip332)\" cx=\"1477.41\" cy=\"310.961\" r=\"14\" fill=\"#009af9\" fill-rule=\"evenodd\" fill-opacity=\"1\" stroke=\"#000000\" stroke-opacity=\"1\" stroke-width=\"3.2\"/>\n",
       "<circle clip-path=\"url(#clip332)\" cx=\"1477.41\" cy=\"733.022\" r=\"14\" fill=\"#009af9\" fill-rule=\"evenodd\" fill-opacity=\"1\" stroke=\"#000000\" stroke-opacity=\"1\" stroke-width=\"3.2\"/>\n",
       "<circle clip-path=\"url(#clip332)\" cx=\"2290.25\" cy=\"799.981\" r=\"14\" fill=\"#009af9\" fill-rule=\"evenodd\" fill-opacity=\"1\" stroke=\"#000000\" stroke-opacity=\"1\" stroke-width=\"3.2\"/>\n",
       "<circle clip-path=\"url(#clip332)\" cx=\"2290.25\" cy=\"799.981\" r=\"14\" fill=\"#009af9\" fill-rule=\"evenodd\" fill-opacity=\"1\" stroke=\"#000000\" stroke-opacity=\"1\" stroke-width=\"3.2\"/>\n",
       "<circle clip-path=\"url(#clip332)\" cx=\"664.573\" cy=\"784.239\" r=\"14\" fill=\"#009af9\" fill-rule=\"evenodd\" fill-opacity=\"1\" stroke=\"#000000\" stroke-opacity=\"1\" stroke-width=\"3.2\"/>\n",
       "<circle clip-path=\"url(#clip332)\" cx=\"664.573\" cy=\"784.239\" r=\"14\" fill=\"#009af9\" fill-rule=\"evenodd\" fill-opacity=\"1\" stroke=\"#000000\" stroke-opacity=\"1\" stroke-width=\"3.2\"/>\n",
       "<circle clip-path=\"url(#clip332)\" cx=\"1477.41\" cy=\"733.022\" r=\"14\" fill=\"#009af9\" fill-rule=\"evenodd\" fill-opacity=\"1\" stroke=\"#000000\" stroke-opacity=\"1\" stroke-width=\"3.2\"/>\n",
       "<circle clip-path=\"url(#clip332)\" cx=\"664.573\" cy=\"458.382\" r=\"14\" fill=\"#009af9\" fill-rule=\"evenodd\" fill-opacity=\"1\" stroke=\"#000000\" stroke-opacity=\"1\" stroke-width=\"3.2\"/>\n",
       "<circle clip-path=\"url(#clip332)\" cx=\"1477.41\" cy=\"607.967\" r=\"14\" fill=\"#009af9\" fill-rule=\"evenodd\" fill-opacity=\"1\" stroke=\"#000000\" stroke-opacity=\"1\" stroke-width=\"3.2\"/>\n",
       "<circle clip-path=\"url(#clip332)\" cx=\"1477.41\" cy=\"132.758\" r=\"14\" fill=\"#009af9\" fill-rule=\"evenodd\" fill-opacity=\"1\" stroke=\"#000000\" stroke-opacity=\"1\" stroke-width=\"3.2\"/>\n",
       "<circle clip-path=\"url(#clip332)\" cx=\"2290.25\" cy=\"957.219\" r=\"14\" fill=\"#009af9\" fill-rule=\"evenodd\" fill-opacity=\"1\" stroke=\"#000000\" stroke-opacity=\"1\" stroke-width=\"3.2\"/>\n",
       "<circle clip-path=\"url(#clip332)\" cx=\"2290.25\" cy=\"957.219\" r=\"14\" fill=\"#009af9\" fill-rule=\"evenodd\" fill-opacity=\"1\" stroke=\"#000000\" stroke-opacity=\"1\" stroke-width=\"3.2\"/>\n",
       "<circle clip-path=\"url(#clip332)\" cx=\"1477.41\" cy=\"845.571\" r=\"14\" fill=\"#009af9\" fill-rule=\"evenodd\" fill-opacity=\"1\" stroke=\"#000000\" stroke-opacity=\"1\" stroke-width=\"3.2\"/>\n",
       "<circle clip-path=\"url(#clip332)\" cx=\"664.573\" cy=\"635.478\" r=\"14\" fill=\"#009af9\" fill-rule=\"evenodd\" fill-opacity=\"1\" stroke=\"#000000\" stroke-opacity=\"1\" stroke-width=\"3.2\"/>\n",
       "<circle clip-path=\"url(#clip332)\" cx=\"1477.41\" cy=\"845.571\" r=\"14\" fill=\"#009af9\" fill-rule=\"evenodd\" fill-opacity=\"1\" stroke=\"#000000\" stroke-opacity=\"1\" stroke-width=\"3.2\"/>\n",
       "<circle clip-path=\"url(#clip332)\" cx=\"664.573\" cy=\"1020.2\" r=\"14\" fill=\"#009af9\" fill-rule=\"evenodd\" fill-opacity=\"1\" stroke=\"#000000\" stroke-opacity=\"1\" stroke-width=\"3.2\"/>\n",
       "<circle clip-path=\"url(#clip332)\" cx=\"664.573\" cy=\"635.478\" r=\"14\" fill=\"#009af9\" fill-rule=\"evenodd\" fill-opacity=\"1\" stroke=\"#000000\" stroke-opacity=\"1\" stroke-width=\"3.2\"/>\n",
       "<circle clip-path=\"url(#clip332)\" cx=\"664.573\" cy=\"550.955\" r=\"14\" fill=\"#009af9\" fill-rule=\"evenodd\" fill-opacity=\"1\" stroke=\"#000000\" stroke-opacity=\"1\" stroke-width=\"3.2\"/>\n",
       "<circle clip-path=\"url(#clip332)\" cx=\"1477.41\" cy=\"468.199\" r=\"14\" fill=\"#009af9\" fill-rule=\"evenodd\" fill-opacity=\"1\" stroke=\"#000000\" stroke-opacity=\"1\" stroke-width=\"3.2\"/>\n",
       "<circle clip-path=\"url(#clip332)\" cx=\"664.573\" cy=\"458.382\" r=\"14\" fill=\"#009af9\" fill-rule=\"evenodd\" fill-opacity=\"1\" stroke=\"#000000\" stroke-opacity=\"1\" stroke-width=\"3.2\"/>\n",
       "<circle clip-path=\"url(#clip332)\" cx=\"1477.41\" cy=\"607.967\" r=\"14\" fill=\"#009af9\" fill-rule=\"evenodd\" fill-opacity=\"1\" stroke=\"#000000\" stroke-opacity=\"1\" stroke-width=\"3.2\"/>\n",
       "<circle clip-path=\"url(#clip332)\" cx=\"664.573\" cy=\"1020.2\" r=\"14\" fill=\"#009af9\" fill-rule=\"evenodd\" fill-opacity=\"1\" stroke=\"#000000\" stroke-opacity=\"1\" stroke-width=\"3.2\"/>\n",
       "<circle clip-path=\"url(#clip332)\" cx=\"1477.41\" cy=\"845.571\" r=\"14\" fill=\"#009af9\" fill-rule=\"evenodd\" fill-opacity=\"1\" stroke=\"#000000\" stroke-opacity=\"1\" stroke-width=\"3.2\"/>\n",
       "<circle clip-path=\"url(#clip332)\" cx=\"664.573\" cy=\"1115.35\" r=\"14\" fill=\"#009af9\" fill-rule=\"evenodd\" fill-opacity=\"1\" stroke=\"#000000\" stroke-opacity=\"1\" stroke-width=\"3.2\"/>\n",
       "<circle clip-path=\"url(#clip332)\" cx=\"664.573\" cy=\"635.478\" r=\"14\" fill=\"#009af9\" fill-rule=\"evenodd\" fill-opacity=\"1\" stroke=\"#000000\" stroke-opacity=\"1\" stroke-width=\"3.2\"/>\n",
       "<circle clip-path=\"url(#clip332)\" cx=\"664.573\" cy=\"550.955\" r=\"14\" fill=\"#009af9\" fill-rule=\"evenodd\" fill-opacity=\"1\" stroke=\"#000000\" stroke-opacity=\"1\" stroke-width=\"3.2\"/>\n",
       "<circle clip-path=\"url(#clip332)\" cx=\"664.573\" cy=\"550.955\" r=\"14\" fill=\"#009af9\" fill-rule=\"evenodd\" fill-opacity=\"1\" stroke=\"#000000\" stroke-opacity=\"1\" stroke-width=\"3.2\"/>\n",
       "<circle clip-path=\"url(#clip332)\" cx=\"664.573\" cy=\"712.958\" r=\"14\" fill=\"#009af9\" fill-rule=\"evenodd\" fill-opacity=\"1\" stroke=\"#000000\" stroke-opacity=\"1\" stroke-width=\"3.2\"/>\n",
       "<circle clip-path=\"url(#clip332)\" cx=\"1477.41\" cy=\"132.758\" r=\"14\" fill=\"#009af9\" fill-rule=\"evenodd\" fill-opacity=\"1\" stroke=\"#000000\" stroke-opacity=\"1\" stroke-width=\"3.2\"/>\n",
       "<circle clip-path=\"url(#clip332)\" cx=\"1477.41\" cy=\"947.401\" r=\"14\" fill=\"#009af9\" fill-rule=\"evenodd\" fill-opacity=\"1\" stroke=\"#000000\" stroke-opacity=\"1\" stroke-width=\"3.2\"/>\n",
       "<circle clip-path=\"url(#clip332)\" cx=\"2290.25\" cy=\"1096.99\" r=\"14\" fill=\"#009af9\" fill-rule=\"evenodd\" fill-opacity=\"1\" stroke=\"#000000\" stroke-opacity=\"1\" stroke-width=\"3.2\"/>\n",
       "<circle clip-path=\"url(#clip332)\" cx=\"206.675\" cy=\"1289.75\" r=\"14\" fill=\"#009af9\" fill-rule=\"evenodd\" fill-opacity=\"1\" stroke=\"#000000\" stroke-opacity=\"1\" stroke-width=\"3.2\"/>\n",
       "<circle clip-path=\"url(#clip332)\" cx=\"613.094\" cy=\"1038.39\" r=\"14\" fill=\"#009af9\" fill-rule=\"evenodd\" fill-opacity=\"1\" stroke=\"#000000\" stroke-opacity=\"1\" stroke-width=\"3.2\"/>\n",
       "<circle clip-path=\"url(#clip332)\" cx=\"613.094\" cy=\"681.987\" r=\"14\" fill=\"#009af9\" fill-rule=\"evenodd\" fill-opacity=\"1\" stroke=\"#000000\" stroke-opacity=\"1\" stroke-width=\"3.2\"/>\n",
       "<circle clip-path=\"url(#clip332)\" cx=\"613.094\" cy=\"1445.72\" r=\"14\" fill=\"#009af9\" fill-rule=\"evenodd\" fill-opacity=\"1\" stroke=\"#000000\" stroke-opacity=\"1\" stroke-width=\"3.2\"/>\n",
       "<circle clip-path=\"url(#clip332)\" cx=\"613.094\" cy=\"681.987\" r=\"14\" fill=\"#009af9\" fill-rule=\"evenodd\" fill-opacity=\"1\" stroke=\"#000000\" stroke-opacity=\"1\" stroke-width=\"3.2\"/>\n",
       "<circle clip-path=\"url(#clip332)\" cx=\"613.094\" cy=\"989.234\" r=\"14\" fill=\"#009af9\" fill-rule=\"evenodd\" fill-opacity=\"1\" stroke=\"#000000\" stroke-opacity=\"1\" stroke-width=\"3.2\"/>\n",
       "<circle clip-path=\"url(#clip332)\" cx=\"613.094\" cy=\"519.984\" r=\"14\" fill=\"#009af9\" fill-rule=\"evenodd\" fill-opacity=\"1\" stroke=\"#000000\" stroke-opacity=\"1\" stroke-width=\"3.2\"/>\n",
       "<circle clip-path=\"url(#clip332)\" cx=\"613.094\" cy=\"819.067\" r=\"14\" fill=\"#009af9\" fill-rule=\"evenodd\" fill-opacity=\"1\" stroke=\"#000000\" stroke-opacity=\"1\" stroke-width=\"3.2\"/>\n",
       "<circle clip-path=\"url(#clip332)\" cx=\"613.094\" cy=\"325.581\" r=\"14\" fill=\"#009af9\" fill-rule=\"evenodd\" fill-opacity=\"1\" stroke=\"#000000\" stroke-opacity=\"1\" stroke-width=\"3.2\"/>\n",
       "<circle clip-path=\"url(#clip332)\" cx=\"2238.77\" cy=\"926.249\" r=\"14\" fill=\"#009af9\" fill-rule=\"evenodd\" fill-opacity=\"1\" stroke=\"#000000\" stroke-opacity=\"1\" stroke-width=\"3.2\"/>\n",
       "<circle clip-path=\"url(#clip332)\" cx=\"1425.93\" cy=\"576.996\" r=\"14\" fill=\"#009af9\" fill-rule=\"evenodd\" fill-opacity=\"1\" stroke=\"#000000\" stroke-opacity=\"1\" stroke-width=\"3.2\"/>\n",
       "<circle clip-path=\"url(#clip332)\" cx=\"1425.93\" cy=\"576.996\" r=\"14\" fill=\"#009af9\" fill-rule=\"evenodd\" fill-opacity=\"1\" stroke=\"#000000\" stroke-opacity=\"1\" stroke-width=\"3.2\"/>\n",
       "<circle clip-path=\"url(#clip332)\" cx=\"1477.41\" cy=\"468.199\" r=\"14\" fill=\"#009af9\" fill-rule=\"evenodd\" fill-opacity=\"1\" stroke=\"#000000\" stroke-opacity=\"1\" stroke-width=\"3.2\"/>\n",
       "<circle clip-path=\"url(#clip332)\" cx=\"2290.25\" cy=\"1096.99\" r=\"14\" fill=\"#009af9\" fill-rule=\"evenodd\" fill-opacity=\"1\" stroke=\"#000000\" stroke-opacity=\"1\" stroke-width=\"3.2\"/>\n",
       "<circle clip-path=\"url(#clip332)\" cx=\"613.094\" cy=\"989.234\" r=\"14\" fill=\"#009af9\" fill-rule=\"evenodd\" fill-opacity=\"1\" stroke=\"#000000\" stroke-opacity=\"1\" stroke-width=\"3.2\"/>\n",
       "<circle clip-path=\"url(#clip332)\" cx=\"613.094\" cy=\"936.563\" r=\"14\" fill=\"#009af9\" fill-rule=\"evenodd\" fill-opacity=\"1\" stroke=\"#000000\" stroke-opacity=\"1\" stroke-width=\"3.2\"/>\n",
       "<circle clip-path=\"url(#clip332)\" cx=\"613.094\" cy=\"819.067\" r=\"14\" fill=\"#009af9\" fill-rule=\"evenodd\" fill-opacity=\"1\" stroke=\"#000000\" stroke-opacity=\"1\" stroke-width=\"3.2\"/>\n",
       "<circle clip-path=\"url(#clip332)\" cx=\"1425.93\" cy=\"576.996\" r=\"14\" fill=\"#009af9\" fill-rule=\"evenodd\" fill-opacity=\"1\" stroke=\"#000000\" stroke-opacity=\"1\" stroke-width=\"3.2\"/>\n",
       "<circle clip-path=\"url(#clip332)\" cx=\"613.094\" cy=\"325.581\" r=\"14\" fill=\"#009af9\" fill-rule=\"evenodd\" fill-opacity=\"1\" stroke=\"#000000\" stroke-opacity=\"1\" stroke-width=\"3.2\"/>\n",
       "<circle clip-path=\"url(#clip332)\" cx=\"1425.93\" cy=\"702.051\" r=\"14\" fill=\"#009af9\" fill-rule=\"evenodd\" fill-opacity=\"1\" stroke=\"#000000\" stroke-opacity=\"1\" stroke-width=\"3.2\"/>\n",
       "<circle clip-path=\"url(#clip332)\" cx=\"664.573\" cy=\"635.478\" r=\"14\" fill=\"#009af9\" fill-rule=\"evenodd\" fill-opacity=\"1\" stroke=\"#000000\" stroke-opacity=\"1\" stroke-width=\"3.2\"/>\n",
       "<circle clip-path=\"url(#clip332)\" cx=\"1477.41\" cy=\"733.022\" r=\"14\" fill=\"#009af9\" fill-rule=\"evenodd\" fill-opacity=\"1\" stroke=\"#000000\" stroke-opacity=\"1\" stroke-width=\"3.2\"/>\n",
       "<circle clip-path=\"url(#clip332)\" cx=\"613.094\" cy=\"989.234\" r=\"14\" fill=\"#009af9\" fill-rule=\"evenodd\" fill-opacity=\"1\" stroke=\"#000000\" stroke-opacity=\"1\" stroke-width=\"3.2\"/>\n",
       "<circle clip-path=\"url(#clip332)\" cx=\"1425.93\" cy=\"576.996\" r=\"14\" fill=\"#009af9\" fill-rule=\"evenodd\" fill-opacity=\"1\" stroke=\"#000000\" stroke-opacity=\"1\" stroke-width=\"3.2\"/>\n",
       "<circle clip-path=\"url(#clip332)\" cx=\"613.094\" cy=\"989.234\" r=\"14\" fill=\"#009af9\" fill-rule=\"evenodd\" fill-opacity=\"1\" stroke=\"#000000\" stroke-opacity=\"1\" stroke-width=\"3.2\"/>\n",
       "<circle clip-path=\"url(#clip332)\" cx=\"613.094\" cy=\"681.987\" r=\"14\" fill=\"#009af9\" fill-rule=\"evenodd\" fill-opacity=\"1\" stroke=\"#000000\" stroke-opacity=\"1\" stroke-width=\"3.2\"/>\n",
       "<circle clip-path=\"url(#clip332)\" cx=\"1425.93\" cy=\"437.229\" r=\"14\" fill=\"#009af9\" fill-rule=\"evenodd\" fill-opacity=\"1\" stroke=\"#000000\" stroke-opacity=\"1\" stroke-width=\"3.2\"/>\n",
       "<circle clip-path=\"url(#clip332)\" cx=\"1425.93\" cy=\"916.431\" r=\"14\" fill=\"#009af9\" fill-rule=\"evenodd\" fill-opacity=\"1\" stroke=\"#000000\" stroke-opacity=\"1\" stroke-width=\"3.2\"/>\n",
       "<circle clip-path=\"url(#clip332)\" cx=\"664.573\" cy=\"712.958\" r=\"14\" fill=\"#009af9\" fill-rule=\"evenodd\" fill-opacity=\"1\" stroke=\"#000000\" stroke-opacity=\"1\" stroke-width=\"3.2\"/>\n",
       "<circle clip-path=\"url(#clip332)\" cx=\"664.573\" cy=\"635.478\" r=\"14\" fill=\"#009af9\" fill-rule=\"evenodd\" fill-opacity=\"1\" stroke=\"#000000\" stroke-opacity=\"1\" stroke-width=\"3.2\"/>\n",
       "<circle clip-path=\"url(#clip332)\" cx=\"1477.41\" cy=\"607.967\" r=\"14\" fill=\"#009af9\" fill-rule=\"evenodd\" fill-opacity=\"1\" stroke=\"#000000\" stroke-opacity=\"1\" stroke-width=\"3.2\"/>\n",
       "<circle clip-path=\"url(#clip332)\" cx=\"1477.41\" cy=\"733.022\" r=\"14\" fill=\"#009af9\" fill-rule=\"evenodd\" fill-opacity=\"1\" stroke=\"#000000\" stroke-opacity=\"1\" stroke-width=\"3.2\"/>\n",
       "<circle clip-path=\"url(#clip332)\" cx=\"664.573\" cy=\"635.478\" r=\"14\" fill=\"#009af9\" fill-rule=\"evenodd\" fill-opacity=\"1\" stroke=\"#000000\" stroke-opacity=\"1\" stroke-width=\"3.2\"/>\n",
       "<circle clip-path=\"url(#clip332)\" cx=\"664.573\" cy=\"1115.35\" r=\"14\" fill=\"#009af9\" fill-rule=\"evenodd\" fill-opacity=\"1\" stroke=\"#000000\" stroke-opacity=\"1\" stroke-width=\"3.2\"/>\n",
       "<circle clip-path=\"url(#clip332)\" cx=\"664.573\" cy=\"635.478\" r=\"14\" fill=\"#009af9\" fill-rule=\"evenodd\" fill-opacity=\"1\" stroke=\"#000000\" stroke-opacity=\"1\" stroke-width=\"3.2\"/>\n",
       "<circle clip-path=\"url(#clip332)\" cx=\"1477.41\" cy=\"733.022\" r=\"14\" fill=\"#009af9\" fill-rule=\"evenodd\" fill-opacity=\"1\" stroke=\"#000000\" stroke-opacity=\"1\" stroke-width=\"3.2\"/>\n",
       "<circle clip-path=\"url(#clip332)\" cx=\"1477.41\" cy=\"733.022\" r=\"14\" fill=\"#009af9\" fill-rule=\"evenodd\" fill-opacity=\"1\" stroke=\"#000000\" stroke-opacity=\"1\" stroke-width=\"3.2\"/>\n",
       "<circle clip-path=\"url(#clip332)\" cx=\"1477.41\" cy=\"733.022\" r=\"14\" fill=\"#009af9\" fill-rule=\"evenodd\" fill-opacity=\"1\" stroke=\"#000000\" stroke-opacity=\"1\" stroke-width=\"3.2\"/>\n",
       "<circle clip-path=\"url(#clip332)\" cx=\"613.094\" cy=\"325.581\" r=\"14\" fill=\"#009af9\" fill-rule=\"evenodd\" fill-opacity=\"1\" stroke=\"#000000\" stroke-opacity=\"1\" stroke-width=\"3.2\"/>\n",
       "<circle clip-path=\"url(#clip332)\" cx=\"664.573\" cy=\"967.534\" r=\"14\" fill=\"#009af9\" fill-rule=\"evenodd\" fill-opacity=\"1\" stroke=\"#000000\" stroke-opacity=\"1\" stroke-width=\"3.2\"/>\n",
       "<circle clip-path=\"url(#clip332)\" cx=\"206.675\" cy=\"923.486\" r=\"14\" fill=\"#009af9\" fill-rule=\"evenodd\" fill-opacity=\"1\" stroke=\"#000000\" stroke-opacity=\"1\" stroke-width=\"3.2\"/>\n",
       "<circle clip-path=\"url(#clip332)\" cx=\"613.094\" cy=\"753.269\" r=\"14\" fill=\"#009af9\" fill-rule=\"evenodd\" fill-opacity=\"1\" stroke=\"#000000\" stroke-opacity=\"1\" stroke-width=\"3.2\"/>\n",
       "<circle clip-path=\"url(#clip332)\" cx=\"613.094\" cy=\"604.508\" r=\"14\" fill=\"#009af9\" fill-rule=\"evenodd\" fill-opacity=\"1\" stroke=\"#000000\" stroke-opacity=\"1\" stroke-width=\"3.2\"/>\n",
       "<circle clip-path=\"url(#clip332)\" cx=\"206.675\" cy=\"1122.87\" r=\"14\" fill=\"#009af9\" fill-rule=\"evenodd\" fill-opacity=\"1\" stroke=\"#000000\" stroke-opacity=\"1\" stroke-width=\"3.2\"/>\n",
       "<circle clip-path=\"url(#clip332)\" cx=\"613.094\" cy=\"1127.5\" r=\"14\" fill=\"#009af9\" fill-rule=\"evenodd\" fill-opacity=\"1\" stroke=\"#000000\" stroke-opacity=\"1\" stroke-width=\"3.2\"/>\n",
       "<circle clip-path=\"url(#clip332)\" cx=\"613.094\" cy=\"753.269\" r=\"14\" fill=\"#009af9\" fill-rule=\"evenodd\" fill-opacity=\"1\" stroke=\"#000000\" stroke-opacity=\"1\" stroke-width=\"3.2\"/>\n",
       "<circle clip-path=\"url(#clip332)\" cx=\"613.094\" cy=\"519.984\" r=\"14\" fill=\"#009af9\" fill-rule=\"evenodd\" fill-opacity=\"1\" stroke=\"#000000\" stroke-opacity=\"1\" stroke-width=\"3.2\"/>\n",
       "<circle clip-path=\"url(#clip332)\" cx=\"613.094\" cy=\"87.9763\" r=\"14\" fill=\"#009af9\" fill-rule=\"evenodd\" fill-opacity=\"1\" stroke=\"#000000\" stroke-opacity=\"1\" stroke-width=\"3.2\"/>\n",
       "<circle clip-path=\"url(#clip332)\" cx=\"613.094\" cy=\"753.269\" r=\"14\" fill=\"#009af9\" fill-rule=\"evenodd\" fill-opacity=\"1\" stroke=\"#000000\" stroke-opacity=\"1\" stroke-width=\"3.2\"/>\n",
       "<circle clip-path=\"url(#clip332)\" cx=\"1019.51\" cy=\"192.719\" r=\"14\" fill=\"#009af9\" fill-rule=\"evenodd\" fill-opacity=\"1\" stroke=\"#000000\" stroke-opacity=\"1\" stroke-width=\"3.2\"/>\n",
       "<circle clip-path=\"url(#clip332)\" cx=\"613.094\" cy=\"427.411\" r=\"14\" fill=\"#009af9\" fill-rule=\"evenodd\" fill-opacity=\"1\" stroke=\"#000000\" stroke-opacity=\"1\" stroke-width=\"3.2\"/>\n",
       "<circle clip-path=\"url(#clip332)\" cx=\"1425.93\" cy=\"576.996\" r=\"14\" fill=\"#009af9\" fill-rule=\"evenodd\" fill-opacity=\"1\" stroke=\"#000000\" stroke-opacity=\"1\" stroke-width=\"3.2\"/>\n",
       "<circle clip-path=\"url(#clip332)\" cx=\"613.094\" cy=\"427.411\" r=\"14\" fill=\"#009af9\" fill-rule=\"evenodd\" fill-opacity=\"1\" stroke=\"#000000\" stroke-opacity=\"1\" stroke-width=\"3.2\"/>\n",
       "<circle clip-path=\"url(#clip332)\" cx=\"1019.51\" cy=\"570.091\" r=\"14\" fill=\"#009af9\" fill-rule=\"evenodd\" fill-opacity=\"1\" stroke=\"#000000\" stroke-opacity=\"1\" stroke-width=\"3.2\"/>\n",
       "<path clip-path=\"url(#clip330)\" d=\"\n",
       "M1982.72 216.178 L2279.14 216.178 L2279.14 95.2176 L1982.72 95.2176  Z\n",
       "  \" fill=\"#ffffff\" fill-rule=\"evenodd\" fill-opacity=\"1\"/>\n",
       "<polyline clip-path=\"url(#clip330)\" style=\"stroke:#000000; stroke-width:4; stroke-opacity:1; fill:none\" points=\"\n",
       "  1982.72,216.178 2279.14,216.178 2279.14,95.2176 1982.72,95.2176 1982.72,216.178 \n",
       "  \"/>\n",
       "<circle clip-path=\"url(#clip330)\" cx=\"2080.88\" cy=\"155.698\" r=\"23\" fill=\"#009af9\" fill-rule=\"evenodd\" fill-opacity=\"1\" stroke=\"#000000\" stroke-opacity=\"1\" stroke-width=\"5.12\"/>\n",
       "<path clip-path=\"url(#clip330)\" d=\"M 0 0 M2192.88 175.385 Q2191.08 180.015 2189.36 181.427 Q2187.65 182.839 2184.78 182.839 L2181.38 182.839 L2181.38 179.274 L2183.88 179.274 Q2185.64 179.274 2186.61 178.44 Q2187.58 177.607 2188.76 174.505 L2189.52 172.561 L2179.04 147.052 L2183.55 147.052 L2191.65 167.329 L2199.76 147.052 L2204.27 147.052 L2192.88 175.385 Z\" fill=\"#000000\" fill-rule=\"evenodd\" fill-opacity=\"1\" /><path clip-path=\"url(#clip330)\" d=\"M 0 0 M2210.15 169.042 L2217.79 169.042 L2217.79 142.677 L2209.48 144.343 L2209.48 140.084 L2217.74 138.418 L2222.42 138.418 L2222.42 169.042 L2230.06 169.042 L2230.06 172.978 L2210.15 172.978 L2210.15 169.042 Z\" fill=\"#000000\" fill-rule=\"evenodd\" fill-opacity=\"1\" /></svg>\n"
      ]
     },
     "execution_count": 279,
     "metadata": {},
     "output_type": "execute_result"
    }
   ],
   "source": [
    "scatter(predict(lm1.model), residuals(lm1.model))"
   ]
  },
  {
   "cell_type": "markdown",
   "metadata": {},
   "source": [
    "---"
   ]
  },
  {
   "cell_type": "markdown",
   "metadata": {},
   "source": [
    "## Tasks"
   ]
  },
  {
   "cell_type": "markdown",
   "metadata": {},
   "source": [
    "1) For the cars dataset return the following as a single dataframe \n",
    " - find the mean efficiency for USA and non-USA cars\n",
    " - find the number of USA and non-USA cars in the dataset"
   ]
  },
  {
   "cell_type": "markdown",
   "metadata": {},
   "source": [
    "2) fit a linear model to determine if paying more for a car gives better milage"
   ]
  },
  {
   "cell_type": "code",
   "execution_count": null,
   "metadata": {},
   "outputs": [],
   "source": []
  }
 ],
 "metadata": {
  "@webio": {
   "lastCommId": null,
   "lastKernelId": null
  },
  "kernelspec": {
   "display_name": "Julia 1.4.2",
   "language": "julia",
   "name": "julia-1.4"
  },
  "language_info": {
   "file_extension": ".jl",
   "mimetype": "application/julia",
   "name": "julia",
   "version": "1.4.2"
  }
 },
 "nbformat": 4,
 "nbformat_minor": 2
}
