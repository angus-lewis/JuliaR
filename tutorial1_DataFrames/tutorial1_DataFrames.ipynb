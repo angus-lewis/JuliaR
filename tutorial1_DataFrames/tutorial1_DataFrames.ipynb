{
 "cells": [
  {
   "cell_type": "markdown",
   "metadata": {},
   "source": [
    "# JuliaR\n",
    "\n",
    "### On DataFrames and R (dplyr)-like functionality in Julia\n",
    "\n",
    "https://github.com/angus-lewis/JuliaR"
   ]
  },
  {
   "cell_type": "markdown",
   "metadata": {},
   "source": [
    "run the code from `getPackages.jl` before starting"
   ]
  },
  {
   "cell_type": "markdown",
   "metadata": {},
   "source": [
    "---"
   ]
  },
  {
   "cell_type": "markdown",
   "metadata": {},
   "source": [
    "---"
   ]
  },
  {
   "cell_type": "markdown",
   "metadata": {},
   "source": [
    "---"
   ]
  },
  {
   "cell_type": "markdown",
   "metadata": {},
   "source": [
    "---"
   ]
  },
  {
   "cell_type": "markdown",
   "metadata": {},
   "source": [
    "---"
   ]
  },
  {
   "cell_type": "markdown",
   "metadata": {},
   "source": [
    "## Package management \n",
    "\n",
    "### To download\n",
    "\n",
    "```Pkg.add``` $\\equiv$ ```install.packages```"
   ]
  },
  {
   "cell_type": "code",
   "execution_count": 1,
   "metadata": {},
   "outputs": [],
   "source": [
    "#import Pkg # load Pkg package into namespace\n",
    "#Pkg.add(\"DataFrames\") # download package from github"
   ]
  },
  {
   "cell_type": "markdown",
   "metadata": {},
   "source": [
    "---"
   ]
  },
  {
   "cell_type": "markdown",
   "metadata": {},
   "source": [
    "### To load "
   ]
  },
  {
   "cell_type": "markdown",
   "metadata": {},
   "source": [
    "Either"
   ]
  },
  {
   "cell_type": "code",
   "execution_count": 2,
   "metadata": {},
   "outputs": [],
   "source": [
    "import DataFrames "
   ]
  },
  {
   "cell_type": "markdown",
   "metadata": {},
   "source": [
    "Adds functions/variables/structs from ```DataFrames``` to namesapces with ```DataFrames.``` prefix.\n",
    "\n",
    "i.e. "
   ]
  },
  {
   "cell_type": "code",
   "execution_count": 3,
   "metadata": {},
   "outputs": [
    {
     "data": {
      "text/plain": [
       "nrow (generic function with 2 methods)"
      ]
     },
     "execution_count": 3,
     "metadata": {},
     "output_type": "execute_result"
    }
   ],
   "source": [
    "DataFrames.nrow"
   ]
  },
  {
   "cell_type": "markdown",
   "metadata": {},
   "source": [
    "calls the ```nrow``` function from ```DataFrames```;\n",
    "\n",
    "sans prefix, ```nrow``` throws an error."
   ]
  },
  {
   "cell_type": "code",
   "execution_count": 4,
   "metadata": {},
   "outputs": [
    {
     "ename": "LoadError",
     "evalue": "\u001b[91mUndefVarError: nrow not defined\u001b[39m",
     "output_type": "error",
     "traceback": [
      "\u001b[91mUndefVarError: nrow not defined\u001b[39m",
      "",
      "Stacktrace:",
      " [1] top-level scope",
      " [2] include_string(::Function, ::Module, ::String, ::String) at ./loading.jl:1091"
     ]
    }
   ],
   "source": [
    "nrow"
   ]
  },
  {
   "cell_type": "markdown",
   "metadata": {},
   "source": [
    "or"
   ]
  },
  {
   "cell_type": "code",
   "execution_count": 5,
   "metadata": {},
   "outputs": [],
   "source": [
    "using DataFrames"
   ]
  },
  {
   "cell_type": "markdown",
   "metadata": {},
   "source": [
    "Adds exported functions/variables/structs from ```DataFrames``` to namespace.\n",
    "\n",
    "i.e. ```nrow()``` calls the ```nrow()``` function from ```DataFrames```."
   ]
  },
  {
   "cell_type": "code",
   "execution_count": 6,
   "metadata": {},
   "outputs": [
    {
     "data": {
      "text/plain": [
       "nrow (generic function with 2 methods)"
      ]
     },
     "execution_count": 6,
     "metadata": {},
     "output_type": "execute_result"
    }
   ],
   "source": [
    "nrow"
   ]
  },
  {
   "cell_type": "markdown",
   "metadata": {},
   "source": [
    "reminds me of the `attatch()` function in `R` "
   ]
  },
  {
   "cell_type": "markdown",
   "metadata": {},
   "source": [
    "#### TASK: load the `DataFrames` package"
   ]
  },
  {
   "cell_type": "markdown",
   "metadata": {},
   "source": [
    "---"
   ]
  },
  {
   "cell_type": "markdown",
   "metadata": {},
   "source": [
    "---"
   ]
  },
  {
   "cell_type": "markdown",
   "metadata": {},
   "source": [
    "---"
   ]
  },
  {
   "cell_type": "markdown",
   "metadata": {},
   "source": [
    "---"
   ]
  },
  {
   "cell_type": "markdown",
   "metadata": {},
   "source": [
    "---"
   ]
  },
  {
   "cell_type": "markdown",
   "metadata": {},
   "source": [
    "## Getting help\n",
    "\n",
    "1) type ```?``` then the thing you want help with in the REPL"
   ]
  },
  {
   "cell_type": "code",
   "execution_count": 7,
   "metadata": {},
   "outputs": [
    {
     "name": "stdout",
     "output_type": "stream",
     "text": [
      "search: \u001b[0m\u001b[1m+\u001b[22m\n",
      "\n"
     ]
    },
    {
     "data": {
      "text/latex": [
       "\\begin{verbatim}\n",
       "+(x, y...)\n",
       "\\end{verbatim}\n",
       "Addition operator. \\texttt{x+y+z+...} calls this function with all arguments, i.e. \\texttt{+(x, y, z, ...)}.\n",
       "\n",
       "\\section{Examples}\n",
       "\\begin{verbatim}\n",
       "julia> 1 + 20 + 4\n",
       "25\n",
       "\n",
       "julia> +(1, 20, 4)\n",
       "25\n",
       "\\end{verbatim}\n",
       "\\rule{\\textwidth}{1pt}\n",
       "\\begin{verbatim}\n",
       "dt::Date + t::Time -> DateTime\n",
       "\\end{verbatim}\n",
       "The addition of a \\texttt{Date} with a \\texttt{Time} produces a \\texttt{DateTime}. The hour, minute, second, and millisecond parts of the \\texttt{Time} are used along with the year, month, and day of the \\texttt{Date} to create the new \\texttt{DateTime}. Non-zero microseconds or nanoseconds in the \\texttt{Time} type will result in an \\texttt{InexactError} being thrown.\n",
       "\n"
      ],
      "text/markdown": [
       "```\n",
       "+(x, y...)\n",
       "```\n",
       "\n",
       "Addition operator. `x+y+z+...` calls this function with all arguments, i.e. `+(x, y, z, ...)`.\n",
       "\n",
       "# Examples\n",
       "\n",
       "```jldoctest\n",
       "julia> 1 + 20 + 4\n",
       "25\n",
       "\n",
       "julia> +(1, 20, 4)\n",
       "25\n",
       "```\n",
       "\n",
       "---\n",
       "\n",
       "```\n",
       "dt::Date + t::Time -> DateTime\n",
       "```\n",
       "\n",
       "The addition of a `Date` with a `Time` produces a `DateTime`. The hour, minute, second, and millisecond parts of the `Time` are used along with the year, month, and day of the `Date` to create the new `DateTime`. Non-zero microseconds or nanoseconds in the `Time` type will result in an `InexactError` being thrown.\n"
      ],
      "text/plain": [
       "\u001b[36m  +(x, y...)\u001b[39m\n",
       "\n",
       "  Addition operator. \u001b[36mx+y+z+...\u001b[39m calls this function with all arguments, i.e.\n",
       "  \u001b[36m+(x, y, z, ...)\u001b[39m.\n",
       "\n",
       "\u001b[1m  Examples\u001b[22m\n",
       "\u001b[1m  ≡≡≡≡≡≡≡≡≡≡\u001b[22m\n",
       "\n",
       "\u001b[36m  julia> 1 + 20 + 4\u001b[39m\n",
       "\u001b[36m  25\u001b[39m\n",
       "\u001b[36m  \u001b[39m\n",
       "\u001b[36m  julia> +(1, 20, 4)\u001b[39m\n",
       "\u001b[36m  25\u001b[39m\n",
       "\n",
       "  ────────────────────────────────────────────────────────────────────────────\n",
       "\n",
       "\u001b[36m  dt::Date + t::Time -> DateTime\u001b[39m\n",
       "\n",
       "  The addition of a \u001b[36mDate\u001b[39m with a \u001b[36mTime\u001b[39m produces a \u001b[36mDateTime\u001b[39m. The hour, minute,\n",
       "  second, and millisecond parts of the \u001b[36mTime\u001b[39m are used along with the year,\n",
       "  month, and day of the \u001b[36mDate\u001b[39m to create the new \u001b[36mDateTime\u001b[39m. Non-zero microseconds\n",
       "  or nanoseconds in the \u001b[36mTime\u001b[39m type will result in an \u001b[36mInexactError\u001b[39m being thrown."
      ]
     },
     "execution_count": 7,
     "metadata": {},
     "output_type": "execute_result"
    }
   ],
   "source": [
    "? + "
   ]
  },
  {
   "cell_type": "markdown",
   "metadata": {},
   "source": [
    "2) Google it. "
   ]
  },
  {
   "cell_type": "markdown",
   "metadata": {},
   "source": [
    "3) Post in the slack"
   ]
  },
  {
   "cell_type": "markdown",
   "metadata": {},
   "source": [
    "---"
   ]
  },
  {
   "cell_type": "markdown",
   "metadata": {},
   "source": [
    "---"
   ]
  },
  {
   "cell_type": "markdown",
   "metadata": {},
   "source": [
    "---"
   ]
  },
  {
   "cell_type": "markdown",
   "metadata": {},
   "source": [
    "---"
   ]
  },
  {
   "cell_type": "markdown",
   "metadata": {},
   "source": [
    "---"
   ]
  },
  {
   "cell_type": "markdown",
   "metadata": {},
   "source": [
    "## Functions (very quickly)"
   ]
  },
  {
   "cell_type": "markdown",
   "metadata": {},
   "source": [
    "Most similar to `R` is "
   ]
  },
  {
   "cell_type": "code",
   "execution_count": 8,
   "metadata": {},
   "outputs": [
    {
     "data": {
      "text/plain": [
       "#1 (generic function with 1 method)"
      ]
     },
     "execution_count": 8,
     "metadata": {},
     "output_type": "execute_result"
    }
   ],
   "source": [
    "# I'll use this later \n",
    "head = function(df)\n",
    "    return first(df,4) # first is a function from DataFrames\n",
    "end "
   ]
  },
  {
   "cell_type": "markdown",
   "metadata": {},
   "source": [
    "most similar to MATLAB"
   ]
  },
  {
   "cell_type": "code",
   "execution_count": 9,
   "metadata": {},
   "outputs": [
    {
     "data": {
      "text/plain": [
       "#3 (generic function with 1 method)"
      ]
     },
     "execution_count": 9,
     "metadata": {},
     "output_type": "execute_result"
    }
   ],
   "source": [
    "f1 = function(x,y) \n",
    "    x*y\n",
    "end"
   ]
  },
  {
   "cell_type": "markdown",
   "metadata": {},
   "source": [
    "For piping, anonymous functions are neat"
   ]
  },
  {
   "cell_type": "code",
   "execution_count": 10,
   "metadata": {},
   "outputs": [
    {
     "data": {
      "text/plain": [
       "#5 (generic function with 1 method)"
      ]
     },
     "execution_count": 10,
     "metadata": {},
     "output_type": "execute_result"
    }
   ],
   "source": [
    "f2 = x -> x^2"
   ]
  },
  {
   "cell_type": "code",
   "execution_count": 11,
   "metadata": {},
   "outputs": [
    {
     "data": {
      "text/plain": [
       "16"
      ]
     },
     "execution_count": 11,
     "metadata": {},
     "output_type": "execute_result"
    }
   ],
   "source": [
    "f2(4)"
   ]
  },
  {
   "cell_type": "markdown",
   "metadata": {},
   "source": [
    "see also\n",
    " - broadcasting with `.` syntax (maybe the best feature there is! IMO) \n",
    " - methods and mutliple dispatch and types"
   ]
  },
  {
   "cell_type": "markdown",
   "metadata": {},
   "source": [
    "#### TASK: write a function to convert MPG to L/100km \n",
    "\n",
    "$ L/100km = 235.215/MPG $ "
   ]
  },
  {
   "cell_type": "markdown",
   "metadata": {},
   "source": [
    "---"
   ]
  },
  {
   "cell_type": "markdown",
   "metadata": {},
   "source": [
    "---"
   ]
  },
  {
   "cell_type": "markdown",
   "metadata": {},
   "source": [
    "---"
   ]
  },
  {
   "cell_type": "markdown",
   "metadata": {},
   "source": [
    "---"
   ]
  },
  {
   "cell_type": "markdown",
   "metadata": {},
   "source": [
    "---"
   ]
  },
  {
   "cell_type": "markdown",
   "metadata": {},
   "source": [
    "## Piping (function compositon)\n",
    "\n",
    "Pass the object on the left to the function of the right. \n",
    "\n",
    "i.e. In R we use the `%>%` infix operator \n",
    "```\n",
    "> aFun <- function(x) x^2\n",
    "> b <- 2 \n",
    "> b %>% aFun\n",
    "[1] 4\n",
    "```\n",
    "\n",
    "In julia its `|>`"
   ]
  },
  {
   "cell_type": "code",
   "execution_count": 12,
   "metadata": {},
   "outputs": [
    {
     "data": {
      "text/plain": [
       "16"
      ]
     },
     "execution_count": 12,
     "metadata": {},
     "output_type": "execute_result"
    }
   ],
   "source": [
    "fun(x) = x^2\n",
    "b = 2 \n",
    "b |> fun |> fun "
   ]
  },
  {
   "cell_type": "markdown",
   "metadata": {},
   "source": [
    "with anonymous functions"
   ]
  },
  {
   "cell_type": "code",
   "execution_count": 13,
   "metadata": {},
   "outputs": [
    {
     "data": {
      "text/plain": [
       "8"
      ]
     },
     "execution_count": 13,
     "metadata": {},
     "output_type": "execute_result"
    }
   ],
   "source": [
    "b |> \n",
    "    x -> x^2 |> \n",
    "    x -> 2*x"
   ]
  },
  {
   "cell_type": "markdown",
   "metadata": {},
   "source": [
    "There are some other really cool function composition and piping stuff out there too\n",
    " - $f\\circ g$ notation type `?\\circ\\tab` into the REPL\n",
    " - or see the `Piping` package"
   ]
  },
  {
   "cell_type": "markdown",
   "metadata": {},
   "source": [
    "---"
   ]
  },
  {
   "cell_type": "markdown",
   "metadata": {},
   "source": [
    "---"
   ]
  },
  {
   "cell_type": "markdown",
   "metadata": {},
   "source": [
    "---"
   ]
  },
  {
   "cell_type": "markdown",
   "metadata": {},
   "source": [
    "---"
   ]
  },
  {
   "cell_type": "markdown",
   "metadata": {},
   "source": [
    "---"
   ]
  },
  {
   "cell_type": "markdown",
   "metadata": {},
   "source": [
    "## Loading data "
   ]
  },
  {
   "cell_type": "code",
   "execution_count": 14,
   "metadata": {},
   "outputs": [],
   "source": [
    "import CSV "
   ]
  },
  {
   "cell_type": "markdown",
   "metadata": {},
   "source": [
    "Either \n",
    "\n",
    "```cars = CSV.read(\"cars.csv\", DataFrame)```\n",
    "\n",
    "or "
   ]
  },
  {
   "cell_type": "markdown",
   "metadata": {},
   "source": [
    "which is equivalent to "
   ]
  },
  {
   "cell_type": "code",
   "execution_count": 15,
   "metadata": {},
   "outputs": [
    {
     "data": {
      "text/html": [
       "<table class=\"data-frame\"><thead><tr><th></th><th>Manufacturer</th><th>Model</th><th>Type</th><th>MinPrice</th><th>Price</th><th>MaxPrice</th><th>MPGCity</th><th>MPGHighway</th></tr><tr><th></th><th>String</th><th>String</th><th>String</th><th>Float64</th><th>Float64</th><th>Float64</th><th>Int64</th><th>Int64</th></tr></thead><tbody><p>4 rows × 27 columns (omitted printing of 19 columns)</p><tr><th>1</th><td>Acura</td><td>Integra</td><td>Small</td><td>12.9</td><td>15.9</td><td>18.8</td><td>25</td><td>31</td></tr><tr><th>2</th><td>Acura</td><td>Legend</td><td>Midsize</td><td>29.2</td><td>33.9</td><td>38.7</td><td>18</td><td>25</td></tr><tr><th>3</th><td>Audi</td><td>90</td><td>Compact</td><td>25.9</td><td>29.1</td><td>32.3</td><td>20</td><td>26</td></tr><tr><th>4</th><td>Audi</td><td>100</td><td>Midsize</td><td>30.8</td><td>37.7</td><td>44.6</td><td>19</td><td>26</td></tr></tbody></table>"
      ],
      "text/latex": [
       "\\begin{tabular}{r|ccccccccc}\n",
       "\t& Manufacturer & Model & Type & MinPrice & Price & MaxPrice & MPGCity & MPGHighway & \\\\\n",
       "\t\\hline\n",
       "\t& String & String & String & Float64 & Float64 & Float64 & Int64 & Int64 & \\\\\n",
       "\t\\hline\n",
       "\t1 & Acura & Integra & Small & 12.9 & 15.9 & 18.8 & 25 & 31 & $\\dots$ \\\\\n",
       "\t2 & Acura & Legend & Midsize & 29.2 & 33.9 & 38.7 & 18 & 25 & $\\dots$ \\\\\n",
       "\t3 & Audi & 90 & Compact & 25.9 & 29.1 & 32.3 & 20 & 26 & $\\dots$ \\\\\n",
       "\t4 & Audi & 100 & Midsize & 30.8 & 37.7 & 44.6 & 19 & 26 & $\\dots$ \\\\\n",
       "\\end{tabular}\n"
      ],
      "text/plain": [
       "\u001b[1m4×27 DataFrame\u001b[0m\n",
       "\u001b[1m Row \u001b[0m│\u001b[1m Manufacturer \u001b[0m\u001b[1m Model   \u001b[0m\u001b[1m Type    \u001b[0m\u001b[1m MinPrice \u001b[0m\u001b[1m Price   \u001b[0m\u001b[1m MaxPrice \u001b[0m\u001b[1m MPGCity \u001b[0m\u001b[1m M\u001b[0m ⋯\n",
       "\u001b[1m     \u001b[0m│\u001b[90m String       \u001b[0m\u001b[90m String  \u001b[0m\u001b[90m String  \u001b[0m\u001b[90m Float64  \u001b[0m\u001b[90m Float64 \u001b[0m\u001b[90m Float64  \u001b[0m\u001b[90m Int64   \u001b[0m\u001b[90m I\u001b[0m ⋯\n",
       "─────┼──────────────────────────────────────────────────────────────────────────\n",
       "   1 │ Acura         Integra  Small        12.9     15.9      18.8       25    ⋯\n",
       "   2 │ Acura         Legend   Midsize      29.2     33.9      38.7       18\n",
       "   3 │ Audi          90       Compact      25.9     29.1      32.3       20\n",
       "   4 │ Audi          100      Midsize      30.8     37.7      44.6       19\n",
       "\u001b[36m                                                              20 columns omitted\u001b[0m"
      ]
     },
     "execution_count": 15,
     "metadata": {},
     "output_type": "execute_result"
    }
   ],
   "source": [
    "cars = CSV.File(\"cars.csv\") |> DataFrame \n",
    "cars |> head "
   ]
  },
  {
   "cell_type": "markdown",
   "metadata": {},
   "source": [
    "There is also a ```DelimitedFiles``` package, but I've never used it. "
   ]
  },
  {
   "cell_type": "markdown",
   "metadata": {},
   "source": [
    "---"
   ]
  },
  {
   "cell_type": "markdown",
   "metadata": {},
   "source": [
    "---"
   ]
  },
  {
   "cell_type": "markdown",
   "metadata": {},
   "source": [
    "---"
   ]
  },
  {
   "cell_type": "markdown",
   "metadata": {},
   "source": [
    "---"
   ]
  },
  {
   "cell_type": "markdown",
   "metadata": {},
   "source": [
    "---"
   ]
  },
  {
   "cell_type": "markdown",
   "metadata": {},
   "source": [
    "## Basic operations \n",
    "\n",
    "The usage of some functionality is *exactly* the same as R;"
   ]
  },
  {
   "cell_type": "code",
   "execution_count": 16,
   "metadata": {},
   "outputs": [
    {
     "data": {
      "text/plain": [
       "93"
      ]
     },
     "execution_count": 16,
     "metadata": {},
     "output_type": "execute_result"
    }
   ],
   "source": [
    "nrow(cars)"
   ]
  },
  {
   "cell_type": "code",
   "execution_count": 17,
   "metadata": {},
   "outputs": [
    {
     "data": {
      "text/plain": [
       "27"
      ]
     },
     "execution_count": 17,
     "metadata": {},
     "output_type": "execute_result"
    }
   ],
   "source": [
    "ncol(cars)"
   ]
  },
  {
   "cell_type": "code",
   "execution_count": 18,
   "metadata": {},
   "outputs": [
    {
     "data": {
      "text/plain": [
       "27-element Array{String,1}:\n",
       " \"Manufacturer\"\n",
       " \"Model\"\n",
       " \"Type\"\n",
       " \"MinPrice\"\n",
       " \"Price\"\n",
       " \"MaxPrice\"\n",
       " \"MPGCity\"\n",
       " \"MPGHighway\"\n",
       " \"AirBags\"\n",
       " \"DriveTrain\"\n",
       " \"Cylinders\"\n",
       " \"EngineSize\"\n",
       " \"Horsepower\"\n",
       " ⋮\n",
       " \"ManTransAvail\"\n",
       " \"FuelTankCapacity\"\n",
       " \"Passengers\"\n",
       " \"Length\"\n",
       " \"Wheelbase\"\n",
       " \"Width\"\n",
       " \"TurnCircle\"\n",
       " \"RearSeatRoom\"\n",
       " \"LuggageRoom\"\n",
       " \"Weight\"\n",
       " \"Origin\"\n",
       " \"Make\""
      ]
     },
     "execution_count": 18,
     "metadata": {},
     "output_type": "execute_result"
    }
   ],
   "source": [
    "names(cars) # can also call propertynames() to return an array of Symbols"
   ]
  },
  {
   "cell_type": "markdown",
   "metadata": {},
   "source": [
    "---"
   ]
  },
  {
   "cell_type": "markdown",
   "metadata": {},
   "source": [
    "---"
   ]
  },
  {
   "cell_type": "markdown",
   "metadata": {},
   "source": [
    "---"
   ]
  },
  {
   "cell_type": "markdown",
   "metadata": {},
   "source": [
    "---"
   ]
  },
  {
   "cell_type": "markdown",
   "metadata": {},
   "source": [
    "---"
   ]
  },
  {
   "cell_type": "markdown",
   "metadata": {},
   "source": [
    "## Indexing ```DataFrames```\n",
    "\n",
    "There are many options (too many?).\n",
    "\n",
    "Either "
   ]
  },
  {
   "cell_type": "code",
   "execution_count": 19,
   "metadata": {},
   "outputs": [
    {
     "data": {
      "text/plain": [
       "93-element PooledArrays.PooledArray{String,UInt32,1,Array{UInt32,1}}:\n",
       " \"Small\"\n",
       " \"Midsize\"\n",
       " \"Compact\"\n",
       " \"Midsize\"\n",
       " \"Midsize\"\n",
       " \"Midsize\"\n",
       " \"Large\"\n",
       " \"Large\"\n",
       " \"Midsize\"\n",
       " \"Large\"\n",
       " \"Midsize\"\n",
       " \"Compact\"\n",
       " \"Compact\"\n",
       " ⋮\n",
       " \"Compact\"\n",
       " \"Small\"\n",
       " \"Small\"\n",
       " \"Sporty\"\n",
       " \"Midsize\"\n",
       " \"Van\"\n",
       " \"Small\"\n",
       " \"Van\"\n",
       " \"Compact\"\n",
       " \"Sporty\"\n",
       " \"Compact\"\n",
       " \"Midsize\""
      ]
     },
     "execution_count": 19,
     "metadata": {},
     "output_type": "execute_result"
    }
   ],
   "source": [
    "cars.Type # most similar to income$Sex in R\n",
    "cars.\"Type\" "
   ]
  },
  {
   "cell_type": "markdown",
   "metadata": {},
   "source": [
    "Or index with square brackets\n",
    "```\n",
    "cars[rows, columns]\n",
    "```\n",
    "\n",
    "To get all rows we use either\n",
    "```\n",
    ": # as in MATLAB\n",
    "```\n",
    "or\n",
    "```\n",
    "! \n",
    "```\n",
    "\n",
    "The columns argument can be any of (all 3 return the same thing)\n",
    "```\n",
    ":Type      # the syntax for a Symbol type\n",
    "\"Type\"     # string\n",
    "3          # column number \n",
    "```\n",
    "or as a vector (all 3 return the same thing)\n",
    "```\n",
    "[:Type]\n",
    "[\"Type\"]\n",
    "[3]\n",
    "```\n"
   ]
  },
  {
   "cell_type": "markdown",
   "metadata": {},
   "source": [
    "#### TASK: What is the difference beetween "
   ]
  },
  {
   "cell_type": "code",
   "execution_count": 20,
   "metadata": {},
   "outputs": [
    {
     "data": {
      "text/plain": [
       "false"
      ]
     },
     "execution_count": 20,
     "metadata": {},
     "output_type": "execute_result"
    }
   ],
   "source": [
    "cars[:,[:Type]]\n",
    "cars[!,[:Type]]\n",
    "cars[:,[:Type]] === cars[!,[:Type]] # they are not the same. triple equals === checks whther the two are indistinguishable by any computer program "
   ]
  },
  {
   "cell_type": "markdown",
   "metadata": {},
   "source": [
    "#### what is the difference between "
   ]
  },
  {
   "cell_type": "code",
   "execution_count": 21,
   "metadata": {},
   "outputs": [],
   "source": [
    "cars[:,:Type]\n",
    "cars[:,[:Type]];"
   ]
  },
  {
   "cell_type": "markdown",
   "metadata": {},
   "source": [
    "#### what does this one do"
   ]
  },
  {
   "cell_type": "code",
   "execution_count": 22,
   "metadata": {},
   "outputs": [],
   "source": [
    "cars.Type; # or cars.\"Type\" same-same "
   ]
  },
  {
   "cell_type": "markdown",
   "metadata": {},
   "source": [
    "---"
   ]
  },
  {
   "cell_type": "markdown",
   "metadata": {},
   "source": [
    "The following are all ways to index a `DataFrame`. "
   ]
  },
  {
   "cell_type": "code",
   "execution_count": 23,
   "metadata": {},
   "outputs": [],
   "source": [
    "## Return a VIEW as a Vector\n",
    "cars.Type      ## most similar to cars$Type in R\n",
    "cars.\"Type\"\n",
    "cars[!,:Type] \n",
    "cars[!,\"Type\"]\n",
    "cars[!,3]\n",
    "\n",
    "## Return a COPY as a Vector \n",
    "cars[:,:Type] \n",
    "cars[:,\"Type\"]\n",
    "cars[:,3]\n",
    "\n",
    "## return a COPY as a DataFrame\n",
    "cars[:,[:Type]]\n",
    "cars[:,[\"Type\"]]\n",
    "cars[:,[3]]\n",
    "\n",
    "## return a VIEW as a DataFrame\n",
    "cars[!,[:Type]] # this is my personal preference\n",
    "cars[!,[\"Type\"]]\n",
    "cars[!,[3]];"
   ]
  },
  {
   "cell_type": "markdown",
   "metadata": {},
   "source": [
    "can also index columns via arrays and logicals but better to use `filter` see below "
   ]
  },
  {
   "cell_type": "markdown",
   "metadata": {},
   "source": [
    "We can also pass arrays of indicies "
   ]
  },
  {
   "cell_type": "code",
   "execution_count": 24,
   "metadata": {},
   "outputs": [
    {
     "data": {
      "text/html": [
       "<table class=\"data-frame\"><thead><tr><th></th><th>Type</th><th>Model</th></tr><tr><th></th><th>String</th><th>String</th></tr></thead><tbody><p>4 rows × 2 columns</p><tr><th>1</th><td>Small</td><td>Integra</td></tr><tr><th>2</th><td>Midsize</td><td>Legend</td></tr><tr><th>3</th><td>Compact</td><td>90</td></tr><tr><th>4</th><td>Midsize</td><td>100</td></tr></tbody></table>"
      ],
      "text/latex": [
       "\\begin{tabular}{r|cc}\n",
       "\t& Type & Model\\\\\n",
       "\t\\hline\n",
       "\t& String & String\\\\\n",
       "\t\\hline\n",
       "\t1 & Small & Integra \\\\\n",
       "\t2 & Midsize & Legend \\\\\n",
       "\t3 & Compact & 90 \\\\\n",
       "\t4 & Midsize & 100 \\\\\n",
       "\\end{tabular}\n"
      ],
      "text/plain": [
       "\u001b[1m4×2 DataFrame\u001b[0m\n",
       "\u001b[1m Row \u001b[0m│\u001b[1m Type    \u001b[0m\u001b[1m Model   \u001b[0m\n",
       "\u001b[1m     \u001b[0m│\u001b[90m String  \u001b[0m\u001b[90m String  \u001b[0m\n",
       "─────┼──────────────────\n",
       "   1 │ Small    Integra\n",
       "   2 │ Midsize  Legend\n",
       "   3 │ Compact  90\n",
       "   4 │ Midsize  100"
      ]
     },
     "execution_count": 24,
     "metadata": {},
     "output_type": "execute_result"
    }
   ],
   "source": [
    "cars[!,[:Type, :Model]] |> head "
   ]
  },
  {
   "cell_type": "markdown",
   "metadata": {},
   "source": [
    "or invert selection with "
   ]
  },
  {
   "cell_type": "code",
   "execution_count": 25,
   "metadata": {},
   "outputs": [
    {
     "data": {
      "text/html": [
       "<table class=\"data-frame\"><thead><tr><th></th><th>Manufacturer</th><th>MinPrice</th><th>Price</th><th>MaxPrice</th><th>MPGCity</th><th>MPGHighway</th><th>AirBags</th></tr><tr><th></th><th>String</th><th>Float64</th><th>Float64</th><th>Float64</th><th>Int64</th><th>Int64</th><th>String</th></tr></thead><tbody><p>4 rows × 25 columns (omitted printing of 18 columns)</p><tr><th>1</th><td>Acura</td><td>12.9</td><td>15.9</td><td>18.8</td><td>25</td><td>31</td><td>None</td></tr><tr><th>2</th><td>Acura</td><td>29.2</td><td>33.9</td><td>38.7</td><td>18</td><td>25</td><td>Driver &amp; Passenger</td></tr><tr><th>3</th><td>Audi</td><td>25.9</td><td>29.1</td><td>32.3</td><td>20</td><td>26</td><td>Driver only</td></tr><tr><th>4</th><td>Audi</td><td>30.8</td><td>37.7</td><td>44.6</td><td>19</td><td>26</td><td>Driver &amp; Passenger</td></tr></tbody></table>"
      ],
      "text/latex": [
       "\\begin{tabular}{r|cccccccc}\n",
       "\t& Manufacturer & MinPrice & Price & MaxPrice & MPGCity & MPGHighway & AirBags & \\\\\n",
       "\t\\hline\n",
       "\t& String & Float64 & Float64 & Float64 & Int64 & Int64 & String & \\\\\n",
       "\t\\hline\n",
       "\t1 & Acura & 12.9 & 15.9 & 18.8 & 25 & 31 & None & $\\dots$ \\\\\n",
       "\t2 & Acura & 29.2 & 33.9 & 38.7 & 18 & 25 & Driver \\& Passenger & $\\dots$ \\\\\n",
       "\t3 & Audi & 25.9 & 29.1 & 32.3 & 20 & 26 & Driver only & $\\dots$ \\\\\n",
       "\t4 & Audi & 30.8 & 37.7 & 44.6 & 19 & 26 & Driver \\& Passenger & $\\dots$ \\\\\n",
       "\\end{tabular}\n"
      ],
      "text/plain": [
       "\u001b[1m4×25 DataFrame\u001b[0m\n",
       "\u001b[1m Row \u001b[0m│\u001b[1m Manufacturer \u001b[0m\u001b[1m MinPrice \u001b[0m\u001b[1m Price   \u001b[0m\u001b[1m MaxPrice \u001b[0m\u001b[1m MPGCity \u001b[0m\u001b[1m MPGHighway \u001b[0m\u001b[1m AirBags\u001b[0m ⋯\n",
       "\u001b[1m     \u001b[0m│\u001b[90m String       \u001b[0m\u001b[90m Float64  \u001b[0m\u001b[90m Float64 \u001b[0m\u001b[90m Float64  \u001b[0m\u001b[90m Int64   \u001b[0m\u001b[90m Int64      \u001b[0m\u001b[90m String \u001b[0m ⋯\n",
       "─────┼──────────────────────────────────────────────────────────────────────────\n",
       "   1 │ Acura             12.9     15.9      18.8       25          31  None    ⋯\n",
       "   2 │ Acura             29.2     33.9      38.7       18          25  Driver\n",
       "   3 │ Audi              25.9     29.1      32.3       20          26  Driver\n",
       "   4 │ Audi              30.8     37.7      44.6       19          26  Driver\n",
       "\u001b[36m                                                              19 columns omitted\u001b[0m"
      ]
     },
     "execution_count": 25,
     "metadata": {},
     "output_type": "execute_result"
    }
   ],
   "source": [
    "cars[!,Not([:Type,:Model])] |> head "
   ]
  },
  {
   "cell_type": "markdown",
   "metadata": {},
   "source": [
    "---"
   ]
  },
  {
   "cell_type": "markdown",
   "metadata": {},
   "source": [
    "#### What is the difference between a *copy* and a *view*"
   ]
  },
  {
   "cell_type": "code",
   "execution_count": 26,
   "metadata": {},
   "outputs": [
    {
     "data": {
      "text/html": [
       "<table class=\"data-frame\"><thead><tr><th></th><th>Type</th></tr><tr><th></th><th>String</th></tr></thead><tbody><p>4 rows × 1 columns</p><tr><th>1</th><td>hello</td></tr><tr><th>2</th><td>Midsize</td></tr><tr><th>3</th><td>Compact</td></tr><tr><th>4</th><td>Midsize</td></tr></tbody></table>"
      ],
      "text/latex": [
       "\\begin{tabular}{r|c}\n",
       "\t& Type\\\\\n",
       "\t\\hline\n",
       "\t& String\\\\\n",
       "\t\\hline\n",
       "\t1 & hello \\\\\n",
       "\t2 & Midsize \\\\\n",
       "\t3 & Compact \\\\\n",
       "\t4 & Midsize \\\\\n",
       "\\end{tabular}\n"
      ],
      "text/plain": [
       "\u001b[1m4×1 DataFrame\u001b[0m\n",
       "\u001b[1m Row \u001b[0m│\u001b[1m Type    \u001b[0m\n",
       "\u001b[1m     \u001b[0m│\u001b[90m String  \u001b[0m\n",
       "─────┼─────────\n",
       "   1 │ hello\n",
       "   2 │ Midsize\n",
       "   3 │ Compact\n",
       "   4 │ Midsize"
      ]
     },
     "execution_count": 26,
     "metadata": {},
     "output_type": "execute_result"
    }
   ],
   "source": [
    "aCopy = cars[:,[:Type]]     # select Type column as a COPY\n",
    "aCopy[1,:Type] = \"hello\"    # change the first element\n",
    "aCopy |> head               # print the copy"
   ]
  },
  {
   "cell_type": "code",
   "execution_count": 27,
   "metadata": {},
   "outputs": [
    {
     "data": {
      "text/html": [
       "<table class=\"data-frame\"><thead><tr><th></th><th>Manufacturer</th><th>Model</th><th>Type</th><th>MinPrice</th><th>Price</th><th>MaxPrice</th><th>MPGCity</th><th>MPGHighway</th></tr><tr><th></th><th>String</th><th>String</th><th>String</th><th>Float64</th><th>Float64</th><th>Float64</th><th>Int64</th><th>Int64</th></tr></thead><tbody><p>4 rows × 27 columns (omitted printing of 19 columns)</p><tr><th>1</th><td>Acura</td><td>Integra</td><td>Small</td><td>12.9</td><td>15.9</td><td>18.8</td><td>25</td><td>31</td></tr><tr><th>2</th><td>Acura</td><td>Legend</td><td>Midsize</td><td>29.2</td><td>33.9</td><td>38.7</td><td>18</td><td>25</td></tr><tr><th>3</th><td>Audi</td><td>90</td><td>Compact</td><td>25.9</td><td>29.1</td><td>32.3</td><td>20</td><td>26</td></tr><tr><th>4</th><td>Audi</td><td>100</td><td>Midsize</td><td>30.8</td><td>37.7</td><td>44.6</td><td>19</td><td>26</td></tr></tbody></table>"
      ],
      "text/latex": [
       "\\begin{tabular}{r|ccccccccc}\n",
       "\t& Manufacturer & Model & Type & MinPrice & Price & MaxPrice & MPGCity & MPGHighway & \\\\\n",
       "\t\\hline\n",
       "\t& String & String & String & Float64 & Float64 & Float64 & Int64 & Int64 & \\\\\n",
       "\t\\hline\n",
       "\t1 & Acura & Integra & Small & 12.9 & 15.9 & 18.8 & 25 & 31 & $\\dots$ \\\\\n",
       "\t2 & Acura & Legend & Midsize & 29.2 & 33.9 & 38.7 & 18 & 25 & $\\dots$ \\\\\n",
       "\t3 & Audi & 90 & Compact & 25.9 & 29.1 & 32.3 & 20 & 26 & $\\dots$ \\\\\n",
       "\t4 & Audi & 100 & Midsize & 30.8 & 37.7 & 44.6 & 19 & 26 & $\\dots$ \\\\\n",
       "\\end{tabular}\n"
      ],
      "text/plain": [
       "\u001b[1m4×27 DataFrame\u001b[0m\n",
       "\u001b[1m Row \u001b[0m│\u001b[1m Manufacturer \u001b[0m\u001b[1m Model   \u001b[0m\u001b[1m Type    \u001b[0m\u001b[1m MinPrice \u001b[0m\u001b[1m Price   \u001b[0m\u001b[1m MaxPrice \u001b[0m\u001b[1m MPGCity \u001b[0m\u001b[1m M\u001b[0m ⋯\n",
       "\u001b[1m     \u001b[0m│\u001b[90m String       \u001b[0m\u001b[90m String  \u001b[0m\u001b[90m String  \u001b[0m\u001b[90m Float64  \u001b[0m\u001b[90m Float64 \u001b[0m\u001b[90m Float64  \u001b[0m\u001b[90m Int64   \u001b[0m\u001b[90m I\u001b[0m ⋯\n",
       "─────┼──────────────────────────────────────────────────────────────────────────\n",
       "   1 │ Acura         Integra  Small        12.9     15.9      18.8       25    ⋯\n",
       "   2 │ Acura         Legend   Midsize      29.2     33.9      38.7       18\n",
       "   3 │ Audi          90       Compact      25.9     29.1      32.3       20\n",
       "   4 │ Audi          100      Midsize      30.8     37.7      44.6       19\n",
       "\u001b[36m                                                              20 columns omitted\u001b[0m"
      ]
     },
     "execution_count": 27,
     "metadata": {},
     "output_type": "execute_result"
    }
   ],
   "source": [
    "cars |> head       # print original and compare "
   ]
  },
  {
   "cell_type": "code",
   "execution_count": 28,
   "metadata": {},
   "outputs": [
    {
     "data": {
      "text/html": [
       "<table class=\"data-frame\"><thead><tr><th></th><th>Type</th></tr><tr><th></th><th>String</th></tr></thead><tbody><p>4 rows × 1 columns</p><tr><th>1</th><td>hello</td></tr><tr><th>2</th><td>Midsize</td></tr><tr><th>3</th><td>Compact</td></tr><tr><th>4</th><td>Midsize</td></tr></tbody></table>"
      ],
      "text/latex": [
       "\\begin{tabular}{r|c}\n",
       "\t& Type\\\\\n",
       "\t\\hline\n",
       "\t& String\\\\\n",
       "\t\\hline\n",
       "\t1 & hello \\\\\n",
       "\t2 & Midsize \\\\\n",
       "\t3 & Compact \\\\\n",
       "\t4 & Midsize \\\\\n",
       "\\end{tabular}\n"
      ],
      "text/plain": [
       "\u001b[1m4×1 DataFrame\u001b[0m\n",
       "\u001b[1m Row \u001b[0m│\u001b[1m Type    \u001b[0m\n",
       "\u001b[1m     \u001b[0m│\u001b[90m String  \u001b[0m\n",
       "─────┼─────────\n",
       "   1 │ hello\n",
       "   2 │ Midsize\n",
       "   3 │ Compact\n",
       "   4 │ Midsize"
      ]
     },
     "execution_count": 28,
     "metadata": {},
     "output_type": "execute_result"
    }
   ],
   "source": [
    "aView = cars[!,[:Type]]     # select the Type column as a VIEW\n",
    "aView[1,:Type] = \"hello\"    # change the first element\n",
    "aView |> head               # print the view"
   ]
  },
  {
   "cell_type": "code",
   "execution_count": 29,
   "metadata": {},
   "outputs": [
    {
     "data": {
      "text/html": [
       "<table class=\"data-frame\"><thead><tr><th></th><th>Manufacturer</th><th>Model</th><th>Type</th><th>MinPrice</th><th>Price</th><th>MaxPrice</th><th>MPGCity</th><th>MPGHighway</th></tr><tr><th></th><th>String</th><th>String</th><th>String</th><th>Float64</th><th>Float64</th><th>Float64</th><th>Int64</th><th>Int64</th></tr></thead><tbody><p>4 rows × 27 columns (omitted printing of 19 columns)</p><tr><th>1</th><td>Acura</td><td>Integra</td><td>hello</td><td>12.9</td><td>15.9</td><td>18.8</td><td>25</td><td>31</td></tr><tr><th>2</th><td>Acura</td><td>Legend</td><td>Midsize</td><td>29.2</td><td>33.9</td><td>38.7</td><td>18</td><td>25</td></tr><tr><th>3</th><td>Audi</td><td>90</td><td>Compact</td><td>25.9</td><td>29.1</td><td>32.3</td><td>20</td><td>26</td></tr><tr><th>4</th><td>Audi</td><td>100</td><td>Midsize</td><td>30.8</td><td>37.7</td><td>44.6</td><td>19</td><td>26</td></tr></tbody></table>"
      ],
      "text/latex": [
       "\\begin{tabular}{r|ccccccccc}\n",
       "\t& Manufacturer & Model & Type & MinPrice & Price & MaxPrice & MPGCity & MPGHighway & \\\\\n",
       "\t\\hline\n",
       "\t& String & String & String & Float64 & Float64 & Float64 & Int64 & Int64 & \\\\\n",
       "\t\\hline\n",
       "\t1 & Acura & Integra & hello & 12.9 & 15.9 & 18.8 & 25 & 31 & $\\dots$ \\\\\n",
       "\t2 & Acura & Legend & Midsize & 29.2 & 33.9 & 38.7 & 18 & 25 & $\\dots$ \\\\\n",
       "\t3 & Audi & 90 & Compact & 25.9 & 29.1 & 32.3 & 20 & 26 & $\\dots$ \\\\\n",
       "\t4 & Audi & 100 & Midsize & 30.8 & 37.7 & 44.6 & 19 & 26 & $\\dots$ \\\\\n",
       "\\end{tabular}\n"
      ],
      "text/plain": [
       "\u001b[1m4×27 DataFrame\u001b[0m\n",
       "\u001b[1m Row \u001b[0m│\u001b[1m Manufacturer \u001b[0m\u001b[1m Model   \u001b[0m\u001b[1m Type    \u001b[0m\u001b[1m MinPrice \u001b[0m\u001b[1m Price   \u001b[0m\u001b[1m MaxPrice \u001b[0m\u001b[1m MPGCity \u001b[0m\u001b[1m M\u001b[0m ⋯\n",
       "\u001b[1m     \u001b[0m│\u001b[90m String       \u001b[0m\u001b[90m String  \u001b[0m\u001b[90m String  \u001b[0m\u001b[90m Float64  \u001b[0m\u001b[90m Float64 \u001b[0m\u001b[90m Float64  \u001b[0m\u001b[90m Int64   \u001b[0m\u001b[90m I\u001b[0m ⋯\n",
       "─────┼──────────────────────────────────────────────────────────────────────────\n",
       "   1 │ Acura         Integra  hello        12.9     15.9      18.8       25    ⋯\n",
       "   2 │ Acura         Legend   Midsize      29.2     33.9      38.7       18\n",
       "   3 │ Audi          90       Compact      25.9     29.1      32.3       20\n",
       "   4 │ Audi          100      Midsize      30.8     37.7      44.6       19\n",
       "\u001b[36m                                                              20 columns omitted\u001b[0m"
      ]
     },
     "execution_count": 29,
     "metadata": {},
     "output_type": "execute_result"
    }
   ],
   "source": [
    "cars |> head      # now it has changed "
   ]
  },
  {
   "cell_type": "code",
   "execution_count": null,
   "metadata": {},
   "outputs": [],
   "source": []
  },
  {
   "cell_type": "markdown",
   "metadata": {},
   "source": [
    "***```cars``` has how changed!!!!***\n",
    "\n",
    "Be careful."
   ]
  },
  {
   "cell_type": "markdown",
   "metadata": {},
   "source": [
    "---"
   ]
  },
  {
   "cell_type": "markdown",
   "metadata": {},
   "source": [
    "---"
   ]
  },
  {
   "cell_type": "markdown",
   "metadata": {},
   "source": [
    "---"
   ]
  },
  {
   "cell_type": "markdown",
   "metadata": {},
   "source": [
    "---"
   ]
  },
  {
   "cell_type": "markdown",
   "metadata": {},
   "source": [
    "---"
   ]
  },
  {
   "cell_type": "markdown",
   "metadata": {},
   "source": [
    "---"
   ]
  },
  {
   "cell_type": "markdown",
   "metadata": {},
   "source": [
    "## A likeness with ```dplyr```\n",
    "\n",
    "The ```DataFrames``` package has the same data manipulation functionality as ```dplyr```\n",
    "\n",
    "\n",
    "\n",
    "``` R ``` functions and their ```julia``` equivalents;\n",
    "\n",
    " - In R ```rename()```$\\equiv$ in julia ```rename()``` - rename columns.\n",
    " \n",
    " - In R ```filter()```$\\equiv$ in julia ```filter()``` - picks cases based on their values.\n",
    " \n",
    " - In R ```select()```$\\equiv$ in julia ```select()``` - picks variables based on their names.\n",
    " \n",
    " - In R ```mutate()```$\\equiv$ in julia ```transform()``` - adds new variables that are functions of existing variables.\n",
    "\n",
    " - In R ```summarise()```$\\equiv$ in julia ```combine()``` - reduces multiple values down to a single summary\n",
    "\n",
    " - In R ```arrange()```$\\equiv$ in julia ```sort()``` - changes the ordering of the rows.\n",
    " \n",
    " - In R ```group_by()```$\\equiv$in julia ```groupby()``` - returns a ```GroupedDataFrame``` object.\n",
    " \n",
    "\n",
    "```rename!(), filter!(), select!(), transform!(), sort!()``` also exist to manipulate DataFrames in-place\n",
    " \n",
    "Here, common syntax is either \n",
    "```\n",
    ":ColumName => :NewName\n",
    ":ColumName => function => :NewName\n",
    ":ColumName => function\n",
    "```\n",
    "\n",
    "Ex's.\n",
    "\n"
   ]
  },
  {
   "cell_type": "code",
   "execution_count": 30,
   "metadata": {},
   "outputs": [],
   "source": [
    "cars = CSV.File(\"cars.csv\") |> DataFrame; # read in the data again 'cause I changed it"
   ]
  },
  {
   "cell_type": "code",
   "execution_count": 31,
   "metadata": {},
   "outputs": [
    {
     "data": {
      "text/html": [
       "<table class=\"data-frame\"><thead><tr><th></th><th>Manufacturer</th><th>Model</th><th>Type</th><th>MinPrice</th><th>Price</th><th>MaxPrice</th><th>MPGCity</th><th>MPGHighway</th></tr><tr><th></th><th>String</th><th>String</th><th>String</th><th>Float64</th><th>Float64</th><th>Float64</th><th>Int64</th><th>Int64</th></tr></thead><tbody><p>4 rows × 27 columns (omitted printing of 19 columns)</p><tr><th>1</th><td>Acura</td><td>Integra</td><td>Small</td><td>12.9</td><td>15.9</td><td>18.8</td><td>25</td><td>31</td></tr><tr><th>2</th><td>Acura</td><td>Legend</td><td>Midsize</td><td>29.2</td><td>33.9</td><td>38.7</td><td>18</td><td>25</td></tr><tr><th>3</th><td>Audi</td><td>90</td><td>Compact</td><td>25.9</td><td>29.1</td><td>32.3</td><td>20</td><td>26</td></tr><tr><th>4</th><td>Audi</td><td>100</td><td>Midsize</td><td>30.8</td><td>37.7</td><td>44.6</td><td>19</td><td>26</td></tr></tbody></table>"
      ],
      "text/latex": [
       "\\begin{tabular}{r|ccccccccc}\n",
       "\t& Manufacturer & Model & Type & MinPrice & Price & MaxPrice & MPGCity & MPGHighway & \\\\\n",
       "\t\\hline\n",
       "\t& String & String & String & Float64 & Float64 & Float64 & Int64 & Int64 & \\\\\n",
       "\t\\hline\n",
       "\t1 & Acura & Integra & Small & 12.9 & 15.9 & 18.8 & 25 & 31 & $\\dots$ \\\\\n",
       "\t2 & Acura & Legend & Midsize & 29.2 & 33.9 & 38.7 & 18 & 25 & $\\dots$ \\\\\n",
       "\t3 & Audi & 90 & Compact & 25.9 & 29.1 & 32.3 & 20 & 26 & $\\dots$ \\\\\n",
       "\t4 & Audi & 100 & Midsize & 30.8 & 37.7 & 44.6 & 19 & 26 & $\\dots$ \\\\\n",
       "\\end{tabular}\n"
      ],
      "text/plain": [
       "\u001b[1m4×27 DataFrame\u001b[0m\n",
       "\u001b[1m Row \u001b[0m│\u001b[1m Manufacturer \u001b[0m\u001b[1m Model   \u001b[0m\u001b[1m Type    \u001b[0m\u001b[1m MinPrice \u001b[0m\u001b[1m Price   \u001b[0m\u001b[1m MaxPrice \u001b[0m\u001b[1m MPGCity \u001b[0m\u001b[1m M\u001b[0m ⋯\n",
       "\u001b[1m     \u001b[0m│\u001b[90m String       \u001b[0m\u001b[90m String  \u001b[0m\u001b[90m String  \u001b[0m\u001b[90m Float64  \u001b[0m\u001b[90m Float64 \u001b[0m\u001b[90m Float64  \u001b[0m\u001b[90m Int64   \u001b[0m\u001b[90m I\u001b[0m ⋯\n",
       "─────┼──────────────────────────────────────────────────────────────────────────\n",
       "   1 │ Acura         Integra  Small        12.9     15.9      18.8       25    ⋯\n",
       "   2 │ Acura         Legend   Midsize      29.2     33.9      38.7       18\n",
       "   3 │ Audi          90       Compact      25.9     29.1      32.3       20\n",
       "   4 │ Audi          100      Midsize      30.8     37.7      44.6       19\n",
       "\u001b[36m                                                              20 columns omitted\u001b[0m"
      ]
     },
     "execution_count": 31,
     "metadata": {},
     "output_type": "execute_result"
    }
   ],
   "source": [
    "filter!(:Origin => (x -> isequal(x,\"non-USA\")), cars) |> head \n",
    "# for some reason this one is backwards to the others!\n",
    "# also has an optional argument view::Bool to specify whether to return a view or a copy\n",
    "# also, note the ! to change cars in place \n",
    "# see also filter(:Origin => (x -> isequal(x,\"non-USA\")), cars) |> head "
   ]
  },
  {
   "cell_type": "code",
   "execution_count": 32,
   "metadata": {
    "scrolled": false
   },
   "outputs": [
    {
     "data": {
      "text/plain": [
       "8-element Array{String,1}:\n",
       " \"Manufacturer\"\n",
       " \"Model\"\n",
       " \"Price\"\n",
       " \"MPGCity\"\n",
       " \"MPGHighway\"\n",
       " \"DriveTrain\"\n",
       " \"Cylinders\"\n",
       " \"EngineSize\""
      ]
     },
     "execution_count": 32,
     "metadata": {},
     "output_type": "execute_result"
    }
   ],
   "source": [
    "select!(cars, [:Manufacturer, :Model, :Price, :MPGCity, :MPGHighway, :DriveTrain, :Cylinders, :EngineSize]) |> names "
   ]
  },
  {
   "cell_type": "code",
   "execution_count": 33,
   "metadata": {},
   "outputs": [
    {
     "data": {
      "text/html": [
       "<table class=\"data-frame\"><thead><tr><th></th><th>Manufacturer</th><th>Model</th><th>Price</th><th>DriveTrain</th><th>Cylinders</th><th>EngineSize</th><th>City</th><th>Highway</th></tr><tr><th></th><th>String</th><th>String</th><th>Float64</th><th>String</th><th>String</th><th>Float64</th><th>Float64</th><th>Float64</th></tr></thead><tbody><p>4 rows × 8 columns</p><tr><th>1</th><td>Acura</td><td>Integra</td><td>15.9</td><td>Front</td><td>4</td><td>1.8</td><td>9.4086</td><td>7.58758</td></tr><tr><th>2</th><td>Acura</td><td>Legend</td><td>33.9</td><td>Front</td><td>6</td><td>3.2</td><td>13.0675</td><td>9.4086</td></tr><tr><th>3</th><td>Audi</td><td>90</td><td>29.1</td><td>Front</td><td>6</td><td>2.8</td><td>11.7607</td><td>9.04673</td></tr><tr><th>4</th><td>Audi</td><td>100</td><td>37.7</td><td>Front</td><td>6</td><td>2.8</td><td>12.3797</td><td>9.04673</td></tr></tbody></table>"
      ],
      "text/latex": [
       "\\begin{tabular}{r|cccccccc}\n",
       "\t& Manufacturer & Model & Price & DriveTrain & Cylinders & EngineSize & City & Highway\\\\\n",
       "\t\\hline\n",
       "\t& String & String & Float64 & String & String & Float64 & Float64 & Float64\\\\\n",
       "\t\\hline\n",
       "\t1 & Acura & Integra & 15.9 & Front & 4 & 1.8 & 9.4086 & 7.58758 \\\\\n",
       "\t2 & Acura & Legend & 33.9 & Front & 6 & 3.2 & 13.0675 & 9.4086 \\\\\n",
       "\t3 & Audi & 90 & 29.1 & Front & 6 & 2.8 & 11.7607 & 9.04673 \\\\\n",
       "\t4 & Audi & 100 & 37.7 & Front & 6 & 2.8 & 12.3797 & 9.04673 \\\\\n",
       "\\end{tabular}\n"
      ],
      "text/plain": [
       "\u001b[1m4×8 DataFrame\u001b[0m\n",
       "\u001b[1m Row \u001b[0m│\u001b[1m Manufacturer \u001b[0m\u001b[1m Model   \u001b[0m\u001b[1m Price   \u001b[0m\u001b[1m DriveTrain \u001b[0m\u001b[1m Cylinders \u001b[0m\u001b[1m EngineSize \u001b[0m\u001b[1m City\u001b[0m ⋯\n",
       "\u001b[1m     \u001b[0m│\u001b[90m String       \u001b[0m\u001b[90m String  \u001b[0m\u001b[90m Float64 \u001b[0m\u001b[90m String     \u001b[0m\u001b[90m String    \u001b[0m\u001b[90m Float64    \u001b[0m\u001b[90m Floa\u001b[0m ⋯\n",
       "─────┼──────────────────────────────────────────────────────────────────────────\n",
       "   1 │ Acura         Integra     15.9  Front       4                 1.8   9.4 ⋯\n",
       "   2 │ Acura         Legend      33.9  Front       6                 3.2  13.0\n",
       "   3 │ Audi          90          29.1  Front       6                 2.8  11.7\n",
       "   4 │ Audi          100         37.7  Front       6                 2.8  12.3\n",
       "\u001b[36m                                                               2 columns omitted\u001b[0m"
      ]
     },
     "execution_count": 33,
     "metadata": {},
     "output_type": "execute_result"
    }
   ],
   "source": [
    "mpg2lper100(MPG) = 235.215./MPG\n",
    "transform!(cars,:MPGCity => mpg2lper100 => :City, :MPGHighway => mpg2lper100 => :Highway) |> \n",
    "    x -> select!(x,Not([:MPGCity,:MPGHighway])) |> \n",
    "    head "
   ]
  },
  {
   "cell_type": "code",
   "execution_count": 34,
   "metadata": {},
   "outputs": [
    {
     "data": {
      "text/html": [
       "<p><b>GroupedDataFrame with 6 groups based on key: Cylinders</b></p><p><i>First Group (27 rows): Cylinders = \"4\"</i></p><table class=\"data-frame\"><thead><tr><th></th><th>Manufacturer</th><th>Model</th><th>Price</th><th>DriveTrain</th><th>Cylinders</th><th>EngineSize</th><th>City</th><th>Highway</th></tr><tr><th></th><th>String</th><th>String</th><th>Float64</th><th>String</th><th>String</th><th>Float64</th><th>Float64</th><th>Float64</th></tr></thead><tbody><tr><th>1</th><td>Acura</td><td>Integra</td><td>15.9</td><td>Front</td><td>4</td><td>1.8</td><td>9.4086</td><td>7.58758</td></tr><tr><th>2</th><td>BMW</td><td>535i</td><td>30.0</td><td>Rear</td><td>4</td><td>3.5</td><td>10.6916</td><td>7.8405</td></tr><tr><th>3</th><td>Geo</td><td>Storm</td><td>12.5</td><td>Front</td><td>4</td><td>1.6</td><td>7.8405</td><td>6.53375</td></tr><tr><th>4</th><td>Honda</td><td>Prelude</td><td>19.8</td><td>Front</td><td>4</td><td>2.3</td><td>9.80063</td><td>7.58758</td></tr><tr><th>5</th><td>Honda</td><td>Civic</td><td>12.1</td><td>Front</td><td>4</td><td>1.5</td><td>5.60036</td><td>5.11337</td></tr><tr><th>6</th><td>Honda</td><td>Accord</td><td>17.5</td><td>Front</td><td>4</td><td>2.2</td><td>9.80063</td><td>7.58758</td></tr><tr><th>7</th><td>Hyundai</td><td>Excel</td><td>8.0</td><td>Front</td><td>4</td><td>1.5</td><td>8.11086</td><td>7.12773</td></tr><tr><th>8</th><td>Hyundai</td><td>Elantra</td><td>10.0</td><td>Front</td><td>4</td><td>1.8</td><td>10.6916</td><td>8.11086</td></tr><tr><th>9</th><td>Hyundai</td><td>Scoupe</td><td>10.0</td><td>Front</td><td>4</td><td>1.5</td><td>9.04673</td><td>6.91809</td></tr><tr><th>10</th><td>Hyundai</td><td>Sonata</td><td>13.9</td><td>Front</td><td>4</td><td>2.0</td><td>11.7607</td><td>8.71167</td></tr><tr><th>11</th><td>Mazda</td><td>323</td><td>8.3</td><td>Front</td><td>4</td><td>1.6</td><td>8.11086</td><td>6.35716</td></tr><tr><th>12</th><td>Mazda</td><td>Protege</td><td>11.6</td><td>Front</td><td>4</td><td>1.8</td><td>8.40054</td><td>6.53375</td></tr><tr><th>13</th><td>Mazda</td><td>626</td><td>16.5</td><td>Front</td><td>4</td><td>2.5</td><td>9.04673</td><td>6.91809</td></tr><tr><th>14</th><td>Mercedes-Benz</td><td>190E</td><td>31.9</td><td>Rear</td><td>4</td><td>2.3</td><td>11.7607</td><td>8.11086</td></tr><tr><th>15</th><td>Mitsubishi</td><td>Mirage</td><td>10.3</td><td>Front</td><td>4</td><td>1.5</td><td>8.11086</td><td>7.12773</td></tr><tr><th>16</th><td>Nissan</td><td>Sentra</td><td>11.8</td><td>Front</td><td>4</td><td>1.6</td><td>8.11086</td><td>7.12773</td></tr><tr><th>17</th><td>Nissan</td><td>Altima</td><td>15.7</td><td>Front</td><td>4</td><td>2.4</td><td>9.80063</td><td>7.8405</td></tr><tr><th>18</th><td>Saab</td><td>900</td><td>28.7</td><td>Front</td><td>4</td><td>2.1</td><td>11.7607</td><td>9.04673</td></tr><tr><th>19</th><td>Subaru</td><td>Loyale</td><td>10.9</td><td>4WD</td><td>4</td><td>1.8</td><td>9.4086</td><td>7.8405</td></tr><tr><th>20</th><td>Subaru</td><td>Legacy</td><td>19.5</td><td>4WD</td><td>4</td><td>2.2</td><td>10.2267</td><td>7.8405</td></tr><tr><th>21</th><td>Toyota</td><td>Tercel</td><td>9.8</td><td>Front</td><td>4</td><td>1.5</td><td>7.35047</td><td>6.35716</td></tr><tr><th>22</th><td>Toyota</td><td>Celica</td><td>18.4</td><td>Front</td><td>4</td><td>2.2</td><td>9.4086</td><td>7.35047</td></tr><tr><th>23</th><td>Toyota</td><td>Camry</td><td>18.2</td><td>Front</td><td>4</td><td>2.2</td><td>10.6916</td><td>8.11086</td></tr><tr><th>24</th><td>Toyota</td><td>Previa</td><td>22.7</td><td>4WD</td><td>4</td><td>2.4</td><td>13.0675</td><td>10.6916</td></tr><tr><th>25</th><td>Volkswagen</td><td>Fox</td><td>9.1</td><td>Front</td><td>4</td><td>1.8</td><td>9.4086</td><td>7.12773</td></tr><tr><th>26</th><td>Volkswagen</td><td>Passat</td><td>20.0</td><td>Front</td><td>4</td><td>2.0</td><td>11.2007</td><td>7.8405</td></tr><tr><th>27</th><td>Volvo</td><td>240</td><td>22.7</td><td>Rear</td><td>4</td><td>2.3</td><td>11.2007</td><td>8.40054</td></tr></tbody></table><p>&vellip;</p><p><i>Last Group (2 rows): Cylinders = \"5\"</i></p><table class=\"data-frame\"><thead><tr><th></th><th>Manufacturer</th><th>Model</th><th>Price</th><th>DriveTrain</th><th>Cylinders</th><th>EngineSize</th><th>City</th><th>Highway</th></tr><tr><th></th><th>String</th><th>String</th><th>Float64</th><th>String</th><th>String</th><th>Float64</th><th>Float64</th><th>Float64</th></tr></thead><tbody><tr><th>1</th><td>Volkswagen</td><td>Eurovan</td><td>19.7</td><td>Front</td><td>5</td><td>2.5</td><td>13.8362</td><td>11.2007</td></tr><tr><th>2</th><td>Volvo</td><td>850</td><td>26.7</td><td>Front</td><td>5</td><td>2.4</td><td>11.7607</td><td>8.40054</td></tr></tbody></table>"
      ],
      "text/latex": [
       "GroupedDataFrame with 6 groups based on key: Cylinders\n",
       "\n",
       "First Group (27 rows): Cylinders = \"4\"\n",
       "\n",
       "\\begin{tabular}{r|cccccccc}\n",
       "\t& Manufacturer & Model & Price & DriveTrain & Cylinders & EngineSize & City & Highway\\\\\n",
       "\t\\hline\n",
       "\t& String & String & Float64 & String & String & Float64 & Float64 & Float64\\\\\n",
       "\t\\hline\n",
       "\t1 & Acura & Integra & 15.9 & Front & 4 & 1.8 & 9.4086 & 7.58758 \\\\\n",
       "\t2 & BMW & 535i & 30.0 & Rear & 4 & 3.5 & 10.6916 & 7.8405 \\\\\n",
       "\t3 & Geo & Storm & 12.5 & Front & 4 & 1.6 & 7.8405 & 6.53375 \\\\\n",
       "\t4 & Honda & Prelude & 19.8 & Front & 4 & 2.3 & 9.80063 & 7.58758 \\\\\n",
       "\t5 & Honda & Civic & 12.1 & Front & 4 & 1.5 & 5.60036 & 5.11337 \\\\\n",
       "\t6 & Honda & Accord & 17.5 & Front & 4 & 2.2 & 9.80063 & 7.58758 \\\\\n",
       "\t7 & Hyundai & Excel & 8.0 & Front & 4 & 1.5 & 8.11086 & 7.12773 \\\\\n",
       "\t8 & Hyundai & Elantra & 10.0 & Front & 4 & 1.8 & 10.6916 & 8.11086 \\\\\n",
       "\t9 & Hyundai & Scoupe & 10.0 & Front & 4 & 1.5 & 9.04673 & 6.91809 \\\\\n",
       "\t10 & Hyundai & Sonata & 13.9 & Front & 4 & 2.0 & 11.7607 & 8.71167 \\\\\n",
       "\t11 & Mazda & 323 & 8.3 & Front & 4 & 1.6 & 8.11086 & 6.35716 \\\\\n",
       "\t12 & Mazda & Protege & 11.6 & Front & 4 & 1.8 & 8.40054 & 6.53375 \\\\\n",
       "\t13 & Mazda & 626 & 16.5 & Front & 4 & 2.5 & 9.04673 & 6.91809 \\\\\n",
       "\t14 & Mercedes-Benz & 190E & 31.9 & Rear & 4 & 2.3 & 11.7607 & 8.11086 \\\\\n",
       "\t15 & Mitsubishi & Mirage & 10.3 & Front & 4 & 1.5 & 8.11086 & 7.12773 \\\\\n",
       "\t16 & Nissan & Sentra & 11.8 & Front & 4 & 1.6 & 8.11086 & 7.12773 \\\\\n",
       "\t17 & Nissan & Altima & 15.7 & Front & 4 & 2.4 & 9.80063 & 7.8405 \\\\\n",
       "\t18 & Saab & 900 & 28.7 & Front & 4 & 2.1 & 11.7607 & 9.04673 \\\\\n",
       "\t19 & Subaru & Loyale & 10.9 & 4WD & 4 & 1.8 & 9.4086 & 7.8405 \\\\\n",
       "\t20 & Subaru & Legacy & 19.5 & 4WD & 4 & 2.2 & 10.2267 & 7.8405 \\\\\n",
       "\t21 & Toyota & Tercel & 9.8 & Front & 4 & 1.5 & 7.35047 & 6.35716 \\\\\n",
       "\t22 & Toyota & Celica & 18.4 & Front & 4 & 2.2 & 9.4086 & 7.35047 \\\\\n",
       "\t23 & Toyota & Camry & 18.2 & Front & 4 & 2.2 & 10.6916 & 8.11086 \\\\\n",
       "\t24 & Toyota & Previa & 22.7 & 4WD & 4 & 2.4 & 13.0675 & 10.6916 \\\\\n",
       "\t25 & Volkswagen & Fox & 9.1 & Front & 4 & 1.8 & 9.4086 & 7.12773 \\\\\n",
       "\t26 & Volkswagen & Passat & 20.0 & Front & 4 & 2.0 & 11.2007 & 7.8405 \\\\\n",
       "\t27 & Volvo & 240 & 22.7 & Rear & 4 & 2.3 & 11.2007 & 8.40054 \\\\\n",
       "\\end{tabular}\n",
       "\n",
       "$\\dots$\n",
       "\n",
       "Last Group (2 rows): Cylinders = \"5\"\n",
       "\n",
       "\\begin{tabular}{r|cccccccc}\n",
       "\t& Manufacturer & Model & Price & DriveTrain & Cylinders & EngineSize & City & Highway\\\\\n",
       "\t\\hline\n",
       "\t& String & String & Float64 & String & String & Float64 & Float64 & Float64\\\\\n",
       "\t\\hline\n",
       "\t1 & Volkswagen & Eurovan & 19.7 & Front & 5 & 2.5 & 13.8362 & 11.2007 \\\\\n",
       "\t2 & Volvo & 850 & 26.7 & Front & 5 & 2.4 & 11.7607 & 8.40054 \\\\\n",
       "\\end{tabular}\n"
      ],
      "text/plain": [
       "GroupedDataFrame with 6 groups based on key: Cylinders\n",
       "First Group (27 rows): Cylinders = \"4\"\n",
       "\u001b[1m Row \u001b[0m│\u001b[1m Manufacturer  \u001b[0m\u001b[1m Model   \u001b[0m\u001b[1m Price   \u001b[0m\u001b[1m DriveTrain \u001b[0m\u001b[1m Cylinders \u001b[0m\u001b[1m EngineSize \u001b[0m\u001b[1m Cit\u001b[0m ⋯\n",
       "\u001b[1m     \u001b[0m│\u001b[90m String        \u001b[0m\u001b[90m String  \u001b[0m\u001b[90m Float64 \u001b[0m\u001b[90m String     \u001b[0m\u001b[90m String    \u001b[0m\u001b[90m Float64    \u001b[0m\u001b[90m Flo\u001b[0m ⋯\n",
       "─────┼──────────────────────────────────────────────────────────────────────────\n",
       "   1 │ Acura          Integra     15.9  Front       4                 1.8   9. ⋯\n",
       "   2 │ BMW            535i        30.0  Rear        4                 3.5  10.\n",
       "   3 │ Geo            Storm       12.5  Front       4                 1.6   7.\n",
       "   4 │ Honda          Prelude     19.8  Front       4                 2.3   9.\n",
       "   5 │ Honda          Civic       12.1  Front       4                 1.5   5. ⋯\n",
       "   6 │ Honda          Accord      17.5  Front       4                 2.2   9.\n",
       "   7 │ Hyundai        Excel        8.0  Front       4                 1.5   8.\n",
       "   8 │ Hyundai        Elantra     10.0  Front       4                 1.8  10.\n",
       "   9 │ Hyundai        Scoupe      10.0  Front       4                 1.5   9. ⋯\n",
       "  10 │ Hyundai        Sonata      13.9  Front       4                 2.0  11.\n",
       "  11 │ Mazda          323          8.3  Front       4                 1.6   8.\n",
       "  ⋮  │       ⋮           ⋮        ⋮         ⋮           ⋮          ⋮           ⋱\n",
       "  17 │ Nissan         Altima      15.7  Front       4                 2.4   9.\n",
       "  18 │ Saab           900         28.7  Front       4                 2.1  11. ⋯\n",
       "  19 │ Subaru         Loyale      10.9  4WD         4                 1.8   9.\n",
       "  20 │ Subaru         Legacy      19.5  4WD         4                 2.2  10.\n",
       "  21 │ Toyota         Tercel       9.8  Front       4                 1.5   7.\n",
       "  22 │ Toyota         Celica      18.4  Front       4                 2.2   9. ⋯\n",
       "  23 │ Toyota         Camry       18.2  Front       4                 2.2  10.\n",
       "  24 │ Toyota         Previa      22.7  4WD         4                 2.4  13.\n",
       "  25 │ Volkswagen     Fox          9.1  Front       4                 1.8   9.\n",
       "  26 │ Volkswagen     Passat      20.0  Front       4                 2.0  11. ⋯\n",
       "  27 │ Volvo          240         22.7  Rear        4                 2.3  11.\n",
       "\u001b[36m                                                    2 columns and 5 rows omitted\u001b[0m\n",
       "⋮\n",
       "Last Group (2 rows): Cylinders = \"5\"\n",
       "\u001b[1m Row \u001b[0m│\u001b[1m Manufacturer \u001b[0m\u001b[1m Model   \u001b[0m\u001b[1m Price   \u001b[0m\u001b[1m DriveTrain \u001b[0m\u001b[1m Cylinders \u001b[0m\u001b[1m EngineSize \u001b[0m\u001b[1m City\u001b[0m ⋯\n",
       "\u001b[1m     \u001b[0m│\u001b[90m String       \u001b[0m\u001b[90m String  \u001b[0m\u001b[90m Float64 \u001b[0m\u001b[90m String     \u001b[0m\u001b[90m String    \u001b[0m\u001b[90m Float64    \u001b[0m\u001b[90m Floa\u001b[0m ⋯\n",
       "─────┼──────────────────────────────────────────────────────────────────────────\n",
       "   1 │ Volkswagen    Eurovan     19.7  Front       5                 2.5  13.8 ⋯\n",
       "   2 │ Volvo         850         26.7  Front       5                 2.4  11.7\n",
       "\u001b[36m                                                               2 columns omitted\u001b[0m"
      ]
     },
     "execution_count": 34,
     "metadata": {},
     "output_type": "execute_result"
    }
   ],
   "source": [
    "carsByCylinders = groupby(cars, :Cylinders) "
   ]
  },
  {
   "cell_type": "code",
   "execution_count": 35,
   "metadata": {},
   "outputs": [
    {
     "data": {
      "text/plain": [
       "6-element DataFrames.GroupKeys{GroupedDataFrame{DataFrame}}:\n",
       " GroupKey: (Cylinders = \"4\",)\n",
       " GroupKey: (Cylinders = \"6\",)\n",
       " GroupKey: (Cylinders = \"3\",)\n",
       " GroupKey: (Cylinders = \"8\",)\n",
       " GroupKey: (Cylinders = \"rotary\",)\n",
       " GroupKey: (Cylinders = \"5\",)"
      ]
     },
     "execution_count": 35,
     "metadata": {},
     "output_type": "execute_result"
    }
   ],
   "source": [
    "keys(carsByCylinders)"
   ]
  },
  {
   "cell_type": "code",
   "execution_count": 36,
   "metadata": {},
   "outputs": [
    {
     "data": {
      "text/html": [
       "<table class=\"data-frame\"><thead><tr><th></th><th>Manufacturer</th><th>Model</th><th>Price</th><th>DriveTrain</th><th>Cylinders</th><th>EngineSize</th><th>City</th><th>Highway</th></tr><tr><th></th><th>String</th><th>String</th><th>Float64</th><th>String</th><th>String</th><th>Float64</th><th>Float64</th><th>Float64</th></tr></thead><tbody><p>2 rows × 8 columns</p><tr><th>1</th><td>Volkswagen</td><td>Eurovan</td><td>19.7</td><td>Front</td><td>5</td><td>2.5</td><td>13.8362</td><td>11.2007</td></tr><tr><th>2</th><td>Volvo</td><td>850</td><td>26.7</td><td>Front</td><td>5</td><td>2.4</td><td>11.7607</td><td>8.40054</td></tr></tbody></table>"
      ],
      "text/latex": [
       "\\begin{tabular}{r|cccccccc}\n",
       "\t& Manufacturer & Model & Price & DriveTrain & Cylinders & EngineSize & City & Highway\\\\\n",
       "\t\\hline\n",
       "\t& String & String & Float64 & String & String & Float64 & Float64 & Float64\\\\\n",
       "\t\\hline\n",
       "\t1 & Volkswagen & Eurovan & 19.7 & Front & 5 & 2.5 & 13.8362 & 11.2007 \\\\\n",
       "\t2 & Volvo & 850 & 26.7 & Front & 5 & 2.4 & 11.7607 & 8.40054 \\\\\n",
       "\\end{tabular}\n"
      ],
      "text/plain": [
       "\u001b[1m2×8 DataFrame\u001b[0m\n",
       "\u001b[1m Row \u001b[0m│\u001b[1m Manufacturer \u001b[0m\u001b[1m Model   \u001b[0m\u001b[1m Price   \u001b[0m\u001b[1m DriveTrain \u001b[0m\u001b[1m Cylinders \u001b[0m\u001b[1m EngineSize \u001b[0m\u001b[1m City\u001b[0m ⋯\n",
       "\u001b[1m     \u001b[0m│\u001b[90m String       \u001b[0m\u001b[90m String  \u001b[0m\u001b[90m Float64 \u001b[0m\u001b[90m String     \u001b[0m\u001b[90m String    \u001b[0m\u001b[90m Float64    \u001b[0m\u001b[90m Floa\u001b[0m ⋯\n",
       "─────┼──────────────────────────────────────────────────────────────────────────\n",
       "   1 │ Volkswagen    Eurovan     19.7  Front       5                 2.5  13.8 ⋯\n",
       "   2 │ Volvo         850         26.7  Front       5                 2.4  11.7\n",
       "\u001b[36m                                                               2 columns omitted\u001b[0m"
      ]
     },
     "execution_count": 36,
     "metadata": {},
     "output_type": "execute_result"
    }
   ],
   "source": [
    "carsByCylinders[(Cylinders=\"5\",)] |> head "
   ]
  },
  {
   "cell_type": "code",
   "execution_count": 37,
   "metadata": {},
   "outputs": [
    {
     "data": {
      "text/html": [
       "<table class=\"data-frame\"><thead><tr><th></th><th>Manufacturer</th><th>Model</th><th>Price</th><th>DriveTrain</th><th>Cylinders</th><th>EngineSize</th><th>City</th><th>Highway</th></tr><tr><th></th><th>String</th><th>String</th><th>Float64</th><th>String</th><th>String</th><th>Float64</th><th>Float64</th><th>Float64</th></tr></thead><tbody><p>2 rows × 8 columns</p><tr><th>1</th><td>Volkswagen</td><td>Eurovan</td><td>19.7</td><td>Front</td><td>5</td><td>2.5</td><td>13.8362</td><td>11.2007</td></tr><tr><th>2</th><td>Volvo</td><td>850</td><td>26.7</td><td>Front</td><td>5</td><td>2.4</td><td>11.7607</td><td>8.40054</td></tr></tbody></table>"
      ],
      "text/latex": [
       "\\begin{tabular}{r|cccccccc}\n",
       "\t& Manufacturer & Model & Price & DriveTrain & Cylinders & EngineSize & City & Highway\\\\\n",
       "\t\\hline\n",
       "\t& String & String & Float64 & String & String & Float64 & Float64 & Float64\\\\\n",
       "\t\\hline\n",
       "\t1 & Volkswagen & Eurovan & 19.7 & Front & 5 & 2.5 & 13.8362 & 11.2007 \\\\\n",
       "\t2 & Volvo & 850 & 26.7 & Front & 5 & 2.4 & 11.7607 & 8.40054 \\\\\n",
       "\\end{tabular}\n"
      ],
      "text/plain": [
       "\u001b[1m2×8 DataFrame\u001b[0m\n",
       "\u001b[1m Row \u001b[0m│\u001b[1m Manufacturer \u001b[0m\u001b[1m Model   \u001b[0m\u001b[1m Price   \u001b[0m\u001b[1m DriveTrain \u001b[0m\u001b[1m Cylinders \u001b[0m\u001b[1m EngineSize \u001b[0m\u001b[1m City\u001b[0m ⋯\n",
       "\u001b[1m     \u001b[0m│\u001b[90m String       \u001b[0m\u001b[90m String  \u001b[0m\u001b[90m Float64 \u001b[0m\u001b[90m String     \u001b[0m\u001b[90m String    \u001b[0m\u001b[90m Float64    \u001b[0m\u001b[90m Floa\u001b[0m ⋯\n",
       "─────┼──────────────────────────────────────────────────────────────────────────\n",
       "   1 │ Volkswagen    Eurovan     19.7  Front       5                 2.5  13.8 ⋯\n",
       "   2 │ Volvo         850         26.7  Front       5                 2.4  11.7\n",
       "\u001b[36m                                                               2 columns omitted\u001b[0m"
      ]
     },
     "execution_count": 37,
     "metadata": {},
     "output_type": "execute_result"
    }
   ],
   "source": [
    "carsByCylinders[6] |> head "
   ]
  },
  {
   "cell_type": "code",
   "execution_count": 38,
   "metadata": {},
   "outputs": [
    {
     "data": {
      "text/plain": [
       "11-element DataFrames.GroupKeys{GroupedDataFrame{DataFrame}}:\n",
       " GroupKey: (Cylinders = \"4\", DriveTrain = \"Front\")\n",
       " GroupKey: (Cylinders = \"6\", DriveTrain = \"Front\")\n",
       " GroupKey: (Cylinders = \"4\", DriveTrain = \"Rear\")\n",
       " GroupKey: (Cylinders = \"3\", DriveTrain = \"Front\")\n",
       " GroupKey: (Cylinders = \"8\", DriveTrain = \"Rear\")\n",
       " GroupKey: (Cylinders = \"6\", DriveTrain = \"Rear\")\n",
       " GroupKey: (Cylinders = \"6\", DriveTrain = \"4WD\")\n",
       " GroupKey: (Cylinders = \"rotary\", DriveTrain = \"Rear\")\n",
       " GroupKey: (Cylinders = \"3\", DriveTrain = \"4WD\")\n",
       " GroupKey: (Cylinders = \"4\", DriveTrain = \"4WD\")\n",
       " GroupKey: (Cylinders = \"5\", DriveTrain = \"Front\")"
      ]
     },
     "execution_count": 38,
     "metadata": {},
     "output_type": "execute_result"
    }
   ],
   "source": [
    "carsByCylDrive = groupby(cars, [:Cylinders, :DriveTrain])\n",
    "keys(carsByCylDrive)"
   ]
  },
  {
   "cell_type": "code",
   "execution_count": 39,
   "metadata": {},
   "outputs": [
    {
     "data": {
      "text/html": [
       "<table class=\"data-frame\"><thead><tr><th></th><th>Manufacturer</th><th>Model</th><th>Price</th><th>DriveTrain</th><th>Cylinders</th><th>EngineSize</th><th>City</th><th>Highway</th></tr><tr><th></th><th>String</th><th>String</th><th>Float64</th><th>String</th><th>String</th><th>Float64</th><th>Float64</th><th>Float64</th></tr></thead><tbody><p>3 rows × 8 columns</p><tr><th>1</th><td>Subaru</td><td>Loyale</td><td>10.9</td><td>4WD</td><td>4</td><td>1.8</td><td>9.4086</td><td>7.8405</td></tr><tr><th>2</th><td>Subaru</td><td>Legacy</td><td>19.5</td><td>4WD</td><td>4</td><td>2.2</td><td>10.2267</td><td>7.8405</td></tr><tr><th>3</th><td>Toyota</td><td>Previa</td><td>22.7</td><td>4WD</td><td>4</td><td>2.4</td><td>13.0675</td><td>10.6916</td></tr></tbody></table>"
      ],
      "text/latex": [
       "\\begin{tabular}{r|cccccccc}\n",
       "\t& Manufacturer & Model & Price & DriveTrain & Cylinders & EngineSize & City & Highway\\\\\n",
       "\t\\hline\n",
       "\t& String & String & Float64 & String & String & Float64 & Float64 & Float64\\\\\n",
       "\t\\hline\n",
       "\t1 & Subaru & Loyale & 10.9 & 4WD & 4 & 1.8 & 9.4086 & 7.8405 \\\\\n",
       "\t2 & Subaru & Legacy & 19.5 & 4WD & 4 & 2.2 & 10.2267 & 7.8405 \\\\\n",
       "\t3 & Toyota & Previa & 22.7 & 4WD & 4 & 2.4 & 13.0675 & 10.6916 \\\\\n",
       "\\end{tabular}\n"
      ],
      "text/plain": [
       "\u001b[1m3×8 DataFrame\u001b[0m\n",
       "\u001b[1m Row \u001b[0m│\u001b[1m Manufacturer \u001b[0m\u001b[1m Model  \u001b[0m\u001b[1m Price   \u001b[0m\u001b[1m DriveTrain \u001b[0m\u001b[1m Cylinders \u001b[0m\u001b[1m EngineSize \u001b[0m\u001b[1m City \u001b[0m ⋯\n",
       "\u001b[1m     \u001b[0m│\u001b[90m String       \u001b[0m\u001b[90m String \u001b[0m\u001b[90m Float64 \u001b[0m\u001b[90m String     \u001b[0m\u001b[90m String    \u001b[0m\u001b[90m Float64    \u001b[0m\u001b[90m Float\u001b[0m ⋯\n",
       "─────┼──────────────────────────────────────────────────────────────────────────\n",
       "   1 │ Subaru        Loyale     10.9  4WD         4                 1.8   9.40 ⋯\n",
       "   2 │ Subaru        Legacy     19.5  4WD         4                 2.2  10.22\n",
       "   3 │ Toyota        Previa     22.7  4WD         4                 2.4  13.06\n",
       "\u001b[36m                                                               2 columns omitted\u001b[0m"
      ]
     },
     "execution_count": 39,
     "metadata": {},
     "output_type": "execute_result"
    }
   ],
   "source": [
    "carsByCylDrive[(Cylinders = \"4\",DriveTrain = \"4WD\")] |> head "
   ]
  },
  {
   "cell_type": "code",
   "execution_count": 40,
   "metadata": {},
   "outputs": [
    {
     "data": {
      "text/html": [
       "<table class=\"data-frame\"><thead><tr><th></th><th>variable</th><th>mean</th><th>min</th><th>median</th><th>max</th><th>nmissing</th><th>eltype</th></tr><tr><th></th><th>Symbol</th><th>Union…</th><th>Any</th><th>Union…</th><th>Any</th><th>Int64</th><th>DataType</th></tr></thead><tbody><p>8 rows × 7 columns</p><tr><th>1</th><td>Manufacturer</td><td></td><td>Acura</td><td></td><td>Volvo</td><td>0</td><td>String</td></tr><tr><th>2</th><td>Model</td><td></td><td>100</td><td></td><td>Tercel</td><td>0</td><td>String</td></tr><tr><th>3</th><td>Price</td><td>20.5089</td><td>8.0</td><td>19.1</td><td>61.9</td><td>0</td><td>Float64</td></tr><tr><th>4</th><td>DriveTrain</td><td></td><td>4WD</td><td></td><td>Rear</td><td>0</td><td>String</td></tr><tr><th>5</th><td>Cylinders</td><td></td><td>3</td><td></td><td>rotary</td><td>0</td><td>String</td></tr><tr><th>6</th><td>EngineSize</td><td>2.24222</td><td>1.0</td><td>2.2</td><td>4.5</td><td>0</td><td>Float64</td></tr><tr><th>7</th><td>City</td><td>10.4738</td><td>5.11337</td><td>10.6916</td><td>13.8362</td><td>0</td><td>Float64</td></tr><tr><th>8</th><td>Highway</td><td>8.11545</td><td>4.7043</td><td>7.8405</td><td>11.2007</td><td>0</td><td>Float64</td></tr></tbody></table>"
      ],
      "text/latex": [
       "\\begin{tabular}{r|ccccccc}\n",
       "\t& variable & mean & min & median & max & nmissing & eltype\\\\\n",
       "\t\\hline\n",
       "\t& Symbol & Union… & Any & Union… & Any & Int64 & DataType\\\\\n",
       "\t\\hline\n",
       "\t1 & Manufacturer &  & Acura &  & Volvo & 0 & String \\\\\n",
       "\t2 & Model &  & 100 &  & Tercel & 0 & String \\\\\n",
       "\t3 & Price & 20.5089 & 8.0 & 19.1 & 61.9 & 0 & Float64 \\\\\n",
       "\t4 & DriveTrain &  & 4WD &  & Rear & 0 & String \\\\\n",
       "\t5 & Cylinders &  & 3 &  & rotary & 0 & String \\\\\n",
       "\t6 & EngineSize & 2.24222 & 1.0 & 2.2 & 4.5 & 0 & Float64 \\\\\n",
       "\t7 & City & 10.4738 & 5.11337 & 10.6916 & 13.8362 & 0 & Float64 \\\\\n",
       "\t8 & Highway & 8.11545 & 4.7043 & 7.8405 & 11.2007 & 0 & Float64 \\\\\n",
       "\\end{tabular}\n"
      ],
      "text/plain": [
       "\u001b[1m8×7 DataFrame\u001b[0m\n",
       "\u001b[1m Row \u001b[0m│\u001b[1m variable     \u001b[0m\u001b[1m mean    \u001b[0m\u001b[1m min     \u001b[0m\u001b[1m median  \u001b[0m\u001b[1m max     \u001b[0m\u001b[1m nmissing \u001b[0m\u001b[1m eltype   \u001b[0m\n",
       "\u001b[1m     \u001b[0m│\u001b[90m Symbol       \u001b[0m\u001b[90m Union…  \u001b[0m\u001b[90m Any     \u001b[0m\u001b[90m Union…  \u001b[0m\u001b[90m Any     \u001b[0m\u001b[90m Int64    \u001b[0m\u001b[90m DataType \u001b[0m\n",
       "─────┼──────────────────────────────────────────────────────────────────────\n",
       "   1 │ Manufacturer \u001b[90m         \u001b[0m Acura   \u001b[90m         \u001b[0m Volvo           0  String\n",
       "   2 │ Model        \u001b[90m         \u001b[0m 100     \u001b[90m         \u001b[0m Tercel          0  String\n",
       "   3 │ Price         20.5089  8.0      19.1     61.9            0  Float64\n",
       "   4 │ DriveTrain   \u001b[90m         \u001b[0m 4WD     \u001b[90m         \u001b[0m Rear            0  String\n",
       "   5 │ Cylinders    \u001b[90m         \u001b[0m 3       \u001b[90m         \u001b[0m rotary          0  String\n",
       "   6 │ EngineSize    2.24222  1.0      2.2      4.5             0  Float64\n",
       "   7 │ City          10.4738  5.11337  10.6916  13.8362         0  Float64\n",
       "   8 │ Highway       8.11545  4.7043   7.8405   11.2007         0  Float64"
      ]
     },
     "execution_count": 40,
     "metadata": {},
     "output_type": "execute_result"
    }
   ],
   "source": [
    "describe(cars)"
   ]
  },
  {
   "cell_type": "code",
   "execution_count": 41,
   "metadata": {},
   "outputs": [
    {
     "data": {
      "text/html": [
       "<table class=\"data-frame\"><thead><tr><th></th><th>Cylinders</th><th>City_mean</th></tr><tr><th></th><th>String</th><th>Float64</th></tr></thead><tbody><p>6 rows × 2 columns</p><tr><th>1</th><td>3</td><td>6.09075</td></tr><tr><th>2</th><td>4</td><td>9.62288</td></tr><tr><th>3</th><td>5</td><td>12.7985</td></tr><tr><th>4</th><td>6</td><td>12.7238</td></tr><tr><th>5</th><td>8</td><td>13.8362</td></tr><tr><th>6</th><td>rotary</td><td>13.8362</td></tr></tbody></table>"
      ],
      "text/latex": [
       "\\begin{tabular}{r|cc}\n",
       "\t& Cylinders & City\\_mean\\\\\n",
       "\t\\hline\n",
       "\t& String & Float64\\\\\n",
       "\t\\hline\n",
       "\t1 & 3 & 6.09075 \\\\\n",
       "\t2 & 4 & 9.62288 \\\\\n",
       "\t3 & 5 & 12.7985 \\\\\n",
       "\t4 & 6 & 12.7238 \\\\\n",
       "\t5 & 8 & 13.8362 \\\\\n",
       "\t6 & rotary & 13.8362 \\\\\n",
       "\\end{tabular}\n"
      ],
      "text/plain": [
       "\u001b[1m6×2 DataFrame\u001b[0m\n",
       "\u001b[1m Row \u001b[0m│\u001b[1m Cylinders \u001b[0m\u001b[1m City_mean \u001b[0m\n",
       "\u001b[1m     \u001b[0m│\u001b[90m String    \u001b[0m\u001b[90m Float64   \u001b[0m\n",
       "─────┼──────────────────────\n",
       "   1 │ 3            6.09075\n",
       "   2 │ 4            9.62288\n",
       "   3 │ 5           12.7985\n",
       "   4 │ 6           12.7238\n",
       "   5 │ 8           13.8362\n",
       "   6 │ rotary      13.8362"
      ]
     },
     "execution_count": 41,
     "metadata": {},
     "output_type": "execute_result"
    }
   ],
   "source": [
    "mean(x) = sum(x)/length(x)\n",
    "combine(carsByCylinders, :City => mean) |> x -> sort(x,:Cylinders)"
   ]
  },
  {
   "cell_type": "markdown",
   "metadata": {},
   "source": [
    "## TASK \n",
    "1) For the cars dataset;\n",
    " - select all cars which seat 5 or less passenegers \n",
    " - transform the MPG data to L/100km\n",
    " - return the following as a single dataframe \n",
    "     - the mean city and highway efficiency for USA and non-USA cars\n",
    "     - the number of USA and non-USA cars in the dataset\n",
    "     \n",
    "Hints: \n",
    " - use the `names` function to get the column names \n",
    " - use `transform` (julias version of `mutate()` to apply a function to a column and create a new column \n",
    " - use `groupby` to put the dataframe into USA and non-USA groups \n",
    " - use `combine` to summarise a grouped data frame"
   ]
  },
  {
   "cell_type": "markdown",
   "metadata": {},
   "source": [
    "---"
   ]
  },
  {
   "cell_type": "markdown",
   "metadata": {},
   "source": [
    "---"
   ]
  },
  {
   "cell_type": "markdown",
   "metadata": {},
   "source": [
    "---"
   ]
  },
  {
   "cell_type": "markdown",
   "metadata": {},
   "source": [
    "---"
   ]
  },
  {
   "cell_type": "markdown",
   "metadata": {},
   "source": [
    "---"
   ]
  },
  {
   "cell_type": "markdown",
   "metadata": {},
   "source": [
    "End"
   ]
  }
 ],
 "metadata": {
  "@webio": {
   "lastCommId": null,
   "lastKernelId": null
  },
  "kernelspec": {
   "display_name": "Julia 1.5.3",
   "language": "julia",
   "name": "julia-1.5"
  },
  "language_info": {
   "file_extension": ".jl",
   "mimetype": "application/julia",
   "name": "julia",
   "version": "1.5.3"
  }
 },
 "nbformat": 4,
 "nbformat_minor": 2
}
