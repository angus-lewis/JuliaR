{
 "cells": [
  {
   "cell_type": "markdown",
   "metadata": {},
   "source": [
    "# JuliaR\n",
    "\n",
    "### On DataFrames and R (dplyr)-like functionality in Julia\n",
    "\n",
    "<img src=\"meme.jpg\" alt=\"Drawing\" style=\"width: 500px;\"/>\n"
   ]
  },
  {
   "cell_type": "markdown",
   "metadata": {},
   "source": [
    "---"
   ]
  },
  {
   "cell_type": "markdown",
   "metadata": {},
   "source": [
    "---"
   ]
  },
  {
   "cell_type": "markdown",
   "metadata": {},
   "source": [
    "---"
   ]
  },
  {
   "cell_type": "markdown",
   "metadata": {},
   "source": [
    "---"
   ]
  },
  {
   "cell_type": "markdown",
   "metadata": {},
   "source": [
    "---"
   ]
  },
  {
   "cell_type": "markdown",
   "metadata": {},
   "source": [
    "## Package management \n",
    "\n",
    "### To download\n",
    "\n",
    "```Pkg.add``` $\\equiv$ ```install.packages```"
   ]
  },
  {
   "cell_type": "code",
   "execution_count": 1,
   "metadata": {},
   "outputs": [
    {
     "name": "stderr",
     "output_type": "stream",
     "text": [
      "\u001b[32m\u001b[1m   Updating\u001b[22m\u001b[39m registry at `~/.julia/registries/General`\n"
     ]
    },
    {
     "name": "stdout",
     "output_type": "stream",
     "text": [
      "\u001b[?25l    "
     ]
    },
    {
     "name": "stderr",
     "output_type": "stream",
     "text": [
      "\u001b[32m\u001b[1m   Updating\u001b[22m\u001b[39m git-repo `https://github.com/JuliaRegistries/General.git`\n"
     ]
    },
    {
     "name": "stdout",
     "output_type": "stream",
     "text": [
      "\u001b[36m\u001b[1mFetching:\u001b[22m\u001b[39m [>                                        ]  0.0 %\r",
      "    \u001b[36m\u001b[1mFetching:\u001b[22m\u001b[39m [=>                                       ]  0.1 %\r",
      "    \u001b[36m\u001b[1mFetching:\u001b[22m\u001b[39m [=>                                       ]  0.2 %\r",
      "    \u001b[36m\u001b[1mFetching:\u001b[22m\u001b[39m [=>                                       ]  0.3 %\r",
      "    \u001b[36m\u001b[1mFetching:\u001b[22m\u001b[39m [=>                                       ]  0.4 %\r",
      "    \u001b[36m\u001b[1mFetching:\u001b[22m\u001b[39m [=>                                       ]  0.5 %\r",
      "    \u001b[36m\u001b[1mFetching:\u001b[22m\u001b[39m [=>                                       ]  0.6 %\r",
      "    \u001b[36m\u001b[1mFetching:\u001b[22m\u001b[39m [=>                                       ]  0.7 %\r",
      "    \u001b[36m\u001b[1mFetching:\u001b[22m\u001b[39m [=>                                       ]  0.8 %\r",
      "    \u001b[36m\u001b[1mFetching:\u001b[22m\u001b[39m [=>                                       ]  1.0 %\r",
      "    \u001b[36m\u001b[1mFetching:\u001b[22m\u001b[39m [=>                                       ]  1.1 %\r",
      "    \u001b[36m\u001b[1mFetching:\u001b[22m\u001b[39m [=>                                       ]  1.2 %\r",
      "    \u001b[36m\u001b[1mFetching:\u001b[22m\u001b[39m [=>                                       ]  1.3 %\r",
      "    \u001b[36m\u001b[1mFetching:\u001b[22m\u001b[39m [=>                                       ]  1.4 %\r",
      "    \u001b[36m\u001b[1mFetching:\u001b[22m\u001b[39m [=>                                       ]  1.5 %\r",
      "    \u001b[36m\u001b[1mFetching:\u001b[22m\u001b[39m [=>                                       ]  1.6 %\r",
      "    \u001b[36m\u001b[1mFetching:\u001b[22m\u001b[39m [=>                                       ]  1.7 %\r",
      "    \u001b[36m\u001b[1mFetching:\u001b[22m\u001b[39m [=>                                       ]  1.8 %\r",
      "    \u001b[36m\u001b[1mFetching:\u001b[22m\u001b[39m [=>                                       ]  1.9 %\r",
      "    \u001b[36m\u001b[1mFetching:\u001b[22m\u001b[39m [=>                                       ]  2.0 %\r",
      "    \u001b[36m\u001b[1mFetching:\u001b[22m\u001b[39m [=>                                       ]  2.1 %\r",
      "    \u001b[36m\u001b[1mFetching:\u001b[22m\u001b[39m [=>                                       ]  2.2 %\r",
      "    \u001b[36m\u001b[1mFetching:\u001b[22m\u001b[39m [=>                                       ]  2.3 %\r",
      "    \u001b[36m\u001b[1mFetching:\u001b[22m\u001b[39m [=>                                       ]  2.4 %\r",
      "    \u001b[36m\u001b[1mFetching:\u001b[22m\u001b[39m [==>                                      ]  2.5 %\r",
      "    \u001b[36m\u001b[1mFetching:\u001b[22m\u001b[39m [==>                                      ]  2.6 %\r",
      "    \u001b[36m\u001b[1mFetching:\u001b[22m\u001b[39m [==>                                      ]  2.8 %\r",
      "    \u001b[36m\u001b[1mFetching:\u001b[22m\u001b[39m [==>                                      ]  2.9 %\r",
      "    \u001b[36m\u001b[1mFetching:\u001b[22m\u001b[39m [==>                                      ]  3.0 %\r",
      "    \u001b[36m\u001b[1mFetching:\u001b[22m\u001b[39m [==>                                      ]  3.1 %\r",
      "    \u001b[36m\u001b[1mFetching:\u001b[22m\u001b[39m [==>                                      ]  3.2 %\r",
      "    \u001b[36m\u001b[1mFetching:\u001b[22m\u001b[39m [==>                                      ]  3.3 %\r",
      "    \u001b[36m\u001b[1mFetching:\u001b[22m\u001b[39m [==>                                      ]  3.4 %\r",
      "    \u001b[36m\u001b[1mFetching:\u001b[22m\u001b[39m [==>                                      ]  3.5 %\r",
      "    \u001b[36m\u001b[1mFetching:\u001b[22m\u001b[39m [==>                                      ]  3.6 %\r",
      "    \u001b[36m\u001b[1mFetching:\u001b[22m\u001b[39m [==>                                      ]  3.7 %\r",
      "    \u001b[36m\u001b[1mFetching:\u001b[22m\u001b[39m [==>                                      ]  3.8 %\r",
      "    \u001b[36m\u001b[1mFetching:\u001b[22m\u001b[39m [==>                                      ]  3.9 %\r",
      "    \u001b[36m\u001b[1mFetching:\u001b[22m\u001b[39m [==>                                      ]  4.0 %\r",
      "    \u001b[36m\u001b[1mFetching:\u001b[22m\u001b[39m [==>                                      ]  4.1 %\r",
      "    \u001b[36m\u001b[1mFetching:\u001b[22m\u001b[39m [==>                                      ]  4.2 %\r",
      "    \u001b[36m\u001b[1mFetching:\u001b[22m\u001b[39m [==>                                      ]  4.3 %\r",
      "    \u001b[36m\u001b[1mFetching:\u001b[22m\u001b[39m [==>                                      ]  4.4 %\r",
      "    \u001b[36m\u001b[1mFetching:\u001b[22m\u001b[39m [==>                                      ]  4.6 %\r",
      "    \u001b[36m\u001b[1mFetching:\u001b[22m\u001b[39m [==>                                      ]  4.7 %\r",
      "    \u001b[36m\u001b[1mFetching:\u001b[22m\u001b[39m [==>                                      ]  4.8 %\r",
      "    \u001b[36m\u001b[1mFetching:\u001b[22m\u001b[39m [==>                                      ]  4.9 %\r",
      "    \u001b[36m\u001b[1mFetching:\u001b[22m\u001b[39m [==>                                      ]  5.0 %\r",
      "    \u001b[36m\u001b[1mFetching:\u001b[22m\u001b[39m [===>                                     ]  5.1 %\r",
      "    \u001b[36m\u001b[1mFetching:\u001b[22m\u001b[39m [===>                                     ]  5.2 %\r",
      "    \u001b[36m\u001b[1mFetching:\u001b[22m\u001b[39m [===>                                     ]  5.3 %\r",
      "    \u001b[36m\u001b[1mFetching:\u001b[22m\u001b[39m [===>                                     ]  5.4 %\r",
      "    \u001b[36m\u001b[1mFetching:\u001b[22m\u001b[39m [===>                                     ]  5.5 %\r",
      "    \u001b[36m\u001b[1mFetching:\u001b[22m\u001b[39m [===>                                     ]  5.6 %\r",
      "    \u001b[36m\u001b[1mFetching:\u001b[22m\u001b[39m [===>                                     ]  5.7 %\r",
      "    \u001b[36m\u001b[1mFetching:\u001b[22m\u001b[39m [===>                                     ]  5.8 %\r",
      "    \u001b[36m\u001b[1mFetching:\u001b[22m\u001b[39m [===>                                     ]  5.9 %\r",
      "    \u001b[36m\u001b[1mFetching:\u001b[22m\u001b[39m [===>                                     ]  6.0 %\r",
      "    \u001b[36m\u001b[1mFetching:\u001b[22m\u001b[39m [===>                                     ]  6.1 %\r",
      "    \u001b[36m\u001b[1mFetching:\u001b[22m\u001b[39m [===>                                     ]  6.3 %\r",
      "    \u001b[36m\u001b[1mFetching:\u001b[22m\u001b[39m [===>                                     ]  6.4 %\r",
      "    \u001b[36m\u001b[1mFetching:\u001b[22m\u001b[39m [===>                                     ]  6.5 %\r",
      "    \u001b[36m\u001b[1mFetching:\u001b[22m\u001b[39m [===>                                     ]  6.6 %\r",
      "    \u001b[36m\u001b[1mFetching:\u001b[22m\u001b[39m [===>                                     ]  6.7 %\r",
      "    \u001b[36m\u001b[1mFetching:\u001b[22m\u001b[39m [===>                                     ]  6.8 %\r",
      "    \u001b[36m\u001b[1mFetching:\u001b[22m\u001b[39m [===>                                     ]  6.9 %\r",
      "    \u001b[36m\u001b[1mFetching:\u001b[22m\u001b[39m [===>                                     ]  7.0 %\r",
      "    \u001b[36m\u001b[1mFetching:\u001b[22m\u001b[39m [===>                                     ]  7.1 %\r",
      "    \u001b[36m\u001b[1mFetching:\u001b[22m\u001b[39m [===>                                     ]  7.2 %\r",
      "    \u001b[36m\u001b[1mFetching:\u001b[22m\u001b[39m [===>                                     ]  7.3 %\r",
      "    \u001b[36m\u001b[1mFetching:\u001b[22m\u001b[39m [===>                                     ]  7.4 %\r",
      "    \u001b[36m\u001b[1mFetching:\u001b[22m\u001b[39m [====>                                    ]  7.5 %\r",
      "    \u001b[36m\u001b[1mFetching:\u001b[22m\u001b[39m [====>                                    ]  7.6 %\r",
      "    \u001b[36m\u001b[1mFetching:\u001b[22m\u001b[39m [====>                                    ]  7.7 %\r",
      "    \u001b[36m\u001b[1mFetching:\u001b[22m\u001b[39m [====>                                    ]  7.8 %\r",
      "    \u001b[36m\u001b[1mFetching:\u001b[22m\u001b[39m [====>                                    ]  7.9 %\r",
      "    \u001b[36m\u001b[1mFetching:\u001b[22m\u001b[39m [====>                                    ]  8.1 %\r",
      "    \u001b[36m\u001b[1mFetching:\u001b[22m\u001b[39m [====>                                    ]  8.2 %\r",
      "    \u001b[36m\u001b[1mFetching:\u001b[22m\u001b[39m [====>                                    ]  8.3 %\r",
      "    \u001b[36m\u001b[1mFetching:\u001b[22m\u001b[39m [====>                                    ]  8.4 %\r",
      "    \u001b[36m\u001b[1mFetching:\u001b[22m\u001b[39m [====>                                    ]  8.5 %\r",
      "    \u001b[36m\u001b[1mFetching:\u001b[22m\u001b[39m [====>                                    ]  8.6 %\r",
      "    \u001b[36m\u001b[1mFetching:\u001b[22m\u001b[39m [====>                                    ]  8.7 %\r",
      "    \u001b[36m\u001b[1mFetching:\u001b[22m\u001b[39m [====>                                    ]  8.8 %\r",
      "    \u001b[36m\u001b[1mFetching:\u001b[22m\u001b[39m [====>                                    ]  8.9 %\r",
      "    \u001b[36m\u001b[1mFetching:\u001b[22m\u001b[39m [====>                                    ]  9.0 %\r",
      "    \u001b[36m\u001b[1mFetching:\u001b[22m\u001b[39m [====>                                    ]  9.1 %\r",
      "    \u001b[36m\u001b[1mFetching:\u001b[22m\u001b[39m [====>                                    ]  9.2 %\r",
      "    \u001b[36m\u001b[1mFetching:\u001b[22m\u001b[39m [====>                                    ]  9.3 %\r",
      "    \u001b[36m\u001b[1mFetching:\u001b[22m\u001b[39m [====>                                    ]  9.4 %\r",
      "    \u001b[36m\u001b[1mFetching:\u001b[22m\u001b[39m [====>                                    ]  9.5 %\r",
      "    \u001b[36m\u001b[1mFetching:\u001b[22m\u001b[39m [====>                                    ]  9.6 %\r",
      "    \u001b[36m\u001b[1mFetching:\u001b[22m\u001b[39m [====>                                    ]  9.7 %\r",
      "    \u001b[36m\u001b[1mFetching:\u001b[22m\u001b[39m [====>                                    ]  9.9 %\r",
      "    \u001b[36m\u001b[1mFetching:\u001b[22m\u001b[39m [====>                                    ]  10.0 %\r",
      "    \u001b[36m\u001b[1mFetching:\u001b[22m\u001b[39m [=====>                                   ]  10.1 %\r",
      "    \u001b[36m\u001b[1mFetching:\u001b[22m\u001b[39m [=====>                                   ]  10.2 %\r",
      "    \u001b[36m\u001b[1mFetching:\u001b[22m\u001b[39m [=====>                                   ]  10.3 %\r",
      "    \u001b[36m\u001b[1mFetching:\u001b[22m\u001b[39m [=====>                                   ]  10.4 %\r",
      "    \u001b[36m\u001b[1mFetching:\u001b[22m\u001b[39m [=====>                                   ]  10.5 %\r",
      "    \u001b[36m\u001b[1mFetching:\u001b[22m\u001b[39m [=====>                                   ]  10.6 %\r",
      "    \u001b[36m\u001b[1mFetching:\u001b[22m\u001b[39m [=====>                                   ]  10.7 %\r",
      "    \u001b[36m\u001b[1mFetching:\u001b[22m\u001b[39m [=====>                                   ]  10.8 %\r",
      "    \u001b[36m\u001b[1mFetching:\u001b[22m\u001b[39m [=====>                                   ]  10.9 %\r",
      "    \u001b[36m\u001b[1mFetching:\u001b[22m\u001b[39m [=====>                                   ]  11.0 %\r",
      "    \u001b[36m\u001b[1mFetching:\u001b[22m\u001b[39m [=====>                                   ]  11.1 %\r",
      "    \u001b[36m\u001b[1mFetching:\u001b[22m\u001b[39m [=====>                                   ]  11.2 %\r",
      "    \u001b[36m\u001b[1mFetching:\u001b[22m\u001b[39m [=====>                                   ]  11.3 %\r",
      "    \u001b[36m\u001b[1mFetching:\u001b[22m\u001b[39m [=====>                                   ]  11.4 %\r",
      "    \u001b[36m\u001b[1mFetching:\u001b[22m\u001b[39m [=====>                                   ]  11.5 %\r",
      "    \u001b[36m\u001b[1mFetching:\u001b[22m\u001b[39m [=====>                                   ]  11.7 %\r",
      "    \u001b[36m\u001b[1mFetching:\u001b[22m\u001b[39m [=====>                                   ]  11.8 %\r",
      "    \u001b[36m\u001b[1mFetching:\u001b[22m\u001b[39m [=====>                                   ]  11.9 %\r",
      "    \u001b[36m\u001b[1mFetching:\u001b[22m\u001b[39m [=====>                                   ]  12.0 %\r",
      "    \u001b[36m\u001b[1mFetching:\u001b[22m\u001b[39m [=====>                                   ]  12.1 %\r",
      "    \u001b[36m\u001b[1mFetching:\u001b[22m\u001b[39m [=====>                                   ]  12.2 %\r",
      "    \u001b[36m\u001b[1mFetching:\u001b[22m\u001b[39m [=====>                                   ]  12.3 %\r",
      "    \u001b[36m\u001b[1mFetching:\u001b[22m\u001b[39m [=====>                                   ]  12.4 %\r",
      "    \u001b[36m\u001b[1mFetching:\u001b[22m\u001b[39m [=====>                                   ]  12.5 %\r",
      "    \u001b[36m\u001b[1mFetching:\u001b[22m\u001b[39m [======>                                  ]  12.6 %\r",
      "    \u001b[36m\u001b[1mFetching:\u001b[22m\u001b[39m [======>                                  ]  12.7 %\r",
      "    \u001b[36m\u001b[1mFetching:\u001b[22m\u001b[39m [======>                                  ]  "
     ]
    },
    {
     "name": "stdout",
     "output_type": "stream",
     "text": [
      "12.8 %\r",
      "    \u001b[36m\u001b[1mFetching:\u001b[22m\u001b[39m [======>                                  ]  12.9 %\r",
      "    \u001b[36m\u001b[1mFetching:\u001b[22m\u001b[39m [======>                                  ]  13.0 %\r",
      "    \u001b[36m\u001b[1mFetching:\u001b[22m\u001b[39m [======>                                  ]  13.1 %\r",
      "    \u001b[36m\u001b[1mFetching:\u001b[22m\u001b[39m [======>                                  ]  13.2 %\r",
      "    \u001b[36m\u001b[1mFetching:\u001b[22m\u001b[39m [======>                                  ]  13.3 %\r",
      "    \u001b[36m\u001b[1mFetching:\u001b[22m\u001b[39m [======>                                  ]  13.5 %\r",
      "    \u001b[36m\u001b[1mFetching:\u001b[22m\u001b[39m [======>                                  ]  13.6 %\r",
      "    \u001b[36m\u001b[1mFetching:\u001b[22m\u001b[39m [======>                                  ]  13.7 %\r",
      "    \u001b[36m\u001b[1mFetching:\u001b[22m\u001b[39m [======>                                  ]  13.8 %\r",
      "    \u001b[36m\u001b[1mFetching:\u001b[22m\u001b[39m [======>                                  ]  13.9 %\r",
      "    \u001b[36m\u001b[1mFetching:\u001b[22m\u001b[39m [======>                                  ]  14.0 %\r",
      "    \u001b[36m\u001b[1mFetching:\u001b[22m\u001b[39m [======>                                  ]  14.1 %\r",
      "    \u001b[36m\u001b[1mFetching:\u001b[22m\u001b[39m [======>                                  ]  14.2 %\r",
      "    \u001b[36m\u001b[1mFetching:\u001b[22m\u001b[39m [======>                                  ]  14.3 %\r",
      "    \u001b[36m\u001b[1mFetching:\u001b[22m\u001b[39m [======>                                  ]  14.4 %\r",
      "    \u001b[36m\u001b[1mFetching:\u001b[22m\u001b[39m [======>                                  ]  14.5 %\r",
      "    \u001b[36m\u001b[1mFetching:\u001b[22m\u001b[39m [======>                                  ]  14.6 %\r",
      "    \u001b[36m\u001b[1mFetching:\u001b[22m\u001b[39m [======>                                  ]  14.7 %\r",
      "    \u001b[36m\u001b[1mFetching:\u001b[22m\u001b[39m [======>                                  ]  14.8 %\r",
      "    \u001b[36m\u001b[1mFetching:\u001b[22m\u001b[39m [======>                                  ]  14.9 %\r",
      "    \u001b[36m\u001b[1mFetching:\u001b[22m\u001b[39m [=======>                                 ]  15.0 %\r",
      "    \u001b[36m\u001b[1mFetching:\u001b[22m\u001b[39m [=======>                                 ]  15.1 %\r",
      "    \u001b[36m\u001b[1mFetching:\u001b[22m\u001b[39m [=======>                                 ]  15.3 %\r",
      "    \u001b[36m\u001b[1mFetching:\u001b[22m\u001b[39m [=======>                                 ]  15.4 %\r",
      "    \u001b[36m\u001b[1mFetching:\u001b[22m\u001b[39m [=======>                                 ]  15.5 %\r",
      "    \u001b[36m\u001b[1mFetching:\u001b[22m\u001b[39m [=======>                                 ]  15.6 %\r",
      "    \u001b[36m\u001b[1mFetching:\u001b[22m\u001b[39m [=======>                                 ]  15.7 %\r",
      "    \u001b[36m\u001b[1mFetching:\u001b[22m\u001b[39m [=======>                                 ]  15.8 %\r",
      "    \u001b[36m\u001b[1mFetching:\u001b[22m\u001b[39m [=======>                                 ]  15.9 %\r",
      "    \u001b[36m\u001b[1mFetching:\u001b[22m\u001b[39m [=======>                                 ]  16.0 %\r",
      "    \u001b[36m\u001b[1mFetching:\u001b[22m\u001b[39m [=======>                                 ]  16.1 %\r",
      "    \u001b[36m\u001b[1mFetching:\u001b[22m\u001b[39m [=======>                                 ]  16.2 %\r",
      "    \u001b[36m\u001b[1mFetching:\u001b[22m\u001b[39m [=======>                                 ]  16.3 %\r",
      "    \u001b[36m\u001b[1mFetching:\u001b[22m\u001b[39m [=======>                                 ]  16.4 %\r",
      "    \u001b[36m\u001b[1mFetching:\u001b[22m\u001b[39m [=======>                                 ]  16.5 %\r",
      "    \u001b[36m\u001b[1mFetching:\u001b[22m\u001b[39m [=======>                                 ]  16.6 %\r",
      "    \u001b[36m\u001b[1mFetching:\u001b[22m\u001b[39m [=======>                                 ]  16.7 %\r",
      "    \u001b[36m\u001b[1mFetching:\u001b[22m\u001b[39m [=======>                                 ]  16.8 %\r",
      "    \u001b[36m\u001b[1mFetching:\u001b[22m\u001b[39m [=======>                                 ]  16.9 %\r",
      "    \u001b[36m\u001b[1mFetching:\u001b[22m\u001b[39m [=======>                                 ]  17.1 %\r",
      "    \u001b[36m\u001b[1mFetching:\u001b[22m\u001b[39m [=======>                                 ]  17.2 %\r",
      "    \u001b[36m\u001b[1mFetching:\u001b[22m\u001b[39m [=======>                                 ]  17.3 %\r",
      "    \u001b[36m\u001b[1mFetching:\u001b[22m\u001b[39m [=======>                                 ]  17.4 %\r",
      "    \u001b[36m\u001b[1mFetching:\u001b[22m\u001b[39m [=======>                                 ]  17.5 %\r",
      "    \u001b[36m\u001b[1mFetching:\u001b[22m\u001b[39m [========>                                ]  17.6 %\r",
      "    \u001b[36m\u001b[1mFetching:\u001b[22m\u001b[39m [========>                                ]  17.7 %\r",
      "    \u001b[36m\u001b[1mFetching:\u001b[22m\u001b[39m [========>                                ]  17.8 %\r",
      "    \u001b[36m\u001b[1mFetching:\u001b[22m\u001b[39m [========>                                ]  17.9 %\r",
      "    \u001b[36m\u001b[1mFetching:\u001b[22m\u001b[39m [========>                                ]  18.0 %\r",
      "    \u001b[36m\u001b[1mFetching:\u001b[22m\u001b[39m [========>                                ]  18.1 %\r",
      "    \u001b[36m\u001b[1mFetching:\u001b[22m\u001b[39m [========>                                ]  18.2 %\r",
      "    \u001b[36m\u001b[1mFetching:\u001b[22m\u001b[39m [========>                                ]  18.3 %\r",
      "    \u001b[36m\u001b[1mFetching:\u001b[22m\u001b[39m [========>                                ]  18.4 %\r",
      "    \u001b[36m\u001b[1mFetching:\u001b[22m\u001b[39m [========>                                ]  18.5 %\r",
      "    \u001b[36m\u001b[1mFetching:\u001b[22m\u001b[39m [========>                                ]  18.6 %\r",
      "    \u001b[36m\u001b[1mFetching:\u001b[22m\u001b[39m [========>                                ]  18.8 %\r",
      "    \u001b[36m\u001b[1mFetching:\u001b[22m\u001b[39m [========>                                ]  18.9 %\r",
      "    \u001b[36m\u001b[1mFetching:\u001b[22m\u001b[39m [========>                                ]  19.0 %\r",
      "    \u001b[36m\u001b[1mFetching:\u001b[22m\u001b[39m [========>                                ]  19.1 %\r",
      "    \u001b[36m\u001b[1mFetching:\u001b[22m\u001b[39m [========>                                ]  19.2 %\r",
      "    \u001b[36m\u001b[1mFetching:\u001b[22m\u001b[39m [========>                                ]  19.3 %\r",
      "    \u001b[36m\u001b[1mFetching:\u001b[22m\u001b[39m [========>                                ]  19.4 %\r",
      "    \u001b[36m\u001b[1mFetching:\u001b[22m\u001b[39m [========>                                ]  19.5 %\r",
      "    \u001b[36m\u001b[1mFetching:\u001b[22m\u001b[39m [========>                                ]  19.6 %\r",
      "    \u001b[36m\u001b[1mFetching:\u001b[22m\u001b[39m [========>                                ]  19.7 %\r",
      "    \u001b[36m\u001b[1mFetching:\u001b[22m\u001b[39m [========>                                ]  19.8 %\r",
      "    \u001b[36m\u001b[1mFetching:\u001b[22m\u001b[39m [========>                                ]  19.9 %\r",
      "    \u001b[36m\u001b[1mFetching:\u001b[22m\u001b[39m [=========>                               ]  20.0 %\r",
      "    \u001b[36m\u001b[1mFetching:\u001b[22m\u001b[39m [=========>                               ]  20.1 %\r",
      "    \u001b[36m\u001b[1mFetching:\u001b[22m\u001b[39m [=========>                               ]  20.2 %\r",
      "    \u001b[36m\u001b[1mFetching:\u001b[22m\u001b[39m [=========>                               ]  20.3 %\r",
      "    \u001b[36m\u001b[1mFetching:\u001b[22m\u001b[39m [=========>                               ]  20.4 %\r",
      "    \u001b[36m\u001b[1mFetching:\u001b[22m\u001b[39m [=========>                               ]  20.6 %\r",
      "    \u001b[36m\u001b[1mFetching:\u001b[22m\u001b[39m [=========>                               ]  20.7 %\r",
      "    \u001b[36m\u001b[1mFetching:\u001b[22m\u001b[39m [=========>                               ]  20.8 %\r",
      "    \u001b[36m\u001b[1mFetching:\u001b[22m\u001b[39m [=========>                               ]  20.9 %\r",
      "    \u001b[36m\u001b[1mFetching:\u001b[22m\u001b[39m [=========>                               ]  21.0 %\r",
      "    \u001b[36m\u001b[1mFetching:\u001b[22m\u001b[39m [=========>                               ]  21.1 %\r",
      "    \u001b[36m\u001b[1mFetching:\u001b[22m\u001b[39m [=========>                               ]  21.2 %\r",
      "    \u001b[36m\u001b[1mFetching:\u001b[22m\u001b[39m [=========>                               ]  21.3 %\r",
      "    \u001b[36m\u001b[1mFetching:\u001b[22m\u001b[39m [=========>                               ]  21.4 %\r",
      "    \u001b[36m\u001b[1mFetching:\u001b[22m\u001b[39m [=========>                               ]  21.5 %\r",
      "    \u001b[36m\u001b[1mFetching:\u001b[22m\u001b[39m [=========>                               ]  21.6 %\r",
      "    \u001b[36m\u001b[1mFetching:\u001b[22m\u001b[39m [=========>                               ]  21.7 %\r",
      "    \u001b[36m\u001b[1mFetching:\u001b[22m\u001b[39m [=========>                               ]  21.8 %\r",
      "    \u001b[36m\u001b[1mFetching:\u001b[22m\u001b[39m [=========>                               ]  21.9 %\r",
      "    \u001b[36m\u001b[1mFetching:\u001b[22m\u001b[39m [=========>                               ]  22.0 %\r",
      "    \u001b[36m\u001b[1mFetching:\u001b[22m\u001b[39m [=========>                               ]  22.1 %\r",
      "    \u001b[36m\u001b[1mFetching:\u001b[22m\u001b[39m [=========>                               ]  22.2 %\r",
      "    \u001b[36m\u001b[1mFetching:\u001b[22m\u001b[39m [=========>                               ]  22.4 %\r",
      "    \u001b[36m\u001b[1mFetching:\u001b[22m\u001b[39m [=========>                               ]  22.5 %\r",
      "    \u001b[36m\u001b[1mFetching:\u001b[22m\u001b[39m [==========>                              ]  22.6 %\r",
      "    \u001b[36m\u001b[1mFetching:\u001b[22m\u001b[39m [==========>                              ]  22.7 %\r",
      "    \u001b[36m\u001b[1mFetching:\u001b[22m\u001b[39m [==========>                              ]  22.8 %\r",
      "    \u001b[36m\u001b[1mFetching:\u001b[22m\u001b[39m [==========>                              ]  22.9 %\r",
      "    \u001b[36m\u001b[1mFetching:\u001b[22m\u001b[39m [==========>                              ]  23.0 %\r",
      "    \u001b[36m\u001b[1mFetching:\u001b[22m\u001b[39m [==========>                              ]  23.1 %\r",
      "    \u001b[36m\u001b[1mFetching:\u001b[22m\u001b[39m [==========>                              ]  23.2 %\r",
      "    \u001b[36m\u001b[1mFetching:\u001b[22m\u001b[39m [==========>                              ]  23.3 %\r",
      "    \u001b[36m\u001b[1mFetching:\u001b[22m\u001b[39m [==========>                              ]  23.4 %\r",
      "    \u001b[36m\u001b[1mFetching:\u001b[22m\u001b[39m [==========>                              ]  23.5 %\r",
      "    \u001b[36m\u001b[1mFetching:\u001b[22m\u001b[39m [==========>                              ]  23.6 %\r",
      "    \u001b[36m\u001b[1mFetching:\u001b[22m\u001b[39m [==========>                              ]  23.7 %\r",
      "    \u001b[36m\u001b[1mFetching:\u001b[22m\u001b[39m [==========>                              ]  23.8 %\r",
      "    \u001b[36m\u001b[1mFetching:\u001b[22m\u001b[39m [==========>                              ]  23.9 %\r",
      "    \u001b[36m\u001b[1mFetching:\u001b[22m\u001b[39m [==========>                              ]  24.0 %\r",
      "    \u001b[36m\u001b[1mFetching:\u001b[22m\u001b[39m [==========>                              ]  24.2 %\r",
      "    \u001b[36m\u001b[1mFetching:\u001b[22m\u001b[39m [==========>                              ]  24.3 %\r",
      "    \u001b[36m\u001b[1mFetching:\u001b[22m\u001b[39m [==========>                              ]  24.4 %\r",
      "    \u001b[36m\u001b[1mFetching:\u001b[22m\u001b[39m [==========>                              ]  24.5 %\r",
      "    \u001b[36m\u001b[1mFetching:\u001b[22m\u001b[39m [==========>                              ]  24.6 %\r",
      "    \u001b[36m\u001b[1mFetching:\u001b[22m\u001b[39m [==========>                              ]  24.7 %\r",
      "    \u001b[36m\u001b[1mFetching:\u001b[22m\u001b[39m [==========>                              ]  24.8 %\r",
      "    \u001b[36m\u001b[1mFetching:\u001b[22m\u001b[39m [==========>                              ]  24.9 %\r",
      "    \u001b[36m\u001b[1mFetching:\u001b[22m\u001b[39m [==========>                              ]  25.0 %\r",
      "    \u001b[36m\u001b[1mFetching:\u001b[22m\u001b[39m [===========>                             ]  25.1 %\r",
      "    \u001b[36m\u001b[1mFetching:\u001b[22m\u001b[39m [===========>                             ]  25.2 %\r",
      "    \u001b[36m\u001b[1mFetching:\u001b[22m\u001b[39m [===========>                             ]  25.3 %\r",
      "    \u001b[36m\u001b[1mFetching:\u001b[22m\u001b[39m [===========>                             ]  25.4 %\r",
      "    \u001b[36m\u001b[1mFetching:\u001b[22m\u001b[39m [===========>                             ]  25.5 %\r",
      "    \u001b[36m\u001b[1mFetching:\u001b[22m\u001b[39m [==========="
     ]
    },
    {
     "name": "stdout",
     "output_type": "stream",
     "text": [
      "\u001b[2K\u001b[?25h[1mFetching:\u001b[22m\u001b[39m [========================================>]  100.0 %                    ]  48.2 % [=========================>               ]  61.0 %\u001b[36m\u001b[1mFetching:\u001b[22m\u001b[39m [=============================>           ]  72.1 %>      ]  84.9 %>]  99.4 %"
     ]
    },
    {
     "name": "stderr",
     "output_type": "stream",
     "text": [
      "\u001b[32m\u001b[1m  Resolving\u001b[22m\u001b[39m package versions...\n",
      "\u001b[32m\u001b[1m   Updating\u001b[22m\u001b[39m `~/.julia/environments/v1.4/Project.toml`\n",
      "\u001b[90m [no changes]\u001b[39m\n",
      "\u001b[32m\u001b[1m   Updating\u001b[22m\u001b[39m `~/.julia/environments/v1.4/Manifest.toml`\n",
      "\u001b[90m [no changes]\u001b[39m\n"
     ]
    }
   ],
   "source": [
    "import Pkg # load Pkg package into namespace\n",
    "Pkg.add(\"DataFrames\") # download package from github"
   ]
  },
  {
   "cell_type": "markdown",
   "metadata": {},
   "source": [
    "### To load "
   ]
  },
  {
   "cell_type": "markdown",
   "metadata": {},
   "source": [
    "Either"
   ]
  },
  {
   "cell_type": "code",
   "execution_count": 2,
   "metadata": {},
   "outputs": [
    {
     "name": "stderr",
     "output_type": "stream",
     "text": [
      "┌ Info: Precompiling DataFrames [a93c6f00-e57d-5684-b7b6-d8193f3e46c0]\n",
      "└ @ Base loading.jl:1260\n"
     ]
    }
   ],
   "source": [
    "import DataFrames "
   ]
  },
  {
   "cell_type": "markdown",
   "metadata": {},
   "source": [
    "Adds functions/variables/structs from ```DataFrames``` to namesapces with ```DataFrames.``` prefix.\n",
    "\n",
    "i.e. "
   ]
  },
  {
   "cell_type": "code",
   "execution_count": 3,
   "metadata": {},
   "outputs": [
    {
     "data": {
      "text/plain": [
       "nrow (generic function with 2 methods)"
      ]
     },
     "execution_count": 3,
     "metadata": {},
     "output_type": "execute_result"
    }
   ],
   "source": [
    "DataFrames.nrow"
   ]
  },
  {
   "cell_type": "markdown",
   "metadata": {},
   "source": [
    "calls the ```nrow()``` function from ```DataFrames```;\n",
    "\n",
    "sans prefix, ```nrow()``` throws an error."
   ]
  },
  {
   "cell_type": "code",
   "execution_count": 4,
   "metadata": {},
   "outputs": [
    {
     "ename": "UndefVarError",
     "evalue": "UndefVarError: nrow not defined",
     "output_type": "error",
     "traceback": [
      "UndefVarError: nrow not defined",
      "",
      "Stacktrace:",
      " [1] top-level scope at In[4]:1"
     ]
    }
   ],
   "source": [
    "nrow"
   ]
  },
  {
   "cell_type": "markdown",
   "metadata": {},
   "source": [
    "or"
   ]
  },
  {
   "cell_type": "code",
   "execution_count": 5,
   "metadata": {},
   "outputs": [],
   "source": [
    "using DataFrames"
   ]
  },
  {
   "cell_type": "markdown",
   "metadata": {},
   "source": [
    "Adds exported functions/variables/structs from ```DataFrames``` to namespace.\n",
    "\n",
    "i.e. ```nrow()``` calls the ```nrow()``` function from ```DataFrames```."
   ]
  },
  {
   "cell_type": "code",
   "execution_count": 6,
   "metadata": {},
   "outputs": [
    {
     "data": {
      "text/plain": [
       "nrow (generic function with 2 methods)"
      ]
     },
     "execution_count": 6,
     "metadata": {},
     "output_type": "execute_result"
    }
   ],
   "source": [
    "nrow"
   ]
  },
  {
   "cell_type": "markdown",
   "metadata": {},
   "source": [
    "---"
   ]
  },
  {
   "cell_type": "markdown",
   "metadata": {},
   "source": [
    "---"
   ]
  },
  {
   "cell_type": "markdown",
   "metadata": {},
   "source": [
    "---"
   ]
  },
  {
   "cell_type": "markdown",
   "metadata": {},
   "source": [
    "---"
   ]
  },
  {
   "cell_type": "markdown",
   "metadata": {},
   "source": [
    "---"
   ]
  },
  {
   "cell_type": "markdown",
   "metadata": {},
   "source": [
    "## Getting help\n",
    "\n",
    "1) type ```?``` then the thing you want help with in the REPL"
   ]
  },
  {
   "cell_type": "code",
   "execution_count": 7,
   "metadata": {},
   "outputs": [
    {
     "name": "stdout",
     "output_type": "stream",
     "text": [
      "search: \u001b[0m\u001b[1m+\u001b[22m\n",
      "\n"
     ]
    },
    {
     "data": {
      "text/latex": [
       "\\begin{verbatim}\n",
       "+(x, y...)\n",
       "\\end{verbatim}\n",
       "Addition operator. \\texttt{x+y+z+...} calls this function with all arguments, i.e. \\texttt{+(x, y, z, ...)}.\n",
       "\n",
       "\\section{Examples}\n",
       "\\begin{verbatim}\n",
       "julia> 1 + 20 + 4\n",
       "25\n",
       "\n",
       "julia> +(1, 20, 4)\n",
       "25\n",
       "\\end{verbatim}\n",
       "\\rule{\\textwidth}{1pt}\n",
       "\\begin{verbatim}\n",
       "dt::Date + t::Time -> DateTime\n",
       "\\end{verbatim}\n",
       "The addition of a \\texttt{Date} with a \\texttt{Time} produces a \\texttt{DateTime}. The hour, minute, second, and millisecond parts of the \\texttt{Time} are used along with the year, month, and day of the \\texttt{Date} to create the new \\texttt{DateTime}. Non-zero microseconds or nanoseconds in the \\texttt{Time} type will result in an \\texttt{InexactError} being thrown.\n",
       "\n"
      ],
      "text/markdown": [
       "```\n",
       "+(x, y...)\n",
       "```\n",
       "\n",
       "Addition operator. `x+y+z+...` calls this function with all arguments, i.e. `+(x, y, z, ...)`.\n",
       "\n",
       "# Examples\n",
       "\n",
       "```jldoctest\n",
       "julia> 1 + 20 + 4\n",
       "25\n",
       "\n",
       "julia> +(1, 20, 4)\n",
       "25\n",
       "```\n",
       "\n",
       "---\n",
       "\n",
       "```\n",
       "dt::Date + t::Time -> DateTime\n",
       "```\n",
       "\n",
       "The addition of a `Date` with a `Time` produces a `DateTime`. The hour, minute, second, and millisecond parts of the `Time` are used along with the year, month, and day of the `Date` to create the new `DateTime`. Non-zero microseconds or nanoseconds in the `Time` type will result in an `InexactError` being thrown.\n"
      ],
      "text/plain": [
       "\u001b[36m  +(x, y...)\u001b[39m\n",
       "\n",
       "  Addition operator. \u001b[36mx+y+z+...\u001b[39m calls this function with all arguments, i.e.\n",
       "  \u001b[36m+(x, y, z, ...)\u001b[39m.\n",
       "\n",
       "\u001b[1m  Examples\u001b[22m\n",
       "\u001b[1m  ≡≡≡≡≡≡≡≡≡≡\u001b[22m\n",
       "\n",
       "\u001b[36m  julia> 1 + 20 + 4\u001b[39m\n",
       "\u001b[36m  25\u001b[39m\n",
       "\u001b[36m  \u001b[39m\n",
       "\u001b[36m  julia> +(1, 20, 4)\u001b[39m\n",
       "\u001b[36m  25\u001b[39m\n",
       "\n",
       "  ────────────────────────────────────────────────────────────────────────────\n",
       "\n",
       "\u001b[36m  dt::Date + t::Time -> DateTime\u001b[39m\n",
       "\n",
       "  The addition of a \u001b[36mDate\u001b[39m with a \u001b[36mTime\u001b[39m produces a \u001b[36mDateTime\u001b[39m. The hour, minute,\n",
       "  second, and millisecond parts of the \u001b[36mTime\u001b[39m are used along with the year,\n",
       "  month, and day of the \u001b[36mDate\u001b[39m to create the new \u001b[36mDateTime\u001b[39m. Non-zero microseconds\n",
       "  or nanoseconds in the \u001b[36mTime\u001b[39m type will result in an \u001b[36mInexactError\u001b[39m being thrown."
      ]
     },
     "execution_count": 7,
     "metadata": {},
     "output_type": "execute_result"
    }
   ],
   "source": [
    "? + "
   ]
  },
  {
   "cell_type": "markdown",
   "metadata": {},
   "source": [
    "2) Google it. "
   ]
  },
  {
   "cell_type": "markdown",
   "metadata": {},
   "source": [
    "3) Post in the slack"
   ]
  },
  {
   "cell_type": "markdown",
   "metadata": {},
   "source": [
    "---"
   ]
  },
  {
   "cell_type": "markdown",
   "metadata": {},
   "source": [
    "---"
   ]
  },
  {
   "cell_type": "markdown",
   "metadata": {},
   "source": [
    "---"
   ]
  },
  {
   "cell_type": "markdown",
   "metadata": {},
   "source": [
    "---"
   ]
  },
  {
   "cell_type": "markdown",
   "metadata": {},
   "source": [
    "---"
   ]
  },
  {
   "cell_type": "markdown",
   "metadata": {},
   "source": [
    "## Functions (very quickly)"
   ]
  },
  {
   "cell_type": "markdown",
   "metadata": {},
   "source": [
    "Most similar to `R` is "
   ]
  },
  {
   "cell_type": "code",
   "execution_count": 64,
   "metadata": {},
   "outputs": [
    {
     "ename": "ErrorException",
     "evalue": "invalid redefinition of constant f1",
     "output_type": "error",
     "traceback": [
      "invalid redefinition of constant f1",
      "",
      "Stacktrace:",
      " [1] top-level scope at In[64]:1"
     ]
    }
   ],
   "source": [
    "f1 = function(x,y)\n",
    "    return x*y\n",
    "end "
   ]
  },
  {
   "cell_type": "markdown",
   "metadata": {},
   "source": [
    "most similar to MATLAB"
   ]
  },
  {
   "cell_type": "code",
   "execution_count": 67,
   "metadata": {},
   "outputs": [
    {
     "data": {
      "text/plain": [
       "head (generic function with 1 method)"
      ]
     },
     "execution_count": 67,
     "metadata": {},
     "output_type": "execute_result"
    }
   ],
   "source": [
    "function head(df) \n",
    "    first(df,5)\n",
    "end"
   ]
  },
  {
   "cell_type": "markdown",
   "metadata": {},
   "source": []
  },
  {
   "cell_type": "markdown",
   "metadata": {},
   "source": [
    "---"
   ]
  },
  {
   "cell_type": "markdown",
   "metadata": {},
   "source": [
    "---"
   ]
  },
  {
   "cell_type": "markdown",
   "metadata": {},
   "source": [
    "---"
   ]
  },
  {
   "cell_type": "markdown",
   "metadata": {},
   "source": [
    "---"
   ]
  },
  {
   "cell_type": "markdown",
   "metadata": {},
   "source": [
    "---"
   ]
  },
  {
   "cell_type": "markdown",
   "metadata": {},
   "source": [
    "## Loading data "
   ]
  },
  {
   "cell_type": "code",
   "execution_count": 11,
   "metadata": {},
   "outputs": [
    {
     "name": "stderr",
     "output_type": "stream",
     "text": [
      "┌ Info: Precompiling CSV [336ed68f-0bac-5ca0-87d4-7b16caf5d00b]\n",
      "└ @ Base loading.jl:1260\n"
     ]
    }
   ],
   "source": [
    "import CSV "
   ]
  },
  {
   "cell_type": "markdown",
   "metadata": {},
   "source": [
    "Either \n",
    "\n",
    "```CSV.read(\"income.csv\", DataFrame)```\n",
    "\n",
    "or "
   ]
  },
  {
   "cell_type": "code",
   "execution_count": 12,
   "metadata": {
    "scrolled": true
   },
   "outputs": [
    {
     "data": {
      "text/html": [
       "<table class=\"data-frame\"><thead><tr><th></th><th>Year</th><th>AHE</th><th>Sex</th></tr><tr><th></th><th>Int64</th><th>Float64</th><th>String</th></tr></thead><tbody><p>11,130 rows × 3 columns</p><tr><th>1</th><td>1992</td><td>12.9991</td><td>male</td></tr><tr><th>2</th><td>1992</td><td>11.618</td><td>male</td></tr><tr><th>3</th><td>1992</td><td>17.3773</td><td>male</td></tr><tr><th>4</th><td>1992</td><td>10.0613</td><td>female</td></tr><tr><th>5</th><td>1992</td><td>16.7567</td><td>male</td></tr><tr><th>6</th><td>1992</td><td>9.21617</td><td>female</td></tr><tr><th>7</th><td>1992</td><td>15.9587</td><td>female</td></tr><tr><th>8</th><td>1992</td><td>27.3692</td><td>male</td></tr><tr><th>9</th><td>1992</td><td>10.6392</td><td>male</td></tr><tr><th>10</th><td>1992</td><td>6.98195</td><td>male</td></tr><tr><th>11</th><td>1992</td><td>5.92069</td><td>female</td></tr><tr><th>12</th><td>1992</td><td>14.0922</td><td>female</td></tr><tr><th>13</th><td>1992</td><td>14.4938</td><td>male</td></tr><tr><th>14</th><td>1992</td><td>16.9182</td><td>female</td></tr><tr><th>15</th><td>1992</td><td>20.2197</td><td>male</td></tr><tr><th>16</th><td>1992</td><td>9.79621</td><td>male</td></tr><tr><th>17</th><td>1992</td><td>12.5117</td><td>female</td></tr><tr><th>18</th><td>1992</td><td>16.7511</td><td>male</td></tr><tr><th>19</th><td>1992</td><td>17.8738</td><td>male</td></tr><tr><th>20</th><td>1992</td><td>15.6396</td><td>male</td></tr><tr><th>21</th><td>1992</td><td>19.8598</td><td>female</td></tr><tr><th>22</th><td>1992</td><td>7.26123</td><td>female</td></tr><tr><th>23</th><td>1992</td><td>14.5484</td><td>female</td></tr><tr><th>24</th><td>1992</td><td>15.8878</td><td>female</td></tr><tr><th>25</th><td>1992</td><td>16.5971</td><td>male</td></tr><tr><th>26</th><td>1992</td><td>26.0806</td><td>male</td></tr><tr><th>27</th><td>1992</td><td>20.9769</td><td>male</td></tr><tr><th>28</th><td>1992</td><td>26.8107</td><td>male</td></tr><tr><th>29</th><td>1992</td><td>43.195</td><td>male</td></tr><tr><th>30</th><td>1992</td><td>21.7837</td><td>female</td></tr><tr><th>&vellip;</th><td>&vellip;</td><td>&vellip;</td><td>&vellip;</td></tr></tbody></table>"
      ],
      "text/latex": [
       "\\begin{tabular}{r|ccc}\n",
       "\t& Year & AHE & Sex\\\\\n",
       "\t\\hline\n",
       "\t& Int64 & Float64 & String\\\\\n",
       "\t\\hline\n",
       "\t1 & 1992 & 12.9991 & male \\\\\n",
       "\t2 & 1992 & 11.618 & male \\\\\n",
       "\t3 & 1992 & 17.3773 & male \\\\\n",
       "\t4 & 1992 & 10.0613 & female \\\\\n",
       "\t5 & 1992 & 16.7567 & male \\\\\n",
       "\t6 & 1992 & 9.21617 & female \\\\\n",
       "\t7 & 1992 & 15.9587 & female \\\\\n",
       "\t8 & 1992 & 27.3692 & male \\\\\n",
       "\t9 & 1992 & 10.6392 & male \\\\\n",
       "\t10 & 1992 & 6.98195 & male \\\\\n",
       "\t11 & 1992 & 5.92069 & female \\\\\n",
       "\t12 & 1992 & 14.0922 & female \\\\\n",
       "\t13 & 1992 & 14.4938 & male \\\\\n",
       "\t14 & 1992 & 16.9182 & female \\\\\n",
       "\t15 & 1992 & 20.2197 & male \\\\\n",
       "\t16 & 1992 & 9.79621 & male \\\\\n",
       "\t17 & 1992 & 12.5117 & female \\\\\n",
       "\t18 & 1992 & 16.7511 & male \\\\\n",
       "\t19 & 1992 & 17.8738 & male \\\\\n",
       "\t20 & 1992 & 15.6396 & male \\\\\n",
       "\t21 & 1992 & 19.8598 & female \\\\\n",
       "\t22 & 1992 & 7.26123 & female \\\\\n",
       "\t23 & 1992 & 14.5484 & female \\\\\n",
       "\t24 & 1992 & 15.8878 & female \\\\\n",
       "\t25 & 1992 & 16.5971 & male \\\\\n",
       "\t26 & 1992 & 26.0806 & male \\\\\n",
       "\t27 & 1992 & 20.9769 & male \\\\\n",
       "\t28 & 1992 & 26.8107 & male \\\\\n",
       "\t29 & 1992 & 43.195 & male \\\\\n",
       "\t30 & 1992 & 21.7837 & female \\\\\n",
       "\t$\\dots$ & $\\dots$ & $\\dots$ & $\\dots$ \\\\\n",
       "\\end{tabular}\n"
      ],
      "text/plain": [
       "11130×3 DataFrame\n",
       "│ Row   │ Year  │ AHE     │ Sex    │\n",
       "│       │ \u001b[90mInt64\u001b[39m │ \u001b[90mFloat64\u001b[39m │ \u001b[90mString\u001b[39m │\n",
       "├───────┼───────┼─────────┼────────┤\n",
       "│ 1     │ 1992  │ 12.9991 │ male   │\n",
       "│ 2     │ 1992  │ 11.618  │ male   │\n",
       "│ 3     │ 1992  │ 17.3773 │ male   │\n",
       "│ 4     │ 1992  │ 10.0613 │ female │\n",
       "│ 5     │ 1992  │ 16.7567 │ male   │\n",
       "│ 6     │ 1992  │ 9.21617 │ female │\n",
       "│ 7     │ 1992  │ 15.9587 │ female │\n",
       "│ 8     │ 1992  │ 27.3692 │ male   │\n",
       "│ 9     │ 1992  │ 10.6392 │ male   │\n",
       "│ 10    │ 1992  │ 6.98195 │ male   │\n",
       "⋮\n",
       "│ 11120 │ 1998  │ 24.0385 │ male   │\n",
       "│ 11121 │ 1998  │ 12.3932 │ female │\n",
       "│ 11122 │ 1998  │ 30.2885 │ male   │\n",
       "│ 11123 │ 1998  │ 31.7308 │ female │\n",
       "│ 11124 │ 1998  │ 21.234  │ female │\n",
       "│ 11125 │ 1998  │ 13.4615 │ male   │\n",
       "│ 11126 │ 1998  │ 16.8269 │ female │\n",
       "│ 11127 │ 1998  │ 14.6853 │ male   │\n",
       "│ 11128 │ 1998  │ 11.1111 │ male   │\n",
       "│ 11129 │ 1998  │ 16.8269 │ female │\n",
       "│ 11130 │ 1998  │ 12.0192 │ female │"
      ]
     },
     "execution_count": 12,
     "metadata": {},
     "output_type": "execute_result"
    }
   ],
   "source": [
    "incomeCSV = CSV.File(\"income.csv\") # an object of CSV type\n",
    "income = DataFrame(incomeCSV)"
   ]
  },
  {
   "cell_type": "markdown",
   "metadata": {},
   "source": [
    "which is equivalent to "
   ]
  },
  {
   "cell_type": "code",
   "execution_count": 13,
   "metadata": {},
   "outputs": [
    {
     "data": {
      "text/html": [
       "<table class=\"data-frame\"><thead><tr><th></th><th>Year</th><th>AHE</th><th>Sex</th></tr><tr><th></th><th>Int64</th><th>Float64</th><th>String</th></tr></thead><tbody><p>11,130 rows × 3 columns</p><tr><th>1</th><td>1992</td><td>12.9991</td><td>male</td></tr><tr><th>2</th><td>1992</td><td>11.618</td><td>male</td></tr><tr><th>3</th><td>1992</td><td>17.3773</td><td>male</td></tr><tr><th>4</th><td>1992</td><td>10.0613</td><td>female</td></tr><tr><th>5</th><td>1992</td><td>16.7567</td><td>male</td></tr><tr><th>6</th><td>1992</td><td>9.21617</td><td>female</td></tr><tr><th>7</th><td>1992</td><td>15.9587</td><td>female</td></tr><tr><th>8</th><td>1992</td><td>27.3692</td><td>male</td></tr><tr><th>9</th><td>1992</td><td>10.6392</td><td>male</td></tr><tr><th>10</th><td>1992</td><td>6.98195</td><td>male</td></tr><tr><th>11</th><td>1992</td><td>5.92069</td><td>female</td></tr><tr><th>12</th><td>1992</td><td>14.0922</td><td>female</td></tr><tr><th>13</th><td>1992</td><td>14.4938</td><td>male</td></tr><tr><th>14</th><td>1992</td><td>16.9182</td><td>female</td></tr><tr><th>15</th><td>1992</td><td>20.2197</td><td>male</td></tr><tr><th>16</th><td>1992</td><td>9.79621</td><td>male</td></tr><tr><th>17</th><td>1992</td><td>12.5117</td><td>female</td></tr><tr><th>18</th><td>1992</td><td>16.7511</td><td>male</td></tr><tr><th>19</th><td>1992</td><td>17.8738</td><td>male</td></tr><tr><th>20</th><td>1992</td><td>15.6396</td><td>male</td></tr><tr><th>21</th><td>1992</td><td>19.8598</td><td>female</td></tr><tr><th>22</th><td>1992</td><td>7.26123</td><td>female</td></tr><tr><th>23</th><td>1992</td><td>14.5484</td><td>female</td></tr><tr><th>24</th><td>1992</td><td>15.8878</td><td>female</td></tr><tr><th>25</th><td>1992</td><td>16.5971</td><td>male</td></tr><tr><th>26</th><td>1992</td><td>26.0806</td><td>male</td></tr><tr><th>27</th><td>1992</td><td>20.9769</td><td>male</td></tr><tr><th>28</th><td>1992</td><td>26.8107</td><td>male</td></tr><tr><th>29</th><td>1992</td><td>43.195</td><td>male</td></tr><tr><th>30</th><td>1992</td><td>21.7837</td><td>female</td></tr><tr><th>&vellip;</th><td>&vellip;</td><td>&vellip;</td><td>&vellip;</td></tr></tbody></table>"
      ],
      "text/latex": [
       "\\begin{tabular}{r|ccc}\n",
       "\t& Year & AHE & Sex\\\\\n",
       "\t\\hline\n",
       "\t& Int64 & Float64 & String\\\\\n",
       "\t\\hline\n",
       "\t1 & 1992 & 12.9991 & male \\\\\n",
       "\t2 & 1992 & 11.618 & male \\\\\n",
       "\t3 & 1992 & 17.3773 & male \\\\\n",
       "\t4 & 1992 & 10.0613 & female \\\\\n",
       "\t5 & 1992 & 16.7567 & male \\\\\n",
       "\t6 & 1992 & 9.21617 & female \\\\\n",
       "\t7 & 1992 & 15.9587 & female \\\\\n",
       "\t8 & 1992 & 27.3692 & male \\\\\n",
       "\t9 & 1992 & 10.6392 & male \\\\\n",
       "\t10 & 1992 & 6.98195 & male \\\\\n",
       "\t11 & 1992 & 5.92069 & female \\\\\n",
       "\t12 & 1992 & 14.0922 & female \\\\\n",
       "\t13 & 1992 & 14.4938 & male \\\\\n",
       "\t14 & 1992 & 16.9182 & female \\\\\n",
       "\t15 & 1992 & 20.2197 & male \\\\\n",
       "\t16 & 1992 & 9.79621 & male \\\\\n",
       "\t17 & 1992 & 12.5117 & female \\\\\n",
       "\t18 & 1992 & 16.7511 & male \\\\\n",
       "\t19 & 1992 & 17.8738 & male \\\\\n",
       "\t20 & 1992 & 15.6396 & male \\\\\n",
       "\t21 & 1992 & 19.8598 & female \\\\\n",
       "\t22 & 1992 & 7.26123 & female \\\\\n",
       "\t23 & 1992 & 14.5484 & female \\\\\n",
       "\t24 & 1992 & 15.8878 & female \\\\\n",
       "\t25 & 1992 & 16.5971 & male \\\\\n",
       "\t26 & 1992 & 26.0806 & male \\\\\n",
       "\t27 & 1992 & 20.9769 & male \\\\\n",
       "\t28 & 1992 & 26.8107 & male \\\\\n",
       "\t29 & 1992 & 43.195 & male \\\\\n",
       "\t30 & 1992 & 21.7837 & female \\\\\n",
       "\t$\\dots$ & $\\dots$ & $\\dots$ & $\\dots$ \\\\\n",
       "\\end{tabular}\n"
      ],
      "text/plain": [
       "11130×3 DataFrame\n",
       "│ Row   │ Year  │ AHE     │ Sex    │\n",
       "│       │ \u001b[90mInt64\u001b[39m │ \u001b[90mFloat64\u001b[39m │ \u001b[90mString\u001b[39m │\n",
       "├───────┼───────┼─────────┼────────┤\n",
       "│ 1     │ 1992  │ 12.9991 │ male   │\n",
       "│ 2     │ 1992  │ 11.618  │ male   │\n",
       "│ 3     │ 1992  │ 17.3773 │ male   │\n",
       "│ 4     │ 1992  │ 10.0613 │ female │\n",
       "│ 5     │ 1992  │ 16.7567 │ male   │\n",
       "│ 6     │ 1992  │ 9.21617 │ female │\n",
       "│ 7     │ 1992  │ 15.9587 │ female │\n",
       "│ 8     │ 1992  │ 27.3692 │ male   │\n",
       "│ 9     │ 1992  │ 10.6392 │ male   │\n",
       "│ 10    │ 1992  │ 6.98195 │ male   │\n",
       "⋮\n",
       "│ 11120 │ 1998  │ 24.0385 │ male   │\n",
       "│ 11121 │ 1998  │ 12.3932 │ female │\n",
       "│ 11122 │ 1998  │ 30.2885 │ male   │\n",
       "│ 11123 │ 1998  │ 31.7308 │ female │\n",
       "│ 11124 │ 1998  │ 21.234  │ female │\n",
       "│ 11125 │ 1998  │ 13.4615 │ male   │\n",
       "│ 11126 │ 1998  │ 16.8269 │ female │\n",
       "│ 11127 │ 1998  │ 14.6853 │ male   │\n",
       "│ 11128 │ 1998  │ 11.1111 │ male   │\n",
       "│ 11129 │ 1998  │ 16.8269 │ female │\n",
       "│ 11130 │ 1998  │ 12.0192 │ female │"
      ]
     },
     "execution_count": 13,
     "metadata": {},
     "output_type": "execute_result"
    }
   ],
   "source": [
    "income = CSV.File(\"income.csv\") |> DataFrame # piping!!"
   ]
  },
  {
   "cell_type": "markdown",
   "metadata": {},
   "source": [
    "There is also a ```DelimitedFiles``` package, but I've never used it. "
   ]
  },
  {
   "cell_type": "markdown",
   "metadata": {},
   "source": [
    "---"
   ]
  },
  {
   "cell_type": "markdown",
   "metadata": {},
   "source": [
    "---"
   ]
  },
  {
   "cell_type": "markdown",
   "metadata": {},
   "source": [
    "---"
   ]
  },
  {
   "cell_type": "markdown",
   "metadata": {},
   "source": [
    "---"
   ]
  },
  {
   "cell_type": "markdown",
   "metadata": {},
   "source": [
    "---"
   ]
  },
  {
   "cell_type": "markdown",
   "metadata": {},
   "source": [
    "## Basic operations \n",
    "\n",
    "The usage of some functionality is *exactly* the same as R;"
   ]
  },
  {
   "cell_type": "code",
   "execution_count": 14,
   "metadata": {},
   "outputs": [
    {
     "data": {
      "text/plain": [
       "11130"
      ]
     },
     "execution_count": 14,
     "metadata": {},
     "output_type": "execute_result"
    }
   ],
   "source": [
    "nrow(income)"
   ]
  },
  {
   "cell_type": "code",
   "execution_count": 15,
   "metadata": {},
   "outputs": [
    {
     "data": {
      "text/plain": [
       "3"
      ]
     },
     "execution_count": 15,
     "metadata": {},
     "output_type": "execute_result"
    }
   ],
   "source": [
    "ncol(income)"
   ]
  },
  {
   "cell_type": "code",
   "execution_count": 16,
   "metadata": {},
   "outputs": [
    {
     "data": {
      "text/plain": [
       "3-element Array{String,1}:\n",
       " \"Year\"\n",
       " \"AHE\"\n",
       " \"Sex\""
      ]
     },
     "execution_count": 16,
     "metadata": {},
     "output_type": "execute_result"
    }
   ],
   "source": [
    "names(income)"
   ]
  },
  {
   "cell_type": "markdown",
   "metadata": {},
   "source": [
    "---"
   ]
  },
  {
   "cell_type": "markdown",
   "metadata": {},
   "source": [
    "---"
   ]
  },
  {
   "cell_type": "markdown",
   "metadata": {},
   "source": [
    "---"
   ]
  },
  {
   "cell_type": "markdown",
   "metadata": {},
   "source": [
    "---"
   ]
  },
  {
   "cell_type": "markdown",
   "metadata": {},
   "source": [
    "---"
   ]
  },
  {
   "cell_type": "markdown",
   "metadata": {},
   "source": [
    "## Indexing ```DataFrames```\n",
    "\n",
    "There are many options (too many?).\n",
    "\n",
    "Either "
   ]
  },
  {
   "cell_type": "code",
   "execution_count": 17,
   "metadata": {},
   "outputs": [
    {
     "data": {
      "text/plain": [
       "11130-element PooledArrays.PooledArray{String,UInt32,1,Array{UInt32,1}}:\n",
       " \"male\"\n",
       " \"male\"\n",
       " \"male\"\n",
       " \"female\"\n",
       " \"male\"\n",
       " \"female\"\n",
       " \"female\"\n",
       " \"male\"\n",
       " \"male\"\n",
       " \"male\"\n",
       " \"female\"\n",
       " \"female\"\n",
       " \"male\"\n",
       " ⋮\n",
       " \"male\"\n",
       " \"male\"\n",
       " \"female\"\n",
       " \"male\"\n",
       " \"female\"\n",
       " \"female\"\n",
       " \"male\"\n",
       " \"female\"\n",
       " \"male\"\n",
       " \"male\"\n",
       " \"female\"\n",
       " \"female\""
      ]
     },
     "execution_count": 17,
     "metadata": {},
     "output_type": "execute_result"
    }
   ],
   "source": [
    "income.Sex # most similar to income$Sex in R\n",
    "income.\"Sex\""
   ]
  },
  {
   "cell_type": "markdown",
   "metadata": {},
   "source": [
    "Or index with square brackets\n",
    "```\n",
    "income[rows, columns]\n",
    "```\n",
    "\n",
    "To get all rows we use either\n",
    "```\n",
    ": # as in MATLAB\n",
    "```\n",
    "or\n",
    "```\n",
    "! \n",
    "```\n",
    "\n",
    "The columns argument can be any of \n",
    "```\n",
    ":Sex # the syntax for a Symbol type\n",
    "\"Sex\" \n",
    "3\n",
    "```\n",
    "or\n",
    "```\n",
    "[:Sex]\n",
    "[\"Sex\"]\n",
    "[3]\n",
    "```\n"
   ]
  },
  {
   "cell_type": "markdown",
   "metadata": {},
   "source": [
    "The following are all ways to index a `DataFrame`. "
   ]
  },
  {
   "cell_type": "code",
   "execution_count": 61,
   "metadata": {},
   "outputs": [
    {
     "data": {
      "text/html": [
       "<table class=\"data-frame\"><thead><tr><th></th><th>Sex</th></tr><tr><th></th><th>String</th></tr></thead><tbody><p>11,130 rows × 1 columns</p><tr><th>1</th><td>2</td></tr><tr><th>2</th><td>male</td></tr><tr><th>3</th><td>female</td></tr><tr><th>4</th><td>male</td></tr><tr><th>5</th><td>male</td></tr><tr><th>6</th><td>male</td></tr><tr><th>7</th><td>male</td></tr><tr><th>8</th><td>male</td></tr><tr><th>9</th><td>male</td></tr><tr><th>10</th><td>male</td></tr><tr><th>11</th><td>male</td></tr><tr><th>12</th><td>male</td></tr><tr><th>13</th><td>female</td></tr><tr><th>14</th><td>female</td></tr><tr><th>15</th><td>male</td></tr><tr><th>16</th><td>male</td></tr><tr><th>17</th><td>male</td></tr><tr><th>18</th><td>male</td></tr><tr><th>19</th><td>male</td></tr><tr><th>20</th><td>male</td></tr><tr><th>21</th><td>male</td></tr><tr><th>22</th><td>male</td></tr><tr><th>23</th><td>male</td></tr><tr><th>24</th><td>male</td></tr><tr><th>25</th><td>male</td></tr><tr><th>26</th><td>male</td></tr><tr><th>27</th><td>male</td></tr><tr><th>28</th><td>male</td></tr><tr><th>29</th><td>female</td></tr><tr><th>30</th><td>male</td></tr><tr><th>&vellip;</th><td>&vellip;</td></tr></tbody></table>"
      ],
      "text/latex": [
       "\\begin{tabular}{r|c}\n",
       "\t& Sex\\\\\n",
       "\t\\hline\n",
       "\t& String\\\\\n",
       "\t\\hline\n",
       "\t1 & 2 \\\\\n",
       "\t2 & male \\\\\n",
       "\t3 & female \\\\\n",
       "\t4 & male \\\\\n",
       "\t5 & male \\\\\n",
       "\t6 & male \\\\\n",
       "\t7 & male \\\\\n",
       "\t8 & male \\\\\n",
       "\t9 & male \\\\\n",
       "\t10 & male \\\\\n",
       "\t11 & male \\\\\n",
       "\t12 & male \\\\\n",
       "\t13 & female \\\\\n",
       "\t14 & female \\\\\n",
       "\t15 & male \\\\\n",
       "\t16 & male \\\\\n",
       "\t17 & male \\\\\n",
       "\t18 & male \\\\\n",
       "\t19 & male \\\\\n",
       "\t20 & male \\\\\n",
       "\t21 & male \\\\\n",
       "\t22 & male \\\\\n",
       "\t23 & male \\\\\n",
       "\t24 & male \\\\\n",
       "\t25 & male \\\\\n",
       "\t26 & male \\\\\n",
       "\t27 & male \\\\\n",
       "\t28 & male \\\\\n",
       "\t29 & female \\\\\n",
       "\t30 & male \\\\\n",
       "\t$\\dots$ & $\\dots$ \\\\\n",
       "\\end{tabular}\n"
      ],
      "text/plain": [
       "11130×1 DataFrame\n",
       "│ Row   │ Sex    │\n",
       "│       │ \u001b[90mString\u001b[39m │\n",
       "├───────┼────────┤\n",
       "│ 1     │ 2      │\n",
       "│ 2     │ male   │\n",
       "│ 3     │ female │\n",
       "│ 4     │ male   │\n",
       "│ 5     │ male   │\n",
       "│ 6     │ male   │\n",
       "│ 7     │ male   │\n",
       "│ 8     │ male   │\n",
       "│ 9     │ male   │\n",
       "│ 10    │ male   │\n",
       "⋮\n",
       "│ 11120 │ male   │\n",
       "│ 11121 │ male   │\n",
       "│ 11122 │ male   │\n",
       "│ 11123 │ male   │\n",
       "│ 11124 │ male   │\n",
       "│ 11125 │ male   │\n",
       "│ 11126 │ male   │\n",
       "│ 11127 │ female │\n",
       "│ 11128 │ female │\n",
       "│ 11129 │ male   │\n",
       "│ 11130 │ female │"
      ]
     },
     "execution_count": 61,
     "metadata": {},
     "output_type": "execute_result"
    }
   ],
   "source": [
    "## most similar to income$Sex in R\n",
    "income.Sex \n",
    "income.\"Sex\"\n",
    "# returns a COPY as a vector\n",
    "\n",
    "## return a COPY of the column(s)\n",
    "# as a vector\n",
    "income[:,:Sex] \n",
    "income[:,\"Sex\"]\n",
    "income[:,3]\n",
    "# as a DataFrame\n",
    "income[:,[:Sex]]\n",
    "income[:,[\"Sex\"]]\n",
    "income[:,[3]]\n",
    "\n",
    "## return a VIEW of the column(s)\n",
    "# as a vector\n",
    "income[!,:Sex] \n",
    "income[!,\"Sex\"]\n",
    "income[!,3]\n",
    "# as a DataFrame\n",
    "income[!,[:Sex]] # this is my personal preference\n",
    "income[!,[\"Sex\"]]\n",
    "income[!,[3]] |> head\n"
   ]
  },
  {
   "cell_type": "code",
   "execution_count": 55,
   "metadata": {},
   "outputs": [
    {
     "data": {
      "text/plain": [
       "11130-element PooledArrays.PooledArray{String,UInt32,1,Array{UInt32,1}}:\n",
       " \"male\"\n",
       " \"male\"\n",
       " \"female\"\n",
       " \"male\"\n",
       " \"male\"\n",
       " \"male\"\n",
       " \"male\"\n",
       " \"male\"\n",
       " \"male\"\n",
       " \"male\"\n",
       " \"male\"\n",
       " \"male\"\n",
       " \"female\"\n",
       " ⋮\n",
       " \"male\"\n",
       " \"male\"\n",
       " \"male\"\n",
       " \"male\"\n",
       " \"male\"\n",
       " \"male\"\n",
       " \"male\"\n",
       " \"male\"\n",
       " \"female\"\n",
       " \"female\"\n",
       " \"male\"\n",
       " \"female\""
      ]
     },
     "execution_count": 55,
     "metadata": {},
     "output_type": "execute_result"
    }
   ],
   "source": [
    "income.Sex "
   ]
  },
  {
   "cell_type": "code",
   "execution_count": 59,
   "metadata": {},
   "outputs": [
    {
     "data": {
      "text/plain": [
       "\"2\""
      ]
     },
     "execution_count": 59,
     "metadata": {},
     "output_type": "execute_result"
    }
   ],
   "source": [
    "income.\"Sex\"[1] = \"2\""
   ]
  },
  {
   "cell_type": "code",
   "execution_count": 60,
   "metadata": {},
   "outputs": [
    {
     "data": {
      "text/html": [
       "<table class=\"data-frame\"><thead><tr><th></th><th>Year</th><th>AHE</th><th>Sex</th></tr><tr><th></th><th>Int64</th><th>Float64</th><th>String</th></tr></thead><tbody><p>11,130 rows × 3 columns</p><tr><th>1</th><td>1996</td><td>52.4434</td><td>2</td></tr><tr><th>2</th><td>1996</td><td>52.4434</td><td>male</td></tr><tr><th>3</th><td>1992</td><td>50.27</td><td>female</td></tr><tr><th>4</th><td>1994</td><td>50.2342</td><td>male</td></tr><tr><th>5</th><td>1996</td><td>49.9461</td><td>male</td></tr><tr><th>6</th><td>1996</td><td>49.9461</td><td>male</td></tr><tr><th>7</th><td>1998</td><td>49.4506</td><td>male</td></tr><tr><th>8</th><td>1998</td><td>48.0769</td><td>male</td></tr><tr><th>9</th><td>1992</td><td>48.0358</td><td>male</td></tr><tr><th>10</th><td>1992</td><td>48.0358</td><td>male</td></tr><tr><th>11</th><td>1994</td><td>47.5903</td><td>male</td></tr><tr><th>12</th><td>1992</td><td>47.4772</td><td>male</td></tr><tr><th>13</th><td>1998</td><td>47.1154</td><td>female</td></tr><tr><th>14</th><td>1998</td><td>47.1154</td><td>female</td></tr><tr><th>15</th><td>1994</td><td>46.3022</td><td>male</td></tr><tr><th>16</th><td>1998</td><td>46.1538</td><td>male</td></tr><tr><th>17</th><td>1998</td><td>45.6731</td><td>male</td></tr><tr><th>18</th><td>1992</td><td>44.6845</td><td>male</td></tr><tr><th>19</th><td>1992</td><td>44.6845</td><td>male</td></tr><tr><th>20</th><td>1992</td><td>44.6845</td><td>male</td></tr><tr><th>21</th><td>1992</td><td>44.6845</td><td>male</td></tr><tr><th>22</th><td>1992</td><td>44.6845</td><td>male</td></tr><tr><th>23</th><td>1992</td><td>44.6845</td><td>male</td></tr><tr><th>24</th><td>1992</td><td>44.6845</td><td>male</td></tr><tr><th>25</th><td>1992</td><td>44.6845</td><td>male</td></tr><tr><th>26</th><td>1994</td><td>44.6526</td><td>male</td></tr><tr><th>27</th><td>1996</td><td>44.452</td><td>male</td></tr><tr><th>28</th><td>1996</td><td>44.3965</td><td>male</td></tr><tr><th>29</th><td>1996</td><td>44.3965</td><td>female</td></tr><tr><th>30</th><td>1998</td><td>44.2308</td><td>male</td></tr><tr><th>&vellip;</th><td>&vellip;</td><td>&vellip;</td><td>&vellip;</td></tr></tbody></table>"
      ],
      "text/latex": [
       "\\begin{tabular}{r|ccc}\n",
       "\t& Year & AHE & Sex\\\\\n",
       "\t\\hline\n",
       "\t& Int64 & Float64 & String\\\\\n",
       "\t\\hline\n",
       "\t1 & 1996 & 52.4434 & 2 \\\\\n",
       "\t2 & 1996 & 52.4434 & male \\\\\n",
       "\t3 & 1992 & 50.27 & female \\\\\n",
       "\t4 & 1994 & 50.2342 & male \\\\\n",
       "\t5 & 1996 & 49.9461 & male \\\\\n",
       "\t6 & 1996 & 49.9461 & male \\\\\n",
       "\t7 & 1998 & 49.4506 & male \\\\\n",
       "\t8 & 1998 & 48.0769 & male \\\\\n",
       "\t9 & 1992 & 48.0358 & male \\\\\n",
       "\t10 & 1992 & 48.0358 & male \\\\\n",
       "\t11 & 1994 & 47.5903 & male \\\\\n",
       "\t12 & 1992 & 47.4772 & male \\\\\n",
       "\t13 & 1998 & 47.1154 & female \\\\\n",
       "\t14 & 1998 & 47.1154 & female \\\\\n",
       "\t15 & 1994 & 46.3022 & male \\\\\n",
       "\t16 & 1998 & 46.1538 & male \\\\\n",
       "\t17 & 1998 & 45.6731 & male \\\\\n",
       "\t18 & 1992 & 44.6845 & male \\\\\n",
       "\t19 & 1992 & 44.6845 & male \\\\\n",
       "\t20 & 1992 & 44.6845 & male \\\\\n",
       "\t21 & 1992 & 44.6845 & male \\\\\n",
       "\t22 & 1992 & 44.6845 & male \\\\\n",
       "\t23 & 1992 & 44.6845 & male \\\\\n",
       "\t24 & 1992 & 44.6845 & male \\\\\n",
       "\t25 & 1992 & 44.6845 & male \\\\\n",
       "\t26 & 1994 & 44.6526 & male \\\\\n",
       "\t27 & 1996 & 44.452 & male \\\\\n",
       "\t28 & 1996 & 44.3965 & male \\\\\n",
       "\t29 & 1996 & 44.3965 & female \\\\\n",
       "\t30 & 1998 & 44.2308 & male \\\\\n",
       "\t$\\dots$ & $\\dots$ & $\\dots$ & $\\dots$ \\\\\n",
       "\\end{tabular}\n"
      ],
      "text/plain": [
       "11130×3 DataFrame\n",
       "│ Row   │ Year  │ AHE     │ Sex    │\n",
       "│       │ \u001b[90mInt64\u001b[39m │ \u001b[90mFloat64\u001b[39m │ \u001b[90mString\u001b[39m │\n",
       "├───────┼───────┼─────────┼────────┤\n",
       "│ 1     │ 1996  │ 52.4434 │ 2      │\n",
       "│ 2     │ 1996  │ 52.4434 │ male   │\n",
       "│ 3     │ 1992  │ 50.27   │ female │\n",
       "│ 4     │ 1994  │ 50.2342 │ male   │\n",
       "│ 5     │ 1996  │ 49.9461 │ male   │\n",
       "│ 6     │ 1996  │ 49.9461 │ male   │\n",
       "│ 7     │ 1998  │ 49.4506 │ male   │\n",
       "│ 8     │ 1998  │ 48.0769 │ male   │\n",
       "│ 9     │ 1992  │ 48.0358 │ male   │\n",
       "│ 10    │ 1992  │ 48.0358 │ male   │\n",
       "⋮\n",
       "│ 11120 │ 1998  │ 2.40385 │ male   │\n",
       "│ 11121 │ 1998  │ 2.40385 │ male   │\n",
       "│ 11122 │ 1996  │ 2.39741 │ male   │\n",
       "│ 11123 │ 1996  │ 2.39741 │ male   │\n",
       "│ 11124 │ 1994  │ 2.37952 │ male   │\n",
       "│ 11125 │ 1994  │ 2.35014 │ male   │\n",
       "│ 11126 │ 1994  │ 2.35014 │ male   │\n",
       "│ 11127 │ 1996  │ 2.29164 │ female │\n",
       "│ 11128 │ 1992  │ 2.23422 │ female │\n",
       "│ 11129 │ 1996  │ 2.16433 │ male   │\n",
       "│ 11130 │ 1994  │ 2.13649 │ female │"
      ]
     },
     "execution_count": 60,
     "metadata": {},
     "output_type": "execute_result"
    }
   ],
   "source": [
    "income"
   ]
  },
  {
   "cell_type": "markdown",
   "metadata": {},
   "source": [
    "We can also pass arrays of indicies \n",
    "\n",
    "```income[!,[:Sex, :Year]]```\n",
    "\n",
    "or invert selection with \n",
    "\n",
    "```income[!,Not(:Sex)]```\n"
   ]
  },
  {
   "cell_type": "markdown",
   "metadata": {},
   "source": [
    "---"
   ]
  },
  {
   "cell_type": "markdown",
   "metadata": {},
   "source": [
    "#### What is the difference between a *copy* and a *view*"
   ]
  },
  {
   "cell_type": "code",
   "execution_count": 19,
   "metadata": {},
   "outputs": [
    {
     "data": {
      "text/html": [
       "<table class=\"data-frame\"><thead><tr><th></th><th>Sex</th></tr><tr><th></th><th>String</th></tr></thead><tbody><p>5 rows × 1 columns</p><tr><th>1</th><td>hello</td></tr><tr><th>2</th><td>male</td></tr><tr><th>3</th><td>male</td></tr><tr><th>4</th><td>female</td></tr><tr><th>5</th><td>male</td></tr></tbody></table>"
      ],
      "text/latex": [
       "\\begin{tabular}{r|c}\n",
       "\t& Sex\\\\\n",
       "\t\\hline\n",
       "\t& String\\\\\n",
       "\t\\hline\n",
       "\t1 & hello \\\\\n",
       "\t2 & male \\\\\n",
       "\t3 & male \\\\\n",
       "\t4 & female \\\\\n",
       "\t5 & male \\\\\n",
       "\\end{tabular}\n"
      ],
      "text/plain": [
       "5×1 DataFrame\n",
       "│ Row │ Sex    │\n",
       "│     │ \u001b[90mString\u001b[39m │\n",
       "├─────┼────────┤\n",
       "│ 1   │ hello  │\n",
       "│ 2   │ male   │\n",
       "│ 3   │ male   │\n",
       "│ 4   │ female │\n",
       "│ 5   │ male   │"
      ]
     },
     "execution_count": 19,
     "metadata": {},
     "output_type": "execute_result"
    }
   ],
   "source": [
    "aCopy = income[:,[:Sex]]\n",
    "aCopy[1,:Sex] = \"hello\"\n",
    "first(aCopy,5)"
   ]
  },
  {
   "cell_type": "code",
   "execution_count": 20,
   "metadata": {},
   "outputs": [
    {
     "data": {
      "text/html": [
       "<table class=\"data-frame\"><thead><tr><th></th><th>Year</th><th>AHE</th><th>Sex</th></tr><tr><th></th><th>Int64</th><th>Float64</th><th>String</th></tr></thead><tbody><p>5 rows × 3 columns</p><tr><th>1</th><td>1992</td><td>12.9991</td><td>male</td></tr><tr><th>2</th><td>1992</td><td>11.618</td><td>male</td></tr><tr><th>3</th><td>1992</td><td>17.3773</td><td>male</td></tr><tr><th>4</th><td>1992</td><td>10.0613</td><td>female</td></tr><tr><th>5</th><td>1992</td><td>16.7567</td><td>male</td></tr></tbody></table>"
      ],
      "text/latex": [
       "\\begin{tabular}{r|ccc}\n",
       "\t& Year & AHE & Sex\\\\\n",
       "\t\\hline\n",
       "\t& Int64 & Float64 & String\\\\\n",
       "\t\\hline\n",
       "\t1 & 1992 & 12.9991 & male \\\\\n",
       "\t2 & 1992 & 11.618 & male \\\\\n",
       "\t3 & 1992 & 17.3773 & male \\\\\n",
       "\t4 & 1992 & 10.0613 & female \\\\\n",
       "\t5 & 1992 & 16.7567 & male \\\\\n",
       "\\end{tabular}\n"
      ],
      "text/plain": [
       "5×3 DataFrame\n",
       "│ Row │ Year  │ AHE     │ Sex    │\n",
       "│     │ \u001b[90mInt64\u001b[39m │ \u001b[90mFloat64\u001b[39m │ \u001b[90mString\u001b[39m │\n",
       "├─────┼───────┼─────────┼────────┤\n",
       "│ 1   │ 1992  │ 12.9991 │ male   │\n",
       "│ 2   │ 1992  │ 11.618  │ male   │\n",
       "│ 3   │ 1992  │ 17.3773 │ male   │\n",
       "│ 4   │ 1992  │ 10.0613 │ female │\n",
       "│ 5   │ 1992  │ 16.7567 │ male   │"
      ]
     },
     "execution_count": 20,
     "metadata": {},
     "output_type": "execute_result"
    }
   ],
   "source": [
    "first(income,5)"
   ]
  },
  {
   "cell_type": "code",
   "execution_count": 21,
   "metadata": {},
   "outputs": [
    {
     "data": {
      "text/html": [
       "<table class=\"data-frame\"><thead><tr><th></th><th>Sex</th></tr><tr><th></th><th>String</th></tr></thead><tbody><p>5 rows × 1 columns</p><tr><th>1</th><td>hello</td></tr><tr><th>2</th><td>male</td></tr><tr><th>3</th><td>male</td></tr><tr><th>4</th><td>female</td></tr><tr><th>5</th><td>male</td></tr></tbody></table>"
      ],
      "text/latex": [
       "\\begin{tabular}{r|c}\n",
       "\t& Sex\\\\\n",
       "\t\\hline\n",
       "\t& String\\\\\n",
       "\t\\hline\n",
       "\t1 & hello \\\\\n",
       "\t2 & male \\\\\n",
       "\t3 & male \\\\\n",
       "\t4 & female \\\\\n",
       "\t5 & male \\\\\n",
       "\\end{tabular}\n"
      ],
      "text/plain": [
       "5×1 DataFrame\n",
       "│ Row │ Sex    │\n",
       "│     │ \u001b[90mString\u001b[39m │\n",
       "├─────┼────────┤\n",
       "│ 1   │ hello  │\n",
       "│ 2   │ male   │\n",
       "│ 3   │ male   │\n",
       "│ 4   │ female │\n",
       "│ 5   │ male   │"
      ]
     },
     "execution_count": 21,
     "metadata": {},
     "output_type": "execute_result"
    }
   ],
   "source": [
    "aView = income[!,[:Sex]]\n",
    "aView[1,:Sex] = \"hello\"\n",
    "first(aView,5)"
   ]
  },
  {
   "cell_type": "code",
   "execution_count": 22,
   "metadata": {},
   "outputs": [
    {
     "data": {
      "text/html": [
       "<table class=\"data-frame\"><thead><tr><th></th><th>Year</th><th>AHE</th><th>Sex</th></tr><tr><th></th><th>Int64</th><th>Float64</th><th>String</th></tr></thead><tbody><p>5 rows × 3 columns</p><tr><th>1</th><td>1992</td><td>12.9991</td><td>hello</td></tr><tr><th>2</th><td>1992</td><td>11.618</td><td>male</td></tr><tr><th>3</th><td>1992</td><td>17.3773</td><td>male</td></tr><tr><th>4</th><td>1992</td><td>10.0613</td><td>female</td></tr><tr><th>5</th><td>1992</td><td>16.7567</td><td>male</td></tr></tbody></table>"
      ],
      "text/latex": [
       "\\begin{tabular}{r|ccc}\n",
       "\t& Year & AHE & Sex\\\\\n",
       "\t\\hline\n",
       "\t& Int64 & Float64 & String\\\\\n",
       "\t\\hline\n",
       "\t1 & 1992 & 12.9991 & hello \\\\\n",
       "\t2 & 1992 & 11.618 & male \\\\\n",
       "\t3 & 1992 & 17.3773 & male \\\\\n",
       "\t4 & 1992 & 10.0613 & female \\\\\n",
       "\t5 & 1992 & 16.7567 & male \\\\\n",
       "\\end{tabular}\n"
      ],
      "text/plain": [
       "5×3 DataFrame\n",
       "│ Row │ Year  │ AHE     │ Sex    │\n",
       "│     │ \u001b[90mInt64\u001b[39m │ \u001b[90mFloat64\u001b[39m │ \u001b[90mString\u001b[39m │\n",
       "├─────┼───────┼─────────┼────────┤\n",
       "│ 1   │ 1992  │ 12.9991 │ hello  │\n",
       "│ 2   │ 1992  │ 11.618  │ male   │\n",
       "│ 3   │ 1992  │ 17.3773 │ male   │\n",
       "│ 4   │ 1992  │ 10.0613 │ female │\n",
       "│ 5   │ 1992  │ 16.7567 │ male   │"
      ]
     },
     "execution_count": 22,
     "metadata": {},
     "output_type": "execute_result"
    }
   ],
   "source": [
    "first(income,5)"
   ]
  },
  {
   "cell_type": "code",
   "execution_count": null,
   "metadata": {},
   "outputs": [],
   "source": []
  },
  {
   "cell_type": "markdown",
   "metadata": {},
   "source": [
    "***```income``` has how changed!!!!***\n",
    "\n",
    "Be careful."
   ]
  },
  {
   "cell_type": "markdown",
   "metadata": {},
   "source": [
    "---"
   ]
  },
  {
   "cell_type": "markdown",
   "metadata": {},
   "source": [
    "---"
   ]
  },
  {
   "cell_type": "markdown",
   "metadata": {},
   "source": [
    "---"
   ]
  },
  {
   "cell_type": "markdown",
   "metadata": {},
   "source": [
    "---"
   ]
  },
  {
   "cell_type": "markdown",
   "metadata": {},
   "source": [
    "---"
   ]
  },
  {
   "cell_type": "markdown",
   "metadata": {},
   "source": [
    "---"
   ]
  },
  {
   "cell_type": "markdown",
   "metadata": {},
   "source": [
    "## Piping \n",
    "\n",
    "Pass the object on the left to the function of the right. \n",
    "\n",
    "i.e. In R we use the `%>%` infix operator \n",
    "```\n",
    "> aFun <- function(x) x^2\n",
    "> b <- 2 \n",
    "> b %>% aFun\n",
    "[1] 4\n",
    "```\n",
    "\n",
    "In julia its `|>`"
   ]
  },
  {
   "cell_type": "code",
   "execution_count": 23,
   "metadata": {},
   "outputs": [
    {
     "data": {
      "text/plain": [
       "4"
      ]
     },
     "execution_count": 23,
     "metadata": {},
     "output_type": "execute_result"
    }
   ],
   "source": [
    "fun(x) = x^2\n",
    "b = 2 \n",
    "b |> fun  "
   ]
  },
  {
   "cell_type": "markdown",
   "metadata": {},
   "source": [
    "Can broadcast via piping too"
   ]
  },
  {
   "cell_type": "code",
   "execution_count": 24,
   "metadata": {},
   "outputs": [
    {
     "data": {
      "text/plain": [
       "2×2 Array{Int64,2}:\n",
       " 1   4\n",
       " 9  16"
      ]
     },
     "execution_count": 24,
     "metadata": {},
     "output_type": "execute_result"
    }
   ],
   "source": [
    "A = [1 2; 3 4]\n",
    "A .|> fun "
   ]
  },
  {
   "cell_type": "code",
   "execution_count": 25,
   "metadata": {},
   "outputs": [
    {
     "data": {
      "text/plain": [
       "2×2 Array{Int64,2}:\n",
       "  7  10\n",
       " 15  22"
      ]
     },
     "execution_count": 25,
     "metadata": {},
     "output_type": "execute_result"
    }
   ],
   "source": [
    "A |> fun "
   ]
  },
  {
   "cell_type": "markdown",
   "metadata": {},
   "source": [
    "If this is your jam, then see the `Piping` package for some cool stuff."
   ]
  },
  {
   "cell_type": "markdown",
   "metadata": {},
   "source": [
    "## A likeness with ```dplyr```\n",
    "\n",
    "The ```DataFrames``` package has the same data manipulation functionality as ```dplyr```\n",
    "\n",
    "\n",
    "\n",
    "``` R ``` functions and their ```julia``` equivalents;\n",
    "\n",
    " - In R ```rename()```$\\equiv$ in julia ```rename()``` - rename columns.\n",
    " \n",
    " - In R ```filter()```$\\equiv$ in julia ```filter()``` - picks cases based on their values.\n",
    " \n",
    " - In R ```select()```$\\equiv$ in julia ```select()``` - picks variables based on their names.\n",
    " \n",
    " - In R ```mutate()```$\\equiv$ in julia ```transform()``` - adds new variables that are functions of existing variables.\n",
    "\n",
    " - In R ```summarise()```$\\equiv$ in julia ```combine()``` - reduces multiple values down to a single summary\n",
    "\n",
    " - In R ```arrange()```$\\equiv$ in julia ```sort()``` - changes the ordering of the rows.\n",
    " \n",
    " - In R ```group_by()```$\\equiv$in julia ```groupby()``` - returns a ```GroupedDataFrame``` object.\n",
    " \n",
    "\n",
    "```rename!(), filter!(), select!(), transform!(), sort!()``` also exist to manipulate DataFrames in-place\n",
    " \n",
    "Here, common syntax is either \n",
    "```\n",
    ":ColumName => :NewName\n",
    ":ColumName => function => :NewName\n",
    ":ColumName => function\n",
    "```\n",
    "\n",
    "Ex's.\n",
    "\n"
   ]
  },
  {
   "cell_type": "code",
   "execution_count": 26,
   "metadata": {},
   "outputs": [
    {
     "data": {
      "text/html": [
       "<table class=\"data-frame\"><thead><tr><th></th><th>Year</th><th>Income</th><th>Sex</th></tr><tr><th></th><th>Int64</th><th>Float64</th><th>String</th></tr></thead><tbody><p>5 rows × 3 columns</p><tr><th>1</th><td>1992</td><td>12.9991</td><td>hello</td></tr><tr><th>2</th><td>1992</td><td>11.618</td><td>male</td></tr><tr><th>3</th><td>1992</td><td>17.3773</td><td>male</td></tr><tr><th>4</th><td>1992</td><td>10.0613</td><td>female</td></tr><tr><th>5</th><td>1992</td><td>16.7567</td><td>male</td></tr></tbody></table>"
      ],
      "text/latex": [
       "\\begin{tabular}{r|ccc}\n",
       "\t& Year & Income & Sex\\\\\n",
       "\t\\hline\n",
       "\t& Int64 & Float64 & String\\\\\n",
       "\t\\hline\n",
       "\t1 & 1992 & 12.9991 & hello \\\\\n",
       "\t2 & 1992 & 11.618 & male \\\\\n",
       "\t3 & 1992 & 17.3773 & male \\\\\n",
       "\t4 & 1992 & 10.0613 & female \\\\\n",
       "\t5 & 1992 & 16.7567 & male \\\\\n",
       "\\end{tabular}\n"
      ],
      "text/plain": [
       "5×3 DataFrame\n",
       "│ Row │ Year  │ Income  │ Sex    │\n",
       "│     │ \u001b[90mInt64\u001b[39m │ \u001b[90mFloat64\u001b[39m │ \u001b[90mString\u001b[39m │\n",
       "├─────┼───────┼─────────┼────────┤\n",
       "│ 1   │ 1992  │ 12.9991 │ hello  │\n",
       "│ 2   │ 1992  │ 11.618  │ male   │\n",
       "│ 3   │ 1992  │ 17.3773 │ male   │\n",
       "│ 4   │ 1992  │ 10.0613 │ female │\n",
       "│ 5   │ 1992  │ 16.7567 │ male   │"
      ]
     },
     "execution_count": 26,
     "metadata": {},
     "output_type": "execute_result"
    }
   ],
   "source": [
    "incomeCopy = copy(income);\n",
    "rename!(incomeCopy, :AHE => :Income) |> head # ! to operator on incomeCopy in place"
   ]
  },
  {
   "cell_type": "code",
   "execution_count": 27,
   "metadata": {},
   "outputs": [
    {
     "data": {
      "text/html": [
       "<table class=\"data-frame\"><thead><tr><th></th><th>Year</th><th>Income</th><th>Sex</th></tr><tr><th></th><th>Int64</th><th>Float64</th><th>String</th></tr></thead><tbody><p>5 rows × 3 columns</p><tr><th>1</th><td>1992</td><td>27.3692</td><td>male</td></tr><tr><th>2</th><td>1992</td><td>20.2197</td><td>male</td></tr><tr><th>3</th><td>1992</td><td>26.0806</td><td>male</td></tr><tr><th>4</th><td>1992</td><td>20.9769</td><td>male</td></tr><tr><th>5</th><td>1992</td><td>26.8107</td><td>male</td></tr></tbody></table>"
      ],
      "text/latex": [
       "\\begin{tabular}{r|ccc}\n",
       "\t& Year & Income & Sex\\\\\n",
       "\t\\hline\n",
       "\t& Int64 & Float64 & String\\\\\n",
       "\t\\hline\n",
       "\t1 & 1992 & 27.3692 & male \\\\\n",
       "\t2 & 1992 & 20.2197 & male \\\\\n",
       "\t3 & 1992 & 26.0806 & male \\\\\n",
       "\t4 & 1992 & 20.9769 & male \\\\\n",
       "\t5 & 1992 & 26.8107 & male \\\\\n",
       "\\end{tabular}\n"
      ],
      "text/plain": [
       "5×3 DataFrame\n",
       "│ Row │ Year  │ Income  │ Sex    │\n",
       "│     │ \u001b[90mInt64\u001b[39m │ \u001b[90mFloat64\u001b[39m │ \u001b[90mString\u001b[39m │\n",
       "├─────┼───────┼─────────┼────────┤\n",
       "│ 1   │ 1992  │ 27.3692 │ male   │\n",
       "│ 2   │ 1992  │ 20.2197 │ male   │\n",
       "│ 3   │ 1992  │ 26.0806 │ male   │\n",
       "│ 4   │ 1992  │ 20.9769 │ male   │\n",
       "│ 5   │ 1992  │ 26.8107 │ male   │"
      ]
     },
     "execution_count": 27,
     "metadata": {},
     "output_type": "execute_result"
    }
   ],
   "source": [
    "filter!(:Income => (x-> x>20), incomeCopy) |> head # for some reason this one is backwards to the others!\n",
    "# also has an optional argument view::Bool to specify whether to return a view or a copy"
   ]
  },
  {
   "cell_type": "code",
   "execution_count": 28,
   "metadata": {
    "scrolled": false
   },
   "outputs": [
    {
     "data": {
      "text/html": [
       "<table class=\"data-frame\"><thead><tr><th></th><th>Income</th><th>Sex</th></tr><tr><th></th><th>Float64</th><th>String</th></tr></thead><tbody><p>5 rows × 2 columns</p><tr><th>1</th><td>27.3692</td><td>male</td></tr><tr><th>2</th><td>20.2197</td><td>male</td></tr><tr><th>3</th><td>26.0806</td><td>male</td></tr><tr><th>4</th><td>20.9769</td><td>male</td></tr><tr><th>5</th><td>26.8107</td><td>male</td></tr></tbody></table>"
      ],
      "text/latex": [
       "\\begin{tabular}{r|cc}\n",
       "\t& Income & Sex\\\\\n",
       "\t\\hline\n",
       "\t& Float64 & String\\\\\n",
       "\t\\hline\n",
       "\t1 & 27.3692 & male \\\\\n",
       "\t2 & 20.2197 & male \\\\\n",
       "\t3 & 26.0806 & male \\\\\n",
       "\t4 & 20.9769 & male \\\\\n",
       "\t5 & 26.8107 & male \\\\\n",
       "\\end{tabular}\n"
      ],
      "text/plain": [
       "5×2 DataFrame\n",
       "│ Row │ Income  │ Sex    │\n",
       "│     │ \u001b[90mFloat64\u001b[39m │ \u001b[90mString\u001b[39m │\n",
       "├─────┼─────────┼────────┤\n",
       "│ 1   │ 27.3692 │ male   │\n",
       "│ 2   │ 20.2197 │ male   │\n",
       "│ 3   │ 26.0806 │ male   │\n",
       "│ 4   │ 20.9769 │ male   │\n",
       "│ 5   │ 26.8107 │ male   │"
      ]
     },
     "execution_count": 28,
     "metadata": {},
     "output_type": "execute_result"
    }
   ],
   "source": [
    "select!(incomeCopy, Not(:Year)) |> head "
   ]
  },
  {
   "cell_type": "code",
   "execution_count": 29,
   "metadata": {},
   "outputs": [
    {
     "data": {
      "text/html": [
       "<table class=\"data-frame\"><thead><tr><th></th><th>Income</th><th>Sex</th><th>AdjustedIncome</th></tr><tr><th></th><th>Float64</th><th>String</th><th>Float64</th></tr></thead><tbody><p>5 rows × 3 columns</p><tr><th>1</th><td>27.3692</td><td>male</td><td>23.8112</td></tr><tr><th>2</th><td>20.2197</td><td>male</td><td>17.5912</td></tr><tr><th>3</th><td>26.0806</td><td>male</td><td>22.6902</td></tr><tr><th>4</th><td>20.9769</td><td>male</td><td>18.2499</td></tr><tr><th>5</th><td>26.8107</td><td>male</td><td>23.3253</td></tr></tbody></table>"
      ],
      "text/latex": [
       "\\begin{tabular}{r|ccc}\n",
       "\t& Income & Sex & AdjustedIncome\\\\\n",
       "\t\\hline\n",
       "\t& Float64 & String & Float64\\\\\n",
       "\t\\hline\n",
       "\t1 & 27.3692 & male & 23.8112 \\\\\n",
       "\t2 & 20.2197 & male & 17.5912 \\\\\n",
       "\t3 & 26.0806 & male & 22.6902 \\\\\n",
       "\t4 & 20.9769 & male & 18.2499 \\\\\n",
       "\t5 & 26.8107 & male & 23.3253 \\\\\n",
       "\\end{tabular}\n"
      ],
      "text/plain": [
       "5×3 DataFrame\n",
       "│ Row │ Income  │ Sex    │ AdjustedIncome │\n",
       "│     │ \u001b[90mFloat64\u001b[39m │ \u001b[90mString\u001b[39m │ \u001b[90mFloat64\u001b[39m        │\n",
       "├─────┼─────────┼────────┼────────────────┤\n",
       "│ 1   │ 27.3692 │ male   │ 23.8112        │\n",
       "│ 2   │ 20.2197 │ male   │ 17.5912        │\n",
       "│ 3   │ 26.0806 │ male   │ 22.6902        │\n",
       "│ 4   │ 20.9769 │ male   │ 18.2499        │\n",
       "│ 5   │ 26.8107 │ male   │ 23.3253        │"
      ]
     },
     "execution_count": 29,
     "metadata": {},
     "output_type": "execute_result"
    }
   ],
   "source": [
    "incomeAdjust(income,sex) = (isequal.(sex,\"male\")*0.87 + isequal.(sex,\"female\")) .* income\n",
    "transform!(incomeCopy,[:Income,:Sex] => incomeAdjust => :AdjustedIncome) |> head "
   ]
  },
  {
   "cell_type": "code",
   "execution_count": 30,
   "metadata": {},
   "outputs": [
    {
     "name": "stdout",
     "output_type": "stream",
     "text": [
      "  0.364838 seconds (591.07 k allocations: 77.866 MiB, 3.57% gc time)\n"
     ]
    }
   ],
   "source": [
    "temp = copy([income;income;income;income;income;income;income;income;income;income;\n",
    "        income;income;income;income;income;income;income;income;income;income;\n",
    "        income;income;income;income;income;income;income;income;income;income;\n",
    "        income;income;income;income;income;income;income;income;income;income;\n",
    "        income;income;income;income;income;income;income;income;income;income;\n",
    "        income;income;income;income;income;income;income;income;income;income;\n",
    "        income;income;income;income;income;income;income;income;income;income;\n",
    "        income;income;income;income;income;income;income;income;income;income;\n",
    "        income;income;income;income;income;income;income;income;income;income;\n",
    "        income;income;income;income;income;income;income;income;income;income;\n",
    "        income;income;income;income;income;income;income;income;income;income;\n",
    "        income;income;income;income;income;income;income;income;income;income;\n",
    "        income;income;income;income;income;income;income;income;income;income;\n",
    "        income;income;income;income;income;income;income;income;income;income;\n",
    "        income;income;income;income;income;income;income;income;income;income;\n",
    "        income;income;income;income;income;income;income;income;income;income;\n",
    "        income;income;income;income;income;income;income;income;income;income;\n",
    "        income;income;income;income;income;income;income;income;income;income;\n",
    "        income;income;income;income;income;income;income;income;income;income;\n",
    "        income;income;income;income;income;income;income;income;income;income])\n",
    "@time transform!(temp,[:AHE,:Sex] => incomeAdjust => :AdjustedIncome);"
   ]
  },
  {
   "cell_type": "code",
   "execution_count": 31,
   "metadata": {},
   "outputs": [
    {
     "name": "stdout",
     "output_type": "stream",
     "text": [
      "  0.029192 seconds (70.31 k allocations: 4.103 MiB)\n"
     ]
    }
   ],
   "source": [
    "temp = copy(income)\n",
    "@time transform(temp,[:AHE,:Sex] => incomeAdjust => :AdjustedIncome);"
   ]
  },
  {
   "cell_type": "code",
   "execution_count": 32,
   "metadata": {},
   "outputs": [
    {
     "data": {
      "text/html": [
       "<p><b>GroupedDataFrame with 3 groups based on key: Sex</b></p><p><i>First Group (5955 rows): Sex = \"male\"</i></p><table class=\"data-frame\"><thead><tr><th></th><th>Year</th><th>AHE</th><th>Sex</th></tr><tr><th></th><th>Int64</th><th>Float64</th><th>String</th></tr></thead><tbody><tr><th>1</th><td>1992</td><td>11.618</td><td>male</td></tr><tr><th>2</th><td>1992</td><td>17.3773</td><td>male</td></tr><tr><th>3</th><td>1992</td><td>16.7567</td><td>male</td></tr><tr><th>4</th><td>1992</td><td>27.3692</td><td>male</td></tr><tr><th>5</th><td>1992</td><td>10.6392</td><td>male</td></tr><tr><th>6</th><td>1992</td><td>6.98195</td><td>male</td></tr><tr><th>7</th><td>1992</td><td>14.4938</td><td>male</td></tr><tr><th>8</th><td>1992</td><td>20.2197</td><td>male</td></tr><tr><th>9</th><td>1992</td><td>9.79621</td><td>male</td></tr><tr><th>10</th><td>1992</td><td>16.7511</td><td>male</td></tr><tr><th>11</th><td>1992</td><td>17.8738</td><td>male</td></tr><tr><th>12</th><td>1992</td><td>15.6396</td><td>male</td></tr><tr><th>13</th><td>1992</td><td>16.5971</td><td>male</td></tr><tr><th>14</th><td>1992</td><td>26.0806</td><td>male</td></tr><tr><th>15</th><td>1992</td><td>20.9769</td><td>male</td></tr><tr><th>16</th><td>1992</td><td>26.8107</td><td>male</td></tr><tr><th>17</th><td>1992</td><td>43.195</td><td>male</td></tr><tr><th>18</th><td>1992</td><td>22.3422</td><td>male</td></tr><tr><th>19</th><td>1992</td><td>14.2343</td><td>male</td></tr><tr><th>20</th><td>1992</td><td>20.9769</td><td>male</td></tr><tr><th>21</th><td>1992</td><td>8.37834</td><td>male</td></tr><tr><th>22</th><td>1992</td><td>25.135</td><td>male</td></tr><tr><th>23</th><td>1992</td><td>10.2216</td><td>male</td></tr><tr><th>24</th><td>1992</td><td>20.108</td><td>male</td></tr><tr><th>25</th><td>1992</td><td>37.4232</td><td>male</td></tr><tr><th>26</th><td>1992</td><td>13.9639</td><td>male</td></tr><tr><th>27</th><td>1992</td><td>18.4323</td><td>male</td></tr><tr><th>28</th><td>1992</td><td>20.6666</td><td>male</td></tr><tr><th>29</th><td>1992</td><td>20.108</td><td>male</td></tr><tr><th>30</th><td>1992</td><td>18.5904</td><td>male</td></tr><tr><th>&vellip;</th><td>&vellip;</td><td>&vellip;</td><td>&vellip;</td></tr></tbody></table><p>&vellip;</p><p><i>Last Group (1 row): Sex = \"hello\"</i></p><table class=\"data-frame\"><thead><tr><th></th><th>Year</th><th>AHE</th><th>Sex</th></tr><tr><th></th><th>Int64</th><th>Float64</th><th>String</th></tr></thead><tbody><tr><th>1</th><td>1992</td><td>12.9991</td><td>hello</td></tr></tbody></table>"
      ],
      "text/latex": [
       "GroupedDataFrame with 3 groups based on key: Sex\n",
       "\n",
       "First Group (5955 rows): Sex = \"male\"\n",
       "\n",
       "\\begin{tabular}{r|ccc}\n",
       "\t& Year & AHE & Sex\\\\\n",
       "\t\\hline\n",
       "\t& Int64 & Float64 & String\\\\\n",
       "\t\\hline\n",
       "\t1 & 1992 & 11.618 & male \\\\\n",
       "\t2 & 1992 & 17.3773 & male \\\\\n",
       "\t3 & 1992 & 16.7567 & male \\\\\n",
       "\t4 & 1992 & 27.3692 & male \\\\\n",
       "\t5 & 1992 & 10.6392 & male \\\\\n",
       "\t6 & 1992 & 6.98195 & male \\\\\n",
       "\t7 & 1992 & 14.4938 & male \\\\\n",
       "\t8 & 1992 & 20.2197 & male \\\\\n",
       "\t9 & 1992 & 9.79621 & male \\\\\n",
       "\t10 & 1992 & 16.7511 & male \\\\\n",
       "\t11 & 1992 & 17.8738 & male \\\\\n",
       "\t12 & 1992 & 15.6396 & male \\\\\n",
       "\t13 & 1992 & 16.5971 & male \\\\\n",
       "\t14 & 1992 & 26.0806 & male \\\\\n",
       "\t15 & 1992 & 20.9769 & male \\\\\n",
       "\t16 & 1992 & 26.8107 & male \\\\\n",
       "\t17 & 1992 & 43.195 & male \\\\\n",
       "\t18 & 1992 & 22.3422 & male \\\\\n",
       "\t19 & 1992 & 14.2343 & male \\\\\n",
       "\t20 & 1992 & 20.9769 & male \\\\\n",
       "\t21 & 1992 & 8.37834 & male \\\\\n",
       "\t22 & 1992 & 25.135 & male \\\\\n",
       "\t23 & 1992 & 10.2216 & male \\\\\n",
       "\t24 & 1992 & 20.108 & male \\\\\n",
       "\t25 & 1992 & 37.4232 & male \\\\\n",
       "\t26 & 1992 & 13.9639 & male \\\\\n",
       "\t27 & 1992 & 18.4323 & male \\\\\n",
       "\t28 & 1992 & 20.6666 & male \\\\\n",
       "\t29 & 1992 & 20.108 & male \\\\\n",
       "\t30 & 1992 & 18.5904 & male \\\\\n",
       "\t$\\dots$ & $\\dots$ & $\\dots$ & $\\dots$ \\\\\n",
       "\\end{tabular}\n",
       "\n",
       "$\\dots$\n",
       "\n",
       "Last Group (1 row): Sex = \"hello\"\n",
       "\n",
       "\\begin{tabular}{r|ccc}\n",
       "\t& Year & AHE & Sex\\\\\n",
       "\t\\hline\n",
       "\t& Int64 & Float64 & String\\\\\n",
       "\t\\hline\n",
       "\t1 & 1992 & 12.9991 & hello \\\\\n",
       "\\end{tabular}\n"
      ],
      "text/plain": [
       "GroupedDataFrame with 3 groups based on key: Sex\n",
       "First Group (5955 rows): Sex = \"male\"\n",
       "│ Row  │ Year  │ AHE     │ Sex    │\n",
       "│      │ \u001b[90mInt64\u001b[39m │ \u001b[90mFloat64\u001b[39m │ \u001b[90mString\u001b[39m │\n",
       "├──────┼───────┼─────────┼────────┤\n",
       "│ 1    │ 1992  │ 11.618  │ male   │\n",
       "│ 2    │ 1992  │ 17.3773 │ male   │\n",
       "│ 3    │ 1992  │ 16.7567 │ male   │\n",
       "│ 4    │ 1992  │ 27.3692 │ male   │\n",
       "│ 5    │ 1992  │ 10.6392 │ male   │\n",
       "│ 6    │ 1992  │ 6.98195 │ male   │\n",
       "│ 7    │ 1992  │ 14.4938 │ male   │\n",
       "│ 8    │ 1992  │ 20.2197 │ male   │\n",
       "│ 9    │ 1992  │ 9.79621 │ male   │\n",
       "│ 10   │ 1992  │ 16.7511 │ male   │\n",
       "⋮\n",
       "│ 5945 │ 1998  │ 23.0769 │ male   │\n",
       "│ 5946 │ 1998  │ 23.0769 │ male   │\n",
       "│ 5947 │ 1998  │ 12.9808 │ male   │\n",
       "│ 5948 │ 1998  │ 10.3846 │ male   │\n",
       "│ 5949 │ 1998  │ 14.4231 │ male   │\n",
       "│ 5950 │ 1998  │ 19.7115 │ male   │\n",
       "│ 5951 │ 1998  │ 24.0385 │ male   │\n",
       "│ 5952 │ 1998  │ 30.2885 │ male   │\n",
       "│ 5953 │ 1998  │ 13.4615 │ male   │\n",
       "│ 5954 │ 1998  │ 14.6853 │ male   │\n",
       "│ 5955 │ 1998  │ 11.1111 │ male   │\n",
       "⋮\n",
       "Last Group (1 row): Sex = \"hello\"\n",
       "│ Row │ Year  │ AHE     │ Sex    │\n",
       "│     │ \u001b[90mInt64\u001b[39m │ \u001b[90mFloat64\u001b[39m │ \u001b[90mString\u001b[39m │\n",
       "├─────┼───────┼─────────┼────────┤\n",
       "│ 1   │ 1992  │ 12.9991 │ hello  │"
      ]
     },
     "execution_count": 32,
     "metadata": {},
     "output_type": "execute_result"
    }
   ],
   "source": [
    "incomeBySex = groupby(income, :Sex) "
   ]
  },
  {
   "cell_type": "code",
   "execution_count": 33,
   "metadata": {},
   "outputs": [
    {
     "data": {
      "text/plain": [
       "3-element DataFrames.GroupKeys{GroupedDataFrame{DataFrame}}:\n",
       " GroupKey: (Sex = \"male\",)\n",
       " GroupKey: (Sex = \"female\",)\n",
       " GroupKey: (Sex = \"hello\",)"
      ]
     },
     "execution_count": 33,
     "metadata": {},
     "output_type": "execute_result"
    }
   ],
   "source": [
    "keys(incomeBySex)"
   ]
  },
  {
   "cell_type": "code",
   "execution_count": 34,
   "metadata": {},
   "outputs": [
    {
     "data": {
      "text/html": [
       "<table class=\"data-frame\"><thead><tr><th></th><th>Year</th><th>AHE</th><th>Sex</th></tr><tr><th></th><th>Int64</th><th>Float64</th><th>String</th></tr></thead><tbody><p>5 rows × 3 columns</p><tr><th>1</th><td>1992</td><td>11.618</td><td>male</td></tr><tr><th>2</th><td>1992</td><td>17.3773</td><td>male</td></tr><tr><th>3</th><td>1992</td><td>16.7567</td><td>male</td></tr><tr><th>4</th><td>1992</td><td>27.3692</td><td>male</td></tr><tr><th>5</th><td>1992</td><td>10.6392</td><td>male</td></tr></tbody></table>"
      ],
      "text/latex": [
       "\\begin{tabular}{r|ccc}\n",
       "\t& Year & AHE & Sex\\\\\n",
       "\t\\hline\n",
       "\t& Int64 & Float64 & String\\\\\n",
       "\t\\hline\n",
       "\t1 & 1992 & 11.618 & male \\\\\n",
       "\t2 & 1992 & 17.3773 & male \\\\\n",
       "\t3 & 1992 & 16.7567 & male \\\\\n",
       "\t4 & 1992 & 27.3692 & male \\\\\n",
       "\t5 & 1992 & 10.6392 & male \\\\\n",
       "\\end{tabular}\n"
      ],
      "text/plain": [
       "5×3 DataFrame\n",
       "│ Row │ Year  │ AHE     │ Sex    │\n",
       "│     │ \u001b[90mInt64\u001b[39m │ \u001b[90mFloat64\u001b[39m │ \u001b[90mString\u001b[39m │\n",
       "├─────┼───────┼─────────┼────────┤\n",
       "│ 1   │ 1992  │ 11.618  │ male   │\n",
       "│ 2   │ 1992  │ 17.3773 │ male   │\n",
       "│ 3   │ 1992  │ 16.7567 │ male   │\n",
       "│ 4   │ 1992  │ 27.3692 │ male   │\n",
       "│ 5   │ 1992  │ 10.6392 │ male   │"
      ]
     },
     "execution_count": 34,
     "metadata": {},
     "output_type": "execute_result"
    }
   ],
   "source": [
    "incomeBySex[(Sex=\"male\",)] |> head "
   ]
  },
  {
   "cell_type": "code",
   "execution_count": 35,
   "metadata": {},
   "outputs": [
    {
     "data": {
      "text/html": [
       "<table class=\"data-frame\"><thead><tr><th></th><th>Year</th><th>AHE</th><th>Sex</th></tr><tr><th></th><th>Int64</th><th>Float64</th><th>String</th></tr></thead><tbody><p>5 rows × 3 columns</p><tr><th>1</th><td>1992</td><td>11.618</td><td>male</td></tr><tr><th>2</th><td>1992</td><td>17.3773</td><td>male</td></tr><tr><th>3</th><td>1992</td><td>16.7567</td><td>male</td></tr><tr><th>4</th><td>1992</td><td>27.3692</td><td>male</td></tr><tr><th>5</th><td>1992</td><td>10.6392</td><td>male</td></tr></tbody></table>"
      ],
      "text/latex": [
       "\\begin{tabular}{r|ccc}\n",
       "\t& Year & AHE & Sex\\\\\n",
       "\t\\hline\n",
       "\t& Int64 & Float64 & String\\\\\n",
       "\t\\hline\n",
       "\t1 & 1992 & 11.618 & male \\\\\n",
       "\t2 & 1992 & 17.3773 & male \\\\\n",
       "\t3 & 1992 & 16.7567 & male \\\\\n",
       "\t4 & 1992 & 27.3692 & male \\\\\n",
       "\t5 & 1992 & 10.6392 & male \\\\\n",
       "\\end{tabular}\n"
      ],
      "text/plain": [
       "5×3 DataFrame\n",
       "│ Row │ Year  │ AHE     │ Sex    │\n",
       "│     │ \u001b[90mInt64\u001b[39m │ \u001b[90mFloat64\u001b[39m │ \u001b[90mString\u001b[39m │\n",
       "├─────┼───────┼─────────┼────────┤\n",
       "│ 1   │ 1992  │ 11.618  │ male   │\n",
       "│ 2   │ 1992  │ 17.3773 │ male   │\n",
       "│ 3   │ 1992  │ 16.7567 │ male   │\n",
       "│ 4   │ 1992  │ 27.3692 │ male   │\n",
       "│ 5   │ 1992  │ 10.6392 │ male   │"
      ]
     },
     "execution_count": 35,
     "metadata": {},
     "output_type": "execute_result"
    }
   ],
   "source": [
    "incomeBySex[1] |> head "
   ]
  },
  {
   "cell_type": "code",
   "execution_count": 36,
   "metadata": {},
   "outputs": [
    {
     "data": {
      "text/plain": [
       "9-element DataFrames.GroupKeys{GroupedDataFrame{DataFrame}}:\n",
       " GroupKey: (Sex = \"hello\", Year = 1992)\n",
       " GroupKey: (Sex = \"male\", Year = 1992)\n",
       " GroupKey: (Sex = \"female\", Year = 1992)\n",
       " GroupKey: (Sex = \"female\", Year = 1994)\n",
       " GroupKey: (Sex = \"male\", Year = 1994)\n",
       " GroupKey: (Sex = \"female\", Year = 1996)\n",
       " GroupKey: (Sex = \"male\", Year = 1996)\n",
       " GroupKey: (Sex = \"male\", Year = 1998)\n",
       " GroupKey: (Sex = \"female\", Year = 1998)"
      ]
     },
     "execution_count": 36,
     "metadata": {},
     "output_type": "execute_result"
    }
   ],
   "source": [
    "incomeBySexYear = groupby(income, [:Sex, :Year])\n",
    "keys(incomeBySexYear)"
   ]
  },
  {
   "cell_type": "code",
   "execution_count": 37,
   "metadata": {},
   "outputs": [
    {
     "data": {
      "text/html": [
       "<table class=\"data-frame\"><thead><tr><th></th><th>Year</th><th>AHE</th><th>Sex</th></tr><tr><th></th><th>Int64</th><th>Float64</th><th>String</th></tr></thead><tbody><p>5 rows × 3 columns</p><tr><th>1</th><td>1992</td><td>11.618</td><td>male</td></tr><tr><th>2</th><td>1992</td><td>17.3773</td><td>male</td></tr><tr><th>3</th><td>1992</td><td>16.7567</td><td>male</td></tr><tr><th>4</th><td>1992</td><td>27.3692</td><td>male</td></tr><tr><th>5</th><td>1992</td><td>10.6392</td><td>male</td></tr></tbody></table>"
      ],
      "text/latex": [
       "\\begin{tabular}{r|ccc}\n",
       "\t& Year & AHE & Sex\\\\\n",
       "\t\\hline\n",
       "\t& Int64 & Float64 & String\\\\\n",
       "\t\\hline\n",
       "\t1 & 1992 & 11.618 & male \\\\\n",
       "\t2 & 1992 & 17.3773 & male \\\\\n",
       "\t3 & 1992 & 16.7567 & male \\\\\n",
       "\t4 & 1992 & 27.3692 & male \\\\\n",
       "\t5 & 1992 & 10.6392 & male \\\\\n",
       "\\end{tabular}\n"
      ],
      "text/plain": [
       "5×3 DataFrame\n",
       "│ Row │ Year  │ AHE     │ Sex    │\n",
       "│     │ \u001b[90mInt64\u001b[39m │ \u001b[90mFloat64\u001b[39m │ \u001b[90mString\u001b[39m │\n",
       "├─────┼───────┼─────────┼────────┤\n",
       "│ 1   │ 1992  │ 11.618  │ male   │\n",
       "│ 2   │ 1992  │ 17.3773 │ male   │\n",
       "│ 3   │ 1992  │ 16.7567 │ male   │\n",
       "│ 4   │ 1992  │ 27.3692 │ male   │\n",
       "│ 5   │ 1992  │ 10.6392 │ male   │"
      ]
     },
     "execution_count": 37,
     "metadata": {},
     "output_type": "execute_result"
    }
   ],
   "source": [
    "incomeBySexYear[(Sex=\"male\",Year=1992)] |> head "
   ]
  },
  {
   "cell_type": "code",
   "execution_count": 38,
   "metadata": {},
   "outputs": [
    {
     "data": {
      "text/html": [
       "<table class=\"data-frame\"><thead><tr><th></th><th>variable</th><th>mean</th><th>min</th><th>median</th><th>max</th><th>nunique</th><th>nmissing</th><th>eltype</th></tr><tr><th></th><th>Symbol</th><th>Union…</th><th>Any</th><th>Union…</th><th>Any</th><th>Union…</th><th>Nothing</th><th>DataType</th></tr></thead><tbody><p>3 rows × 8 columns</p><tr><th>1</th><td>Year</td><td>1994.87</td><td>1992</td><td>1994.0</td><td>1998</td><td></td><td></td><td>Int64</td></tr><tr><th>2</th><td>AHE</td><td>16.2627</td><td>2.13649</td><td>14.9838</td><td>52.4434</td><td></td><td></td><td>Float64</td></tr><tr><th>3</th><td>Sex</td><td></td><td>female</td><td></td><td>male</td><td>3</td><td></td><td>String</td></tr></tbody></table>"
      ],
      "text/latex": [
       "\\begin{tabular}{r|cccccccc}\n",
       "\t& variable & mean & min & median & max & nunique & nmissing & eltype\\\\\n",
       "\t\\hline\n",
       "\t& Symbol & Union… & Any & Union… & Any & Union… & Nothing & DataType\\\\\n",
       "\t\\hline\n",
       "\t1 & Year & 1994.87 & 1992 & 1994.0 & 1998 &  &  & Int64 \\\\\n",
       "\t2 & AHE & 16.2627 & 2.13649 & 14.9838 & 52.4434 &  &  & Float64 \\\\\n",
       "\t3 & Sex &  & female &  & male & 3 &  & String \\\\\n",
       "\\end{tabular}\n"
      ],
      "text/plain": [
       "3×8 DataFrame. Omitted printing of 1 columns\n",
       "│ Row │ variable │ mean    │ min     │ median  │ max     │ nunique │ nmissing │\n",
       "│     │ \u001b[90mSymbol\u001b[39m   │ \u001b[90mUnion…\u001b[39m  │ \u001b[90mAny\u001b[39m     │ \u001b[90mUnion…\u001b[39m  │ \u001b[90mAny\u001b[39m     │ \u001b[90mUnion…\u001b[39m  │ \u001b[90mNothing\u001b[39m  │\n",
       "├─────┼──────────┼─────────┼─────────┼─────────┼─────────┼─────────┼──────────┤\n",
       "│ 1   │ Year     │ 1994.87 │ 1992    │ 1994.0  │ 1998    │         │          │\n",
       "│ 2   │ AHE      │ 16.2627 │ 2.13649 │ 14.9838 │ 52.4434 │         │          │\n",
       "│ 3   │ Sex      │         │ female  │         │ male    │ 3       │          │"
      ]
     },
     "execution_count": 38,
     "metadata": {},
     "output_type": "execute_result"
    }
   ],
   "source": [
    "describe(income)"
   ]
  },
  {
   "cell_type": "code",
   "execution_count": 39,
   "metadata": {},
   "outputs": [
    {
     "data": {
      "text/html": [
       "<table class=\"data-frame\"><thead><tr><th></th><th>Year</th><th>AHE</th><th>Sex</th></tr><tr><th></th><th>Int64</th><th>Float64</th><th>String</th></tr></thead><tbody><p>5 rows × 3 columns</p><tr><th>1</th><td>1996</td><td>52.4434</td><td>male</td></tr><tr><th>2</th><td>1996</td><td>52.4434</td><td>male</td></tr><tr><th>3</th><td>1992</td><td>50.27</td><td>female</td></tr><tr><th>4</th><td>1994</td><td>50.2342</td><td>male</td></tr><tr><th>5</th><td>1996</td><td>49.9461</td><td>male</td></tr></tbody></table>"
      ],
      "text/latex": [
       "\\begin{tabular}{r|ccc}\n",
       "\t& Year & AHE & Sex\\\\\n",
       "\t\\hline\n",
       "\t& Int64 & Float64 & String\\\\\n",
       "\t\\hline\n",
       "\t1 & 1996 & 52.4434 & male \\\\\n",
       "\t2 & 1996 & 52.4434 & male \\\\\n",
       "\t3 & 1992 & 50.27 & female \\\\\n",
       "\t4 & 1994 & 50.2342 & male \\\\\n",
       "\t5 & 1996 & 49.9461 & male \\\\\n",
       "\\end{tabular}\n"
      ],
      "text/plain": [
       "5×3 DataFrame\n",
       "│ Row │ Year  │ AHE     │ Sex    │\n",
       "│     │ \u001b[90mInt64\u001b[39m │ \u001b[90mFloat64\u001b[39m │ \u001b[90mString\u001b[39m │\n",
       "├─────┼───────┼─────────┼────────┤\n",
       "│ 1   │ 1996  │ 52.4434 │ male   │\n",
       "│ 2   │ 1996  │ 52.4434 │ male   │\n",
       "│ 3   │ 1992  │ 50.27   │ female │\n",
       "│ 4   │ 1994  │ 50.2342 │ male   │\n",
       "│ 5   │ 1996  │ 49.9461 │ male   │"
      ]
     },
     "execution_count": 39,
     "metadata": {},
     "output_type": "execute_result"
    }
   ],
   "source": [
    "sort!(income, :AHE, rev = true) |> head "
   ]
  },
  {
   "cell_type": "markdown",
   "metadata": {},
   "source": [
    "---"
   ]
  },
  {
   "cell_type": "markdown",
   "metadata": {},
   "source": [
    "---"
   ]
  },
  {
   "cell_type": "markdown",
   "metadata": {},
   "source": [
    "## Linear Models "
   ]
  },
  {
   "cell_type": "code",
   "execution_count": 40,
   "metadata": {
    "scrolled": true
   },
   "outputs": [
    {
     "data": {
      "text/plain": [
       "#7 (generic function with 1 method)"
      ]
     },
     "execution_count": 40,
     "metadata": {},
     "output_type": "execute_result"
    }
   ],
   "source": [
    "x -> 2*x + 1 "
   ]
  },
  {
   "cell_type": "markdown",
   "metadata": {},
   "source": [
    "In-line function "
   ]
  },
  {
   "cell_type": "code",
   "execution_count": 41,
   "metadata": {},
   "outputs": [
    {
     "data": {
      "text/plain": [
       "f1 (generic function with 1 method)"
      ]
     },
     "execution_count": 41,
     "metadata": {},
     "output_type": "execute_result"
    }
   ],
   "source": [
    "f1(x) = 2*x + 1"
   ]
  },
  {
   "cell_type": "markdown",
   "metadata": {},
   "source": [
    "Other function definition "
   ]
  },
  {
   "cell_type": "code",
   "execution_count": 42,
   "metadata": {},
   "outputs": [
    {
     "data": {
      "text/plain": [
       "#9 (generic function with 1 method)"
      ]
     },
     "execution_count": 42,
     "metadata": {},
     "output_type": "execute_result"
    }
   ],
   "source": [
    "f2 = function(x)\n",
    "    2*x + 1 \n",
    "end "
   ]
  },
  {
   "cell_type": "code",
   "execution_count": 43,
   "metadata": {},
   "outputs": [
    {
     "data": {
      "text/plain": [
       "f3 (generic function with 1 method)"
      ]
     },
     "execution_count": 43,
     "metadata": {},
     "output_type": "execute_result"
    }
   ],
   "source": [
    "function f3(x)\n",
    "    2*x + 1\n",
    "end"
   ]
  },
  {
   "cell_type": "markdown",
   "metadata": {},
   "source": [
    "Can also use a return keyword (like R)"
   ]
  },
  {
   "cell_type": "code",
   "execution_count": 44,
   "metadata": {},
   "outputs": [
    {
     "data": {
      "text/plain": [
       "f4 (generic function with 1 method)"
      ]
     },
     "execution_count": 44,
     "metadata": {},
     "output_type": "execute_result"
    }
   ],
   "source": [
    "function f4(x) \n",
    "    return 2*x + 1\n",
    "end "
   ]
  },
  {
   "cell_type": "markdown",
   "metadata": {},
   "source": [
    "Optional/named arguments "
   ]
  },
  {
   "cell_type": "code",
   "execution_count": 45,
   "metadata": {},
   "outputs": [
    {
     "data": {
      "text/plain": [
       "f5 (generic function with 1 method)"
      ]
     },
     "execution_count": 45,
     "metadata": {},
     "output_type": "execute_result"
    }
   ],
   "source": [
    "function f5(;x=1)\n",
    "    return 2*x + 1\n",
    "end"
   ]
  },
  {
   "cell_type": "code",
   "execution_count": 46,
   "metadata": {},
   "outputs": [
    {
     "data": {
      "text/plain": [
       "3"
      ]
     },
     "execution_count": 46,
     "metadata": {},
     "output_type": "execute_result"
    }
   ],
   "source": [
    "f5()"
   ]
  },
  {
   "cell_type": "code",
   "execution_count": 47,
   "metadata": {},
   "outputs": [
    {
     "ename": "MethodError",
     "evalue": "MethodError: no method matching f5(::Int64)\nClosest candidates are:\n  f5(; x) at In[45]:2",
     "output_type": "error",
     "traceback": [
      "MethodError: no method matching f5(::Int64)\nClosest candidates are:\n  f5(; x) at In[45]:2",
      "",
      "Stacktrace:",
      " [1] top-level scope at In[47]:1"
     ]
    }
   ],
   "source": [
    "f5(1)"
   ]
  },
  {
   "cell_type": "code",
   "execution_count": 48,
   "metadata": {},
   "outputs": [
    {
     "data": {
      "text/plain": [
       "3"
      ]
     },
     "execution_count": 48,
     "metadata": {},
     "output_type": "execute_result"
    }
   ],
   "source": [
    "f5(x=1)"
   ]
  },
  {
   "cell_type": "markdown",
   "metadata": {},
   "source": [
    "Typing and multiple dispatch are far too expansive topics to cover here. \n",
    "\n",
    "You can do most things without them to begin with. "
   ]
  },
  {
   "cell_type": "code",
   "execution_count": 49,
   "metadata": {},
   "outputs": [],
   "source": [
    "using GLM"
   ]
  },
  {
   "cell_type": "code",
   "execution_count": 50,
   "metadata": {},
   "outputs": [
    {
     "data": {
      "text/plain": [
       "StatsModels.TableRegressionModel{LinearModel{GLM.LmResp{Array{Float64,1}},GLM.DensePredChol{Float64,LinearAlgebra.Cholesky{Float64,Array{Float64,2}}}},Array{Float64,2}}\n",
       "\n",
       ":(log(AHE)) ~ 1 + Year\n",
       "\n",
       "Coefficients:\n",
       "─────────────────────────────────────────────────────────────────────────────\n",
       "                   Coef.  Std. Error     t  Pr(>|t|)    Lower 95%   Upper 95%\n",
       "─────────────────────────────────────────────────────────────────────────────\n",
       "(Intercept)  2.19738      3.79287     0.58    0.5624  -5.23732     9.63208\n",
       "Year         0.000248876  0.00190131  0.13    0.8959  -0.00347803  0.00397578\n",
       "─────────────────────────────────────────────────────────────────────────────"
      ]
     },
     "execution_count": 50,
     "metadata": {},
     "output_type": "execute_result"
    }
   ],
   "source": [
    "lm1 = lm(@formula(log(AHE) ~ Year), income)"
   ]
  },
  {
   "cell_type": "code",
   "execution_count": 51,
   "metadata": {},
   "outputs": [
    {
     "data": {
      "text/plain": [
       "1-element Array{Float64,1}:\n",
       " 14.885074146300814"
      ]
     },
     "execution_count": 51,
     "metadata": {},
     "output_type": "execute_result"
    }
   ],
   "source": [
    "exp.(predict(lm1, DataFrame(Year=2021, Sex=\"female\")))"
   ]
  },
  {
   "cell_type": "code",
   "execution_count": 52,
   "metadata": {},
   "outputs": [],
   "source": [
    "using Plots "
   ]
  },
  {
   "cell_type": "markdown",
   "metadata": {},
   "source": [
    "see also `StatsPlots`"
   ]
  },
  {
   "cell_type": "code",
   "execution_count": 53,
   "metadata": {},
   "outputs": [
    {
     "ename": "UndefVarError",
     "evalue": "UndefVarError: fitted not defined",
     "output_type": "error",
     "traceback": [
      "UndefVarError: fitted not defined",
      "",
      "Stacktrace:",
      " [1] top-level scope at In[53]:1"
     ]
    }
   ],
   "source": [
    "scatter(fitted(lm1.model), residuals(lm1.model))"
   ]
  },
  {
   "cell_type": "code",
   "execution_count": 54,
   "metadata": {
    "scrolled": true
   },
   "outputs": [
    {
     "data": {
      "text/plain": [
       "StatsModels.TableRegressionModel{LinearModel{GLM.LmResp{Array{Float64,1}},GLM.DensePredChol{Float64,LinearAlgebra.Cholesky{Float64,Array{Float64,2}}}},Array{Float64,2}}\n",
       "\n",
       ":(log(AHE)) ~ 1 + Sex + Year\n",
       "\n",
       "Coefficients:\n",
       "──────────────────────────────────────────────────────────────────────────────\n",
       "                   Coef.  Std. Error       t  Pr(>|t|)   Lower 95%   Upper 95%\n",
       "──────────────────────────────────────────────────────────────────────────────\n",
       "(Intercept)   2.64379     0.00930183  284.22    <1e-99   2.62556     2.66202\n",
       "Sex: hello   -0.0789068   0.442598     -0.18    0.8585  -0.946476    0.788663\n",
       "Sex: male     0.12926     0.00841026   15.37    <1e-52   0.112774    0.145745\n",
       "Year: 1994   -0.0352327   0.0115052    -3.06    0.0022  -0.0577849  -0.0126805\n",
       "Year: 1996   -0.0514071   0.0118822    -4.33    <1e-4   -0.0746983  -0.0281159\n",
       "Year: 1998    0.00993609  0.0118891     0.84    0.4033  -0.0133687   0.0332409\n",
       "──────────────────────────────────────────────────────────────────────────────"
      ]
     },
     "execution_count": 54,
     "metadata": {},
     "output_type": "execute_result"
    }
   ],
   "source": [
    "lm2 = lm(@formula(log(AHE) ~ Sex + Year), income, contrasts = Dict(:Year => DummyCoding()))"
   ]
  },
  {
   "cell_type": "markdown",
   "metadata": {},
   "source": [
    "---"
   ]
  },
  {
   "cell_type": "markdown",
   "metadata": {},
   "source": [
    "## A task"
   ]
  }
 ],
 "metadata": {
  "@webio": {
   "lastCommId": null,
   "lastKernelId": null
  },
  "kernelspec": {
   "display_name": "Julia 1.4.2",
   "language": "julia",
   "name": "julia-1.4"
  },
  "language_info": {
   "file_extension": ".jl",
   "mimetype": "application/julia",
   "name": "julia",
   "version": "1.4.2"
  }
 },
 "nbformat": 4,
 "nbformat_minor": 2
}
